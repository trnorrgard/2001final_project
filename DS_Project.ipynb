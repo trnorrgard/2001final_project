{
  "nbformat": 4,
  "nbformat_minor": 0,
  "metadata": {
    "colab": {
      "name": "DS Project",
      "provenance": [],
      "collapsed_sections": [],
      "include_colab_link": true
    },
    "kernelspec": {
      "name": "python3",
      "display_name": "Python 3"
    },
    "language_info": {
      "name": "python"
    }
  },
  "cells": [
    {
      "cell_type": "markdown",
      "metadata": {
        "id": "view-in-github",
        "colab_type": "text"
      },
      "source": [
        "<a href=\"https://colab.research.google.com/github/trnorrgard/2001final_project/blob/main/DS_Project.ipynb\" target=\"_parent\"><img src=\"https://colab.research.google.com/assets/colab-badge.svg\" alt=\"Open In Colab\"/></a>"
      ]
    },
    {
      "cell_type": "markdown",
      "metadata": {
        "id": "o39DAcbKPHUu"
      },
      "source": [
        "### Import packages"
      ]
    },
    {
      "cell_type": "code",
      "metadata": {
        "id": "nFTXCbIJOgsO"
      },
      "source": [
        "import numpy as np\n",
        "import pandas as pd\n",
        "import matplotlib.pyplot as plt\n",
        "import plotly\n",
        "import plotly.express as px\n",
        "import seaborn as sns"
      ],
      "execution_count": null,
      "outputs": []
    },
    {
      "cell_type": "markdown",
      "metadata": {
        "id": "cECUzNbsPOFq"
      },
      "source": [
        "## Import data"
      ]
    },
    {
      "cell_type": "code",
      "metadata": {
        "id": "zlUaTrORXFeg",
        "colab": {
          "base_uri": "https://localhost:8080/",
          "height": 438
        },
        "outputId": "7575b5de-e9ec-4804-8510-813dd7747d40"
      },
      "source": [
        "data = pd.read_csv(\"Boston_Airbnb.csv\")\n",
        "data.head(2)"
      ],
      "execution_count": null,
      "outputs": [
        {
          "output_type": "execute_result",
          "data": {
            "text/html": [
              "<div>\n",
              "<style scoped>\n",
              "    .dataframe tbody tr th:only-of-type {\n",
              "        vertical-align: middle;\n",
              "    }\n",
              "\n",
              "    .dataframe tbody tr th {\n",
              "        vertical-align: top;\n",
              "    }\n",
              "\n",
              "    .dataframe thead th {\n",
              "        text-align: right;\n",
              "    }\n",
              "</style>\n",
              "<table border=\"1\" class=\"dataframe\">\n",
              "  <thead>\n",
              "    <tr style=\"text-align: right;\">\n",
              "      <th></th>\n",
              "      <th>id</th>\n",
              "      <th>listing_url</th>\n",
              "      <th>scrape_id</th>\n",
              "      <th>last_scraped</th>\n",
              "      <th>name</th>\n",
              "      <th>summary</th>\n",
              "      <th>space</th>\n",
              "      <th>description</th>\n",
              "      <th>experiences_offered</th>\n",
              "      <th>neighborhood_overview</th>\n",
              "      <th>notes</th>\n",
              "      <th>transit</th>\n",
              "      <th>access</th>\n",
              "      <th>interaction</th>\n",
              "      <th>house_rules</th>\n",
              "      <th>thumbnail_url</th>\n",
              "      <th>medium_url</th>\n",
              "      <th>picture_url</th>\n",
              "      <th>xl_picture_url</th>\n",
              "      <th>host_id</th>\n",
              "      <th>host_url</th>\n",
              "      <th>host_name</th>\n",
              "      <th>host_since</th>\n",
              "      <th>host_location</th>\n",
              "      <th>host_about</th>\n",
              "      <th>host_response_time</th>\n",
              "      <th>host_response_rate</th>\n",
              "      <th>host_acceptance_rate</th>\n",
              "      <th>host_is_superhost</th>\n",
              "      <th>host_thumbnail_url</th>\n",
              "      <th>host_picture_url</th>\n",
              "      <th>host_neighbourhood</th>\n",
              "      <th>host_listings_count</th>\n",
              "      <th>host_total_listings_count</th>\n",
              "      <th>host_verifications</th>\n",
              "      <th>host_has_profile_pic</th>\n",
              "      <th>host_identity_verified</th>\n",
              "      <th>street</th>\n",
              "      <th>neighbourhood</th>\n",
              "      <th>neighbourhood_cleansed</th>\n",
              "      <th>...</th>\n",
              "      <th>bedrooms</th>\n",
              "      <th>beds</th>\n",
              "      <th>bed_type</th>\n",
              "      <th>amenities</th>\n",
              "      <th>square_feet</th>\n",
              "      <th>price</th>\n",
              "      <th>weekly_price</th>\n",
              "      <th>monthly_price</th>\n",
              "      <th>security_deposit</th>\n",
              "      <th>cleaning_fee</th>\n",
              "      <th>guests_included</th>\n",
              "      <th>extra_people</th>\n",
              "      <th>minimum_nights</th>\n",
              "      <th>maximum_nights</th>\n",
              "      <th>calendar_updated</th>\n",
              "      <th>has_availability</th>\n",
              "      <th>availability_30</th>\n",
              "      <th>availability_60</th>\n",
              "      <th>availability_90</th>\n",
              "      <th>availability_365</th>\n",
              "      <th>calendar_last_scraped</th>\n",
              "      <th>number_of_reviews</th>\n",
              "      <th>first_review</th>\n",
              "      <th>last_review</th>\n",
              "      <th>review_scores_rating</th>\n",
              "      <th>review_scores_accuracy</th>\n",
              "      <th>review_scores_cleanliness</th>\n",
              "      <th>review_scores_checkin</th>\n",
              "      <th>review_scores_communication</th>\n",
              "      <th>review_scores_location</th>\n",
              "      <th>review_scores_value</th>\n",
              "      <th>requires_license</th>\n",
              "      <th>license</th>\n",
              "      <th>jurisdiction_names</th>\n",
              "      <th>instant_bookable</th>\n",
              "      <th>cancellation_policy</th>\n",
              "      <th>require_guest_profile_picture</th>\n",
              "      <th>require_guest_phone_verification</th>\n",
              "      <th>calculated_host_listings_count</th>\n",
              "      <th>reviews_per_month</th>\n",
              "    </tr>\n",
              "  </thead>\n",
              "  <tbody>\n",
              "    <tr>\n",
              "      <th>0</th>\n",
              "      <td>12147973</td>\n",
              "      <td>https://www.airbnb.com/rooms/12147973</td>\n",
              "      <td>20160906204935</td>\n",
              "      <td>2016-09-07</td>\n",
              "      <td>Sunny Bungalow in the City</td>\n",
              "      <td>Cozy, sunny, family home.  Master bedroom high...</td>\n",
              "      <td>The house has an open and cozy feel at the sam...</td>\n",
              "      <td>Cozy, sunny, family home.  Master bedroom high...</td>\n",
              "      <td>none</td>\n",
              "      <td>Roslindale is quiet, convenient and friendly. ...</td>\n",
              "      <td>NaN</td>\n",
              "      <td>The bus stop is 2 blocks away, and frequent. B...</td>\n",
              "      <td>You will have access to 2 bedrooms, a living r...</td>\n",
              "      <td>NaN</td>\n",
              "      <td>Clean up and treat the home the way you'd like...</td>\n",
              "      <td>https://a2.muscache.com/im/pictures/c0842db1-e...</td>\n",
              "      <td>https://a2.muscache.com/im/pictures/c0842db1-e...</td>\n",
              "      <td>https://a2.muscache.com/im/pictures/c0842db1-e...</td>\n",
              "      <td>https://a2.muscache.com/im/pictures/c0842db1-e...</td>\n",
              "      <td>31303940</td>\n",
              "      <td>https://www.airbnb.com/users/show/31303940</td>\n",
              "      <td>Virginia</td>\n",
              "      <td>2015-04-15</td>\n",
              "      <td>Boston, Massachusetts, United States</td>\n",
              "      <td>We are country and city connecting in our deck...</td>\n",
              "      <td>NaN</td>\n",
              "      <td>NaN</td>\n",
              "      <td>NaN</td>\n",
              "      <td>f</td>\n",
              "      <td>https://a2.muscache.com/im/pictures/5936fef0-b...</td>\n",
              "      <td>https://a2.muscache.com/im/pictures/5936fef0-b...</td>\n",
              "      <td>Roslindale</td>\n",
              "      <td>1</td>\n",
              "      <td>1</td>\n",
              "      <td>['email', 'phone', 'facebook', 'reviews']</td>\n",
              "      <td>t</td>\n",
              "      <td>f</td>\n",
              "      <td>Birch Street, Boston, MA 02131, United States</td>\n",
              "      <td>Roslindale</td>\n",
              "      <td>Roslindale</td>\n",
              "      <td>...</td>\n",
              "      <td>2.0</td>\n",
              "      <td>3.0</td>\n",
              "      <td>Real Bed</td>\n",
              "      <td>{TV,\"Wireless Internet\",Kitchen,\"Free Parking ...</td>\n",
              "      <td>NaN</td>\n",
              "      <td>$250.00</td>\n",
              "      <td>NaN</td>\n",
              "      <td>NaN</td>\n",
              "      <td>NaN</td>\n",
              "      <td>$35.00</td>\n",
              "      <td>1</td>\n",
              "      <td>$0.00</td>\n",
              "      <td>2</td>\n",
              "      <td>1125</td>\n",
              "      <td>2 weeks ago</td>\n",
              "      <td>NaN</td>\n",
              "      <td>0</td>\n",
              "      <td>0</td>\n",
              "      <td>0</td>\n",
              "      <td>0</td>\n",
              "      <td>2016-09-06</td>\n",
              "      <td>0</td>\n",
              "      <td>NaN</td>\n",
              "      <td>NaN</td>\n",
              "      <td>NaN</td>\n",
              "      <td>NaN</td>\n",
              "      <td>NaN</td>\n",
              "      <td>NaN</td>\n",
              "      <td>NaN</td>\n",
              "      <td>NaN</td>\n",
              "      <td>NaN</td>\n",
              "      <td>f</td>\n",
              "      <td>NaN</td>\n",
              "      <td>NaN</td>\n",
              "      <td>f</td>\n",
              "      <td>moderate</td>\n",
              "      <td>f</td>\n",
              "      <td>f</td>\n",
              "      <td>1</td>\n",
              "      <td>NaN</td>\n",
              "    </tr>\n",
              "    <tr>\n",
              "      <th>1</th>\n",
              "      <td>3075044</td>\n",
              "      <td>https://www.airbnb.com/rooms/3075044</td>\n",
              "      <td>20160906204935</td>\n",
              "      <td>2016-09-07</td>\n",
              "      <td>Charming room in pet friendly apt</td>\n",
              "      <td>Charming and quiet room in a second floor 1910...</td>\n",
              "      <td>Small but cozy and quite room with a full size...</td>\n",
              "      <td>Charming and quiet room in a second floor 1910...</td>\n",
              "      <td>none</td>\n",
              "      <td>The room is in Roslindale, a diverse and prima...</td>\n",
              "      <td>If you don't have a US cell phone, you can tex...</td>\n",
              "      <td>Plenty of safe street parking. Bus stops a few...</td>\n",
              "      <td>Apt has one more bedroom (which I use) and lar...</td>\n",
              "      <td>If I am at home, I am likely working in my hom...</td>\n",
              "      <td>Pet friendly but please confirm with me if the...</td>\n",
              "      <td>https://a1.muscache.com/im/pictures/39327812/d...</td>\n",
              "      <td>https://a1.muscache.com/im/pictures/39327812/d...</td>\n",
              "      <td>https://a1.muscache.com/im/pictures/39327812/d...</td>\n",
              "      <td>https://a1.muscache.com/im/pictures/39327812/d...</td>\n",
              "      <td>2572247</td>\n",
              "      <td>https://www.airbnb.com/users/show/2572247</td>\n",
              "      <td>Andrea</td>\n",
              "      <td>2012-06-07</td>\n",
              "      <td>Boston, Massachusetts, United States</td>\n",
              "      <td>I live in Boston and I like to travel and have...</td>\n",
              "      <td>within an hour</td>\n",
              "      <td>100%</td>\n",
              "      <td>100%</td>\n",
              "      <td>f</td>\n",
              "      <td>https://a2.muscache.com/im/users/2572247/profi...</td>\n",
              "      <td>https://a2.muscache.com/im/users/2572247/profi...</td>\n",
              "      <td>Roslindale</td>\n",
              "      <td>1</td>\n",
              "      <td>1</td>\n",
              "      <td>['email', 'phone', 'facebook', 'linkedin', 'am...</td>\n",
              "      <td>t</td>\n",
              "      <td>t</td>\n",
              "      <td>Pinehurst Street, Boston, MA 02131, United States</td>\n",
              "      <td>Roslindale</td>\n",
              "      <td>Roslindale</td>\n",
              "      <td>...</td>\n",
              "      <td>1.0</td>\n",
              "      <td>1.0</td>\n",
              "      <td>Real Bed</td>\n",
              "      <td>{TV,Internet,\"Wireless Internet\",\"Air Conditio...</td>\n",
              "      <td>NaN</td>\n",
              "      <td>$65.00</td>\n",
              "      <td>$400.00</td>\n",
              "      <td>NaN</td>\n",
              "      <td>$95.00</td>\n",
              "      <td>$10.00</td>\n",
              "      <td>0</td>\n",
              "      <td>$0.00</td>\n",
              "      <td>2</td>\n",
              "      <td>15</td>\n",
              "      <td>a week ago</td>\n",
              "      <td>NaN</td>\n",
              "      <td>26</td>\n",
              "      <td>54</td>\n",
              "      <td>84</td>\n",
              "      <td>359</td>\n",
              "      <td>2016-09-06</td>\n",
              "      <td>36</td>\n",
              "      <td>2014-06-01</td>\n",
              "      <td>2016-08-13</td>\n",
              "      <td>94.0</td>\n",
              "      <td>10.0</td>\n",
              "      <td>9.0</td>\n",
              "      <td>10.0</td>\n",
              "      <td>10.0</td>\n",
              "      <td>9.0</td>\n",
              "      <td>9.0</td>\n",
              "      <td>f</td>\n",
              "      <td>NaN</td>\n",
              "      <td>NaN</td>\n",
              "      <td>t</td>\n",
              "      <td>moderate</td>\n",
              "      <td>f</td>\n",
              "      <td>f</td>\n",
              "      <td>1</td>\n",
              "      <td>1.3</td>\n",
              "    </tr>\n",
              "  </tbody>\n",
              "</table>\n",
              "<p>2 rows × 95 columns</p>\n",
              "</div>"
            ],
            "text/plain": [
              "         id  ... reviews_per_month\n",
              "0  12147973  ...               NaN\n",
              "1   3075044  ...               1.3\n",
              "\n",
              "[2 rows x 95 columns]"
            ]
          },
          "metadata": {},
          "execution_count": 6
        }
      ]
    },
    {
      "cell_type": "markdown",
      "metadata": {
        "id": "f0eNRd8dlWw7"
      },
      "source": [
        "Getting an idea of how large (rows and columns) our dataset is\n",
        "\n"
      ]
    },
    {
      "cell_type": "code",
      "metadata": {
        "id": "z7cF1M9iDSSW",
        "colab": {
          "base_uri": "https://localhost:8080/"
        },
        "outputId": "72e39849-3386-473f-a2b7-a13b19afa066"
      },
      "source": [
        "data.shape"
      ],
      "execution_count": null,
      "outputs": [
        {
          "output_type": "execute_result",
          "data": {
            "text/plain": [
              "(3585, 95)"
            ]
          },
          "metadata": {},
          "execution_count": 7
        }
      ]
    },
    {
      "cell_type": "markdown",
      "metadata": {
        "id": "fmt28z5hlP-g"
      },
      "source": [
        "Preview of all 95 variables in dataset:"
      ]
    },
    {
      "cell_type": "code",
      "metadata": {
        "id": "1OUd3YebDRRw",
        "colab": {
          "base_uri": "https://localhost:8080/"
        },
        "outputId": "c063a677-5efc-4130-c1a8-c1d3dfe53c27"
      },
      "source": [
        "list(data.columns)"
      ],
      "execution_count": null,
      "outputs": [
        {
          "output_type": "execute_result",
          "data": {
            "text/plain": [
              "['id',\n",
              " 'listing_url',\n",
              " 'scrape_id',\n",
              " 'last_scraped',\n",
              " 'name',\n",
              " 'summary',\n",
              " 'space',\n",
              " 'description',\n",
              " 'experiences_offered',\n",
              " 'neighborhood_overview',\n",
              " 'notes',\n",
              " 'transit',\n",
              " 'access',\n",
              " 'interaction',\n",
              " 'house_rules',\n",
              " 'thumbnail_url',\n",
              " 'medium_url',\n",
              " 'picture_url',\n",
              " 'xl_picture_url',\n",
              " 'host_id',\n",
              " 'host_url',\n",
              " 'host_name',\n",
              " 'host_since',\n",
              " 'host_location',\n",
              " 'host_about',\n",
              " 'host_response_time',\n",
              " 'host_response_rate',\n",
              " 'host_acceptance_rate',\n",
              " 'host_is_superhost',\n",
              " 'host_thumbnail_url',\n",
              " 'host_picture_url',\n",
              " 'host_neighbourhood',\n",
              " 'host_listings_count',\n",
              " 'host_total_listings_count',\n",
              " 'host_verifications',\n",
              " 'host_has_profile_pic',\n",
              " 'host_identity_verified',\n",
              " 'street',\n",
              " 'neighbourhood',\n",
              " 'neighbourhood_cleansed',\n",
              " 'neighbourhood_group_cleansed',\n",
              " 'city',\n",
              " 'state',\n",
              " 'zipcode',\n",
              " 'market',\n",
              " 'smart_location',\n",
              " 'country_code',\n",
              " 'country',\n",
              " 'latitude',\n",
              " 'longitude',\n",
              " 'is_location_exact',\n",
              " 'property_type',\n",
              " 'room_type',\n",
              " 'accommodates',\n",
              " 'bathrooms',\n",
              " 'bedrooms',\n",
              " 'beds',\n",
              " 'bed_type',\n",
              " 'amenities',\n",
              " 'square_feet',\n",
              " 'price',\n",
              " 'weekly_price',\n",
              " 'monthly_price',\n",
              " 'security_deposit',\n",
              " 'cleaning_fee',\n",
              " 'guests_included',\n",
              " 'extra_people',\n",
              " 'minimum_nights',\n",
              " 'maximum_nights',\n",
              " 'calendar_updated',\n",
              " 'has_availability',\n",
              " 'availability_30',\n",
              " 'availability_60',\n",
              " 'availability_90',\n",
              " 'availability_365',\n",
              " 'calendar_last_scraped',\n",
              " 'number_of_reviews',\n",
              " 'first_review',\n",
              " 'last_review',\n",
              " 'review_scores_rating',\n",
              " 'review_scores_accuracy',\n",
              " 'review_scores_cleanliness',\n",
              " 'review_scores_checkin',\n",
              " 'review_scores_communication',\n",
              " 'review_scores_location',\n",
              " 'review_scores_value',\n",
              " 'requires_license',\n",
              " 'license',\n",
              " 'jurisdiction_names',\n",
              " 'instant_bookable',\n",
              " 'cancellation_policy',\n",
              " 'require_guest_profile_picture',\n",
              " 'require_guest_phone_verification',\n",
              " 'calculated_host_listings_count',\n",
              " 'reviews_per_month']"
            ]
          },
          "metadata": {},
          "execution_count": 4
        }
      ]
    },
    {
      "cell_type": "markdown",
      "metadata": {
        "id": "twXCR-09qGrb"
      },
      "source": [
        "# Data Cleaning\n"
      ]
    },
    {
      "cell_type": "markdown",
      "metadata": {
        "id": "5psvOaOrvERe"
      },
      "source": [
        "Subsetting possible relevent columns for analysis:"
      ]
    },
    {
      "cell_type": "code",
      "metadata": {
        "id": "x7dycMZDQ1_V",
        "colab": {
          "base_uri": "https://localhost:8080/",
          "height": 253
        },
        "outputId": "53d00dcb-5270-4fe4-84f3-577b925bf25e"
      },
      "source": [
        "boston = data[[\"name\",\"neighbourhood_cleansed\",\"latitude\", \"longitude\",  \n",
        "                \"room_type\", \"accommodates\", \"price\", \"cleaning_fee\", \"minimum_nights\", \n",
        "               \"number_of_reviews\", \"review_scores_rating\",\"host_response_rate\", \"host_acceptance_rate\", \"host_is_superhost\", ]]\n",
        "               \n",
        "boston.head(2)"
      ],
      "execution_count": null,
      "outputs": [
        {
          "output_type": "execute_result",
          "data": {
            "text/html": [
              "<div>\n",
              "<style scoped>\n",
              "    .dataframe tbody tr th:only-of-type {\n",
              "        vertical-align: middle;\n",
              "    }\n",
              "\n",
              "    .dataframe tbody tr th {\n",
              "        vertical-align: top;\n",
              "    }\n",
              "\n",
              "    .dataframe thead th {\n",
              "        text-align: right;\n",
              "    }\n",
              "</style>\n",
              "<table border=\"1\" class=\"dataframe\">\n",
              "  <thead>\n",
              "    <tr style=\"text-align: right;\">\n",
              "      <th></th>\n",
              "      <th>name</th>\n",
              "      <th>neighbourhood_cleansed</th>\n",
              "      <th>latitude</th>\n",
              "      <th>longitude</th>\n",
              "      <th>room_type</th>\n",
              "      <th>accommodates</th>\n",
              "      <th>price</th>\n",
              "      <th>cleaning_fee</th>\n",
              "      <th>minimum_nights</th>\n",
              "      <th>number_of_reviews</th>\n",
              "      <th>review_scores_rating</th>\n",
              "      <th>host_response_rate</th>\n",
              "      <th>host_acceptance_rate</th>\n",
              "      <th>host_is_superhost</th>\n",
              "    </tr>\n",
              "  </thead>\n",
              "  <tbody>\n",
              "    <tr>\n",
              "      <th>0</th>\n",
              "      <td>Sunny Bungalow in the City</td>\n",
              "      <td>Roslindale</td>\n",
              "      <td>42.282619</td>\n",
              "      <td>-71.133068</td>\n",
              "      <td>Entire home/apt</td>\n",
              "      <td>4</td>\n",
              "      <td>$250.00</td>\n",
              "      <td>$35.00</td>\n",
              "      <td>2</td>\n",
              "      <td>0</td>\n",
              "      <td>NaN</td>\n",
              "      <td>NaN</td>\n",
              "      <td>NaN</td>\n",
              "      <td>f</td>\n",
              "    </tr>\n",
              "    <tr>\n",
              "      <th>1</th>\n",
              "      <td>Charming room in pet friendly apt</td>\n",
              "      <td>Roslindale</td>\n",
              "      <td>42.286241</td>\n",
              "      <td>-71.134374</td>\n",
              "      <td>Private room</td>\n",
              "      <td>2</td>\n",
              "      <td>$65.00</td>\n",
              "      <td>$10.00</td>\n",
              "      <td>2</td>\n",
              "      <td>36</td>\n",
              "      <td>94.0</td>\n",
              "      <td>100%</td>\n",
              "      <td>100%</td>\n",
              "      <td>f</td>\n",
              "    </tr>\n",
              "  </tbody>\n",
              "</table>\n",
              "</div>"
            ],
            "text/plain": [
              "                                name  ... host_is_superhost\n",
              "0         Sunny Bungalow in the City  ...                 f\n",
              "1  Charming room in pet friendly apt  ...                 f\n",
              "\n",
              "[2 rows x 14 columns]"
            ]
          },
          "metadata": {},
          "execution_count": 8
        }
      ]
    },
    {
      "cell_type": "markdown",
      "metadata": {
        "id": "GBcA5OmTvPZp"
      },
      "source": [
        "Rename columns:"
      ]
    },
    {
      "cell_type": "code",
      "metadata": {
        "id": "DK7jw5KkuuS2",
        "colab": {
          "base_uri": "https://localhost:8080/",
          "height": 521
        },
        "outputId": "849f75c9-3d27-43b2-a177-cbfeb887ce31"
      },
      "source": [
        "boston = boston.rename(columns={'host_is_superhost':'superhost?', 'neighbourhood_cleansed':'neighborhood'})\n",
        "boston.head(5)"
      ],
      "execution_count": null,
      "outputs": [
        {
          "output_type": "execute_result",
          "data": {
            "text/html": [
              "<div>\n",
              "<style scoped>\n",
              "    .dataframe tbody tr th:only-of-type {\n",
              "        vertical-align: middle;\n",
              "    }\n",
              "\n",
              "    .dataframe tbody tr th {\n",
              "        vertical-align: top;\n",
              "    }\n",
              "\n",
              "    .dataframe thead th {\n",
              "        text-align: right;\n",
              "    }\n",
              "</style>\n",
              "<table border=\"1\" class=\"dataframe\">\n",
              "  <thead>\n",
              "    <tr style=\"text-align: right;\">\n",
              "      <th></th>\n",
              "      <th>name</th>\n",
              "      <th>neighborhood</th>\n",
              "      <th>latitude</th>\n",
              "      <th>longitude</th>\n",
              "      <th>room_type</th>\n",
              "      <th>accommodates</th>\n",
              "      <th>price</th>\n",
              "      <th>cleaning_fee</th>\n",
              "      <th>minimum_nights</th>\n",
              "      <th>number_of_reviews</th>\n",
              "      <th>review_scores_rating</th>\n",
              "      <th>host_response_rate</th>\n",
              "      <th>host_acceptance_rate</th>\n",
              "      <th>superhost?</th>\n",
              "    </tr>\n",
              "  </thead>\n",
              "  <tbody>\n",
              "    <tr>\n",
              "      <th>0</th>\n",
              "      <td>Sunny Bungalow in the City</td>\n",
              "      <td>Roslindale</td>\n",
              "      <td>42.282619</td>\n",
              "      <td>-71.133068</td>\n",
              "      <td>Entire home/apt</td>\n",
              "      <td>4</td>\n",
              "      <td>$250.00</td>\n",
              "      <td>$35.00</td>\n",
              "      <td>2</td>\n",
              "      <td>0</td>\n",
              "      <td>NaN</td>\n",
              "      <td>NaN</td>\n",
              "      <td>NaN</td>\n",
              "      <td>f</td>\n",
              "    </tr>\n",
              "    <tr>\n",
              "      <th>1</th>\n",
              "      <td>Charming room in pet friendly apt</td>\n",
              "      <td>Roslindale</td>\n",
              "      <td>42.286241</td>\n",
              "      <td>-71.134374</td>\n",
              "      <td>Private room</td>\n",
              "      <td>2</td>\n",
              "      <td>$65.00</td>\n",
              "      <td>$10.00</td>\n",
              "      <td>2</td>\n",
              "      <td>36</td>\n",
              "      <td>94.0</td>\n",
              "      <td>100%</td>\n",
              "      <td>100%</td>\n",
              "      <td>f</td>\n",
              "    </tr>\n",
              "    <tr>\n",
              "      <th>2</th>\n",
              "      <td>Mexican Folk Art Haven in Boston</td>\n",
              "      <td>Roslindale</td>\n",
              "      <td>42.292438</td>\n",
              "      <td>-71.135765</td>\n",
              "      <td>Private room</td>\n",
              "      <td>2</td>\n",
              "      <td>$65.00</td>\n",
              "      <td>NaN</td>\n",
              "      <td>3</td>\n",
              "      <td>41</td>\n",
              "      <td>98.0</td>\n",
              "      <td>100%</td>\n",
              "      <td>88%</td>\n",
              "      <td>t</td>\n",
              "    </tr>\n",
              "    <tr>\n",
              "      <th>3</th>\n",
              "      <td>Spacious Sunny Bedroom Suite in Historic Home</td>\n",
              "      <td>Roslindale</td>\n",
              "      <td>42.281106</td>\n",
              "      <td>-71.121021</td>\n",
              "      <td>Private room</td>\n",
              "      <td>4</td>\n",
              "      <td>$75.00</td>\n",
              "      <td>$50.00</td>\n",
              "      <td>1</td>\n",
              "      <td>1</td>\n",
              "      <td>100.0</td>\n",
              "      <td>100%</td>\n",
              "      <td>50%</td>\n",
              "      <td>f</td>\n",
              "    </tr>\n",
              "    <tr>\n",
              "      <th>4</th>\n",
              "      <td>Come Home to Boston</td>\n",
              "      <td>Roslindale</td>\n",
              "      <td>42.284512</td>\n",
              "      <td>-71.136258</td>\n",
              "      <td>Private room</td>\n",
              "      <td>2</td>\n",
              "      <td>$79.00</td>\n",
              "      <td>$15.00</td>\n",
              "      <td>2</td>\n",
              "      <td>29</td>\n",
              "      <td>99.0</td>\n",
              "      <td>100%</td>\n",
              "      <td>100%</td>\n",
              "      <td>t</td>\n",
              "    </tr>\n",
              "  </tbody>\n",
              "</table>\n",
              "</div>"
            ],
            "text/plain": [
              "                                            name  ... superhost?\n",
              "0                     Sunny Bungalow in the City  ...          f\n",
              "1              Charming room in pet friendly apt  ...          f\n",
              "2               Mexican Folk Art Haven in Boston  ...          t\n",
              "3  Spacious Sunny Bedroom Suite in Historic Home  ...          f\n",
              "4                            Come Home to Boston  ...          t\n",
              "\n",
              "[5 rows x 14 columns]"
            ]
          },
          "metadata": {},
          "execution_count": 9
        }
      ]
    },
    {
      "cell_type": "markdown",
      "metadata": {
        "id": "Ard6sqvCDVzG"
      },
      "source": [
        "Convert price data type from str to int:"
      ]
    },
    {
      "cell_type": "code",
      "metadata": {
        "id": "zmB3K-QVxkHq"
      },
      "source": [
        "boston['price'] = boston.price.str.replace('$','')\n",
        "boston['price'] = boston.price.str.replace(',','')\n",
        "boston['price'] = boston['price'].str.split(\".\").str[0]\n",
        "boston['price'] = boston['price'].astype(str).astype(int)"
      ],
      "execution_count": null,
      "outputs": []
    },
    {
      "cell_type": "code",
      "metadata": {
        "colab": {
          "base_uri": "https://localhost:8080/",
          "height": 521
        },
        "id": "KdwXNApOJSy-",
        "outputId": "dfac4ff5-28b0-47b3-85e5-60cedecc3651"
      },
      "source": [
        "boston.head(5)"
      ],
      "execution_count": null,
      "outputs": [
        {
          "output_type": "execute_result",
          "data": {
            "text/html": [
              "<div>\n",
              "<style scoped>\n",
              "    .dataframe tbody tr th:only-of-type {\n",
              "        vertical-align: middle;\n",
              "    }\n",
              "\n",
              "    .dataframe tbody tr th {\n",
              "        vertical-align: top;\n",
              "    }\n",
              "\n",
              "    .dataframe thead th {\n",
              "        text-align: right;\n",
              "    }\n",
              "</style>\n",
              "<table border=\"1\" class=\"dataframe\">\n",
              "  <thead>\n",
              "    <tr style=\"text-align: right;\">\n",
              "      <th></th>\n",
              "      <th>name</th>\n",
              "      <th>neighborhood</th>\n",
              "      <th>latitude</th>\n",
              "      <th>longitude</th>\n",
              "      <th>room_type</th>\n",
              "      <th>accommodates</th>\n",
              "      <th>price</th>\n",
              "      <th>cleaning_fee</th>\n",
              "      <th>minimum_nights</th>\n",
              "      <th>number_of_reviews</th>\n",
              "      <th>review_scores_rating</th>\n",
              "      <th>host_response_rate</th>\n",
              "      <th>host_acceptance_rate</th>\n",
              "      <th>superhost?</th>\n",
              "    </tr>\n",
              "  </thead>\n",
              "  <tbody>\n",
              "    <tr>\n",
              "      <th>0</th>\n",
              "      <td>Sunny Bungalow in the City</td>\n",
              "      <td>Roslindale</td>\n",
              "      <td>42.282619</td>\n",
              "      <td>-71.133068</td>\n",
              "      <td>Entire home/apt</td>\n",
              "      <td>4</td>\n",
              "      <td>250</td>\n",
              "      <td>$35.00</td>\n",
              "      <td>2</td>\n",
              "      <td>0</td>\n",
              "      <td>NaN</td>\n",
              "      <td>NaN</td>\n",
              "      <td>NaN</td>\n",
              "      <td>f</td>\n",
              "    </tr>\n",
              "    <tr>\n",
              "      <th>1</th>\n",
              "      <td>Charming room in pet friendly apt</td>\n",
              "      <td>Roslindale</td>\n",
              "      <td>42.286241</td>\n",
              "      <td>-71.134374</td>\n",
              "      <td>Private room</td>\n",
              "      <td>2</td>\n",
              "      <td>65</td>\n",
              "      <td>$10.00</td>\n",
              "      <td>2</td>\n",
              "      <td>36</td>\n",
              "      <td>94.0</td>\n",
              "      <td>100%</td>\n",
              "      <td>100%</td>\n",
              "      <td>f</td>\n",
              "    </tr>\n",
              "    <tr>\n",
              "      <th>2</th>\n",
              "      <td>Mexican Folk Art Haven in Boston</td>\n",
              "      <td>Roslindale</td>\n",
              "      <td>42.292438</td>\n",
              "      <td>-71.135765</td>\n",
              "      <td>Private room</td>\n",
              "      <td>2</td>\n",
              "      <td>65</td>\n",
              "      <td>NaN</td>\n",
              "      <td>3</td>\n",
              "      <td>41</td>\n",
              "      <td>98.0</td>\n",
              "      <td>100%</td>\n",
              "      <td>88%</td>\n",
              "      <td>t</td>\n",
              "    </tr>\n",
              "    <tr>\n",
              "      <th>3</th>\n",
              "      <td>Spacious Sunny Bedroom Suite in Historic Home</td>\n",
              "      <td>Roslindale</td>\n",
              "      <td>42.281106</td>\n",
              "      <td>-71.121021</td>\n",
              "      <td>Private room</td>\n",
              "      <td>4</td>\n",
              "      <td>75</td>\n",
              "      <td>$50.00</td>\n",
              "      <td>1</td>\n",
              "      <td>1</td>\n",
              "      <td>100.0</td>\n",
              "      <td>100%</td>\n",
              "      <td>50%</td>\n",
              "      <td>f</td>\n",
              "    </tr>\n",
              "    <tr>\n",
              "      <th>4</th>\n",
              "      <td>Come Home to Boston</td>\n",
              "      <td>Roslindale</td>\n",
              "      <td>42.284512</td>\n",
              "      <td>-71.136258</td>\n",
              "      <td>Private room</td>\n",
              "      <td>2</td>\n",
              "      <td>79</td>\n",
              "      <td>$15.00</td>\n",
              "      <td>2</td>\n",
              "      <td>29</td>\n",
              "      <td>99.0</td>\n",
              "      <td>100%</td>\n",
              "      <td>100%</td>\n",
              "      <td>t</td>\n",
              "    </tr>\n",
              "  </tbody>\n",
              "</table>\n",
              "</div>"
            ],
            "text/plain": [
              "                                            name  ... superhost?\n",
              "0                     Sunny Bungalow in the City  ...          f\n",
              "1              Charming room in pet friendly apt  ...          f\n",
              "2               Mexican Folk Art Haven in Boston  ...          t\n",
              "3  Spacious Sunny Bedroom Suite in Historic Home  ...          f\n",
              "4                            Come Home to Boston  ...          t\n",
              "\n",
              "[5 rows x 14 columns]"
            ]
          },
          "metadata": {},
          "execution_count": 11
        }
      ]
    },
    {
      "cell_type": "markdown",
      "metadata": {
        "id": "QT_xIewmBw6E"
      },
      "source": [
        "Checking data types of each column."
      ]
    },
    {
      "cell_type": "code",
      "metadata": {
        "id": "0TwOp95peMa_",
        "colab": {
          "base_uri": "https://localhost:8080/"
        },
        "outputId": "9dd4dafe-bc99-42ea-98c3-5aa24cd8f6f3"
      },
      "source": [
        "boston.dtypes"
      ],
      "execution_count": null,
      "outputs": [
        {
          "output_type": "execute_result",
          "data": {
            "text/plain": [
              "name                     object\n",
              "neighborhood             object\n",
              "latitude                float64\n",
              "longitude               float64\n",
              "room_type                object\n",
              "accommodates              int64\n",
              "price                     int64\n",
              "cleaning_fee             object\n",
              "minimum_nights            int64\n",
              "number_of_reviews         int64\n",
              "review_scores_rating    float64\n",
              "host_response_rate       object\n",
              "host_acceptance_rate     object\n",
              "superhost?               object\n",
              "dtype: object"
            ]
          },
          "metadata": {},
          "execution_count": 12
        }
      ]
    },
    {
      "cell_type": "markdown",
      "metadata": {
        "id": "GLrXdOXyqPUf"
      },
      "source": [
        "# Data Exploration"
      ]
    },
    {
      "cell_type": "markdown",
      "metadata": {
        "id": "eT8-47W4OnBO"
      },
      "source": [
        "Identifying whether we should drop null values. Since dropping null values would reduce data by half and nulls are in less relevant variables, we will not remove them."
      ]
    },
    {
      "cell_type": "code",
      "metadata": {
        "colab": {
          "base_uri": "https://localhost:8080/"
        },
        "id": "XJet8JqpKohc",
        "outputId": "144495c0-a446-4ddc-9dc3-3b2324800a23"
      },
      "source": [
        "boston_dropna = boston.dropna()\n",
        "boston_dropna.shape\n",
        "boston.isnull().sum(axis = 0)"
      ],
      "execution_count": null,
      "outputs": [
        {
          "output_type": "execute_result",
          "data": {
            "text/plain": [
              "name                       0\n",
              "neighborhood               0\n",
              "latitude                   0\n",
              "longitude                  0\n",
              "room_type                  0\n",
              "accommodates               0\n",
              "price                      0\n",
              "cleaning_fee            1107\n",
              "minimum_nights             0\n",
              "number_of_reviews          0\n",
              "review_scores_rating     813\n",
              "host_response_rate       471\n",
              "host_acceptance_rate     471\n",
              "superhost?                 0\n",
              "dtype: int64"
            ]
          },
          "metadata": {},
          "execution_count": 13
        }
      ]
    },
    {
      "cell_type": "markdown",
      "metadata": {
        "id": "H9_VKPx4Dq1-"
      },
      "source": [
        "Number of Airbnb rentals per neighborhood:"
      ]
    },
    {
      "cell_type": "code",
      "metadata": {
        "colab": {
          "base_uri": "https://localhost:8080/"
        },
        "id": "B5bWyt3jO3d-",
        "outputId": "d7941ff3-3313-476c-d700-19ae8c51b510"
      },
      "source": [
        "boston.neighborhood.nunique()"
      ],
      "execution_count": null,
      "outputs": [
        {
          "output_type": "execute_result",
          "data": {
            "text/plain": [
              "25"
            ]
          },
          "metadata": {},
          "execution_count": 14
        }
      ]
    },
    {
      "cell_type": "code",
      "metadata": {
        "id": "tMDnhgmhq-Qe",
        "colab": {
          "base_uri": "https://localhost:8080/"
        },
        "outputId": "528840be-c4c4-443d-a91b-516af3e932fb"
      },
      "source": [
        "boston.neighborhood.value_counts()"
      ],
      "execution_count": null,
      "outputs": [
        {
          "output_type": "execute_result",
          "data": {
            "text/plain": [
              "Jamaica Plain              343\n",
              "South End                  326\n",
              "Back Bay                   302\n",
              "Fenway                     290\n",
              "Dorchester                 269\n",
              "Allston                    260\n",
              "Beacon Hill                194\n",
              "Brighton                   185\n",
              "South Boston               174\n",
              "Downtown                   172\n",
              "East Boston                150\n",
              "Roxbury                    144\n",
              "North End                  143\n",
              "Mission Hill               124\n",
              "Charlestown                111\n",
              "South Boston Waterfront     83\n",
              "Chinatown                   71\n",
              "Roslindale                  56\n",
              "West End                    49\n",
              "West Roxbury                46\n",
              "Hyde Park                   31\n",
              "Mattapan                    24\n",
              "Bay Village                 24\n",
              "Longwood Medical Area        9\n",
              "Leather District             5\n",
              "Name: neighborhood, dtype: int64"
            ]
          },
          "metadata": {},
          "execution_count": 15
        }
      ]
    },
    {
      "cell_type": "markdown",
      "metadata": {
        "id": "2j-O7ITyDkgj"
      },
      "source": [
        "Median values of numeric variables by neighborhood"
      ]
    },
    {
      "cell_type": "code",
      "metadata": {
        "id": "zhR2BisTY13E",
        "colab": {
          "base_uri": "https://localhost:8080/",
          "height": 864
        },
        "outputId": "6a1979e6-6aaf-4fec-faeb-96a43e4748c6"
      },
      "source": [
        "boston.groupby(by=['neighborhood']).agg('median')\n"
      ],
      "execution_count": null,
      "outputs": [
        {
          "output_type": "execute_result",
          "data": {
            "text/html": [
              "<div>\n",
              "<style scoped>\n",
              "    .dataframe tbody tr th:only-of-type {\n",
              "        vertical-align: middle;\n",
              "    }\n",
              "\n",
              "    .dataframe tbody tr th {\n",
              "        vertical-align: top;\n",
              "    }\n",
              "\n",
              "    .dataframe thead th {\n",
              "        text-align: right;\n",
              "    }\n",
              "</style>\n",
              "<table border=\"1\" class=\"dataframe\">\n",
              "  <thead>\n",
              "    <tr style=\"text-align: right;\">\n",
              "      <th></th>\n",
              "      <th>latitude</th>\n",
              "      <th>longitude</th>\n",
              "      <th>accommodates</th>\n",
              "      <th>price</th>\n",
              "      <th>minimum_nights</th>\n",
              "      <th>number_of_reviews</th>\n",
              "      <th>review_scores_rating</th>\n",
              "    </tr>\n",
              "    <tr>\n",
              "      <th>neighborhood</th>\n",
              "      <th></th>\n",
              "      <th></th>\n",
              "      <th></th>\n",
              "      <th></th>\n",
              "      <th></th>\n",
              "      <th></th>\n",
              "      <th></th>\n",
              "    </tr>\n",
              "  </thead>\n",
              "  <tbody>\n",
              "    <tr>\n",
              "      <th>Allston</th>\n",
              "      <td>42.352941</td>\n",
              "      <td>-71.130612</td>\n",
              "      <td>2.0</td>\n",
              "      <td>85.0</td>\n",
              "      <td>2.0</td>\n",
              "      <td>2.0</td>\n",
              "      <td>94.0</td>\n",
              "    </tr>\n",
              "    <tr>\n",
              "      <th>Back Bay</th>\n",
              "      <td>42.349626</td>\n",
              "      <td>-71.081231</td>\n",
              "      <td>3.0</td>\n",
              "      <td>209.0</td>\n",
              "      <td>2.0</td>\n",
              "      <td>6.0</td>\n",
              "      <td>93.0</td>\n",
              "    </tr>\n",
              "    <tr>\n",
              "      <th>Bay Village</th>\n",
              "      <td>42.349201</td>\n",
              "      <td>-71.068407</td>\n",
              "      <td>4.0</td>\n",
              "      <td>206.5</td>\n",
              "      <td>2.0</td>\n",
              "      <td>2.5</td>\n",
              "      <td>93.5</td>\n",
              "    </tr>\n",
              "    <tr>\n",
              "      <th>Beacon Hill</th>\n",
              "      <td>42.359158</td>\n",
              "      <td>-71.067925</td>\n",
              "      <td>2.0</td>\n",
              "      <td>195.0</td>\n",
              "      <td>2.0</td>\n",
              "      <td>8.5</td>\n",
              "      <td>95.0</td>\n",
              "    </tr>\n",
              "    <tr>\n",
              "      <th>Brighton</th>\n",
              "      <td>42.345985</td>\n",
              "      <td>-71.148954</td>\n",
              "      <td>2.0</td>\n",
              "      <td>90.0</td>\n",
              "      <td>2.0</td>\n",
              "      <td>4.0</td>\n",
              "      <td>94.0</td>\n",
              "    </tr>\n",
              "    <tr>\n",
              "      <th>Charlestown</th>\n",
              "      <td>42.378678</td>\n",
              "      <td>-71.064852</td>\n",
              "      <td>3.0</td>\n",
              "      <td>180.0</td>\n",
              "      <td>2.0</td>\n",
              "      <td>4.0</td>\n",
              "      <td>96.0</td>\n",
              "    </tr>\n",
              "    <tr>\n",
              "      <th>Chinatown</th>\n",
              "      <td>42.350771</td>\n",
              "      <td>-71.061539</td>\n",
              "      <td>4.0</td>\n",
              "      <td>219.0</td>\n",
              "      <td>3.0</td>\n",
              "      <td>1.0</td>\n",
              "      <td>95.0</td>\n",
              "    </tr>\n",
              "    <tr>\n",
              "      <th>Dorchester</th>\n",
              "      <td>42.304617</td>\n",
              "      <td>-71.061047</td>\n",
              "      <td>2.0</td>\n",
              "      <td>72.0</td>\n",
              "      <td>2.0</td>\n",
              "      <td>7.0</td>\n",
              "      <td>93.0</td>\n",
              "    </tr>\n",
              "    <tr>\n",
              "      <th>Downtown</th>\n",
              "      <td>42.355863</td>\n",
              "      <td>-71.061795</td>\n",
              "      <td>4.0</td>\n",
              "      <td>225.0</td>\n",
              "      <td>2.0</td>\n",
              "      <td>4.0</td>\n",
              "      <td>94.0</td>\n",
              "    </tr>\n",
              "    <tr>\n",
              "      <th>East Boston</th>\n",
              "      <td>42.374291</td>\n",
              "      <td>-71.034278</td>\n",
              "      <td>2.0</td>\n",
              "      <td>99.0</td>\n",
              "      <td>1.0</td>\n",
              "      <td>17.0</td>\n",
              "      <td>92.0</td>\n",
              "    </tr>\n",
              "    <tr>\n",
              "      <th>Fenway</th>\n",
              "      <td>42.344714</td>\n",
              "      <td>-71.097572</td>\n",
              "      <td>3.0</td>\n",
              "      <td>191.0</td>\n",
              "      <td>2.0</td>\n",
              "      <td>2.0</td>\n",
              "      <td>93.0</td>\n",
              "    </tr>\n",
              "    <tr>\n",
              "      <th>Hyde Park</th>\n",
              "      <td>42.259339</td>\n",
              "      <td>-71.118870</td>\n",
              "      <td>2.0</td>\n",
              "      <td>58.0</td>\n",
              "      <td>1.0</td>\n",
              "      <td>5.0</td>\n",
              "      <td>96.0</td>\n",
              "    </tr>\n",
              "    <tr>\n",
              "      <th>Jamaica Plain</th>\n",
              "      <td>42.312466</td>\n",
              "      <td>-71.110334</td>\n",
              "      <td>2.0</td>\n",
              "      <td>100.0</td>\n",
              "      <td>2.0</td>\n",
              "      <td>9.0</td>\n",
              "      <td>96.0</td>\n",
              "    </tr>\n",
              "    <tr>\n",
              "      <th>Leather District</th>\n",
              "      <td>42.351322</td>\n",
              "      <td>-71.057895</td>\n",
              "      <td>2.0</td>\n",
              "      <td>245.0</td>\n",
              "      <td>1.0</td>\n",
              "      <td>2.0</td>\n",
              "      <td>100.0</td>\n",
              "    </tr>\n",
              "    <tr>\n",
              "      <th>Longwood Medical Area</th>\n",
              "      <td>42.341006</td>\n",
              "      <td>-71.107100</td>\n",
              "      <td>2.0</td>\n",
              "      <td>84.0</td>\n",
              "      <td>1.0</td>\n",
              "      <td>0.0</td>\n",
              "      <td>96.0</td>\n",
              "    </tr>\n",
              "    <tr>\n",
              "      <th>Mattapan</th>\n",
              "      <td>42.274444</td>\n",
              "      <td>-71.077628</td>\n",
              "      <td>2.0</td>\n",
              "      <td>67.0</td>\n",
              "      <td>1.0</td>\n",
              "      <td>9.5</td>\n",
              "      <td>90.5</td>\n",
              "    </tr>\n",
              "    <tr>\n",
              "      <th>Mission Hill</th>\n",
              "      <td>42.332090</td>\n",
              "      <td>-71.102506</td>\n",
              "      <td>2.0</td>\n",
              "      <td>89.5</td>\n",
              "      <td>2.0</td>\n",
              "      <td>2.5</td>\n",
              "      <td>92.0</td>\n",
              "    </tr>\n",
              "    <tr>\n",
              "      <th>North End</th>\n",
              "      <td>42.365375</td>\n",
              "      <td>-71.054523</td>\n",
              "      <td>3.0</td>\n",
              "      <td>179.0</td>\n",
              "      <td>2.0</td>\n",
              "      <td>10.0</td>\n",
              "      <td>95.0</td>\n",
              "    </tr>\n",
              "    <tr>\n",
              "      <th>Roslindale</th>\n",
              "      <td>42.284202</td>\n",
              "      <td>-71.131875</td>\n",
              "      <td>2.0</td>\n",
              "      <td>76.5</td>\n",
              "      <td>2.0</td>\n",
              "      <td>16.5</td>\n",
              "      <td>96.0</td>\n",
              "    </tr>\n",
              "    <tr>\n",
              "      <th>Roxbury</th>\n",
              "      <td>42.328203</td>\n",
              "      <td>-71.084054</td>\n",
              "      <td>2.0</td>\n",
              "      <td>99.0</td>\n",
              "      <td>2.0</td>\n",
              "      <td>8.0</td>\n",
              "      <td>91.0</td>\n",
              "    </tr>\n",
              "    <tr>\n",
              "      <th>South Boston</th>\n",
              "      <td>42.335049</td>\n",
              "      <td>-71.048738</td>\n",
              "      <td>2.0</td>\n",
              "      <td>150.0</td>\n",
              "      <td>1.0</td>\n",
              "      <td>7.5</td>\n",
              "      <td>96.0</td>\n",
              "    </tr>\n",
              "    <tr>\n",
              "      <th>South Boston Waterfront</th>\n",
              "      <td>42.348882</td>\n",
              "      <td>-71.046397</td>\n",
              "      <td>4.0</td>\n",
              "      <td>245.0</td>\n",
              "      <td>2.0</td>\n",
              "      <td>2.0</td>\n",
              "      <td>97.5</td>\n",
              "    </tr>\n",
              "    <tr>\n",
              "      <th>South End</th>\n",
              "      <td>42.343113</td>\n",
              "      <td>-71.074965</td>\n",
              "      <td>2.0</td>\n",
              "      <td>180.0</td>\n",
              "      <td>2.0</td>\n",
              "      <td>6.0</td>\n",
              "      <td>95.0</td>\n",
              "    </tr>\n",
              "    <tr>\n",
              "      <th>West End</th>\n",
              "      <td>42.364157</td>\n",
              "      <td>-71.068348</td>\n",
              "      <td>4.0</td>\n",
              "      <td>199.0</td>\n",
              "      <td>4.0</td>\n",
              "      <td>1.0</td>\n",
              "      <td>93.0</td>\n",
              "    </tr>\n",
              "    <tr>\n",
              "      <th>West Roxbury</th>\n",
              "      <td>42.279026</td>\n",
              "      <td>-71.157332</td>\n",
              "      <td>2.0</td>\n",
              "      <td>85.0</td>\n",
              "      <td>1.0</td>\n",
              "      <td>3.0</td>\n",
              "      <td>96.0</td>\n",
              "    </tr>\n",
              "  </tbody>\n",
              "</table>\n",
              "</div>"
            ],
            "text/plain": [
              "                          latitude  ...  review_scores_rating\n",
              "neighborhood                        ...                      \n",
              "Allston                  42.352941  ...                  94.0\n",
              "Back Bay                 42.349626  ...                  93.0\n",
              "Bay Village              42.349201  ...                  93.5\n",
              "Beacon Hill              42.359158  ...                  95.0\n",
              "Brighton                 42.345985  ...                  94.0\n",
              "Charlestown              42.378678  ...                  96.0\n",
              "Chinatown                42.350771  ...                  95.0\n",
              "Dorchester               42.304617  ...                  93.0\n",
              "Downtown                 42.355863  ...                  94.0\n",
              "East Boston              42.374291  ...                  92.0\n",
              "Fenway                   42.344714  ...                  93.0\n",
              "Hyde Park                42.259339  ...                  96.0\n",
              "Jamaica Plain            42.312466  ...                  96.0\n",
              "Leather District         42.351322  ...                 100.0\n",
              "Longwood Medical Area    42.341006  ...                  96.0\n",
              "Mattapan                 42.274444  ...                  90.5\n",
              "Mission Hill             42.332090  ...                  92.0\n",
              "North End                42.365375  ...                  95.0\n",
              "Roslindale               42.284202  ...                  96.0\n",
              "Roxbury                  42.328203  ...                  91.0\n",
              "South Boston             42.335049  ...                  96.0\n",
              "South Boston Waterfront  42.348882  ...                  97.5\n",
              "South End                42.343113  ...                  95.0\n",
              "West End                 42.364157  ...                  93.0\n",
              "West Roxbury             42.279026  ...                  96.0\n",
              "\n",
              "[25 rows x 7 columns]"
            ]
          },
          "metadata": {},
          "execution_count": 16
        }
      ]
    },
    {
      "cell_type": "markdown",
      "metadata": {
        "id": "FeDnH-wcD3T2"
      },
      "source": [
        "Top 100 most expensive Airbnb rentals,\n",
        "grouped by neighborhood"
      ]
    },
    {
      "cell_type": "code",
      "metadata": {
        "id": "m1wfBpRgqCUh",
        "colab": {
          "base_uri": "https://localhost:8080/"
        },
        "outputId": "015be56f-b683-40c7-f9f8-f3f28491251c"
      },
      "source": [
        "boston.sort_values(by='price', ascending=False).head(100).neighborhood.value_counts()"
      ],
      "execution_count": null,
      "outputs": [
        {
          "output_type": "execute_result",
          "data": {
            "text/plain": [
              "Back Bay                   14\n",
              "South End                  13\n",
              "Beacon Hill                11\n",
              "Jamaica Plain              10\n",
              "South Boston Waterfront     9\n",
              "Fenway                      9\n",
              "South Boston                8\n",
              "Bay Village                 5\n",
              "Charlestown                 5\n",
              "Roxbury                     4\n",
              "Downtown                    3\n",
              "Allston                     3\n",
              "North End                   2\n",
              "Brighton                    2\n",
              "West End                    1\n",
              "Mission Hill                1\n",
              "Name: neighborhood, dtype: int64"
            ]
          },
          "metadata": {},
          "execution_count": 17
        }
      ]
    },
    {
      "cell_type": "markdown",
      "metadata": {
        "id": "HfGKaVYdEL_0"
      },
      "source": [
        "Average review rating (out of 100), by neighborhood"
      ]
    },
    {
      "cell_type": "code",
      "metadata": {
        "id": "PzTMve9Pq8Ar",
        "colab": {
          "base_uri": "https://localhost:8080/"
        },
        "outputId": "5198517f-604f-49d3-b0f2-58141afdf982"
      },
      "source": [
        "boston.groupby(['neighborhood']).mean()['review_scores_rating'].sort_values(ascending=False)"
      ],
      "execution_count": null,
      "outputs": [
        {
          "output_type": "execute_result",
          "data": {
            "text/plain": [
              "neighborhood\n",
              "Leather District           98.333333\n",
              "Roslindale                 95.380000\n",
              "West Roxbury               95.212121\n",
              "South Boston Waterfront    94.431034\n",
              "Jamaica Plain              94.159322\n",
              "Longwood Medical Area      94.000000\n",
              "South Boston               93.980392\n",
              "North End                  93.725000\n",
              "Charlestown                93.697368\n",
              "Beacon Hill                93.378698\n",
              "South End                  93.264925\n",
              "Bay Village                93.000000\n",
              "Downtown                   92.432203\n",
              "Hyde Park                  92.280000\n",
              "Chinatown                  92.121951\n",
              "Back Bay                   91.531646\n",
              "Mattapan                   91.000000\n",
              "Brighton                   90.864662\n",
              "West End                   90.333333\n",
              "East Boston                90.272059\n",
              "Allston                    90.164835\n",
              "Roxbury                    89.803419\n",
              "Fenway                     89.417112\n",
              "Dorchester                 89.280000\n",
              "Mission Hill               87.695122\n",
              "Name: review_scores_rating, dtype: float64"
            ]
          },
          "metadata": {},
          "execution_count": 18
        }
      ]
    },
    {
      "cell_type": "markdown",
      "metadata": {
        "id": "bzU-Vf1AVFF-"
      },
      "source": [
        "### Functions for further exploration and unit tests"
      ]
    },
    {
      "cell_type": "code",
      "metadata": {
        "id": "DypEJOR6uLbA"
      },
      "source": [
        "\n",
        "def get_distance(points, x, y):\n",
        "  '''\n",
        "  Purpose:\n",
        "  take an array of tuples of longitude and latitude, and output a list of\n",
        "  distances from a set coordinate\n",
        "\n",
        "  Inputs:\n",
        "  points = array of tuples of longitude, latitude\n",
        "  x = set longitude\n",
        "  y = set latitude\n",
        "\n",
        "  Output:\n",
        "  list of distances from (x, y)\n",
        "  '''\n",
        "  distances = []\n",
        "  for pair in points:\n",
        "    distance = (((pair[0] - x)**2) + ((pair[1] - y)**2))**(1/2)\n",
        "    distances.append(distance)\n",
        "  return distances"
      ],
      "execution_count": null,
      "outputs": []
    },
    {
      "cell_type": "code",
      "metadata": {
        "id": "rbJFCsnEViNG"
      },
      "source": [
        "def cost_per_person(arr):\n",
        "  '''\n",
        "  Purpose:\n",
        "  take an array of tuples of number of people that can be accomodated, minimum\n",
        "  nights, and price per night, and outputs the minimum price per person \n",
        "  for each airbnb as a list\n",
        "\n",
        "  Input:\n",
        "  an arr of tuples of length 3\n",
        "\n",
        "  Output:\n",
        "  a list of minimum price per person\n",
        "  '''\n",
        "  min_cost_per_person = []\n",
        "  for row in arr:\n",
        "    cost = (row[1] * row[2])/row[0]\n",
        "    min_cost_per_person.append(cost)\n",
        "  return min_cost_per_person"
      ],
      "execution_count": null,
      "outputs": []
    },
    {
      "cell_type": "markdown",
      "metadata": {
        "id": "z7G_INDnPLKo"
      },
      "source": [
        "#Unit Testing"
      ]
    },
    {
      "cell_type": "code",
      "metadata": {
        "id": "Ip0urPmzPOAN"
      },
      "source": [
        "from unittest import TestCase\n",
        "tc = TestCase()"
      ],
      "execution_count": null,
      "outputs": []
    },
    {
      "cell_type": "code",
      "metadata": {
        "colab": {
          "base_uri": "https://localhost:8080/"
        },
        "id": "tih24pI8Qdz4",
        "outputId": "62537515-28b4-4117-c8ab-5c9a7fac38b9"
      },
      "source": [
        "test1 = np.array([(40, 70)])\n",
        "print(tc.assertEqual(get_distance(test1, 40, 70), [0.0]))\n",
        "## our function returns as a list of floats so the expected \n",
        "## output when distance is 0 is [0.0]"
      ],
      "execution_count": null,
      "outputs": [
        {
          "output_type": "stream",
          "name": "stdout",
          "text": [
            "None\n"
          ]
        }
      ]
    },
    {
      "cell_type": "code",
      "metadata": {
        "id": "1ZTOByrXdj4Q",
        "colab": {
          "base_uri": "https://localhost:8080/"
        },
        "outputId": "01f61ab9-1f40-4686-9110-d9a050e0be99"
      },
      "source": [
        "test2 = np.array([(10, 5, 20,)])\n",
        "print(tc.assertEqual(cost_per_person(test2), [10.0]))\n",
        "## our function returns as a list of floats so the expected \n",
        "## output with these inputs is 0 is [10.0]"
      ],
      "execution_count": null,
      "outputs": [
        {
          "output_type": "stream",
          "name": "stdout",
          "text": [
            "None\n"
          ]
        }
      ]
    },
    {
      "cell_type": "markdown",
      "metadata": {
        "id": "hyiayh60JPPN"
      },
      "source": [
        "## **VISUALIZATIONS**"
      ]
    },
    {
      "cell_type": "markdown",
      "metadata": {
        "id": "JUoiMprIGPvy"
      },
      "source": [
        "Number of Airbnb rentals per neighborhood"
      ]
    },
    {
      "cell_type": "code",
      "metadata": {
        "id": "lSQYbkco_uXb",
        "colab": {
          "base_uri": "https://localhost:8080/"
        },
        "outputId": "aabf3639-d341-4516-8795-831f11031824"
      },
      "source": [
        "boston.neighborhood.value_counts()"
      ],
      "execution_count": null,
      "outputs": [
        {
          "output_type": "execute_result",
          "data": {
            "text/plain": [
              "Jamaica Plain              343\n",
              "South End                  326\n",
              "Back Bay                   302\n",
              "Fenway                     290\n",
              "Dorchester                 269\n",
              "Allston                    260\n",
              "Beacon Hill                194\n",
              "Brighton                   185\n",
              "South Boston               174\n",
              "Downtown                   172\n",
              "East Boston                150\n",
              "Roxbury                    144\n",
              "North End                  143\n",
              "Mission Hill               124\n",
              "Charlestown                111\n",
              "South Boston Waterfront     83\n",
              "Chinatown                   71\n",
              "Roslindale                  56\n",
              "West End                    49\n",
              "West Roxbury                46\n",
              "Hyde Park                   31\n",
              "Mattapan                    24\n",
              "Bay Village                 24\n",
              "Longwood Medical Area        9\n",
              "Leather District             5\n",
              "Name: neighborhood, dtype: int64"
            ]
          },
          "metadata": {},
          "execution_count": 24
        }
      ]
    },
    {
      "cell_type": "markdown",
      "metadata": {
        "id": "D3Ta4nw8GTqf"
      },
      "source": [
        "Subset only top 6 neighborhoods with most rentals available"
      ]
    },
    {
      "cell_type": "code",
      "metadata": {
        "id": "EEzBj6AvFOdS"
      },
      "source": [
        "boston_neighborhoods = boston.loc[boston['neighborhood'].isin(['Jamaica Plain', 'South End', 'Back Bay',\n",
        "                                                             'Fenway', 'Dorchester', 'Allston'])]"
      ],
      "execution_count": null,
      "outputs": []
    },
    {
      "cell_type": "code",
      "metadata": {
        "colab": {
          "base_uri": "https://localhost:8080/",
          "height": 236
        },
        "id": "EqAEVzdoFdyV",
        "outputId": "52cd63c6-6185-4174-ae50-1e1eb36c510d"
      },
      "source": [
        "boston_neighborhoods.head(2)"
      ],
      "execution_count": null,
      "outputs": [
        {
          "output_type": "execute_result",
          "data": {
            "text/html": [
              "<div>\n",
              "<style scoped>\n",
              "    .dataframe tbody tr th:only-of-type {\n",
              "        vertical-align: middle;\n",
              "    }\n",
              "\n",
              "    .dataframe tbody tr th {\n",
              "        vertical-align: top;\n",
              "    }\n",
              "\n",
              "    .dataframe thead th {\n",
              "        text-align: right;\n",
              "    }\n",
              "</style>\n",
              "<table border=\"1\" class=\"dataframe\">\n",
              "  <thead>\n",
              "    <tr style=\"text-align: right;\">\n",
              "      <th></th>\n",
              "      <th>name</th>\n",
              "      <th>neighborhood</th>\n",
              "      <th>latitude</th>\n",
              "      <th>longitude</th>\n",
              "      <th>room_type</th>\n",
              "      <th>accommodates</th>\n",
              "      <th>price</th>\n",
              "      <th>cleaning_fee</th>\n",
              "      <th>minimum_nights</th>\n",
              "      <th>number_of_reviews</th>\n",
              "      <th>review_scores_rating</th>\n",
              "      <th>host_response_rate</th>\n",
              "      <th>host_acceptance_rate</th>\n",
              "      <th>superhost?</th>\n",
              "    </tr>\n",
              "  </thead>\n",
              "  <tbody>\n",
              "    <tr>\n",
              "      <th>56</th>\n",
              "      <td>Gorgeous Boston Loft Style Condo!</td>\n",
              "      <td>Jamaica Plain</td>\n",
              "      <td>42.313792</td>\n",
              "      <td>-71.103387</td>\n",
              "      <td>Entire home/apt</td>\n",
              "      <td>4</td>\n",
              "      <td>140</td>\n",
              "      <td>$125.00</td>\n",
              "      <td>3</td>\n",
              "      <td>1</td>\n",
              "      <td>NaN</td>\n",
              "      <td>50%</td>\n",
              "      <td>100%</td>\n",
              "      <td>f</td>\n",
              "    </tr>\n",
              "    <tr>\n",
              "      <th>57</th>\n",
              "      <td>Private room in peaceful space</td>\n",
              "      <td>Jamaica Plain</td>\n",
              "      <td>42.307975</td>\n",
              "      <td>-71.116221</td>\n",
              "      <td>Private room</td>\n",
              "      <td>2</td>\n",
              "      <td>70</td>\n",
              "      <td>$10.00</td>\n",
              "      <td>2</td>\n",
              "      <td>23</td>\n",
              "      <td>93.0</td>\n",
              "      <td>100%</td>\n",
              "      <td>100%</td>\n",
              "      <td>f</td>\n",
              "    </tr>\n",
              "  </tbody>\n",
              "</table>\n",
              "</div>"
            ],
            "text/plain": [
              "                                 name  ... superhost?\n",
              "56  Gorgeous Boston Loft Style Condo!  ...          f\n",
              "57     Private room in peaceful space  ...          f\n",
              "\n",
              "[2 rows x 14 columns]"
            ]
          },
          "metadata": {},
          "execution_count": 26
        }
      ]
    },
    {
      "cell_type": "markdown",
      "metadata": {
        "id": "4cm6WFHnQLS5"
      },
      "source": [
        "### Figure 1"
      ]
    },
    {
      "cell_type": "code",
      "metadata": {
        "colab": {
          "base_uri": "https://localhost:8080/",
          "height": 542
        },
        "id": "d3lfCh_SnSUF",
        "outputId": "9db9d931-a3ef-45e8-ec40-2bfdc633f83b"
      },
      "source": [
        "boston_by_med = boston.groupby(by='neighborhood').agg('median').reset_index()\n",
        "boston_by_med\n",
        "\n",
        "fig1 = px.bar(boston_by_med, x='neighborhood', y='price',\n",
        "              color='neighborhood',\n",
        "              title='Median Airbnb Price per Night in Boston by Neighborhood',\n",
        "              labels = {'price':'Price per Night','neighborhood':'Neighborhood'},\n",
        "              range_y = [0,300],\n",
        "              color_discrete_sequence = px.colors.qualitative.T10)\n",
        "\n",
        "fig1\n"
      ],
      "execution_count": null,
      "outputs": [
        {
          "output_type": "display_data",
          "data": {
            "text/html": [
              "<html>\n",
              "<head><meta charset=\"utf-8\" /></head>\n",
              "<body>\n",
              "    <div>\n",
              "            <script src=\"https://cdnjs.cloudflare.com/ajax/libs/mathjax/2.7.5/MathJax.js?config=TeX-AMS-MML_SVG\"></script><script type=\"text/javascript\">if (window.MathJax) {MathJax.Hub.Config({SVG: {font: \"STIX-Web\"}});}</script>\n",
              "                <script type=\"text/javascript\">window.PlotlyConfig = {MathJaxConfig: 'local'};</script>\n",
              "        <script src=\"https://cdn.plot.ly/plotly-latest.min.js\"></script>    \n",
              "            <div id=\"98744f57-5f72-4edd-a5b5-c2c69a43abea\" class=\"plotly-graph-div\" style=\"height:525px; width:100%;\"></div>\n",
              "            <script type=\"text/javascript\">\n",
              "                \n",
              "                    window.PLOTLYENV=window.PLOTLYENV || {};\n",
              "                    \n",
              "                if (document.getElementById(\"98744f57-5f72-4edd-a5b5-c2c69a43abea\")) {\n",
              "                    Plotly.newPlot(\n",
              "                        '98744f57-5f72-4edd-a5b5-c2c69a43abea',\n",
              "                        [{\"alignmentgroup\": \"True\", \"hoverlabel\": {\"namelength\": 0}, \"hovertemplate\": \"Neighborhood=%{x}<br>Price per Night=%{y}\", \"legendgroup\": \"Neighborhood=Allston\", \"marker\": {\"color\": \"#4C78A8\"}, \"name\": \"Neighborhood=Allston\", \"offsetgroup\": \"Neighborhood=Allston\", \"orientation\": \"v\", \"showlegend\": true, \"textposition\": \"auto\", \"type\": \"bar\", \"x\": [\"Allston\"], \"xaxis\": \"x\", \"y\": [85.0], \"yaxis\": \"y\"}, {\"alignmentgroup\": \"True\", \"hoverlabel\": {\"namelength\": 0}, \"hovertemplate\": \"Neighborhood=%{x}<br>Price per Night=%{y}\", \"legendgroup\": \"Neighborhood=Back Bay\", \"marker\": {\"color\": \"#F58518\"}, \"name\": \"Neighborhood=Back Bay\", \"offsetgroup\": \"Neighborhood=Back Bay\", \"orientation\": \"v\", \"showlegend\": true, \"textposition\": \"auto\", \"type\": \"bar\", \"x\": [\"Back Bay\"], \"xaxis\": \"x\", \"y\": [209.0], \"yaxis\": \"y\"}, {\"alignmentgroup\": \"True\", \"hoverlabel\": {\"namelength\": 0}, \"hovertemplate\": \"Neighborhood=%{x}<br>Price per Night=%{y}\", \"legendgroup\": \"Neighborhood=Bay Village\", \"marker\": {\"color\": \"#E45756\"}, \"name\": \"Neighborhood=Bay Village\", \"offsetgroup\": \"Neighborhood=Bay Village\", \"orientation\": \"v\", \"showlegend\": true, \"textposition\": \"auto\", \"type\": \"bar\", \"x\": [\"Bay Village\"], \"xaxis\": \"x\", \"y\": [206.5], \"yaxis\": \"y\"}, {\"alignmentgroup\": \"True\", \"hoverlabel\": {\"namelength\": 0}, \"hovertemplate\": \"Neighborhood=%{x}<br>Price per Night=%{y}\", \"legendgroup\": \"Neighborhood=Beacon Hill\", \"marker\": {\"color\": \"#72B7B2\"}, \"name\": \"Neighborhood=Beacon Hill\", \"offsetgroup\": \"Neighborhood=Beacon Hill\", \"orientation\": \"v\", \"showlegend\": true, \"textposition\": \"auto\", \"type\": \"bar\", \"x\": [\"Beacon Hill\"], \"xaxis\": \"x\", \"y\": [195.0], \"yaxis\": \"y\"}, {\"alignmentgroup\": \"True\", \"hoverlabel\": {\"namelength\": 0}, \"hovertemplate\": \"Neighborhood=%{x}<br>Price per Night=%{y}\", \"legendgroup\": \"Neighborhood=Brighton\", \"marker\": {\"color\": \"#54A24B\"}, \"name\": \"Neighborhood=Brighton\", \"offsetgroup\": \"Neighborhood=Brighton\", \"orientation\": \"v\", \"showlegend\": true, \"textposition\": \"auto\", \"type\": \"bar\", \"x\": [\"Brighton\"], \"xaxis\": \"x\", \"y\": [90.0], \"yaxis\": \"y\"}, {\"alignmentgroup\": \"True\", \"hoverlabel\": {\"namelength\": 0}, \"hovertemplate\": \"Neighborhood=%{x}<br>Price per Night=%{y}\", \"legendgroup\": \"Neighborhood=Charlestown\", \"marker\": {\"color\": \"#EECA3B\"}, \"name\": \"Neighborhood=Charlestown\", \"offsetgroup\": \"Neighborhood=Charlestown\", \"orientation\": \"v\", \"showlegend\": true, \"textposition\": \"auto\", \"type\": \"bar\", \"x\": [\"Charlestown\"], \"xaxis\": \"x\", \"y\": [180.0], \"yaxis\": \"y\"}, {\"alignmentgroup\": \"True\", \"hoverlabel\": {\"namelength\": 0}, \"hovertemplate\": \"Neighborhood=%{x}<br>Price per Night=%{y}\", \"legendgroup\": \"Neighborhood=Chinatown\", \"marker\": {\"color\": \"#B279A2\"}, \"name\": \"Neighborhood=Chinatown\", \"offsetgroup\": \"Neighborhood=Chinatown\", \"orientation\": \"v\", \"showlegend\": true, \"textposition\": \"auto\", \"type\": \"bar\", \"x\": [\"Chinatown\"], \"xaxis\": \"x\", \"y\": [219.0], \"yaxis\": \"y\"}, {\"alignmentgroup\": \"True\", \"hoverlabel\": {\"namelength\": 0}, \"hovertemplate\": \"Neighborhood=%{x}<br>Price per Night=%{y}\", \"legendgroup\": \"Neighborhood=Dorchester\", \"marker\": {\"color\": \"#FF9DA6\"}, \"name\": \"Neighborhood=Dorchester\", \"offsetgroup\": \"Neighborhood=Dorchester\", \"orientation\": \"v\", \"showlegend\": true, \"textposition\": \"auto\", \"type\": \"bar\", \"x\": [\"Dorchester\"], \"xaxis\": \"x\", \"y\": [72.0], \"yaxis\": \"y\"}, {\"alignmentgroup\": \"True\", \"hoverlabel\": {\"namelength\": 0}, \"hovertemplate\": \"Neighborhood=%{x}<br>Price per Night=%{y}\", \"legendgroup\": \"Neighborhood=Downtown\", \"marker\": {\"color\": \"#9D755D\"}, \"name\": \"Neighborhood=Downtown\", \"offsetgroup\": \"Neighborhood=Downtown\", \"orientation\": \"v\", \"showlegend\": true, \"textposition\": \"auto\", \"type\": \"bar\", \"x\": [\"Downtown\"], \"xaxis\": \"x\", \"y\": [225.0], \"yaxis\": \"y\"}, {\"alignmentgroup\": \"True\", \"hoverlabel\": {\"namelength\": 0}, \"hovertemplate\": \"Neighborhood=%{x}<br>Price per Night=%{y}\", \"legendgroup\": \"Neighborhood=East Boston\", \"marker\": {\"color\": \"#BAB0AC\"}, \"name\": \"Neighborhood=East Boston\", \"offsetgroup\": \"Neighborhood=East Boston\", \"orientation\": \"v\", \"showlegend\": true, \"textposition\": \"auto\", \"type\": \"bar\", \"x\": [\"East Boston\"], \"xaxis\": \"x\", \"y\": [99.0], \"yaxis\": \"y\"}, {\"alignmentgroup\": \"True\", \"hoverlabel\": {\"namelength\": 0}, \"hovertemplate\": \"Neighborhood=%{x}<br>Price per Night=%{y}\", \"legendgroup\": \"Neighborhood=Fenway\", \"marker\": {\"color\": \"#4C78A8\"}, \"name\": \"Neighborhood=Fenway\", \"offsetgroup\": \"Neighborhood=Fenway\", \"orientation\": \"v\", \"showlegend\": true, \"textposition\": \"auto\", \"type\": \"bar\", \"x\": [\"Fenway\"], \"xaxis\": \"x\", \"y\": [191.0], \"yaxis\": \"y\"}, {\"alignmentgroup\": \"True\", \"hoverlabel\": {\"namelength\": 0}, \"hovertemplate\": \"Neighborhood=%{x}<br>Price per Night=%{y}\", \"legendgroup\": \"Neighborhood=Hyde Park\", \"marker\": {\"color\": \"#F58518\"}, \"name\": \"Neighborhood=Hyde Park\", \"offsetgroup\": \"Neighborhood=Hyde Park\", \"orientation\": \"v\", \"showlegend\": true, \"textposition\": \"auto\", \"type\": \"bar\", \"x\": [\"Hyde Park\"], \"xaxis\": \"x\", \"y\": [58.0], \"yaxis\": \"y\"}, {\"alignmentgroup\": \"True\", \"hoverlabel\": {\"namelength\": 0}, \"hovertemplate\": \"Neighborhood=%{x}<br>Price per Night=%{y}\", \"legendgroup\": \"Neighborhood=Jamaica Plain\", \"marker\": {\"color\": \"#E45756\"}, \"name\": \"Neighborhood=Jamaica Plain\", \"offsetgroup\": \"Neighborhood=Jamaica Plain\", \"orientation\": \"v\", \"showlegend\": true, \"textposition\": \"auto\", \"type\": \"bar\", \"x\": [\"Jamaica Plain\"], \"xaxis\": \"x\", \"y\": [100.0], \"yaxis\": \"y\"}, {\"alignmentgroup\": \"True\", \"hoverlabel\": {\"namelength\": 0}, \"hovertemplate\": \"Neighborhood=%{x}<br>Price per Night=%{y}\", \"legendgroup\": \"Neighborhood=Leather District\", \"marker\": {\"color\": \"#72B7B2\"}, \"name\": \"Neighborhood=Leather District\", \"offsetgroup\": \"Neighborhood=Leather District\", \"orientation\": \"v\", \"showlegend\": true, \"textposition\": \"auto\", \"type\": \"bar\", \"x\": [\"Leather District\"], \"xaxis\": \"x\", \"y\": [245.0], \"yaxis\": \"y\"}, {\"alignmentgroup\": \"True\", \"hoverlabel\": {\"namelength\": 0}, \"hovertemplate\": \"Neighborhood=%{x}<br>Price per Night=%{y}\", \"legendgroup\": \"Neighborhood=Longwood Medical Area\", \"marker\": {\"color\": \"#54A24B\"}, \"name\": \"Neighborhood=Longwood Medical Area\", \"offsetgroup\": \"Neighborhood=Longwood Medical Area\", \"orientation\": \"v\", \"showlegend\": true, \"textposition\": \"auto\", \"type\": \"bar\", \"x\": [\"Longwood Medical Area\"], \"xaxis\": \"x\", \"y\": [84.0], \"yaxis\": \"y\"}, {\"alignmentgroup\": \"True\", \"hoverlabel\": {\"namelength\": 0}, \"hovertemplate\": \"Neighborhood=%{x}<br>Price per Night=%{y}\", \"legendgroup\": \"Neighborhood=Mattapan\", \"marker\": {\"color\": \"#EECA3B\"}, \"name\": \"Neighborhood=Mattapan\", \"offsetgroup\": \"Neighborhood=Mattapan\", \"orientation\": \"v\", \"showlegend\": true, \"textposition\": \"auto\", \"type\": \"bar\", \"x\": [\"Mattapan\"], \"xaxis\": \"x\", \"y\": [67.0], \"yaxis\": \"y\"}, {\"alignmentgroup\": \"True\", \"hoverlabel\": {\"namelength\": 0}, \"hovertemplate\": \"Neighborhood=%{x}<br>Price per Night=%{y}\", \"legendgroup\": \"Neighborhood=Mission Hill\", \"marker\": {\"color\": \"#B279A2\"}, \"name\": \"Neighborhood=Mission Hill\", \"offsetgroup\": \"Neighborhood=Mission Hill\", \"orientation\": \"v\", \"showlegend\": true, \"textposition\": \"auto\", \"type\": \"bar\", \"x\": [\"Mission Hill\"], \"xaxis\": \"x\", \"y\": [89.5], \"yaxis\": \"y\"}, {\"alignmentgroup\": \"True\", \"hoverlabel\": {\"namelength\": 0}, \"hovertemplate\": \"Neighborhood=%{x}<br>Price per Night=%{y}\", \"legendgroup\": \"Neighborhood=North End\", \"marker\": {\"color\": \"#FF9DA6\"}, \"name\": \"Neighborhood=North End\", \"offsetgroup\": \"Neighborhood=North End\", \"orientation\": \"v\", \"showlegend\": true, \"textposition\": \"auto\", \"type\": \"bar\", \"x\": [\"North End\"], \"xaxis\": \"x\", \"y\": [179.0], \"yaxis\": \"y\"}, {\"alignmentgroup\": \"True\", \"hoverlabel\": {\"namelength\": 0}, \"hovertemplate\": \"Neighborhood=%{x}<br>Price per Night=%{y}\", \"legendgroup\": \"Neighborhood=Roslindale\", \"marker\": {\"color\": \"#9D755D\"}, \"name\": \"Neighborhood=Roslindale\", \"offsetgroup\": \"Neighborhood=Roslindale\", \"orientation\": \"v\", \"showlegend\": true, \"textposition\": \"auto\", \"type\": \"bar\", \"x\": [\"Roslindale\"], \"xaxis\": \"x\", \"y\": [76.5], \"yaxis\": \"y\"}, {\"alignmentgroup\": \"True\", \"hoverlabel\": {\"namelength\": 0}, \"hovertemplate\": \"Neighborhood=%{x}<br>Price per Night=%{y}\", \"legendgroup\": \"Neighborhood=Roxbury\", \"marker\": {\"color\": \"#BAB0AC\"}, \"name\": \"Neighborhood=Roxbury\", \"offsetgroup\": \"Neighborhood=Roxbury\", \"orientation\": \"v\", \"showlegend\": true, \"textposition\": \"auto\", \"type\": \"bar\", \"x\": [\"Roxbury\"], \"xaxis\": \"x\", \"y\": [99.0], \"yaxis\": \"y\"}, {\"alignmentgroup\": \"True\", \"hoverlabel\": {\"namelength\": 0}, \"hovertemplate\": \"Neighborhood=%{x}<br>Price per Night=%{y}\", \"legendgroup\": \"Neighborhood=South Boston\", \"marker\": {\"color\": \"#4C78A8\"}, \"name\": \"Neighborhood=South Boston\", \"offsetgroup\": \"Neighborhood=South Boston\", \"orientation\": \"v\", \"showlegend\": true, \"textposition\": \"auto\", \"type\": \"bar\", \"x\": [\"South Boston\"], \"xaxis\": \"x\", \"y\": [150.0], \"yaxis\": \"y\"}, {\"alignmentgroup\": \"True\", \"hoverlabel\": {\"namelength\": 0}, \"hovertemplate\": \"Neighborhood=%{x}<br>Price per Night=%{y}\", \"legendgroup\": \"Neighborhood=South Boston Waterfront\", \"marker\": {\"color\": \"#F58518\"}, \"name\": \"Neighborhood=South Boston Waterfront\", \"offsetgroup\": \"Neighborhood=South Boston Waterfront\", \"orientation\": \"v\", \"showlegend\": true, \"textposition\": \"auto\", \"type\": \"bar\", \"x\": [\"South Boston Waterfront\"], \"xaxis\": \"x\", \"y\": [245.0], \"yaxis\": \"y\"}, {\"alignmentgroup\": \"True\", \"hoverlabel\": {\"namelength\": 0}, \"hovertemplate\": \"Neighborhood=%{x}<br>Price per Night=%{y}\", \"legendgroup\": \"Neighborhood=South End\", \"marker\": {\"color\": \"#E45756\"}, \"name\": \"Neighborhood=South End\", \"offsetgroup\": \"Neighborhood=South End\", \"orientation\": \"v\", \"showlegend\": true, \"textposition\": \"auto\", \"type\": \"bar\", \"x\": [\"South End\"], \"xaxis\": \"x\", \"y\": [180.0], \"yaxis\": \"y\"}, {\"alignmentgroup\": \"True\", \"hoverlabel\": {\"namelength\": 0}, \"hovertemplate\": \"Neighborhood=%{x}<br>Price per Night=%{y}\", \"legendgroup\": \"Neighborhood=West End\", \"marker\": {\"color\": \"#72B7B2\"}, \"name\": \"Neighborhood=West End\", \"offsetgroup\": \"Neighborhood=West End\", \"orientation\": \"v\", \"showlegend\": true, \"textposition\": \"auto\", \"type\": \"bar\", \"x\": [\"West End\"], \"xaxis\": \"x\", \"y\": [199.0], \"yaxis\": \"y\"}, {\"alignmentgroup\": \"True\", \"hoverlabel\": {\"namelength\": 0}, \"hovertemplate\": \"Neighborhood=%{x}<br>Price per Night=%{y}\", \"legendgroup\": \"Neighborhood=West Roxbury\", \"marker\": {\"color\": \"#54A24B\"}, \"name\": \"Neighborhood=West Roxbury\", \"offsetgroup\": \"Neighborhood=West Roxbury\", \"orientation\": \"v\", \"showlegend\": true, \"textposition\": \"auto\", \"type\": \"bar\", \"x\": [\"West Roxbury\"], \"xaxis\": \"x\", \"y\": [85.0], \"yaxis\": \"y\"}],\n",
              "                        {\"barmode\": \"relative\", \"legend\": {\"tracegroupgap\": 0}, \"template\": {\"data\": {\"bar\": [{\"error_x\": {\"color\": \"#2a3f5f\"}, \"error_y\": {\"color\": \"#2a3f5f\"}, \"marker\": {\"line\": {\"color\": \"#E5ECF6\", \"width\": 0.5}}, \"type\": \"bar\"}], \"barpolar\": [{\"marker\": {\"line\": {\"color\": \"#E5ECF6\", \"width\": 0.5}}, \"type\": \"barpolar\"}], \"carpet\": [{\"aaxis\": {\"endlinecolor\": \"#2a3f5f\", \"gridcolor\": \"white\", \"linecolor\": \"white\", \"minorgridcolor\": \"white\", \"startlinecolor\": \"#2a3f5f\"}, \"baxis\": {\"endlinecolor\": \"#2a3f5f\", \"gridcolor\": \"white\", \"linecolor\": \"white\", \"minorgridcolor\": \"white\", \"startlinecolor\": \"#2a3f5f\"}, \"type\": \"carpet\"}], \"choropleth\": [{\"colorbar\": {\"outlinewidth\": 0, \"ticks\": \"\"}, \"type\": \"choropleth\"}], \"contour\": [{\"colorbar\": {\"outlinewidth\": 0, \"ticks\": \"\"}, \"colorscale\": [[0.0, \"#0d0887\"], [0.1111111111111111, \"#46039f\"], [0.2222222222222222, \"#7201a8\"], [0.3333333333333333, \"#9c179e\"], [0.4444444444444444, \"#bd3786\"], [0.5555555555555556, \"#d8576b\"], [0.6666666666666666, \"#ed7953\"], [0.7777777777777778, \"#fb9f3a\"], [0.8888888888888888, \"#fdca26\"], [1.0, \"#f0f921\"]], \"type\": \"contour\"}], \"contourcarpet\": [{\"colorbar\": {\"outlinewidth\": 0, \"ticks\": \"\"}, \"type\": \"contourcarpet\"}], \"heatmap\": [{\"colorbar\": {\"outlinewidth\": 0, \"ticks\": \"\"}, \"colorscale\": [[0.0, \"#0d0887\"], [0.1111111111111111, \"#46039f\"], [0.2222222222222222, \"#7201a8\"], [0.3333333333333333, \"#9c179e\"], [0.4444444444444444, \"#bd3786\"], [0.5555555555555556, \"#d8576b\"], [0.6666666666666666, \"#ed7953\"], [0.7777777777777778, \"#fb9f3a\"], [0.8888888888888888, \"#fdca26\"], [1.0, \"#f0f921\"]], \"type\": \"heatmap\"}], \"heatmapgl\": [{\"colorbar\": {\"outlinewidth\": 0, \"ticks\": \"\"}, \"colorscale\": [[0.0, \"#0d0887\"], [0.1111111111111111, \"#46039f\"], [0.2222222222222222, \"#7201a8\"], [0.3333333333333333, \"#9c179e\"], [0.4444444444444444, \"#bd3786\"], [0.5555555555555556, \"#d8576b\"], [0.6666666666666666, \"#ed7953\"], [0.7777777777777778, \"#fb9f3a\"], [0.8888888888888888, \"#fdca26\"], [1.0, \"#f0f921\"]], \"type\": \"heatmapgl\"}], \"histogram\": [{\"marker\": {\"colorbar\": {\"outlinewidth\": 0, \"ticks\": \"\"}}, \"type\": \"histogram\"}], \"histogram2d\": [{\"colorbar\": {\"outlinewidth\": 0, \"ticks\": \"\"}, \"colorscale\": [[0.0, \"#0d0887\"], [0.1111111111111111, \"#46039f\"], [0.2222222222222222, \"#7201a8\"], [0.3333333333333333, \"#9c179e\"], [0.4444444444444444, \"#bd3786\"], [0.5555555555555556, \"#d8576b\"], [0.6666666666666666, \"#ed7953\"], [0.7777777777777778, \"#fb9f3a\"], [0.8888888888888888, \"#fdca26\"], [1.0, \"#f0f921\"]], \"type\": \"histogram2d\"}], \"histogram2dcontour\": [{\"colorbar\": {\"outlinewidth\": 0, \"ticks\": \"\"}, \"colorscale\": [[0.0, \"#0d0887\"], [0.1111111111111111, \"#46039f\"], [0.2222222222222222, \"#7201a8\"], [0.3333333333333333, \"#9c179e\"], [0.4444444444444444, \"#bd3786\"], [0.5555555555555556, \"#d8576b\"], [0.6666666666666666, \"#ed7953\"], [0.7777777777777778, \"#fb9f3a\"], [0.8888888888888888, \"#fdca26\"], [1.0, \"#f0f921\"]], \"type\": \"histogram2dcontour\"}], \"mesh3d\": [{\"colorbar\": {\"outlinewidth\": 0, \"ticks\": \"\"}, \"type\": \"mesh3d\"}], \"parcoords\": [{\"line\": {\"colorbar\": {\"outlinewidth\": 0, \"ticks\": \"\"}}, \"type\": \"parcoords\"}], \"pie\": [{\"automargin\": true, \"type\": \"pie\"}], \"scatter\": [{\"marker\": {\"colorbar\": {\"outlinewidth\": 0, \"ticks\": \"\"}}, \"type\": \"scatter\"}], \"scatter3d\": [{\"line\": {\"colorbar\": {\"outlinewidth\": 0, \"ticks\": \"\"}}, \"marker\": {\"colorbar\": {\"outlinewidth\": 0, \"ticks\": \"\"}}, \"type\": \"scatter3d\"}], \"scattercarpet\": [{\"marker\": {\"colorbar\": {\"outlinewidth\": 0, \"ticks\": \"\"}}, \"type\": \"scattercarpet\"}], \"scattergeo\": [{\"marker\": {\"colorbar\": {\"outlinewidth\": 0, \"ticks\": \"\"}}, \"type\": \"scattergeo\"}], \"scattergl\": [{\"marker\": {\"colorbar\": {\"outlinewidth\": 0, \"ticks\": \"\"}}, \"type\": \"scattergl\"}], \"scattermapbox\": [{\"marker\": {\"colorbar\": {\"outlinewidth\": 0, \"ticks\": \"\"}}, \"type\": \"scattermapbox\"}], \"scatterpolar\": [{\"marker\": {\"colorbar\": {\"outlinewidth\": 0, \"ticks\": \"\"}}, \"type\": \"scatterpolar\"}], \"scatterpolargl\": [{\"marker\": {\"colorbar\": {\"outlinewidth\": 0, \"ticks\": \"\"}}, \"type\": \"scatterpolargl\"}], \"scatterternary\": [{\"marker\": {\"colorbar\": {\"outlinewidth\": 0, \"ticks\": \"\"}}, \"type\": \"scatterternary\"}], \"surface\": [{\"colorbar\": {\"outlinewidth\": 0, \"ticks\": \"\"}, \"colorscale\": [[0.0, \"#0d0887\"], [0.1111111111111111, \"#46039f\"], [0.2222222222222222, \"#7201a8\"], [0.3333333333333333, \"#9c179e\"], [0.4444444444444444, \"#bd3786\"], [0.5555555555555556, \"#d8576b\"], [0.6666666666666666, \"#ed7953\"], [0.7777777777777778, \"#fb9f3a\"], [0.8888888888888888, \"#fdca26\"], [1.0, \"#f0f921\"]], \"type\": \"surface\"}], \"table\": [{\"cells\": {\"fill\": {\"color\": \"#EBF0F8\"}, \"line\": {\"color\": \"white\"}}, \"header\": {\"fill\": {\"color\": \"#C8D4E3\"}, \"line\": {\"color\": \"white\"}}, \"type\": \"table\"}]}, \"layout\": {\"annotationdefaults\": {\"arrowcolor\": \"#2a3f5f\", \"arrowhead\": 0, \"arrowwidth\": 1}, \"coloraxis\": {\"colorbar\": {\"outlinewidth\": 0, \"ticks\": \"\"}}, \"colorscale\": {\"diverging\": [[0, \"#8e0152\"], [0.1, \"#c51b7d\"], [0.2, \"#de77ae\"], [0.3, \"#f1b6da\"], [0.4, \"#fde0ef\"], [0.5, \"#f7f7f7\"], [0.6, \"#e6f5d0\"], [0.7, \"#b8e186\"], [0.8, \"#7fbc41\"], [0.9, \"#4d9221\"], [1, \"#276419\"]], \"sequential\": [[0.0, \"#0d0887\"], [0.1111111111111111, \"#46039f\"], [0.2222222222222222, \"#7201a8\"], [0.3333333333333333, \"#9c179e\"], [0.4444444444444444, \"#bd3786\"], [0.5555555555555556, \"#d8576b\"], [0.6666666666666666, \"#ed7953\"], [0.7777777777777778, \"#fb9f3a\"], [0.8888888888888888, \"#fdca26\"], [1.0, \"#f0f921\"]], \"sequentialminus\": [[0.0, \"#0d0887\"], [0.1111111111111111, \"#46039f\"], [0.2222222222222222, \"#7201a8\"], [0.3333333333333333, \"#9c179e\"], [0.4444444444444444, \"#bd3786\"], [0.5555555555555556, \"#d8576b\"], [0.6666666666666666, \"#ed7953\"], [0.7777777777777778, \"#fb9f3a\"], [0.8888888888888888, \"#fdca26\"], [1.0, \"#f0f921\"]]}, \"colorway\": [\"#636efa\", \"#EF553B\", \"#00cc96\", \"#ab63fa\", \"#FFA15A\", \"#19d3f3\", \"#FF6692\", \"#B6E880\", \"#FF97FF\", \"#FECB52\"], \"font\": {\"color\": \"#2a3f5f\"}, \"geo\": {\"bgcolor\": \"white\", \"lakecolor\": \"white\", \"landcolor\": \"#E5ECF6\", \"showlakes\": true, \"showland\": true, \"subunitcolor\": \"white\"}, \"hoverlabel\": {\"align\": \"left\"}, \"hovermode\": \"closest\", \"mapbox\": {\"style\": \"light\"}, \"paper_bgcolor\": \"white\", \"plot_bgcolor\": \"#E5ECF6\", \"polar\": {\"angularaxis\": {\"gridcolor\": \"white\", \"linecolor\": \"white\", \"ticks\": \"\"}, \"bgcolor\": \"#E5ECF6\", \"radialaxis\": {\"gridcolor\": \"white\", \"linecolor\": \"white\", \"ticks\": \"\"}}, \"scene\": {\"xaxis\": {\"backgroundcolor\": \"#E5ECF6\", \"gridcolor\": \"white\", \"gridwidth\": 2, \"linecolor\": \"white\", \"showbackground\": true, \"ticks\": \"\", \"zerolinecolor\": \"white\"}, \"yaxis\": {\"backgroundcolor\": \"#E5ECF6\", \"gridcolor\": \"white\", \"gridwidth\": 2, \"linecolor\": \"white\", \"showbackground\": true, \"ticks\": \"\", \"zerolinecolor\": \"white\"}, \"zaxis\": {\"backgroundcolor\": \"#E5ECF6\", \"gridcolor\": \"white\", \"gridwidth\": 2, \"linecolor\": \"white\", \"showbackground\": true, \"ticks\": \"\", \"zerolinecolor\": \"white\"}}, \"shapedefaults\": {\"line\": {\"color\": \"#2a3f5f\"}}, \"ternary\": {\"aaxis\": {\"gridcolor\": \"white\", \"linecolor\": \"white\", \"ticks\": \"\"}, \"baxis\": {\"gridcolor\": \"white\", \"linecolor\": \"white\", \"ticks\": \"\"}, \"bgcolor\": \"#E5ECF6\", \"caxis\": {\"gridcolor\": \"white\", \"linecolor\": \"white\", \"ticks\": \"\"}}, \"title\": {\"x\": 0.05}, \"xaxis\": {\"automargin\": true, \"gridcolor\": \"white\", \"linecolor\": \"white\", \"ticks\": \"\", \"title\": {\"standoff\": 15}, \"zerolinecolor\": \"white\", \"zerolinewidth\": 2}, \"yaxis\": {\"automargin\": true, \"gridcolor\": \"white\", \"linecolor\": \"white\", \"ticks\": \"\", \"title\": {\"standoff\": 15}, \"zerolinecolor\": \"white\", \"zerolinewidth\": 2}}}, \"title\": {\"text\": \"Median Airbnb Price per Night in Boston by Neighborhood\"}, \"xaxis\": {\"anchor\": \"y\", \"categoryarray\": [\"Allston\", \"Back Bay\", \"Bay Village\", \"Beacon Hill\", \"Brighton\", \"Charlestown\", \"Chinatown\", \"Dorchester\", \"Downtown\", \"East Boston\", \"Fenway\", \"Hyde Park\", \"Jamaica Plain\", \"Leather District\", \"Longwood Medical Area\", \"Mattapan\", \"Mission Hill\", \"North End\", \"Roslindale\", \"Roxbury\", \"South Boston\", \"South Boston Waterfront\", \"South End\", \"West End\", \"West Roxbury\"], \"categoryorder\": \"array\", \"domain\": [0.0, 1.0], \"title\": {\"text\": \"Neighborhood\"}}, \"yaxis\": {\"anchor\": \"x\", \"domain\": [0.0, 1.0], \"range\": [0, 300], \"title\": {\"text\": \"Price per Night\"}}},\n",
              "                        {\"responsive\": true}\n",
              "                    ).then(function(){\n",
              "                            \n",
              "var gd = document.getElementById('98744f57-5f72-4edd-a5b5-c2c69a43abea');\n",
              "var x = new MutationObserver(function (mutations, observer) {{\n",
              "        var display = window.getComputedStyle(gd).display;\n",
              "        if (!display || display === 'none') {{\n",
              "            console.log([gd, 'removed!']);\n",
              "            Plotly.purge(gd);\n",
              "            observer.disconnect();\n",
              "        }}\n",
              "}});\n",
              "\n",
              "// Listen for the removal of the full notebook cells\n",
              "var notebookContainer = gd.closest('#notebook-container');\n",
              "if (notebookContainer) {{\n",
              "    x.observe(notebookContainer, {childList: true});\n",
              "}}\n",
              "\n",
              "// Listen for the clearing of the current output cell\n",
              "var outputEl = gd.closest('.output');\n",
              "if (outputEl) {{\n",
              "    x.observe(outputEl, {childList: true});\n",
              "}}\n",
              "\n",
              "                        })\n",
              "                };\n",
              "                \n",
              "            </script>\n",
              "        </div>\n",
              "</body>\n",
              "</html>"
            ]
          },
          "metadata": {}
        }
      ]
    },
    {
      "cell_type": "markdown",
      "metadata": {
        "id": "KeR7PImZQPZi"
      },
      "source": [
        "### Figure 2"
      ]
    },
    {
      "cell_type": "code",
      "metadata": {
        "colab": {
          "base_uri": "https://localhost:8080/",
          "height": 542
        },
        "id": "y19jAlhzDtuf",
        "outputId": "916576ee-7047-407d-becf-49618f8e4d1f"
      },
      "source": [
        "fig2 = px.histogram(boston_neighborhoods, x='price',color='neighborhood', range_x=[0,500], barmode='overlay',\n",
        "            title='Distribution of Boston Airbnb Prices by Top 6 Neighborhoods',\n",
        "            labels={'price':'Price Per Night, $', 'count':'Count'},\n",
        "             )\n",
        "\n",
        "fig2"
      ],
      "execution_count": null,
      "outputs": [
        {
          "output_type": "display_data",
          "data": {
            "text/html": [
              "<html>\n",
              "<head><meta charset=\"utf-8\" /></head>\n",
              "<body>\n",
              "    <div>\n",
              "            <script src=\"https://cdnjs.cloudflare.com/ajax/libs/mathjax/2.7.5/MathJax.js?config=TeX-AMS-MML_SVG\"></script><script type=\"text/javascript\">if (window.MathJax) {MathJax.Hub.Config({SVG: {font: \"STIX-Web\"}});}</script>\n",
              "                <script type=\"text/javascript\">window.PlotlyConfig = {MathJaxConfig: 'local'};</script>\n",
              "        <script src=\"https://cdn.plot.ly/plotly-latest.min.js\"></script>    \n",
              "            <div id=\"27e112ce-e46e-4ecf-8de4-80d0a065b4b8\" class=\"plotly-graph-div\" style=\"height:525px; width:100%;\"></div>\n",
              "            <script type=\"text/javascript\">\n",
              "                \n",
              "                    window.PLOTLYENV=window.PLOTLYENV || {};\n",
              "                    \n",
              "                if (document.getElementById(\"27e112ce-e46e-4ecf-8de4-80d0a065b4b8\")) {\n",
              "                    Plotly.newPlot(\n",
              "                        '27e112ce-e46e-4ecf-8de4-80d0a065b4b8',\n",
              "                        [{\"alignmentgroup\": \"True\", \"bingroup\": \"x\", \"hoverlabel\": {\"namelength\": 0}, \"hovertemplate\": \"neighborhood=Jamaica Plain<br>Price Per Night, $=%{x}<br>count=%{y}\", \"legendgroup\": \"neighborhood=Jamaica Plain\", \"marker\": {\"color\": \"#636efa\", \"opacity\": 0.5}, \"name\": \"neighborhood=Jamaica Plain\", \"offsetgroup\": \"neighborhood=Jamaica Plain\", \"orientation\": \"v\", \"showlegend\": true, \"type\": \"histogram\", \"x\": [140, 70, 95, 55, 80, 120, 65, 100, 65, 60, 63, 75, 65, 110, 46, 75, 62, 69, 69, 73, 85, 120, 125, 70, 100, 61, 125, 100, 27, 80, 85, 75, 57, 100, 40, 100, 70, 190, 149, 168, 205, 65, 75, 117, 429, 95, 69, 85, 69, 165, 150, 267, 87, 62, 110, 250, 150, 300, 119, 175, 195, 145, 200, 90, 210, 75, 46, 75, 500, 60, 130, 190, 100, 450, 399, 350, 200, 99, 295, 107, 69, 76, 75, 55, 65, 59, 88, 164, 90, 185, 80, 105, 90, 100, 100, 200, 300, 60, 319, 85, 70, 50, 119, 125, 53, 125, 199, 205, 114, 75, 185, 75, 180, 70, 150, 120, 92, 84, 200, 115, 49, 95, 275, 230, 130, 192, 175, 70, 65, 100, 185, 250, 110, 150, 168, 60, 59, 60, 145, 80, 114, 170, 240, 150, 69, 80, 85, 75, 150, 70, 80, 225, 225, 178, 175, 109, 383, 90, 99, 50, 300, 184, 80, 85, 150, 100, 100, 84, 130, 76, 100, 70, 125, 70, 75, 170, 95, 70, 299, 70, 155, 250, 115, 70, 135, 120, 130, 29, 68, 300, 50, 119, 46, 295, 130, 180, 300, 200, 136, 100, 88, 95, 135, 135, 75, 189, 75, 55, 125, 88, 72, 22, 90, 150, 82, 84, 160, 110, 150, 80, 225, 65, 275, 300, 185, 175, 175, 75, 60, 100, 75, 94, 85, 83, 75, 168, 60, 135, 119, 275, 130, 750, 160, 65, 77, 71, 200, 55, 95, 220, 54, 72, 70, 135, 300, 110, 70, 75, 70, 88, 480, 550, 180, 325, 65, 290, 159, 200, 95, 65, 99, 93, 500, 295, 450, 150, 95, 150, 399, 71, 500, 70, 125, 85, 61, 250, 56, 200, 220, 80, 60, 125, 500, 149, 65, 99, 67, 180, 170, 115, 235, 89, 110, 84, 125, 130, 65, 86, 75, 255, 145, 199, 91, 81, 60, 99, 88, 225, 50, 225, 48, 37, 85, 525, 100, 75, 25, 50, 49, 125, 180, 60, 85, 85, 64, 725, 75, 119, 110, 179, 175, 125, 220], \"xaxis\": \"x\", \"yaxis\": \"y\"}, {\"alignmentgroup\": \"True\", \"bingroup\": \"x\", \"hoverlabel\": {\"namelength\": 0}, \"hovertemplate\": \"neighborhood=South End<br>Price Per Night, $=%{x}<br>count=%{y}\", \"legendgroup\": \"neighborhood=South End\", \"marker\": {\"color\": \"#EF553B\", \"opacity\": 0.5}, \"name\": \"neighborhood=South End\", \"offsetgroup\": \"neighborhood=South End\", \"orientation\": \"v\", \"showlegend\": true, \"type\": \"histogram\", \"x\": [195, 295, 120, 200, 250, 176, 150, 229, 279, 279, 290, 275, 185, 399, 255, 75, 250, 100, 215, 125, 110, 125, 80, 373, 525, 299, 269, 189, 215, 279, 289, 229, 154, 236, 175, 60, 229, 234, 329, 209, 195, 169, 145, 219, 150, 215, 155, 138, 170, 170, 195, 125, 250, 100, 137, 137, 199, 239, 185, 175, 200, 175, 125, 150, 150, 75, 200, 275, 120, 600, 125, 265, 160, 155, 137, 99, 98, 150, 125, 235, 149, 100, 164, 185, 250, 100, 275, 225, 250, 50, 115, 150, 170, 125, 250, 229, 90, 200, 100, 306, 229, 199, 67, 120, 239, 130, 197, 85, 225, 1300, 266, 160, 150, 280, 60, 225, 170, 168, 183, 137, 300, 166, 350, 149, 190, 180, 99, 110, 210, 155, 178, 600, 550, 170, 129, 160, 250, 149, 175, 150, 250, 100, 200, 120, 150, 152, 200, 170, 157, 229, 299, 165, 210, 110, 400, 575, 147, 200, 115, 110, 500, 250, 149, 200, 417, 600, 175, 69, 150, 180, 150, 137, 800, 199, 133, 299, 135, 275, 99, 350, 170, 450, 186, 300, 200, 189, 150, 179, 250, 229, 250, 89, 80, 119, 140, 84, 700, 250, 200, 99, 150, 119, 300, 170, 269, 170, 100, 135, 159, 250, 225, 75, 144, 170, 120, 139, 147, 217, 95, 225, 200, 189, 150, 279, 135, 200, 240, 77, 160, 195, 175, 150, 228, 145, 89, 238, 161, 149, 300, 177, 185, 240, 225, 125, 175, 150, 122, 125, 325, 170, 160, 199, 160, 200, 200, 150, 350, 139, 80, 215, 130, 183, 188, 215, 75, 45, 125, 290, 215, 255, 300, 169, 140, 250, 155, 200, 119, 189, 250, 254, 225, 137, 146, 199, 190, 249, 150, 106, 200, 99, 139, 175, 200, 450, 165, 250, 350, 295, 199, 299, 130, 160, 250, 220, 150, 280, 150, 250, 185, 140, 150, 165, 275, 150, 225, 235, 189, 215, 90, 250, 195, 650, 189, 225, 500, 149], \"xaxis\": \"x\", \"yaxis\": \"y\"}, {\"alignmentgroup\": \"True\", \"bingroup\": \"x\", \"hoverlabel\": {\"namelength\": 0}, \"hovertemplate\": \"neighborhood=Back Bay<br>Price Per Night, $=%{x}<br>count=%{y}\", \"legendgroup\": \"neighborhood=Back Bay\", \"marker\": {\"color\": \"#00cc96\", \"opacity\": 0.5}, \"name\": \"neighborhood=Back Bay\", \"offsetgroup\": \"neighborhood=Back Bay\", \"orientation\": \"v\", \"showlegend\": true, \"type\": \"histogram\", \"x\": [379, 136, 359, 299, 110, 170, 130, 259, 100, 99, 175, 289, 209, 80, 449, 251, 185, 251, 349, 389, 349, 342, 232, 1250, 249, 135, 280, 155, 200, 150, 239, 160, 174, 199, 425, 220, 160, 199, 150, 150, 150, 695, 189, 148, 400, 160, 300, 200, 275, 166, 160, 160, 130, 100, 225, 363, 105, 185, 175, 175, 80, 219, 219, 110, 289, 350, 199, 232, 180, 189, 165, 165, 375, 298, 319, 245, 363, 259, 276, 359, 259, 165, 199, 479, 135, 319, 107, 150, 300, 285, 195, 385, 110, 105, 120, 163, 275, 298, 225, 450, 319, 175, 299, 165, 250, 99, 209, 250, 330, 150, 139, 200, 249, 300, 105, 363, 464, 97, 250, 150, 151, 399, 210, 207, 315, 105, 190, 209, 145, 200, 450, 170, 329, 297, 349, 200, 451, 179, 150, 139, 174, 196, 150, 189, 120, 250, 200, 229, 175, 200, 249, 97, 250, 102, 200, 200, 170, 205, 220, 225, 975, 295, 245, 600, 150, 232, 298, 329, 40, 235, 194, 299, 50, 300, 229, 175, 230, 130, 319, 319, 209, 160, 257, 199, 159, 185, 229, 169, 175, 375, 350, 325, 185, 179, 259, 299, 139, 363, 218, 239, 139, 80, 299, 225, 115, 100, 200, 109, 150, 350, 319, 225, 281, 249, 170, 119, 185, 450, 285, 199, 120, 175, 329, 550, 319, 250, 119, 325, 150, 425, 199, 310, 389, 145, 200, 568, 119, 363, 400, 150, 160, 160, 250, 169, 89, 319, 189, 299, 183, 699, 100, 275, 159, 279, 200, 207, 218, 84, 259, 148, 130, 300, 250, 363, 267, 119, 140, 176, 200, 550, 150, 379, 300, 130, 256, 296, 363, 600, 225, 450, 160, 350, 298, 200, 286, 74, 356, 130, 250, 200, 129, 349, 500, 248, 97, 210, 249, 69, 130, 270, 450, 130], \"xaxis\": \"x\", \"yaxis\": \"y\"}, {\"alignmentgroup\": \"True\", \"bingroup\": \"x\", \"hoverlabel\": {\"namelength\": 0}, \"hovertemplate\": \"neighborhood=Fenway<br>Price Per Night, $=%{x}<br>count=%{y}\", \"legendgroup\": \"neighborhood=Fenway\", \"marker\": {\"color\": \"#ab63fa\", \"opacity\": 0.5}, \"name\": \"neighborhood=Fenway\", \"offsetgroup\": \"neighborhood=Fenway\", \"orientation\": \"v\", \"showlegend\": true, \"type\": \"histogram\", \"x\": [45, 249, 349, 349, 309, 350, 349, 158, 80, 1372, 275, 319, 140, 200, 85, 375, 225, 100, 67, 175, 99, 99, 127, 225, 300, 199, 300, 300, 200, 150, 75, 228, 99, 99, 99, 298, 200, 299, 90, 155, 285, 279, 140, 60, 130, 189, 88, 60, 279, 219, 140, 140, 160, 75, 239, 74, 125, 135, 125, 120, 100, 219, 100, 77, 55, 300, 85, 175, 232, 77, 140, 60, 349, 213, 570, 319, 89, 97, 175, 100, 219, 429, 30, 80, 120, 279, 192, 219, 220, 69, 4000, 295, 85, 60, 279, 239, 199, 83, 189, 229, 85, 289, 110, 175, 149, 200, 319, 319, 260, 50, 349, 319, 279, 80, 199, 77, 259, 326, 199, 169, 70, 98, 349, 90, 319, 70, 379, 315, 200, 145, 319, 199, 52, 169, 75, 193, 155, 150, 299, 199, 169, 103, 319, 120, 169, 72, 160, 199, 52, 100, 160, 200, 315, 250, 319, 180, 220, 199, 310, 238, 199, 279, 135, 169, 142, 199, 169, 225, 150, 199, 155, 110, 275, 229, 285, 400, 190, 79, 500, 169, 241, 100, 99, 90, 199, 100, 200, 395, 90, 319, 349, 65, 159, 289, 80, 319, 189, 150, 150, 750, 99, 169, 319, 349, 232, 190, 229, 169, 169, 159, 603, 80, 349, 120, 275, 155, 170, 232, 50, 319, 67, 219, 60, 169, 279, 210, 319, 123, 200, 180, 300, 249, 349, 279, 115, 87, 199, 603, 57, 219, 319, 169, 195, 160, 200, 115, 229, 319, 56, 200, 89, 295, 299, 1275, 319, 89, 249, 249, 175, 95, 100, 245, 200, 63, 279, 209, 199, 96, 139, 50, 190, 70, 319, 175, 89, 319, 150, 359, 309, 260, 319, 310, 155, 150, 115, 289, 279, 60, 79, 699], \"xaxis\": \"x\", \"yaxis\": \"y\"}, {\"alignmentgroup\": \"True\", \"bingroup\": \"x\", \"hoverlabel\": {\"namelength\": 0}, \"hovertemplate\": \"neighborhood=Dorchester<br>Price Per Night, $=%{x}<br>count=%{y}\", \"legendgroup\": \"neighborhood=Dorchester\", \"marker\": {\"color\": \"#FFA15A\", \"opacity\": 0.5}, \"name\": \"neighborhood=Dorchester\", \"offsetgroup\": \"neighborhood=Dorchester\", \"orientation\": \"v\", \"showlegend\": true, \"type\": \"histogram\", \"x\": [100, 99, 55, 198, 55, 69, 45, 45, 55, 60, 75, 31, 125, 120, 59, 73, 40, 120, 50, 65, 65, 88, 55, 60, 225, 250, 65, 65, 70, 80, 35, 81, 25, 40, 100, 79, 325, 84, 39, 70, 74, 70, 65, 100, 70, 60, 29, 90, 31, 50, 45, 59, 57, 70, 55, 31, 65, 59, 70, 49, 51, 83, 75, 73, 120, 85, 60, 105, 60, 115, 60, 115, 165, 264, 59, 110, 90, 140, 120, 65, 70, 100, 34, 65, 60, 55, 179, 200, 85, 75, 119, 75, 109, 100, 45, 76, 45, 49, 60, 49, 69, 96, 45, 89, 100, 55, 85, 150, 95, 200, 35, 68, 31, 80, 65, 135, 69, 50, 76, 79, 100, 82, 80, 160, 60, 95, 144, 45, 100, 135, 150, 44, 65, 64, 75, 189, 75, 55, 65, 75, 65, 49, 80, 45, 62, 60, 55, 65, 70, 40, 80, 175, 200, 153, 59, 45, 160, 125, 63, 49, 72, 130, 80, 31, 67, 129, 56, 70, 175, 300, 125, 80, 100, 65, 65, 72, 68, 70, 125, 150, 65, 89, 70, 52, 38, 165, 80, 135, 60, 35, 44, 31, 46, 95, 100, 47, 99, 96, 144, 126, 77, 165, 142, 175, 195, 59, 135, 39, 250, 88, 60, 68, 56, 79, 63, 55, 100, 150, 300, 168, 150, 79, 70, 35, 73, 65, 275, 78, 52, 39, 100, 60, 65, 60, 100, 60, 40, 175, 108, 65, 144, 79, 60, 65, 185, 150, 80, 395, 55, 164, 70, 300, 85, 58, 150, 76, 37, 130, 180, 35, 51, 225, 29, 36, 199, 75, 69, 31, 84], \"xaxis\": \"x\", \"yaxis\": \"y\"}, {\"alignmentgroup\": \"True\", \"bingroup\": \"x\", \"hoverlabel\": {\"namelength\": 0}, \"hovertemplate\": \"neighborhood=Allston<br>Price Per Night, $=%{x}<br>count=%{y}\", \"legendgroup\": \"neighborhood=Allston\", \"marker\": {\"color\": \"#19d3f3\", \"opacity\": 0.5}, \"name\": \"neighborhood=Allston\", \"offsetgroup\": \"neighborhood=Allston\", \"orientation\": \"v\", \"showlegend\": true, \"type\": \"histogram\", \"x\": [100, 33, 103, 110, 175, 60, 175, 99, 120, 50, 100, 260, 85, 93, 40, 39, 85, 75, 76, 40, 50, 69, 108, 119, 32, 88, 60, 130, 168, 60, 40, 179, 350, 50, 70, 77, 189, 195, 72, 189, 524, 78, 40, 210, 95, 79, 60, 145, 80, 70, 65, 74, 119, 85, 45, 90, 100, 40, 550, 39, 60, 27, 75, 60, 45, 100, 130, 79, 90, 79, 75, 58, 75, 110, 180, 65, 67, 99, 80, 135, 50, 130, 130, 35, 75, 60, 58, 208, 75, 70, 295, 150, 65, 175, 175, 100, 250, 187, 80, 70, 115, 185, 260, 175, 140, 80, 259, 120, 108, 90, 125, 62, 47, 99, 60, 50, 45, 70, 60, 59, 50, 95, 59, 80, 169, 120, 40, 105, 79, 90, 72, 32, 199, 45, 65, 179, 60, 80, 120, 75, 100, 45, 125, 50, 98, 109, 85, 50, 125, 110, 79, 100, 58, 80, 259, 62, 95, 20, 70, 125, 150, 150, 70, 95, 239, 199, 33, 40, 89, 100, 80, 58, 85, 45, 127, 11, 209, 259, 120, 45, 298, 55, 58, 80, 149, 159, 60, 279, 83, 90, 75, 138, 66, 199, 400, 65, 50, 89, 52, 70, 139, 269, 91, 70, 68, 200, 130, 70, 66, 50, 45, 48, 125, 58, 59, 139, 239, 200, 72, 128, 269, 230, 120, 70, 50, 85, 150, 80, 67, 45, 40, 69, 55, 180, 279, 50, 25, 60, 75, 28, 75, 129, 50, 85, 329, 140, 295, 240, 113, 195, 179, 146, 259, 89, 459, 124, 150, 85, 100, 150], \"xaxis\": \"x\", \"yaxis\": \"y\"}],\n",
              "                        {\"barmode\": \"overlay\", \"legend\": {\"tracegroupgap\": 0}, \"template\": {\"data\": {\"bar\": [{\"error_x\": {\"color\": \"#2a3f5f\"}, \"error_y\": {\"color\": \"#2a3f5f\"}, \"marker\": {\"line\": {\"color\": \"#E5ECF6\", \"width\": 0.5}}, \"type\": \"bar\"}], \"barpolar\": [{\"marker\": {\"line\": {\"color\": \"#E5ECF6\", \"width\": 0.5}}, \"type\": \"barpolar\"}], \"carpet\": [{\"aaxis\": {\"endlinecolor\": \"#2a3f5f\", \"gridcolor\": \"white\", \"linecolor\": \"white\", \"minorgridcolor\": \"white\", \"startlinecolor\": \"#2a3f5f\"}, \"baxis\": {\"endlinecolor\": \"#2a3f5f\", \"gridcolor\": \"white\", \"linecolor\": \"white\", \"minorgridcolor\": \"white\", \"startlinecolor\": \"#2a3f5f\"}, \"type\": \"carpet\"}], \"choropleth\": [{\"colorbar\": {\"outlinewidth\": 0, \"ticks\": \"\"}, \"type\": \"choropleth\"}], \"contour\": [{\"colorbar\": {\"outlinewidth\": 0, \"ticks\": \"\"}, \"colorscale\": [[0.0, \"#0d0887\"], [0.1111111111111111, \"#46039f\"], [0.2222222222222222, \"#7201a8\"], [0.3333333333333333, \"#9c179e\"], [0.4444444444444444, \"#bd3786\"], [0.5555555555555556, \"#d8576b\"], [0.6666666666666666, \"#ed7953\"], [0.7777777777777778, \"#fb9f3a\"], [0.8888888888888888, \"#fdca26\"], [1.0, \"#f0f921\"]], \"type\": \"contour\"}], \"contourcarpet\": [{\"colorbar\": {\"outlinewidth\": 0, \"ticks\": \"\"}, \"type\": \"contourcarpet\"}], \"heatmap\": [{\"colorbar\": {\"outlinewidth\": 0, \"ticks\": \"\"}, \"colorscale\": [[0.0, \"#0d0887\"], [0.1111111111111111, \"#46039f\"], [0.2222222222222222, \"#7201a8\"], [0.3333333333333333, \"#9c179e\"], [0.4444444444444444, \"#bd3786\"], [0.5555555555555556, \"#d8576b\"], [0.6666666666666666, \"#ed7953\"], [0.7777777777777778, \"#fb9f3a\"], [0.8888888888888888, \"#fdca26\"], [1.0, \"#f0f921\"]], \"type\": \"heatmap\"}], \"heatmapgl\": [{\"colorbar\": {\"outlinewidth\": 0, \"ticks\": \"\"}, \"colorscale\": [[0.0, \"#0d0887\"], [0.1111111111111111, \"#46039f\"], [0.2222222222222222, \"#7201a8\"], [0.3333333333333333, \"#9c179e\"], [0.4444444444444444, \"#bd3786\"], [0.5555555555555556, \"#d8576b\"], [0.6666666666666666, \"#ed7953\"], [0.7777777777777778, \"#fb9f3a\"], [0.8888888888888888, \"#fdca26\"], [1.0, \"#f0f921\"]], \"type\": \"heatmapgl\"}], \"histogram\": [{\"marker\": {\"colorbar\": {\"outlinewidth\": 0, \"ticks\": \"\"}}, \"type\": \"histogram\"}], \"histogram2d\": [{\"colorbar\": {\"outlinewidth\": 0, \"ticks\": \"\"}, \"colorscale\": [[0.0, \"#0d0887\"], [0.1111111111111111, \"#46039f\"], [0.2222222222222222, \"#7201a8\"], [0.3333333333333333, \"#9c179e\"], [0.4444444444444444, \"#bd3786\"], [0.5555555555555556, \"#d8576b\"], [0.6666666666666666, \"#ed7953\"], [0.7777777777777778, \"#fb9f3a\"], [0.8888888888888888, \"#fdca26\"], [1.0, \"#f0f921\"]], \"type\": \"histogram2d\"}], \"histogram2dcontour\": [{\"colorbar\": {\"outlinewidth\": 0, \"ticks\": \"\"}, \"colorscale\": [[0.0, \"#0d0887\"], [0.1111111111111111, \"#46039f\"], [0.2222222222222222, \"#7201a8\"], [0.3333333333333333, \"#9c179e\"], [0.4444444444444444, \"#bd3786\"], [0.5555555555555556, \"#d8576b\"], [0.6666666666666666, \"#ed7953\"], [0.7777777777777778, \"#fb9f3a\"], [0.8888888888888888, \"#fdca26\"], [1.0, \"#f0f921\"]], \"type\": \"histogram2dcontour\"}], \"mesh3d\": [{\"colorbar\": {\"outlinewidth\": 0, \"ticks\": \"\"}, \"type\": \"mesh3d\"}], \"parcoords\": [{\"line\": {\"colorbar\": {\"outlinewidth\": 0, \"ticks\": \"\"}}, \"type\": \"parcoords\"}], \"pie\": [{\"automargin\": true, \"type\": \"pie\"}], \"scatter\": [{\"marker\": {\"colorbar\": {\"outlinewidth\": 0, \"ticks\": \"\"}}, \"type\": \"scatter\"}], \"scatter3d\": [{\"line\": {\"colorbar\": {\"outlinewidth\": 0, \"ticks\": \"\"}}, \"marker\": {\"colorbar\": {\"outlinewidth\": 0, \"ticks\": \"\"}}, \"type\": \"scatter3d\"}], \"scattercarpet\": [{\"marker\": {\"colorbar\": {\"outlinewidth\": 0, \"ticks\": \"\"}}, \"type\": \"scattercarpet\"}], \"scattergeo\": [{\"marker\": {\"colorbar\": {\"outlinewidth\": 0, \"ticks\": \"\"}}, \"type\": \"scattergeo\"}], \"scattergl\": [{\"marker\": {\"colorbar\": {\"outlinewidth\": 0, \"ticks\": \"\"}}, \"type\": \"scattergl\"}], \"scattermapbox\": [{\"marker\": {\"colorbar\": {\"outlinewidth\": 0, \"ticks\": \"\"}}, \"type\": \"scattermapbox\"}], \"scatterpolar\": [{\"marker\": {\"colorbar\": {\"outlinewidth\": 0, \"ticks\": \"\"}}, \"type\": \"scatterpolar\"}], \"scatterpolargl\": [{\"marker\": {\"colorbar\": {\"outlinewidth\": 0, \"ticks\": \"\"}}, \"type\": \"scatterpolargl\"}], \"scatterternary\": [{\"marker\": {\"colorbar\": {\"outlinewidth\": 0, \"ticks\": \"\"}}, \"type\": \"scatterternary\"}], \"surface\": [{\"colorbar\": {\"outlinewidth\": 0, \"ticks\": \"\"}, \"colorscale\": [[0.0, \"#0d0887\"], [0.1111111111111111, \"#46039f\"], [0.2222222222222222, \"#7201a8\"], [0.3333333333333333, \"#9c179e\"], [0.4444444444444444, \"#bd3786\"], [0.5555555555555556, \"#d8576b\"], [0.6666666666666666, \"#ed7953\"], [0.7777777777777778, \"#fb9f3a\"], [0.8888888888888888, \"#fdca26\"], [1.0, \"#f0f921\"]], \"type\": \"surface\"}], \"table\": [{\"cells\": {\"fill\": {\"color\": \"#EBF0F8\"}, \"line\": {\"color\": \"white\"}}, \"header\": {\"fill\": {\"color\": \"#C8D4E3\"}, \"line\": {\"color\": \"white\"}}, \"type\": \"table\"}]}, \"layout\": {\"annotationdefaults\": {\"arrowcolor\": \"#2a3f5f\", \"arrowhead\": 0, \"arrowwidth\": 1}, \"coloraxis\": {\"colorbar\": {\"outlinewidth\": 0, \"ticks\": \"\"}}, \"colorscale\": {\"diverging\": [[0, \"#8e0152\"], [0.1, \"#c51b7d\"], [0.2, \"#de77ae\"], [0.3, \"#f1b6da\"], [0.4, \"#fde0ef\"], [0.5, \"#f7f7f7\"], [0.6, \"#e6f5d0\"], [0.7, \"#b8e186\"], [0.8, \"#7fbc41\"], [0.9, \"#4d9221\"], [1, \"#276419\"]], \"sequential\": [[0.0, \"#0d0887\"], [0.1111111111111111, \"#46039f\"], [0.2222222222222222, \"#7201a8\"], [0.3333333333333333, \"#9c179e\"], [0.4444444444444444, \"#bd3786\"], [0.5555555555555556, \"#d8576b\"], [0.6666666666666666, \"#ed7953\"], [0.7777777777777778, \"#fb9f3a\"], [0.8888888888888888, \"#fdca26\"], [1.0, \"#f0f921\"]], \"sequentialminus\": [[0.0, \"#0d0887\"], [0.1111111111111111, \"#46039f\"], [0.2222222222222222, \"#7201a8\"], [0.3333333333333333, \"#9c179e\"], [0.4444444444444444, \"#bd3786\"], [0.5555555555555556, \"#d8576b\"], [0.6666666666666666, \"#ed7953\"], [0.7777777777777778, \"#fb9f3a\"], [0.8888888888888888, \"#fdca26\"], [1.0, \"#f0f921\"]]}, \"colorway\": [\"#636efa\", \"#EF553B\", \"#00cc96\", \"#ab63fa\", \"#FFA15A\", \"#19d3f3\", \"#FF6692\", \"#B6E880\", \"#FF97FF\", \"#FECB52\"], \"font\": {\"color\": \"#2a3f5f\"}, \"geo\": {\"bgcolor\": \"white\", \"lakecolor\": \"white\", \"landcolor\": \"#E5ECF6\", \"showlakes\": true, \"showland\": true, \"subunitcolor\": \"white\"}, \"hoverlabel\": {\"align\": \"left\"}, \"hovermode\": \"closest\", \"mapbox\": {\"style\": \"light\"}, \"paper_bgcolor\": \"white\", \"plot_bgcolor\": \"#E5ECF6\", \"polar\": {\"angularaxis\": {\"gridcolor\": \"white\", \"linecolor\": \"white\", \"ticks\": \"\"}, \"bgcolor\": \"#E5ECF6\", \"radialaxis\": {\"gridcolor\": \"white\", \"linecolor\": \"white\", \"ticks\": \"\"}}, \"scene\": {\"xaxis\": {\"backgroundcolor\": \"#E5ECF6\", \"gridcolor\": \"white\", \"gridwidth\": 2, \"linecolor\": \"white\", \"showbackground\": true, \"ticks\": \"\", \"zerolinecolor\": \"white\"}, \"yaxis\": {\"backgroundcolor\": \"#E5ECF6\", \"gridcolor\": \"white\", \"gridwidth\": 2, \"linecolor\": \"white\", \"showbackground\": true, \"ticks\": \"\", \"zerolinecolor\": \"white\"}, \"zaxis\": {\"backgroundcolor\": \"#E5ECF6\", \"gridcolor\": \"white\", \"gridwidth\": 2, \"linecolor\": \"white\", \"showbackground\": true, \"ticks\": \"\", \"zerolinecolor\": \"white\"}}, \"shapedefaults\": {\"line\": {\"color\": \"#2a3f5f\"}}, \"ternary\": {\"aaxis\": {\"gridcolor\": \"white\", \"linecolor\": \"white\", \"ticks\": \"\"}, \"baxis\": {\"gridcolor\": \"white\", \"linecolor\": \"white\", \"ticks\": \"\"}, \"bgcolor\": \"#E5ECF6\", \"caxis\": {\"gridcolor\": \"white\", \"linecolor\": \"white\", \"ticks\": \"\"}}, \"title\": {\"x\": 0.05}, \"xaxis\": {\"automargin\": true, \"gridcolor\": \"white\", \"linecolor\": \"white\", \"ticks\": \"\", \"title\": {\"standoff\": 15}, \"zerolinecolor\": \"white\", \"zerolinewidth\": 2}, \"yaxis\": {\"automargin\": true, \"gridcolor\": \"white\", \"linecolor\": \"white\", \"ticks\": \"\", \"title\": {\"standoff\": 15}, \"zerolinecolor\": \"white\", \"zerolinewidth\": 2}}}, \"title\": {\"text\": \"Distribution of Boston Airbnb Prices by Top 6 Neighborhoods\"}, \"xaxis\": {\"anchor\": \"y\", \"domain\": [0.0, 1.0], \"range\": [0, 500], \"title\": {\"text\": \"Price Per Night, $\"}}, \"yaxis\": {\"anchor\": \"x\", \"domain\": [0.0, 1.0], \"title\": {\"text\": \"count\"}}},\n",
              "                        {\"responsive\": true}\n",
              "                    ).then(function(){\n",
              "                            \n",
              "var gd = document.getElementById('27e112ce-e46e-4ecf-8de4-80d0a065b4b8');\n",
              "var x = new MutationObserver(function (mutations, observer) {{\n",
              "        var display = window.getComputedStyle(gd).display;\n",
              "        if (!display || display === 'none') {{\n",
              "            console.log([gd, 'removed!']);\n",
              "            Plotly.purge(gd);\n",
              "            observer.disconnect();\n",
              "        }}\n",
              "}});\n",
              "\n",
              "// Listen for the removal of the full notebook cells\n",
              "var notebookContainer = gd.closest('#notebook-container');\n",
              "if (notebookContainer) {{\n",
              "    x.observe(notebookContainer, {childList: true});\n",
              "}}\n",
              "\n",
              "// Listen for the clearing of the current output cell\n",
              "var outputEl = gd.closest('.output');\n",
              "if (outputEl) {{\n",
              "    x.observe(outputEl, {childList: true});\n",
              "}}\n",
              "\n",
              "                        })\n",
              "                };\n",
              "                \n",
              "            </script>\n",
              "        </div>\n",
              "</body>\n",
              "</html>"
            ]
          },
          "metadata": {}
        }
      ]
    },
    {
      "cell_type": "markdown",
      "metadata": {
        "id": "cqEpfWHQQRR6"
      },
      "source": [
        "### Figure 3"
      ]
    },
    {
      "cell_type": "code",
      "metadata": {
        "colab": {
          "base_uri": "https://localhost:8080/",
          "height": 542
        },
        "id": "dR12SyhaJTsd",
        "outputId": "8f389b67-5f29-42de-c0f1-e77e587907aa"
      },
      "source": [
        "fig3 = px.scatter_mapbox(boston_neighborhoods, lat='latitude',lon='longitude', color='neighborhood', opacity=0.4,\n",
        "                        mapbox_style=\"carto-positron\", color_discrete_sequence = ['tomato','palevioletred', 'goldenrod',\n",
        "                                                                                   'olivedrab', 'dodgerblue', 'mediumslateblue'],\n",
        "                        hover_name='name', hover_data=['price', 'room_type','review_scores_rating'],\n",
        "                        labels = {'latitude':'Latitude',\n",
        "                                 'longitude':'Longitude',\n",
        "                                 'room_type': 'Room Type',\n",
        "                                 'price':'Price Per Night',\n",
        "                                 'neighborhood':'Neighborhood',\n",
        "                                 'review_scores_rating':'Rating (out of 100)'},\n",
        "                        zoom=13, title='Boston AirBnB Map',\n",
        "                        size='price')\n",
        "fig3.update_layout(mapbox_style=\"carto-positron\")\n",
        "fig3.update_layout(margin={\"r\":0,\"t\":0,\"l\":0,\"b\":0})\n",
        "fig3"
      ],
      "execution_count": null,
      "outputs": [
        {
          "output_type": "display_data",
          "data": {
            "text/html": [
              "<html>\n",
              "<head><meta charset=\"utf-8\" /></head>\n",
              "<body>\n",
              "    <div>\n",
              "            <script src=\"https://cdnjs.cloudflare.com/ajax/libs/mathjax/2.7.5/MathJax.js?config=TeX-AMS-MML_SVG\"></script><script type=\"text/javascript\">if (window.MathJax) {MathJax.Hub.Config({SVG: {font: \"STIX-Web\"}});}</script>\n",
              "                <script type=\"text/javascript\">window.PlotlyConfig = {MathJaxConfig: 'local'};</script>\n",
              "        <script src=\"https://cdn.plot.ly/plotly-latest.min.js\"></script>    \n",
              "            <div id=\"f47c738a-d2a7-42ce-ae16-8f9c050145cf\" class=\"plotly-graph-div\" style=\"height:525px; width:100%;\"></div>\n",
              "            <script type=\"text/javascript\">\n",
              "                \n",
              "                    window.PLOTLYENV=window.PLOTLYENV || {};\n",
              "                    \n",
              "                if (document.getElementById(\"f47c738a-d2a7-42ce-ae16-8f9c050145cf\")) {\n",
              "                    Plotly.newPlot(\n",
              "                        'f47c738a-d2a7-42ce-ae16-8f9c050145cf',\n",
              "                        [{\"customdata\": [[140, \"Entire home/apt\", null], [70, \"Private room\", 93.0], [95, \"Private room\", 93.0], [55, \"Private room\", 100.0], [80, \"Private room\", 99.0], [120, \"Private room\", 97.0], [65, \"Private room\", 100.0], [100, \"Private room\", 97.0], [65, \"Private room\", 96.0], [60, \"Private room\", null], [63, \"Private room\", 73.0], [75, \"Private room\", 100.0], [65, \"Private room\", 90.0], [110, \"Private room\", 94.0], [46, \"Private room\", 82.0], [75, \"Private room\", null], [62, \"Private room\", 98.0], [69, \"Private room\", null], [69, \"Private room\", 100.0], [73, \"Private room\", 99.0], [85, \"Private room\", 99.0], [120, \"Private room\", 96.0], [125, \"Private room\", 100.0], [70, \"Private room\", 93.0], [100, \"Private room\", null], [61, \"Private room\", 97.0], [125, \"Private room\", 97.0], [100, \"Private room\", 88.0], [27, \"Private room\", null], [80, \"Private room\", 98.0], [85, \"Private room\", 100.0], [75, \"Private room\", 91.0], [57, \"Private room\", 20.0], [100, \"Private room\", null], [40, \"Private room\", null], [100, \"Private room\", 98.0], [70, \"Private room\", 93.0], [190, \"Entire home/apt\", 95.0], [149, \"Entire home/apt\", 95.0], [168, \"Entire home/apt\", 94.0], [205, \"Entire home/apt\", 87.0], [65, \"Private room\", 92.0], [75, \"Entire home/apt\", 92.0], [117, \"Entire home/apt\", null], [429, \"Entire home/apt\", 91.0], [95, \"Private room\", 95.0], [69, \"Private room\", null], [85, \"Private room\", 94.0], [69, \"Private room\", 100.0], [165, \"Entire home/apt\", 93.0], [150, \"Entire home/apt\", 90.0], [267, \"Entire home/apt\", null], [87, \"Private room\", 97.0], [62, \"Private room\", 96.0], [110, \"Entire home/apt\", 97.0], [250, \"Entire home/apt\", 90.0], [150, \"Entire home/apt\", 97.0], [300, \"Entire home/apt\", 93.0], [119, \"Entire home/apt\", 100.0], [175, \"Entire home/apt\", 99.0], [195, \"Entire home/apt\", 96.0], [145, \"Entire home/apt\", 90.0], [200, \"Entire home/apt\", 92.0], [90, \"Private room\", 99.0], [210, \"Entire home/apt\", 94.0], [75, \"Private room\", 100.0], [46, \"Private room\", 90.0], [75, \"Private room\", 100.0], [500, \"Entire home/apt\", 89.0], [60, \"Private room\", 90.0], [130, \"Entire home/apt\", 90.0], [190, \"Entire home/apt\", 88.0], [100, \"Private room\", 91.0], [450, \"Entire home/apt\", 100.0], [399, \"Entire home/apt\", 99.0], [350, \"Entire home/apt\", 98.0], [200, \"Entire home/apt\", 98.0], [99, \"Private room\", 100.0], [295, \"Entire home/apt\", null], [107, \"Private room\", 81.0], [69, \"Private room\", 96.0], [76, \"Private room\", 92.0], [75, \"Entire home/apt\", 95.0], [55, \"Private room\", 78.0], [65, \"Private room\", 100.0], [59, \"Private room\", null], [88, \"Private room\", 96.0], [164, \"Entire home/apt\", null], [90, \"Entire home/apt\", 93.0], [185, \"Entire home/apt\", 100.0], [80, \"Private room\", null], [105, \"Private room\", 91.0], [90, \"Private room\", 95.0], [100, \"Entire home/apt\", 97.0], [100, \"Shared room\", 98.0], [200, \"Entire home/apt\", 100.0], [300, \"Entire home/apt\", 100.0], [60, \"Private room\", null], [319, \"Entire home/apt\", 100.0], [85, \"Private room\", 96.0], [70, \"Private room\", 74.0], [50, \"Private room\", 60.0], [119, \"Entire home/apt\", 86.0], [125, \"Entire home/apt\", 100.0], [53, \"Private room\", 80.0], [125, \"Private room\", 95.0], [199, \"Entire home/apt\", 100.0], [205, \"Entire home/apt\", 97.0], [114, \"Entire home/apt\", 95.0], [75, \"Private room\", 98.0], [185, \"Entire home/apt\", 86.0], [75, \"Private room\", 97.0], [180, \"Entire home/apt\", null], [70, \"Shared room\", 96.0], [150, \"Entire home/apt\", 96.0], [120, \"Entire home/apt\", 96.0], [92, \"Private room\", 100.0], [84, \"Private room\", 100.0], [200, \"Entire home/apt\", 89.0], [115, \"Entire home/apt\", 96.0], [49, \"Shared room\", null], [95, \"Private room\", 98.0], [275, \"Entire home/apt\", 100.0], [230, \"Entire home/apt\", 97.0], [130, \"Entire home/apt\", 99.0], [192, \"Entire home/apt\", 93.0], [175, \"Entire home/apt\", 85.0], [70, \"Private room\", 80.0], [65, \"Private room\", 100.0], [100, \"Private room\", 100.0], [185, \"Entire home/apt\", null], [250, \"Entire home/apt\", 87.0], [110, \"Entire home/apt\", 93.0], [150, \"Entire home/apt\", null], [168, \"Entire home/apt\", 89.0], [60, \"Private room\", 98.0], [59, \"Private room\", 90.0], [60, \"Private room\", 91.0], [145, \"Entire home/apt\", 94.0], [80, \"Private room\", 100.0], [114, \"Entire home/apt\", 97.0], [170, \"Private room\", 80.0], [240, \"Entire home/apt\", 95.0], [150, \"Entire home/apt\", 95.0], [69, \"Private room\", 98.0], [80, \"Private room\", 95.0], [85, \"Private room\", 97.0], [75, \"Private room\", 92.0], [150, \"Entire home/apt\", 80.0], [70, \"Private room\", 90.0], [80, \"Private room\", 96.0], [225, \"Entire home/apt\", null], [225, \"Entire home/apt\", 100.0], [178, \"Entire home/apt\", 100.0], [175, \"Entire home/apt\", 94.0], [109, \"Entire home/apt\", 100.0], [383, \"Entire home/apt\", 94.0], [90, \"Private room\", null], [99, \"Entire home/apt\", 97.0], [50, \"Private room\", 91.0], [300, \"Entire home/apt\", 93.0], [184, \"Entire home/apt\", null], [80, \"Private room\", 92.0], [85, \"Private room\", 97.0], [150, \"Entire home/apt\", 98.0], [100, \"Entire home/apt\", 100.0], [100, \"Private room\", 93.0], [84, \"Private room\", 97.0], [130, \"Entire home/apt\", 98.0], [76, \"Private room\", 95.0], [100, \"Private room\", 100.0], [70, \"Private room\", 100.0], [125, \"Entire home/apt\", 96.0], [70, \"Private room\", 94.0], [75, \"Private room\", null], [170, \"Entire home/apt\", 98.0], [95, \"Private room\", 100.0], [70, \"Private room\", 100.0], [299, \"Entire home/apt\", null], [70, \"Private room\", null], [155, \"Entire home/apt\", null], [250, \"Entire home/apt\", 100.0], [115, \"Private room\", 95.0], [70, \"Private room\", 92.0], [135, \"Entire home/apt\", 93.0], [120, \"Private room\", 100.0], [130, \"Entire home/apt\", 100.0], [29, \"Private room\", 88.0], [68, \"Private room\", 91.0], [300, \"Entire home/apt\", 97.0], [50, \"Private room\", 95.0], [119, \"Entire home/apt\", 90.0], [46, \"Private room\", 75.0], [295, \"Entire home/apt\", null], [130, \"Entire home/apt\", 79.0], [180, \"Entire home/apt\", 100.0], [300, \"Entire home/apt\", null], [200, \"Entire home/apt\", null], [136, \"Entire home/apt\", 92.0], [100, \"Entire home/apt\", 96.0], [88, \"Private room\", 100.0], [95, \"Private room\", 93.0], [135, \"Entire home/apt\", 80.0], [135, \"Entire home/apt\", 98.0], [75, \"Private room\", 97.0], [189, \"Entire home/apt\", 96.0], [75, \"Private room\", 98.0], [55, \"Private room\", 97.0], [125, \"Private room\", 86.0], [88, \"Private room\", 96.0], [72, \"Private room\", 80.0], [22, \"Shared room\", 60.0], [90, \"Private room\", 90.0], [150, \"Private room\", null], [82, \"Private room\", 95.0], [84, \"Private room\", 94.0], [160, \"Entire home/apt\", 94.0], [110, \"Entire home/apt\", 100.0], [150, \"Entire home/apt\", 98.0], [80, \"Private room\", 100.0], [225, \"Entire home/apt\", 100.0], [65, \"Private room\", 96.0], [275, \"Entire home/apt\", 93.0], [300, \"Entire home/apt\", 100.0], [185, \"Entire home/apt\", 100.0], [175, \"Entire home/apt\", 94.0], [175, \"Entire home/apt\", null], [75, \"Private room\", 97.0], [60, \"Private room\", 87.0], [100, \"Entire home/apt\", 80.0], [75, \"Private room\", 100.0], [94, \"Entire home/apt\", 95.0], [85, \"Private room\", 98.0], [83, \"Private room\", 98.0], [75, \"Private room\", 94.0], [168, \"Entire home/apt\", 88.0], [60, \"Private room\", 96.0], [135, \"Entire home/apt\", 94.0], [119, \"Private room\", 97.0], [275, \"Entire home/apt\", null], [130, \"Entire home/apt\", 99.0], [750, \"Entire home/apt\", 100.0], [160, \"Entire home/apt\", null], [65, \"Private room\", 100.0], [77, \"Private room\", 100.0], [71, \"Private room\", 96.0], [200, \"Entire home/apt\", 100.0], [55, \"Private room\", 100.0], [95, \"Private room\", null], [220, \"Entire home/apt\", 94.0], [54, \"Private room\", null], [72, \"Private room\", 92.0], [70, \"Private room\", 96.0], [135, \"Entire home/apt\", 96.0], [300, \"Entire home/apt\", 100.0], [110, \"Private room\", 96.0], [70, \"Private room\", 96.0], [75, \"Private room\", 95.0], [70, \"Private room\", 90.0], [88, \"Private room\", null], [480, \"Entire home/apt\", 97.0], [550, \"Entire home/apt\", 97.0], [180, \"Entire home/apt\", 94.0], [325, \"Entire home/apt\", 100.0], [65, \"Private room\", null], [290, \"Entire home/apt\", 98.0], [159, \"Entire home/apt\", 94.0], [200, \"Private room\", 99.0], [95, \"Private room\", 98.0], [65, \"Entire home/apt\", 85.0], [99, \"Entire home/apt\", 98.0], [93, \"Private room\", 95.0], [500, \"Entire home/apt\", 100.0], [295, \"Entire home/apt\", 88.0], [450, \"Entire home/apt\", 98.0], [150, \"Entire home/apt\", 100.0], [95, \"Entire home/apt\", null], [150, \"Entire home/apt\", 99.0], [399, \"Entire home/apt\", 95.0], [71, \"Private room\", 93.0], [500, \"Entire home/apt\", null], [70, \"Private room\", 100.0], [125, \"Private room\", null], [85, \"Private room\", 95.0], [61, \"Private room\", 97.0], [250, \"Entire home/apt\", 93.0], [56, \"Private room\", 90.0], [200, \"Shared room\", 80.0], [220, \"Entire home/apt\", 94.0], [80, \"Private room\", 100.0], [60, \"Private room\", 95.0], [125, \"Private room\", 99.0], [500, \"Entire home/apt\", null], [149, \"Entire home/apt\", 100.0], [65, \"Private room\", 100.0], [99, \"Entire home/apt\", 94.0], [67, \"Private room\", 100.0], [180, \"Entire home/apt\", 100.0], [170, \"Entire home/apt\", 100.0], [115, \"Entire home/apt\", 100.0], [235, \"Entire home/apt\", null], [89, \"Private room\", 95.0], [110, \"Private room\", 95.0], [84, \"Private room\", 93.0], [125, \"Private room\", null], [130, \"Entire home/apt\", null], [65, \"Private room\", 100.0], [86, \"Private room\", 100.0], [75, \"Entire home/apt\", 100.0], [255, \"Entire home/apt\", 90.0], [145, \"Entire home/apt\", 96.0], [199, \"Entire home/apt\", 100.0], [91, \"Private room\", 96.0], [81, \"Private room\", 91.0], [60, \"Private room\", 96.0], [99, \"Private room\", 99.0], [88, \"Private room\", 96.0], [225, \"Entire home/apt\", 100.0], [50, \"Private room\", 70.0], [225, \"Entire home/apt\", 100.0], [48, \"Private room\", 96.0], [37, \"Entire home/apt\", null], [85, \"Private room\", 95.0], [525, \"Entire home/apt\", 70.0], [100, \"Private room\", 100.0], [75, \"Private room\", 98.0], [25, \"Private room\", 80.0], [50, \"Private room\", 98.0], [49, \"Private room\", 85.0], [125, \"Private room\", null], [180, \"Entire home/apt\", null], [60, \"Private room\", 96.0], [85, \"Private room\", 82.0], [85, \"Private room\", 96.0], [64, \"Private room\", 97.0], [725, \"Entire home/apt\", 96.0], [75, \"Private room\", 100.0], [119, \"Entire home/apt\", 100.0], [110, \"Entire home/apt\", 97.0], [179, \"Entire home/apt\", 83.0], [175, \"Entire home/apt\", 90.0], [125, \"Entire home/apt\", 91.0], [220, \"Entire home/apt\", 96.0]], \"hoverlabel\": {\"namelength\": 0}, \"hovertemplate\": \"<b>%{hovertext}</b><br><br>Neighborhood=Jamaica Plain<br>Price Per Night=%{customdata[0]}<br>Room Type=%{customdata[1]}<br>Rating (out of 100)=%{customdata[2]}<br>Latitude=%{lat}<br>Longitude=%{lon}\", \"hovertext\": [\"Gorgeous Boston Loft Style Condo!\", \"Private room in peaceful space\", \"Loft bedroom, sleeps 2\", \"Part of a Large Condo Jamaica Plain\", \"Beautiful and sunny condo \", \"Sunlit room with private bath\", \"Bed, Bath and Beyond III in JP\", \"Private studio by subway w/parking\", \"Spacious room convenient to subway\", \"Artistic House Next To Jamaica Pond\", \"Cozy Room off Centre St, JP!\", \"Private floor in Jamaica Plain home\", \"Spacious room in secluded townhouse\", \"Charming Victorian near T\", \"Beautiful, Expansive Space in JP\", \"Sunny room, colorful artist home\", \"Cozy Room + Private Bath, JP Boston\", \"Lovely room with private half bath\", \"Beautiful, airy room in JP\", \"Cozy JP bedroom near Orange Line T\", \"Great Boston neighborhood Jamaica PLain\", \"Qn BR/Private Bath/Superhost/JP Ctr\", \"Mark P.Coleman\", \"JP Gem\", \"Cozy, comfortable, colorful room near orange line\", \"The Blue Room in JP\", \"Parking/Pvt Bath/Hip Neighborhood!\", \"Cozy den, private apt/kitchen/bath\", \"Private Room near Forest Hills T Stop\", \"Sunny and quiet private room close to subway (JP)\", \"Room in beautiful JP home\", \"Convenient green Victorian\", \"Cozy room in boston neighborhood\", \"Nice private room, full size bed\", \"Cozy Neighborhood Spot\", \"Peaceful room, garden oasis\", \"Lg sunny room w/private entrance\", \"Spacious 2 bedroom apartment (free parking)\", \"Beautiful bright corner unit!ioc\", \"Clean Apartment in Boston\", \"Stay in Boston's top neighborhood\", \"Bright room with queen sized bed\", \"Spacious home in Jamaica Plain\", \"3rd floor condo, 2 bedrooms, 2 decks\", \"4 bedroom Victorian Condo unit\", \"Lovely bedroom/use of whole apt.\", \"The Blue Grotto\", \"A suburban feel in the city\", \"Stay in Boston's best neighborhood!\", \"Elegant studio,kitchn, soaking tub\", \"Priv apt w/2 Beds 1 bath close to Medical/Downtown\", \"Woodland Sanctuary next to Orange Line T\", \"Cozy bedroom near train, bus, parks\", \"Quiet & Sunny Room Near Subway\", \"Lovely one bedroom Apt\", \"Spacious Apartment in Jamaica Plain\", \"Pondside Paradise with Piano\", \"Convenient, Sunny 3b/2bth w/Parking\", \"Tranquil Treetop Loft\", \"Historic Carriage House, a peaceful city oasis\", \"Large, sunny, cozy home w/character\", \"Boston 2 bedroom top floor condo w/balcony!\", \"Charming 2BD Across from Arboretum\", \"Hidden Gem in Jamaica Plain, Boston\", \"JP Whole awesome apartment\", \"Private Room in Urban DIY House\", \"Cozy room in Jamaica Plain\", \"Sunny, Cozy and Convenient JP Home!\", \"Vintage Apt With 3 Large Bedrooms\", \"Large and Cozy Boston Bedroom\", \"Private Apartment!\", \"Sunny apartment in Boston hosts 6\", \"One Private Bedroom in J.P.\", \"3+ bedroom house - center of JP\", \"Luxury Apt near Restaurants&Pond&T\", \"Designers Haven: II - whole apt!!!\", \"Spacious 2BD w/ Balconies & Parking\", \"\\\"The Sheridan\\\" JP, Boston\", \"Sumnerhill.com\", \"Fully Renovated Room in JP\", \"Restful space with morning light\", \"Private bedroom in heart of JP\", \"Welcome to cozy groundfloor 2rm apt\", \"Cozy Sunroom in Secluded Townhouse\", \"Twins in a peaceful room.\", \"Room in the heart of JP\", \"Terrestrial Paradise of Eternal Love\", \"3BR + Office Single Family in JP near Monument\", \"Private studio w/ private entrance\", \"2BD Pond-side condo in JP \", \"Tranquil room in great spot!\", \"Quiet, Private Room with Comfy Bed\", \"Private Studio- Minutes from T!\", \"Treetop Haven in the City\", \"Funky Alcove for 2/Superhost/JP Ctr\", \"Quiet, Spacious 2BD in Boston's JP!\", \"Large Sunny Apartment in JP\", \"Beautiful Home in Jamaica Plain, MA\", \"3 BR Apartment with Kitchenette\", \"A quiet, green oasis in funky JP! \", \"Comfortable Private Bedroom for 2\", \"Excellent Room! Right by the Subway\", \"Charming Boston Apartment\", \"Cozy 1 Bd Artist's Sanctuary\", \"Peaceful/Fun area, 4 minute walk to \\\"T\\\"\", \"Treetop Room in Sunny Pondside Home\", \"CITY HOME COUNTRY FEEL, Boston, MA USA\", \"Lovely home in Jamaica Plain Boston\", \"Treetop 2+BR Condo w/ Guest Hammock\", \"Room in Pondside Apt!\", \"One Bedroom Studio Garden Apartment\", \"Queen Bed/Near Subway/Free Passes\", \"Beautiful Modern Condo\", \"Super Cozy Apt - An Artist's Home\", \"Charming  Apartment, Jamaica Plain\", \"Treetop Jamaica Plain home\", \"Private room in great JP location!\", \"T'BEST: Priv. Bath, Deck; Subway, Parking Option\", \"Parkside Apartment- Cozy and Roomy!\", \"Centered on Centre \", \"Sofa bed in cozy, clean apartment\", \"Pvt tree top room in great location\", \"Family-Friendly Victorian Townhouse\", \"Lovely private 4 bedroom apt\", \"Light and airy separate apartment in funky JP\", \"2 bedroom Jamaica Plain Egleston Square w/ parking\", \"Beautiful Apartment in Boston!\", \"Small Cozy Room in Beautiful Place\", \"Cozy guest room. Awesome location!\", \"Family-friendly private room\", \"Charming Arboretum Area 1+ Bed/1 Ba\", \"Beautiful Victorian on Quiet Street\", \"Full One-Bedroom in Jamaica Plain\", \"Gorgeous townhouse in Boston\", \"TWO BEDROOM APARTMENT\", \"Rustic Room/Free Transit/By Subway\", \"Cozy guest room, great location!\", \"One private room in Jamaica Plain\", \"Family friendly, great location\", \"Cozy & Private Room close to city\", \"Jamaica Plain's Urban Oasis\", \"Gracious, stunning, with fireplace\", \"Boston Charm - Condo\", \"Elegant Quiet Family-Friendly 2BR\", \"Cozy guest room. Awesome location!\", \"Sunny Home in Jamaica Plain, Boston\", \"Beautiful Boston Room-Sunny!\", \"Great location, large room, and private bath.\", \"Sunny, Family-Friendly Apartment\", \"Sunny JP bedroom near Orange Line T\", \"The Roost -  Fox Room\", \"Sunny, Modern, Jamaica Plain Condo\", \"Diamond House -2- Victorian Jewel\", \"Cozy, 2 bedroom near medical area!\", \"2BR in eclectic JP neighborhood\", \"Cozy, bohemian Jamaica Plain studio\", \"Spacious 5BR Condo Near Metro\", \"Queen size bed in roomy 2 BR condo\", \"Spacious, well-located 2-bed apt\", \"Cozy Room In JP\", \"Luxury loft w/ beautiful city view\", \"Vacation Rental\", \"Priv. bath, breakfast, parking, puppy, T in hip JP\", \"Your own bedroom, sitting room and bathroom near T\", \"the apartment in the sky\", \"Colorful artist home, prime location!\", \"Quiet and comfy in Jamaica Plain\", \"Clean Comfortable Room in Modern Home Near Transit\", \"The City Cabin - 2 blocks to Subway\", \"Urban oasis, wonderful location!\", \"Private room, Boston with breakfast\", \"Lg rm in beautiful Victorian\", \"Sweet penthouse in historic Boston\", \"Private Room, near JP Center & MBTA\", \"Charming room, in hip JP near The T\", \"Sun filled modern master suite and separate den\", \"Private room & bath - Jamaica Plain\", \"A quiet and sunny room\", \"Fun Location, Beautiful & Spacious!\", \"Charming & Quiet in Jamaica Plain\", \"Entire Third Floor with private bath.\", \"French Country 2bd/2bth Heart of JP\", \"Sunny Private Room and Bath in JP\", \"JP Green House: Simple and Private\", \"JP Green House: Garden Apartment\", \"Qn BR/deck/Jacuzzi/Superhost/JP Ctr\", \"Unique Loft in Central JP Location\", \"336 Centre St Boston!\", \"Beautiful bedroom, cozy atmosphere\", \"Pondside Spacious Condo\", \"Small, sweet, single-bed near T\", \"Entire Tree-Top 1BR Condo in JP on T + Parking\", \"Idyllic Wooded Boston Neighborhood\", \"Arthouse in Historic Brewery District!\", \"Entire 2 bedroom spacious apartment\", \"Spacious & Modern in Central JP\", \"Large newly renovated apt in perfect  JP location!\", \"Family Friendly Home Away From Home\", \"Hidden gem in Jamaica Plain\", \"Cozy JP apt w/ short walk to T\", \"Jamaica Plain's PINK ROOM\", \"spacious 3rd floor loft in home\", \"Retro Cool Artist's House, Parking\", \"Sunny Private Studio Aptmt\", \"The Hedges: Sunny urban garden home\", \"Two Room Master Suite with Spa Bath\", \"Cozy JP resting place\", \"Sweet quiet room in JP condo\", \"Private room in Jamaica Plain!\", \"Earth Sanctuary of Abundant Health\", \"Clean Room in the JP Neighborhood\", \"Affordable Boston, The dream of the 90's lives.\", \"Luxurious Room includes Jacuzzi\", \"Cozy Jamaica Plain Pad\", \"Quiet and close to subway!\", \"Close to universities, hospitals\", \"Cheery skylit room w/ Queen bed\", \"Jamaica Plain condo, great location\", \"Modern and charming condo in JP.\", \"Cozy Room with Shared Bath\", \"Diamond House -3- Victorian Jewel\", \"Modern Townhouse in Hippest 'Hood\", \"Beautiful 3 BR with Great Location\", \"Rare! Boston house near everything\", \"Spacious & Charming in JP\", \"Fantastic Design, Spacious Boston\", \"Comfortable, convenient & affordable JP Apartment\", \"Sports Room/Near Subway/Free Passes\", \"Need to be cozy at the last minute\", \"2 bdrms in JP Victorian\", \"bright 3floor bedroom in a old brick city house\", \"Studio & Bath On 1st Floor in JP Boston Near Train\", \"Private Room/Bath 5mins from Green St MBTA Stop!\", \"Friendly Resting Spot/Great Transit\", \"Private rm 15' bus ride to downtown\", \"Beautiful 3 bd-2 ba  with parking.\", \"Boston Room/Free Transit/ By Subway\", \"Cozy JP Studio-Best Location!\", \"Quiet Artist's Retreat\", \"Arthouse2 Brewery District, stay in an art gallery\", \"Home Away from Home\", \"Rare! Pondside home-yours in July!\", \"Elegant 2Bdr in Victorian Home\", \"Clean, Comfortable, Convenient and Close to the T\", \"Large bedroom in Arts & Crafts Jamaica Plain home\", \"Sweet Little House in JP, Boston\", \"Dog friendly townhome w/ roof deck!\", \"Private Room in convenient location\", \"Sunny and Spacious in the heart of Hyde Square\", \"2 BR Modern Loft of Jamaica Plain\", \"A Cozy Room in Veggie Paradise!\", \"Clean apartment in trendy JP Boston\", \"Large, sunny, quiet private room near transit\", \"Urban oasis trendy JP 'hood - suite\", \"Beautiful house in Jamaica Plain\", \"Sunny musicians apt. close to T!\", \"Large Arts & Crafts style Jamaica Plain home.\", \"A serene, green oasis in funky JP! \", \"Cozy Reading Bedroom\", \"Great location! Cute guest room in Dutch gambrel\", \"Lg. Victorian Home, 7min to T\", \"Unique Find: Private home in City!\", \"2 Bdrm Apt w/ tower in JP Victorian\", \"Fab House in Hip J.P.\", \"Nice room, great house and location!\", \"Newly-renovated Apt among Trees\", \"Full beautiful house w/ parking & deck!\", \"Private Floor, Private Bath, City Location\", \"Private studio, awesome location!!\", \"The Music Box\", \"1 Bedroom Jamaica Plain\", \"The Roost-Master Suite-The Lion\", \"Large Comfortable Home in JP\", \"Gorgeous 2 bed/1 bth ideal location\", \"Lovely Single Family Colonial Home\", \"Family-friendly townhouse in JP\", \"Sunny Two-Bedroom in Boston\", \"Sunny 2 bedroom close to everything\", \"Luxury Apt off Centre St & JP Pond\", \"One Private room @ Jamaica Plain\", \"Amazing artist apartment in Boston\", \"Quiet room - Great location! \", \"Cozy artist room with porch access\", \"Private Lower Level Loft (basement)\", \"Jamaica Plain Shangri-La\", \"Lovely 2BR+ 2BA JP Cntr/Superhost\", \"Cute & Comfy in JP!\", \"Sunny Comfortable Apt in JP\", \"JP Gem near T 2BR sleeps 6! Spacious and Clean\", \"Fresh, Clean and Green Private Room\", \"Bed, Bath and Beyond II in JP\", \"Light-filled En Suite Private Space\", \"3 bedroom condo for the marathon\", \"1 BR Garden Apartment in quiet Neighborhood\", \"Elegant room, colorful artist home\", \"Studio apartment in historic Boston\", \"Spacious, modern--right next to T\", \"Wonderful home Great Neighborhood mins from Boston\", \"Quiet 2BD+ w/ parking by Stonybrook\", \"Newly remodeled pet-friendly 2 bed w/ gym by park!\", \"VICTORIAN condo in Jamaica Plain\", \"Experience an 1880s Victorian house\", \"New & comfy loft 15min T to Boston\", \"Sunny room in Boston (JP)\", \"Lovely artist room in Boston\", \"Historic family friendly in-suite apartment\", \"Next to Subway Station, very quiet\", \"Loft & Bath On Top Floor in JP Boston Near Train\", \"Great kid friendly furnished condo\", \"Comfy rooms in the hills of JP\", \"Super Studio-Private and Convenient\", \"Welcome Home! 3bed near T w parking\", \"A comfy room in the hills of JP\", \"Elegant Space in JP!\", \"Bed, Bath & Beyond in Jamaica Plain\", \"Sunlit & Beautiful in Boston's J.P. neighbourhood\", \"Forest Treasure of Bountiful Wealth\", \"Treetop Haven-Eclectic Boston Area\", \"BOSTON ROOM/FREE TRANSIT/BY SUBWAY\", \"Luxury condo in the heart of JP\", \"Cozy & Quiet Bedroom Near Subway\", \"Cozy, Funky JP Condo\", \"The Roost- The Elephant Room\", \"Sunny, Spacious and Affordable \", \"Beautiful modern condo near T\", \"A private room at Sunnyside\", \"Peaceful Room in Comfy JP Home\", \"Nice and neat room in 2 brm apt\", \"Adorable, Cozy Space in JP!\", \"Sunny apartment in JP!\", \"Cute Jamaica Plain Condo\", \"Bed, Bath & Beyond IV in JP\", \"Private Room w/Porch. A JP experien\", \"Real bed with a private bathroom\", \"Sunny Room, Spacious 1901 Victorian\", \"Amazing Design & Detail Throughout!\", \"Clean & Quiet Room in Modern Home, Near Transit\", \"Trendy JP Condo, Steps from T\", \"Beautiful 1BR in Great Location\", \"Stunning suite, historic victorian\", \"Charming Modern Home in JP!\", \"Stony Brook T Stop JP Studio\", \"Entire loft in Boston\"], \"lat\": [42.313791962580474, 42.307974813109155, 42.309356585821945, 42.316912213905745, 42.303984557617724, 42.31632875548343, 42.320022523679384, 42.31451961008171, 42.321719666668685, 42.31679060385281, 42.31951000434093, 42.3152745679209, 42.315499530265065, 42.31690480739987, 42.31189728557806, 42.31706413362148, 42.30510762836565, 42.315907278454304, 42.31265281789585, 42.315300707630975, 42.3131970326139, 42.31421511820314, 42.31256675906354, 42.316784624886786, 42.31362611091293, 42.30370464676229, 42.30334665895726, 42.29106052288582, 42.29763812447256, 42.305376789378734, 42.31449926702607, 42.31738706631696, 42.32423675203393, 42.322198384693365, 42.32284647416693, 42.31803897447978, 42.314064798157865, 42.325668119032656, 42.3248744740374, 42.32038118596349, 42.32327560623326, 42.31362383219926, 42.321577937137754, 42.32267988827825, 42.320510860484134, 42.30633268571335, 42.309920555941154, 42.30757425614119, 42.30997682845222, 42.30907389692646, 42.31357233912847, 42.2964450759094, 42.31169373635401, 42.29985744012215, 42.31842255393602, 42.311852721337, 42.317370192680336, 42.30704884694953, 42.30906284664378, 42.30883693983967, 42.31923482819862, 42.30606393566502, 42.30398160452899, 42.314827484606575, 42.3048433293264, 42.31337132584918, 42.32357026201424, 42.29559333963887, 42.30433800980035, 42.30443377187232, 42.323095687396346, 42.311471674493305, 42.30711033673986, 42.30983484647106, 42.318072566888496, 42.323942224420435, 42.309049862943375, 42.32004366635828, 42.308717208857495, 42.305088311340114, 42.30794791179289, 42.309701158494384, 42.320809392430675, 42.315797659023744, 42.32249608513066, 42.318054676409226, 42.29956291644425, 42.30988682257417, 42.32508878303933, 42.313951405843575, 42.32324289956977, 42.31838301910418, 42.30026388087917, 42.318635400684855, 42.31359024362312, 42.31813877306128, 42.32085835010096, 42.31926520385325, 42.31433571613884, 42.306811532274814, 42.32267197982334, 42.30977751293719, 42.304424401841324, 42.325511669688346, 42.3112105796256, 42.31874257570903, 42.30595863609247, 42.30455930241627, 42.30873579543035, 42.31567994817808, 42.31556511657293, 42.29572299757349, 42.31199460127128, 42.3068796497014, 42.315922709721605, 42.30653907278417, 42.308615263510774, 42.29877631582161, 42.2974047973222, 42.31796621180112, 42.32489117729767, 42.31590400933113, 42.31274187654604, 42.30454928375496, 42.31527368629765, 42.31465541166664, 42.32504873048671, 42.295549244538655, 42.32235541314952, 42.30571166319029, 42.30248683101914, 42.318676992266276, 42.31762621945572, 42.31227026019718, 42.32527016657306, 42.295586946398714, 42.29812412303772, 42.31753771012777, 42.30683414172092, 42.30720226358175, 42.31961968865941, 42.31026209376064, 42.3185688067565, 42.31012523517614, 42.309502299330454, 42.30376309732182, 42.313430537633096, 42.308948421885546, 42.306396022523614, 42.31551268554925, 42.30932885567064, 42.31097645315618, 42.31686601781735, 42.3247317393277, 42.31308411868998, 42.30918196271777, 42.297155077033906, 42.319510898734436, 42.32243105263224, 42.30337106614937, 42.32436433918023, 42.30881607884145, 42.31846334578228, 42.30983835275251, 42.311909365907724, 42.31552925725239, 42.3218635717984, 42.298580472443454, 42.31627330224815, 42.31614912702236, 42.31218842736296, 42.31342150080405, 42.3113139741088, 42.30557707947496, 42.316052291214056, 42.30637132044274, 42.31509938985096, 42.30649689949284, 42.319226619133296, 42.30361487406617, 42.31179031925349, 42.32133486634611, 42.300734044135574, 42.28965254884459, 42.28825811306717, 42.312146916024254, 42.31303259057599, 42.321520836480815, 42.30450198413657, 42.31968702097964, 42.3126182454674, 42.312465870465495, 42.29050283678629, 42.316423406732014, 42.322747312138354, 42.31277908835379, 42.3110232774222, 42.3035452888029, 42.31576895997632, 42.30401959211494, 42.31779832815028, 42.32411923510956, 42.30957367789852, 42.30236440084767, 42.311678909359316, 42.31778979561365, 42.305094658671926, 42.309797837586366, 42.305142129994884, 42.299823779229776, 42.314083120401115, 42.307311154565845, 42.29098869791822, 42.31158242973417, 42.308660543894284, 42.321374508340455, 42.30516878181586, 42.32002043052011, 42.30694320005583, 42.29366807552507, 42.31881358606432, 42.306017507714095, 42.318859647590706, 42.3116187482491, 42.301890193436364, 42.319474233279415, 42.31187523227813, 42.29552806799693, 42.309632289697525, 42.313212477274476, 42.32139006767074, 42.31653898569717, 42.31123369710613, 42.30512600898364, 42.31039502223525, 42.308293290029226, 42.294442148764404, 42.31747805970026, 42.31299708548862, 42.31633720566908, 42.288018458904695, 42.311712487300575, 42.3179889417716, 42.324432177328205, 42.310893576384466, 42.31713375085383, 42.304695089404895, 42.323437396382296, 42.3219193625954, 42.309312424581954, 42.30089711317004, 42.30778740249572, 42.30598912781584, 42.313378826174066, 42.314063318277896, 42.3154779458348, 42.312540826270975, 42.30640988856899, 42.32512115569664, 42.317729060962684, 42.31437713321705, 42.3058133625616, 42.305034221507675, 42.308897967555396, 42.31978116658569, 42.30826236397657, 42.29128816246878, 42.309200042544475, 42.31569391094086, 42.320020355969945, 42.324891279593785, 42.307767972414716, 42.30703672295021, 42.310081941514724, 42.31359160558561, 42.311531156866266, 42.32498596629097, 42.30725435749261, 42.318501214026405, 42.31784765117375, 42.30466018864578, 42.31257952456626, 42.306172286643054, 42.31373707651746, 42.317300402174936, 42.312639317298405, 42.31161781831933, 42.321731854687144, 42.30595038846473, 42.31795476761437, 42.321414748913774, 42.311437963659955, 42.32123276979549, 42.312220034691656, 42.321364951420186, 42.314461652910154, 42.31858053839557, 42.31967562232483, 42.314035815066525, 42.310861936822796, 42.311758624583184, 42.318577570955185, 42.29731100517576, 42.309062746277796, 42.30624803195792, 42.309478248320744, 42.29661804078575, 42.31516062399715, 42.31161779138293, 42.30956049227253, 42.31732134712932, 42.3158987062291, 42.310008938431984, 42.31314950919129, 42.321619908461145, 42.317785859724104, 42.29847143523319, 42.308141987049325, 42.2924433773244, 42.31121241933621, 42.298566869256746, 42.311581941500414, 42.30885190033849, 42.3155761411289, 42.319239160320095, 42.32451388795766, 42.2987085828295, 42.30841063964904, 42.312630016865675, 42.31721558278527, 42.31968622416286, 42.32134118362715, 42.30596576341033, 42.31021302681578, 42.31378359100291, 42.31591115539129, 42.299587787693476, 42.29816032662961, 42.3078157837662, 42.3106308513631, 42.31005424705418, 42.31643683590325, 42.30692771656086], \"legendgroup\": \"Neighborhood=Jamaica Plain\", \"lon\": [-71.1033874115732, -71.11622135298697, -71.11682730260223, -71.1130254234823, -71.10449360644688, -71.09909641577437, -71.10594049773768, -71.10558689277725, -71.10345881692874, -71.11563042909579, -71.10537660326158, -71.11331605532412, -71.11706562488624, -71.10519470648515, -71.10315398376997, -71.10358571999897, -71.1064329714123, -71.11327327945847, -71.0997233961363, -71.09976783089705, -71.11832362091809, -71.10940661048757, -71.12607998917959, -71.10731719179363, -71.10819524530064, -71.11397057117235, -71.10497371588909, -71.11593555432006, -71.11399252456933, -71.11324413343733, -71.1122319203949, -71.10003065912305, -71.10812404783636, -71.10629670951586, -71.10517194647886, -71.11687373250301, -71.09905545857005, -71.10543388992956, -71.10556705192403, -71.11270172682764, -71.1070588160843, -71.09821200812918, -71.1141153320651, -71.11561971775167, -71.11215759278208, -71.11902460456069, -71.11072691758285, -71.13463036679991, -71.10962020956268, -71.11254191159419, -71.11381932640091, -71.11118779742438, -71.10116460144604, -71.11235604348677, -71.105505307545, -71.10926318625519, -71.11485898821759, -71.1166241277204, -71.11141973305921, -71.11935092313678, -71.10501593588094, -71.11516053902132, -71.11848461147696, -71.11295481151114, -71.10627115826995, -71.11089129130822, -71.10670813435179, -71.11530145575897, -71.10871729533055, -71.10967688765845, -71.10851426561025, -71.10529985856851, -71.10582362671403, -71.11457927159456, -71.11267005505267, -71.10820204241452, -71.11253858596702, -71.10784415823343, -71.11051775662285, -71.10735816883991, -71.10929998832164, -71.11833423971592, -71.10730266023941, -71.11696299856979, -71.11475792071663, -71.1118693618817, -71.11283944617206, -71.11789702317628, -71.10722979809752, -71.11600891554467, -71.11357115025135, -71.10187809594295, -71.11180739447572, -71.10640627596929, -71.10911529916937, -71.1036735352925, -71.11249877013331, -71.11324623810819, -71.11641497800227, -71.1105244224708, -71.10078611527362, -71.11879574479485, -71.11429863527867, -71.11320967171939, -71.10200966765208, -71.11599745541506, -71.13230207833683, -71.11364252468704, -71.09977036667159, -71.11520100639541, -71.11482700886869, -71.11942117574478, -71.11045089791808, -71.11231783776945, -71.09957962869748, -71.11789285939362, -71.11488311298572, -71.11159713499715, -71.1139137340823, -71.1115346411253, -71.11344012878439, -71.11404802615597, -71.11201449929162, -71.11553158945944, -71.10846155035345, -71.09929095218234, -71.1062960870443, -71.11354968974973, -71.10672991341261, -71.1056671002783, -71.11331372851822, -71.100333066673, -71.10865424017277, -71.10086090909755, -71.10701088601905, -71.11941563945955, -71.11413548740815, -71.10845721836117, -71.11331230827804, -71.11958890231001, -71.10482911031056, -71.11257439993145, -71.11415408323548, -71.1028771953959, -71.11675448454865, -71.1140026250641, -71.10571836582744, -71.11416180689504, -71.10593528533563, -71.10157722722015, -71.11764280445091, -71.1041618575167, -71.10254447357468, -71.10791787889553, -71.10511677573426, -71.1104931014882, -71.11190355685281, -71.11460121899208, -71.1132655769392, -71.11500731218838, -71.10262149236247, -71.11392840097395, -71.10792704855353, -71.10752400155785, -71.10675529422124, -71.10240299583323, -71.10374748421249, -71.11026724947551, -71.10215681045173, -71.10503627122522, -71.10566184357903, -71.10711860330036, -71.1161706912694, -71.11367642052262, -71.09932133876652, -71.11350717401693, -71.11107897137123, -71.1116203010471, -71.10886890206302, -71.12921449284401, -71.12132702991566, -71.1077732004827, -71.11431096653907, -71.11472079034709, -71.11306691796358, -71.10890828395574, -71.11202440937612, -71.10741009190527, -71.11147205236121, -71.11296924688942, -71.10620541691138, -71.10751981004609, -71.11642163691592, -71.105027092965, -71.11033370632222, -71.10974082171326, -71.11899338510045, -71.10589216211305, -71.11289367391335, -71.10493709465034, -71.10403440260586, -71.10669945356153, -71.10629240857683, -71.11490982290198, -71.10613378330365, -71.10489692991891, -71.11347197529106, -71.10174213111895, -71.10732685642546, -71.1125721982785, -71.09973816777216, -71.1033973053676, -71.11273710117392, -71.11170822620524, -71.10156432201525, -71.10605960468905, -71.11290752873131, -71.1045979616031, -71.1140157501951, -71.1178941365324, -71.10321896739352, -71.10953838978847, -71.11451513447908, -71.10910186178728, -71.12908357888134, -71.10981262493169, -71.10988285778794, -71.11929019439627, -71.11621848265172, -71.10808727743614, -71.10885209574056, -71.10431839665927, -71.10343442689604, -71.11423327902818, -71.11838026420132, -71.12399111717572, -71.1199453778794, -71.10819474341311, -71.10930512483853, -71.1028559173715, -71.11367910852671, -71.11818368689809, -71.10988164747111, -71.1078903320761, -71.12243916028487, -71.10965966211437, -71.10730425423374, -71.1139753696747, -71.1104717880297, -71.11711989439625, -71.1119677817735, -71.11077966593278, -71.10334861115408, -71.11718908596617, -71.10544008279768, -71.09929421406316, -71.1224634974153, -71.11151038708401, -71.11292465179741, -71.10019198504712, -71.09951455896663, -71.11259651201156, -71.10333144398088, -71.11868977322706, -71.1046702228502, -71.11065976620097, -71.11396006312367, -71.11836465855009, -71.10620874832169, -71.10745884916732, -71.11446553563087, -71.11625789047193, -71.10336802125957, -71.11967770213874, -71.12262104873192, -71.09896775692144, -71.10549496200198, -71.11424733591423, -71.11451133583604, -71.107205565175, -71.1088925116655, -71.10784329213908, -71.10670344232828, -71.11633699407041, -71.10491020774178, -71.10927886274365, -71.10385272556012, -71.11186967797744, -71.10489325104669, -71.1002042572507, -71.1067641717667, -71.11864462353653, -71.11568853186063, -71.1171256858825, -71.11323105918619, -71.11391762627707, -71.10678001942449, -71.10497281246552, -71.10777892603964, -71.09922327493409, -71.11183648946215, -71.1062777972917, -71.11120263227764, -71.11435439589225, -71.10890836726516, -71.09930721341063, -71.11369880978881, -71.10606960864865, -71.10492935003708, -71.10342180495736, -71.1083382470032, -71.10745634054862, -71.10176364947394, -71.10478823264899, -71.10550967539857, -71.10513643573292, -71.11065808536799, -71.11793665454907, -71.11790285740781, -71.11191178759881, -71.11239521627073, -71.10412648796216, -71.11643175971686, -71.11305745299592, -71.10624048636811, -71.10540620416036, -71.11250952324194, -71.10132043298741, -71.10439934389252, -71.1079661278404, -71.11205826620998, -71.10588595618334, -71.1087761022673, -71.10143683020078, -71.11505147881795, -71.11275691200883, -71.11178023080245, -71.11153003037721, -71.11674523568081, -71.11184354566159, -71.10711518817013, -71.10342311812424, -71.107893860945], \"marker\": {\"color\": \"tomato\", \"opacity\": 0.4, \"size\": [140, 70, 95, 55, 80, 120, 65, 100, 65, 60, 63, 75, 65, 110, 46, 75, 62, 69, 69, 73, 85, 120, 125, 70, 100, 61, 125, 100, 27, 80, 85, 75, 57, 100, 40, 100, 70, 190, 149, 168, 205, 65, 75, 117, 429, 95, 69, 85, 69, 165, 150, 267, 87, 62, 110, 250, 150, 300, 119, 175, 195, 145, 200, 90, 210, 75, 46, 75, 500, 60, 130, 190, 100, 450, 399, 350, 200, 99, 295, 107, 69, 76, 75, 55, 65, 59, 88, 164, 90, 185, 80, 105, 90, 100, 100, 200, 300, 60, 319, 85, 70, 50, 119, 125, 53, 125, 199, 205, 114, 75, 185, 75, 180, 70, 150, 120, 92, 84, 200, 115, 49, 95, 275, 230, 130, 192, 175, 70, 65, 100, 185, 250, 110, 150, 168, 60, 59, 60, 145, 80, 114, 170, 240, 150, 69, 80, 85, 75, 150, 70, 80, 225, 225, 178, 175, 109, 383, 90, 99, 50, 300, 184, 80, 85, 150, 100, 100, 84, 130, 76, 100, 70, 125, 70, 75, 170, 95, 70, 299, 70, 155, 250, 115, 70, 135, 120, 130, 29, 68, 300, 50, 119, 46, 295, 130, 180, 300, 200, 136, 100, 88, 95, 135, 135, 75, 189, 75, 55, 125, 88, 72, 22, 90, 150, 82, 84, 160, 110, 150, 80, 225, 65, 275, 300, 185, 175, 175, 75, 60, 100, 75, 94, 85, 83, 75, 168, 60, 135, 119, 275, 130, 750, 160, 65, 77, 71, 200, 55, 95, 220, 54, 72, 70, 135, 300, 110, 70, 75, 70, 88, 480, 550, 180, 325, 65, 290, 159, 200, 95, 65, 99, 93, 500, 295, 450, 150, 95, 150, 399, 71, 500, 70, 125, 85, 61, 250, 56, 200, 220, 80, 60, 125, 500, 149, 65, 99, 67, 180, 170, 115, 235, 89, 110, 84, 125, 130, 65, 86, 75, 255, 145, 199, 91, 81, 60, 99, 88, 225, 50, 225, 48, 37, 85, 525, 100, 75, 25, 50, 49, 125, 180, 60, 85, 85, 64, 725, 75, 119, 110, 179, 175, 125, 220], \"sizemode\": \"area\", \"sizeref\": 10.0}, \"mode\": \"markers\", \"name\": \"Neighborhood=Jamaica Plain\", \"showlegend\": true, \"subplot\": \"mapbox\", \"type\": \"scattermapbox\"}, {\"customdata\": [[195, \"Entire home/apt\", 92.0], [295, \"Entire home/apt\", 100.0], [120, \"Private room\", null], [200, \"Entire home/apt\", null], [250, \"Entire home/apt\", 92.0], [176, \"Entire home/apt\", null], [150, \"Entire home/apt\", 93.0], [229, \"Entire home/apt\", 89.0], [279, \"Entire home/apt\", 80.0], [279, \"Entire home/apt\", 84.0], [290, \"Entire home/apt\", 86.0], [275, \"Entire home/apt\", null], [185, \"Entire home/apt\", 93.0], [399, \"Entire home/apt\", 92.0], [255, \"Entire home/apt\", 94.0], [75, \"Shared room\", 90.0], [250, \"Entire home/apt\", 84.0], [100, \"Private room\", 95.0], [215, \"Entire home/apt\", 96.0], [125, \"Private room\", 85.0], [110, \"Private room\", 96.0], [125, \"Private room\", 96.0], [80, \"Private room\", 90.0], [373, \"Entire home/apt\", 95.0], [525, \"Entire home/apt\", 80.0], [299, \"Entire home/apt\", 96.0], [269, \"Entire home/apt\", 95.0], [189, \"Entire home/apt\", 90.0], [215, \"Entire home/apt\", 92.0], [279, \"Entire home/apt\", 96.0], [289, \"Entire home/apt\", 93.0], [229, \"Entire home/apt\", 94.0], [154, \"Entire home/apt\", 93.0], [236, \"Entire home/apt\", 96.0], [175, \"Entire home/apt\", 94.0], [60, \"Shared room\", null], [229, \"Entire home/apt\", 91.0], [234, \"Entire home/apt\", 94.0], [329, \"Entire home/apt\", 96.0], [209, \"Entire home/apt\", 80.0], [195, \"Entire home/apt\", 96.0], [169, \"Entire home/apt\", 100.0], [145, \"Entire home/apt\", 96.0], [219, \"Entire home/apt\", 90.0], [150, \"Entire home/apt\", 100.0], [215, \"Entire home/apt\", 100.0], [155, \"Private room\", 100.0], [138, \"Entire home/apt\", 70.0], [170, \"Private room\", null], [170, \"Entire home/apt\", 84.0], [195, \"Entire home/apt\", 94.0], [125, \"Private room\", 97.0], [250, \"Entire home/apt\", 100.0], [100, \"Private room\", 92.0], [137, \"Entire home/apt\", 100.0], [137, \"Entire home/apt\", null], [199, \"Entire home/apt\", 91.0], [239, \"Entire home/apt\", 93.0], [185, \"Entire home/apt\", 98.0], [175, \"Entire home/apt\", 93.0], [200, \"Entire home/apt\", 95.0], [175, \"Entire home/apt\", 93.0], [125, \"Private room\", 100.0], [150, \"Entire home/apt\", 100.0], [150, \"Entire home/apt\", null], [75, \"Private room\", 83.0], [200, \"Entire home/apt\", 100.0], [275, \"Entire home/apt\", 100.0], [120, \"Private room\", null], [600, \"Entire home/apt\", 99.0], [125, \"Private room\", 94.0], [265, \"Entire home/apt\", 96.0], [160, \"Entire home/apt\", 89.0], [155, \"Entire home/apt\", 93.0], [137, \"Entire home/apt\", null], [99, \"Entire home/apt\", 98.0], [98, \"Private room\", 91.0], [150, \"Entire home/apt\", null], [125, \"Entire home/apt\", 97.0], [235, \"Entire home/apt\", 98.0], [149, \"Entire home/apt\", 92.0], [100, \"Entire home/apt\", 84.0], [164, \"Entire home/apt\", 86.0], [185, \"Entire home/apt\", 92.0], [250, \"Entire home/apt\", 97.0], [100, \"Private room\", null], [275, \"Entire home/apt\", 100.0], [225, \"Entire home/apt\", 80.0], [250, \"Entire home/apt\", 95.0], [50, \"Private room\", null], [115, \"Entire home/apt\", 100.0], [150, \"Entire home/apt\", 67.0], [170, \"Entire home/apt\", 88.0], [125, \"Shared room\", 97.0], [250, \"Entire home/apt\", 100.0], [229, \"Entire home/apt\", 73.0], [90, \"Private room\", 100.0], [200, \"Entire home/apt\", 100.0], [100, \"Entire home/apt\", 76.0], [306, \"Entire home/apt\", 97.0], [229, \"Entire home/apt\", 95.0], [199, \"Entire home/apt\", 100.0], [67, \"Shared room\", 93.0], [120, \"Entire home/apt\", 97.0], [239, \"Entire home/apt\", 100.0], [130, \"Entire home/apt\", null], [197, \"Entire home/apt\", 98.0], [85, \"Private room\", 80.0], [225, \"Entire home/apt\", null], [1300, \"Entire home/apt\", 100.0], [266, \"Entire home/apt\", 100.0], [160, \"Entire home/apt\", 95.0], [150, \"Entire home/apt\", null], [280, \"Entire home/apt\", 93.0], [60, \"Private room\", null], [225, \"Entire home/apt\", 93.0], [170, \"Entire home/apt\", 97.0], [168, \"Private room\", 100.0], [183, \"Entire home/apt\", 94.0], [137, \"Entire home/apt\", null], [300, \"Entire home/apt\", 88.0], [166, \"Entire home/apt\", 90.0], [350, \"Entire home/apt\", 98.0], [149, \"Entire home/apt\", null], [190, \"Entire home/apt\", 92.0], [180, \"Private room\", 96.0], [99, \"Private room\", 97.0], [110, \"Entire home/apt\", 75.0], [210, \"Entire home/apt\", 100.0], [155, \"Entire home/apt\", 80.0], [178, \"Entire home/apt\", 100.0], [600, \"Entire home/apt\", 83.0], [550, \"Entire home/apt\", null], [170, \"Entire home/apt\", 100.0], [129, \"Entire home/apt\", 96.0], [160, \"Entire home/apt\", 100.0], [250, \"Private room\", null], [149, \"Entire home/apt\", 90.0], [175, \"Entire home/apt\", 90.0], [150, \"Private room\", 95.0], [250, \"Entire home/apt\", 100.0], [100, \"Entire home/apt\", 100.0], [200, \"Entire home/apt\", 95.0], [120, \"Entire home/apt\", 93.0], [150, \"Entire home/apt\", 100.0], [152, \"Entire home/apt\", 100.0], [200, \"Entire home/apt\", 100.0], [170, \"Entire home/apt\", 97.0], [157, \"Private room\", 98.0], [229, \"Entire home/apt\", 93.0], [299, \"Private room\", null], [165, \"Entire home/apt\", null], [210, \"Entire home/apt\", 89.0], [110, \"Private room\", 96.0], [400, \"Entire home/apt\", null], [575, \"Entire home/apt\", 99.0], [147, \"Entire home/apt\", null], [200, \"Entire home/apt\", 98.0], [115, \"Entire home/apt\", 100.0], [110, \"Private room\", 96.0], [500, \"Shared room\", 94.0], [250, \"Entire home/apt\", 77.0], [149, \"Private room\", null], [200, \"Entire home/apt\", 99.0], [417, \"Entire home/apt\", 90.0], [600, \"Entire home/apt\", 100.0], [175, \"Entire home/apt\", 95.0], [69, \"Private room\", 94.0], [150, \"Entire home/apt\", null], [180, \"Private room\", null], [150, \"Entire home/apt\", 90.0], [137, \"Entire home/apt\", null], [800, \"Entire home/apt\", 98.0], [199, \"Entire home/apt\", null], [133, \"Private room\", 95.0], [299, \"Entire home/apt\", 100.0], [135, \"Private room\", 100.0], [275, \"Entire home/apt\", 100.0], [99, \"Private room\", 96.0], [350, \"Private room\", null], [170, \"Entire home/apt\", 88.0], [450, \"Entire home/apt\", 100.0], [186, \"Entire home/apt\", null], [300, \"Entire home/apt\", null], [200, \"Entire home/apt\", 100.0], [189, \"Entire home/apt\", 99.0], [150, \"Entire home/apt\", 96.0], [179, \"Entire home/apt\", 96.0], [250, \"Entire home/apt\", 90.0], [229, \"Entire home/apt\", 92.0], [250, \"Entire home/apt\", 100.0], [89, \"Private room\", 86.0], [80, \"Private room\", 100.0], [119, \"Private room\", null], [140, \"Entire home/apt\", 100.0], [84, \"Entire home/apt\", 80.0], [700, \"Entire home/apt\", 100.0], [250, \"Entire home/apt\", null], [200, \"Entire home/apt\", 93.0], [99, \"Private room\", null], [150, \"Entire home/apt\", 70.0], [119, \"Private room\", 97.0], [300, \"Entire home/apt\", 100.0], [170, \"Entire home/apt\", 90.0], [269, \"Entire home/apt\", 91.0], [170, \"Entire home/apt\", 98.0], [100, \"Private room\", 73.0], [135, \"Private room\", 88.0], [159, \"Entire home/apt\", 98.0], [250, \"Entire home/apt\", 92.0], [225, \"Entire home/apt\", 98.0], [75, \"Private room\", 96.0], [144, \"Entire home/apt\", 83.0], [170, \"Entire home/apt\", 100.0], [120, \"Private room\", 98.0], [139, \"Entire home/apt\", 100.0], [147, \"Entire home/apt\", 75.0], [217, \"Private room\", 99.0], [95, \"Private room\", null], [225, \"Entire home/apt\", 90.0], [200, \"Entire home/apt\", 97.0], [189, \"Entire home/apt\", null], [150, \"Entire home/apt\", 97.0], [279, \"Entire home/apt\", 100.0], [135, \"Private room\", 88.0], [200, \"Entire home/apt\", null], [240, \"Entire home/apt\", 96.0], [77, \"Shared room\", 100.0], [160, \"Entire home/apt\", 88.0], [195, \"Entire home/apt\", null], [175, \"Entire home/apt\", 100.0], [150, \"Private room\", null], [228, \"Entire home/apt\", 95.0], [145, \"Entire home/apt\", 87.0], [89, \"Private room\", 96.0], [238, \"Entire home/apt\", 96.0], [161, \"Entire home/apt\", 93.0], [149, \"Private room\", 100.0], [300, \"Entire home/apt\", 90.0], [177, \"Entire home/apt\", 93.0], [185, \"Entire home/apt\", 99.0], [240, \"Entire home/apt\", 100.0], [225, \"Entire home/apt\", 95.0], [125, \"Private room\", 93.0], [175, \"Entire home/apt\", null], [150, \"Entire home/apt\", 100.0], [122, \"Entire home/apt\", 84.0], [125, \"Entire home/apt\", null], [325, \"Private room\", null], [170, \"Private room\", 100.0], [160, \"Entire home/apt\", 90.0], [199, \"Entire home/apt\", 90.0], [160, \"Entire home/apt\", 90.0], [200, \"Entire home/apt\", 95.0], [200, \"Entire home/apt\", 93.0], [150, \"Entire home/apt\", null], [350, \"Entire home/apt\", 100.0], [139, \"Entire home/apt\", 95.0], [80, \"Entire home/apt\", 96.0], [215, \"Entire home/apt\", 80.0], [130, \"Private room\", 90.0], [183, \"Entire home/apt\", 97.0], [188, \"Entire home/apt\", 98.0], [215, \"Entire home/apt\", 80.0], [75, \"Private room\", 93.0], [45, \"Private room\", null], [125, \"Private room\", 85.0], [290, \"Entire home/apt\", 100.0], [215, \"Entire home/apt\", 99.0], [255, \"Entire home/apt\", 100.0], [300, \"Entire home/apt\", 100.0], [169, \"Private room\", null], [140, \"Private room\", null], [250, \"Entire home/apt\", 98.0], [155, \"Entire home/apt\", 87.0], [200, \"Entire home/apt\", 100.0], [119, \"Private room\", 93.0], [189, \"Entire home/apt\", 96.0], [250, \"Private room\", 96.0], [254, \"Entire home/apt\", 98.0], [225, \"Entire home/apt\", null], [137, \"Entire home/apt\", 80.0], [146, \"Entire home/apt\", 60.0], [199, \"Entire home/apt\", 96.0], [190, \"Entire home/apt\", null], [249, \"Entire home/apt\", null], [150, \"Entire home/apt\", 80.0], [106, \"Entire home/apt\", null], [200, \"Entire home/apt\", 92.0], [99, \"Private room\", 100.0], [139, \"Private room\", 100.0], [175, \"Entire home/apt\", 91.0], [200, \"Entire home/apt\", 100.0], [450, \"Entire home/apt\", 100.0], [165, \"Entire home/apt\", 87.0], [250, \"Entire home/apt\", null], [350, \"Private room\", 86.0], [295, \"Private room\", 90.0], [199, \"Entire home/apt\", 97.0], [299, \"Private room\", 100.0], [130, \"Entire home/apt\", 95.0], [160, \"Entire home/apt\", 98.0], [250, \"Entire home/apt\", null], [220, \"Entire home/apt\", 60.0], [150, \"Entire home/apt\", 90.0], [280, \"Entire home/apt\", 100.0], [150, \"Entire home/apt\", 85.0], [250, \"Entire home/apt\", 100.0], [185, \"Private room\", 96.0], [140, \"Entire home/apt\", 88.0], [150, \"Entire home/apt\", 100.0], [165, \"Entire home/apt\", 87.0], [275, \"Entire home/apt\", 97.0], [150, \"Entire home/apt\", null], [225, \"Entire home/apt\", 96.0], [235, \"Entire home/apt\", 89.0], [189, \"Entire home/apt\", 92.0], [215, \"Entire home/apt\", null], [90, \"Private room\", 90.0], [250, \"Entire home/apt\", 98.0], [195, \"Entire home/apt\", 70.0], [650, \"Entire home/apt\", 100.0], [189, \"Entire home/apt\", null], [225, \"Entire home/apt\", 90.0], [500, \"Shared room\", null], [149, \"Entire home/apt\", 100.0]], \"hoverlabel\": {\"namelength\": 0}, \"hovertemplate\": \"<b>%{hovertext}</b><br><br>Neighborhood=South End<br>Price Per Night=%{customdata[0]}<br>Room Type=%{customdata[1]}<br>Rating (out of 100)=%{customdata[2]}<br>Latitude=%{lat}<br>Longitude=%{lon}\", \"hovertext\": [\"Sunny Top Floor Apartment\", \"lovely upscale townhouse apartment\", \"Furnished Private Room In A 2 Bdrm\", \"6+ Occp Boston, South End/Back Bay\", \"Gorgeous South End 2 Bed/1.5 Bath\", \"Studio Apt. for Rent in South End, \", \"Charming South End, Boston Condo\", \"[1294] Grand Studio - South End\", \"[1293-1] - 1 Bedroom in South End\", \"[1293] Lovely 1 BR in South End\", \"Historic South End - Steps to All\", \"[1294-S]Grand Studio - South End\", \"Brownstone Apt. in Hip S. End!\", \"1BR South End/Back Bay Condo\", \"Sensational South End 2 bedroom\", \"Living Room in \\u2665\\ufe0e of Boston\", \"Fantastic 2 bed/1.5 bath South End\", \"Private room in the South End\", \"Stylish South End Apartment\", \"SECOND FLOOR PARLOR ROOM\", \"Sunny Corner Apartment\", \"1 Bedroom in large Condominium (II)\", \"Private Rm+Bathroom in Apt.\", \"Very Rare Luxury New Three Bedroom\", \"Rare Luxury Three Bedroom in New Building\", \"Luxe 2BR w/ Skyline Views, Gym\", \"Sleek Downtown 1BR by T w/Pool\", \"Luxe 1BR in South End w/ Gym, Pool\", \"TRUE South End PERFECT!!!!\", \"2BR South End Condo w/Big Windows\", \"Luxe South End 1BR w/ Pool, Gym\", \"Updated South End/Back Bay 1-Bed\", \"Coolest new building in Boston\", \"Really Cool Lux Building in Boston\", \"Parlor South End charm with deck\", \"Location Location Location\", \"Modern 1BR in South End w/Gym, Pool\", \"Lux City Pad 2/2 with huge terrace!\", \"Sleek 2BR w/ Expansive Views & Pool\", \"Brand New Luxury 1BR in South End\", \"Charming and Bright South End Apt\", \"Upscale 1BR w/ Skyline Views\", \"Montgomery Place - Parlor Room (Room 2)\", \"Boston Christopher Studio Suite\", \"Gorgeos 1BD Steps to Bay Station\", \"Copley Vacation Rental on the Park M325 SPECIAL!\", \"Columbus Avenue by Maverick, Eight\", \"Efficient Studio - Back Bay/ S. End\", \"Verona's  Victorian Charm (# 2)  M314 SPECIAL $155\", \"Idyllic South End Brownstone - 1BR\", \"Penthouse South End with roof deck\", \"Stay in the heart of the South End\", \"Quiet 2 bedroom South End Condo\", \"BOSTON in Trendy South End\", \"Columbus Ave By Maverick,ThirtyFour\", \"Columbus By Maverick, ThirtyThree\", \"Stylish South End 1BR by Flatbook\", \"South End St George: by Spare Suite\", \"South End Brownstone 1bd/1ba\", \"furnished 1 bed apartment copley #5\", \"Charming, Sunny, Convenient 2BR in the South End!\", \"Spacious S. End 1BD Brownstone\", \"Private & Spacious South End Suite\", \"South End, sunny, quiet, 1 bedroom condo\", \"Columbus By Maverick, TwentyFive\", \"Basic full size room\", \"South End Stunner w/ City Views\", \"Renovated 2BR Condo with Private Back Deck\", \"BUMC room, South End\", \"Quiet & Charm in Boston's South End\", \"Private room in swank urban loft\", \"Sunny South End Brownstone\", \"Parlor Retreat, South End studio\", \"Columbus Avenue By Maverick, Six\", \"Columbus By Maverick, FortyFour\", \"Modern Duplex in South End\", \"4th floor office room  \", \"Columbus Ave By Maverick, ThirtyTwo\", \"Sunny Studio in Heart of South End\", \"Beautiful South End Penthouse!\", \"Spacious Southend Back Bay Apt\", \"Sunny studio in Back Bay/So. End\", \"New 1 Bed Flat - South End\", \"South End townhouse apt with deck\", \"Luxury South End Apartment \", \"Newly renovated South End gem\", \"Beautiful South End Brownstone Apartment\", \"Ideal studio in the Back Bay/S. End\", \"South End close to Back Bay\", \"Cozy private bedroom\", \"Cozy South End Apt in best location\", \"Columbus Avenue By Maverick, Five\", \"South End Studio with Sleeping Loft\", \"Heart of the South End Near It All!\", \"2BR South End Duplex\", \"Bright 2BR in Heart of South End\", \"One Bedroom in Open and Airy Apt\", \"Views, Amenities, Location, Bingo!\", \"Efficient Studio - Back Bay/S. End\", \"2Bed2BathDplx 43Bus to BestBosSites\", \"Bright & beautiful 2BR in best location\", \"Stylish 1BR in Heart of Boston\", \"Ballroom turned loft apartment!\", \"Attention to details is our mantra\", \"Studio 5 South End: by Spare Suite\", \"BEST DEAL- 1 Bd in South End\", \"Perfect Studio in Center of Boston\", \"South End Brown Stone\", \"Beautiful Apartment in South End\", \"4+ BR Quiet, Deluxe, Charming House\", \"Renovated South End abode (2b/2b)\", \"Convenient & Vibrant South End!  \", \"Columbus Ave By Maverick, TwentyTwo\", \"Cozy Apartment + Porch in South End\", \"Sunny & Spacious room- South End\", \"Trendy Loft in the South End\", \"Fabulous south end studio!\", \"Romantic B&B - Roof Top Hot Tub\", \"1Studio WalkOutToPatio..CloseToBus,T,HistoricSites\", \"Columbus By Maverick, TwentyThree\", \"Apartment in Historic South End\", \"COZY South end studio\", \"2 BR 2 Bath Luxury Apmt in SouthEnd\", \"South End Penthouse\", \"Sleek and Modern in the South End\", \"Beautiful Bedroom in the South End\", \"South End brownstone private room\", \"7 to 12 minute walk to Prudential\", \"Elegant, Historic, sleek renovation\", \"Columbus Avenue By Maverick, Two\", \"Sunny Penthouse | Private Roof Deck\", \"Comfort and peace in the South End.\", \"Spacious 3BR in the South End\", \"Montgomery Place - Apartment-Ette (Room 5)\", \"South End Grand Studio Suite\", \"Montgomery Place - Studio (Room 6)\", \"Open BR, Steps From Marathon Finish\", \"Chic minimal 2BD in south end SOWA\", \"Boston Vacation Rental M373\", \"Sunny Roofdeck Apartment\", \"Sunny South End Brownstone w/ Deck\", \"Modern Industrial Styled Loft\", \"large & grand 2 bedroom South End by Copley Sq #3\", \"Comfortable South End Studio\", \"Columbus Avenue By Maverick, Seven\", \"Columbus Ave By Maverick, FortyOne\", \"1 BR / 1 BA Penthouse - South End\", \"S.END: Huge industrial cool condo!!\", \"zzEastPrivateBedBath MinsToBus,Metro,HistoricSites\", \"Boston Christopher One Bedroom\", \"Murmod Sanctuary at Aisling\", \"Boston Vacation Rentals-2\", \"2BR with rooftop/South End\", \"1 Bedroom in Condominium (III)\", \"Beautiful brown stone in South End\", \"Luxurious penthouse living!!\", \"Columbus Ave By Maverick, TwentySix\", \"City-style, Spacious South End Apt.\", \"Netflix in Plus or Deluxe Apartment\", \"Boston, South End - 1 Bedroom (I)\", \"zzzParking? MASTER CALENDAR   OnlyEd Books forYou\", \"Cozy Studio ;-) in SOUTH END Boston\", \"Lovely Roof Top Pad, Nearby to Everything\", \"Historical Southend apartment\", \"Marvelous South End 2.5 bed/ 2.5 ba\", \"Stunning SouthEnd/BackBay Penthouse\", \"newly furn one bedroom by Copley #6\", \"Lofty South End Apartment\", \"Columbus Ave By Maverick, One\", \"Large bedroom in South End w/ Patio\", \"Columbus Ave By Maverick, FortyFive\", \"Columbus By Maverick, FortyThree\", \"3Bed/2.5Bath Luxury Triplex So. End\", \"South End, Penthouse, Roof Deck w/Amazing Views!\", \"Huge Private Room with Private Bath\", \"Boston, South End - 3 Bedrooms\", \"Bright Boston Bedroom in Prime Location\", \"Victorian Charm, Modern Living: South End/Back Bay\", \"Safe Clean Convenient \\u2665 Heart of Boston\", \"Barbara's Room at Aisling\", \"Appleton Studio B (M306B) Early Sept DEAL $155/nt\", \"South End, 2 bed, private roofdeck\", \"[1358-S1]Small Studio in South End\", \"South End. LUXURY 1 BEDROOM. 850sqf\", \"Charming South End Apartment\", \"Charming South End Brownstone Loft\", \"Montgomery Place - Garden Level (Room 1)\", \"Sleek 1BR w/ Downtown Views and Gym\", \"Back Bay apt. Close to Marathon!\", \"Bright South End 1BR w/Gym, Pool\", \"South End Beauty/1+ beds/1.5 baths\", \"Cozy South End Guest Room\", \"#great location #modern living\", \"Unique and Cozy South End Roof Deck Retreat\", \"South End 1 Bdrm with Private Deck\", \"Cozy place in the heart of Boston\", \"Luxury in the Perfect Location\", \"Amazing 1.5 BR in the heart of the South End\", \"Large 2 Bedrooms Boston South End\", \"Stunning Rooftop Home with Comfort and Style\", \"2 Bed/1 Bath South End at Dog Park!\", \"Boston Centrally Located Brownstone\", \"South End Charm\", \"South End 1bd near everything\", \"[1358-S]Small Studio In South End\", \"Victorian Dream Studio, South End\", \"Spacious room in back bay\", \"COPLEY SQ...19TH C.TWNHSE SUNNY RM\", \"Luxury2BEDS/south end/Boston downtown/Free parking\", \"South End 2 Bed w/ Parking & Patio\", \"Nice South End Condo.\", \"Heart of Boston - Semi-Private Room\", \"Ideal Studio in Back Bay/S. End\", \"Modern studio in Boston\\u2019s South End\", \"1 Bedroom in Victorian Brownstone\", \"Luxury 2 beds /free parking/South end\", \"Columbus Ave By Maverick, ThirtySix\", \"zWestPrivateBedBath MinsToBus,Metro\", \"Cozy place in The Heart of Boston\", \"[1358] Small Studio in South End\", \"Sunny and Quiet top floor #8\", \"South End Studio Suite Apartment\", \"South End garden studio in excellent location\", \"Beautifully-Appointed 2 Bed floor-thru w/parking\", \"HANCOCK TOWER/COPLEY ROOM\", \"Brownstone with Private Roof Deck!\", \"Fashionable South End Condo\", \"South End Near Backbay Garden Apt\", \"Serene in the South End\", \"South End/Back Bay Apartment\", \"1 bedroom apt in Boston South End\", \"Heart of Back Bay/South End\", \"South End studio with private patio\", \"Charming Garden Studio In South End\", \"South End Gem\", \"Modern, Airy 2 BR Loft in South End\", \"South End Private Garden, Free Parking\", \"One of the best rooms in Boston. Period.\", \"South End Artist Loft in SOWA\", \"Cool Boston Crib. Awesome Building\", \"Boutique South End, with sunshine\", \"South End Apt w/ Private Deck.\", \"Beautiful Brownstone Condo\", \"Boston South End - Multiple Rooms\", \"Boston Penthouse - Modern Charm\", \"Fantastic 2 bed South End duplex!\", \"Sunny Studio in Back Bay/ S. End\", \"One Bedroom Apartment in South End\", \"Salthill at Aisling\", \"Verona's Victorian Charm (# 6) M314 SPECIAL $155\", \"Sweet South End Digs\", \"2 Bed South End-Roof Deck-Dog Park!\", \"Spacious South End Apartment\", \"Great city views top floor one bed #7\", \"2 BR Apt Boston South End\", \"Columbus Ave By Maverick,ThirtyFive\", \"Great Spot - South End, 2 BR Condo\", \"Cozy South End Studio For Two\", \"Stay in the heart of South End!\", \"South End Suite Vacation Rental M365-1\", \"BACK BAY/COPLEY FIRST FLOOR ROOM\", \"Classic South End Brownstone-1 BR\", \"BMC, Symphony T, NE, BU, Berklee!!\", \"Boston South End Niche (M327) Short notice deals\", \"Great room in Boston's South End!\", \"Lovely Apartment in South End\", \"Lovely Back Bay/South End Apt!\", \"Back Bay / South End - best of both\", \"South End 1 Bedroom PERFECTION!\", \"[1293-1/1] Lovely 1 BR in South End\", \"Brownstone on Charming Dead End St.\", \"Comfy Roof Top Access Near Everything\", \"Private Room in Southend\", \"Classic Boston Brownstone\", \"Columbus Avenue By Maverick, Four\", \"Private Roof-Deck, South End PH Apt\", \"Great room in Boston's South End\", \"Beautiful South End Brownstone\", \"Boston Proper Duplex Great LOCATION\", \"102 Chandler Street by Lyon Apartments\", \"Columbus Garden By Maverick\", \"Columbus By Maverick, TwentyFour\", \"Studio near Copley Square\", \"Studio 3 South End: by Spare Suite\", \"South End Condo\", \"South End Condo\", \"Columbus Ave By Maverick, FortyTwo\", \"Adorable South End Studio\", \"Best Location in Boston (Copley Sq)\", \"Gorgeous South End Apt, in the heart of Boston!\", \"Cozy, colorful & private on a park\", \"Studio apart Tremont St South End #2\", \"Spectacular Brownstone in South End\", \"Breathtaking downtown arty condo\", \"Privacy in cozy South End/Back Bay studio\", \"Beautiful Condo - Centrally Located\", \"Historic brick Victorian row house \", \"Elegant Two-Room Suite in South End\", \"South End Luxury Penthouse\", \"Duleek Opulent Room at Aisling\", \"Luxury One Bed in Coolest Building!\", \"Elegant South End 1BR  Floor-Thru\", \"Apartment with private roof deck\", \"One Bedroom Parlor Townhouse\", \"Columbus Avenue By Maverick, Three\", \"Gorgeous 2Bed in Historic South End\", \"Columbus Ave By Maverick, ThirtyOne\", \"Classic South End One Bedroom\", \"South End Charm- Private Bed/Bath\", \"Charming Studio on Mass Ave.\", \"Beautiful South End Getaway\", \"Braddock Suite Studio  M365-ST\", \"Location! Parking/Patio/Brownstone!\", \"Lofty South End One Bedroom\", \"West Canton By Maverick\", \"Classic 2 Bed/1.5 Bath in South End\", \"Bright 1BR in South End w/ Pool+Gym\", \"My Flat on Braddock 1 BR private apartment   M366\", \"Room in the South End Loft\", \"Top of the South End Brownstone\", \"Charming South End Apartment\", \"3BR Historic South End Penthouse\", \"South End Gem classic brownstone 1BR - Location!\", \"SouthEnd Duplex immaculate condo quality apartment\", \"zzzzParking? LongTermOnly!\", \"Boston South-End Apt. With Porch\"], \"lat\": [42.344581950417215, 42.33996516682, 42.34541906784078, 42.33816148609245, 42.337263656169746, 42.34021512126599, 42.341220300742066, 42.34259444459376, 42.34422661526431, 42.342585901583185, 42.34518662586733, 42.34336278530577, 42.33833506722896, 42.34748545246121, 42.3376273677204, 42.34284812399638, 42.33596696281348, 42.338040843470274, 42.336326709397284, 42.346233037483046, 42.33716187471486, 42.33831709434265, 42.336281548393224, 42.343981163258455, 42.345039484346174, 42.34549102547901, 42.344795393058796, 42.34576674071476, 42.34387421592756, 42.34555988338449, 42.3463399059288, 42.34740737719368, 42.344256363227885, 42.344350088259674, 42.34370147448126, 42.335958450778286, 42.34487888239292, 42.34443021942535, 42.34485682989903, 42.345385114835494, 42.3416958890559, 42.346342417037384, 42.34445532804108, 42.34341555548842, 42.345594484534246, 42.34382074445443, 42.344676797679256, 42.34222018183153, 42.347152582645776, 42.341111243859274, 42.345678693852854, 42.340245203198684, 42.339022082444096, 42.340961204246724, 42.344684651438115, 42.34561286613293, 42.34632376109648, 42.337661246627015, 42.34641699535807, 42.340323325982965, 42.33918321632019, 42.33663177716327, 42.33811321506902, 42.33651865916773, 42.34490729984276, 42.34707029449362, 42.340536970144, 42.341369565015626, 42.3382832754688, 42.342895591284595, 42.3443699748363, 42.33713722400331, 42.34419543393126, 42.34341272279628, 42.3432306210891, 42.341914194874114, 42.34642847317033, 42.345134095463145, 42.342532854851854, 42.343841430642414, 42.339315042333816, 42.34237255365213, 42.33671249560704, 42.34551716169836, 42.34379199602544, 42.33547303703897, 42.341804981809375, 42.34113339953168, 42.345159717726546, 42.34618796317229, 42.3429863477053, 42.34343806690266, 42.33519276568347, 42.344124982631705, 42.34521620497881, 42.34473147773382, 42.33767012629468, 42.34430213679429, 42.34079541636332, 42.34121342173442, 42.343809798315526, 42.34562568447279, 42.339544636587625, 42.34258199617985, 42.34178015511022, 42.336852722964395, 42.34770355986914, 42.33930896325949, 42.34276160581032, 42.34241482588717, 42.33635725516032, 42.33569268282436, 42.344073038033464, 42.34245930867989, 42.33909385934611, 42.3381795920964, 42.343119505297864, 42.34447431637321, 42.34348781143775, 42.34366470397222, 42.343891016905964, 42.335003376033924, 42.34343207030431, 42.33905138738604, 42.3380745881418, 42.34266914158189, 42.33533589134802, 42.33981502500543, 42.3380771614161, 42.34504558170755, 42.336172232175024, 42.34230308536128, 42.34565356501126, 42.344513125529645, 42.34385225246118, 42.343861907373025, 42.345291695352365, 42.34453844883631, 42.34342894519076, 42.347079923983, 42.34126176465926, 42.34346177505992, 42.34094316789322, 42.33634779246965, 42.344222185798436, 42.344025101552944, 42.34433316579844, 42.338323186341185, 42.341457418397546, 42.34407347137525, 42.336185144549226, 42.34334138518025, 42.3431761338457, 42.33679501814413, 42.343094950510995, 42.341412009543056, 42.34556791104973, 42.34195414470815, 42.34269698618983, 42.336058672771635, 42.34116166144551, 42.34272173190372, 42.33699527728718, 42.3436420563734, 42.33710999881372, 42.3414449942222, 42.34237399125715, 42.34071458337621, 42.34557311589929, 42.342034712206896, 42.34339171303941, 42.345002980504304, 42.34363867841807, 42.34503080856176, 42.34362361686261, 42.33750207844881, 42.33767182556047, 42.34337256743142, 42.343659187452296, 42.33816881242794, 42.34499777117262, 42.33650485031658, 42.343453595018936, 42.34482585933533, 42.34187597892178, 42.34541183438231, 42.34402060645204, 42.345790453343284, 42.34667378780709, 42.344288819643246, 42.34193791016164, 42.33937306272558, 42.34610947356793, 42.33608007227669, 42.3422176149657, 42.34714203274801, 42.3440320608932, 42.343384513713204, 42.34075399526022, 42.33679018285152, 42.33971998113592, 42.3397545430106, 42.33865083495421, 42.34420619792674, 42.34179689334264, 42.34285804910194, 42.34560256185624, 42.34495654198742, 42.34150455105753, 42.336832594946884, 42.33947728985138, 42.34105938439816, 42.34242389811297, 42.3453930785548, 42.34306172286721, 42.33914265660413, 42.34362445699148, 42.341795024647546, 42.34675815220524, 42.343209881894154, 42.34055091680753, 42.34339888479836, 42.34369552432539, 42.3372339026448, 42.346436512306994, 42.34485438176257, 42.33960911395865, 42.34650892135457, 42.34188979998796, 42.34121174361634, 42.339434851669424, 42.34703197813619, 42.345946575561904, 42.33843449110688, 42.336760458154714, 42.34426013201698, 42.33716831362333, 42.34442714881364, 42.343355553677895, 42.34437307871689, 42.344147141072774, 42.342782018374, 42.342334596351975, 42.33831659589648, 42.339862287809936, 42.34531492337171, 42.34076181577172, 42.34494301766899, 42.335947617175776, 42.34685534038649, 42.344764119372726, 42.34042312379683, 42.33857762791107, 42.34175231690293, 42.34099239012987, 42.34529647641143, 42.34124312129233, 42.34494492926521, 42.33825951176984, 42.345078825964585, 42.34522988307238, 42.346432694710224, 42.33936470966953, 42.343440579314475, 42.33538409043661, 42.34310593315024, 42.34606839151711, 42.34663651268857, 42.34450691880606, 42.344036153924435, 42.34197616045519, 42.33477501754106, 42.345352029176055, 42.340459373635674, 42.34418593142552, 42.344140993510656, 42.34036818739428, 42.340986953402, 42.34707085326683, 42.34709172616311, 42.345584259735475, 42.34399514430829, 42.34474482784281, 42.34312857447157, 42.34474517673787, 42.341371911432994, 42.34502803026525, 42.34376716995201, 42.34717117812328, 42.34384167237561, 42.341630055485524, 42.34066934297081, 42.34140859449171, 42.342936329428575, 42.34661693742443, 42.33830139487766, 42.339370862299816, 42.34191276179271, 42.33627763773672, 42.33838120920071, 42.34555475485465, 42.33982700547539, 42.340331495073336, 42.34592824984945, 42.34364179499233, 42.338139257931346, 42.34367970626481, 42.33666003931315, 42.344036641896075, 42.34198708233029, 42.33745063900357, 42.343648810368656, 42.342108971213435, 42.341836063774885, 42.343641871311775, 42.33745977503256, 42.34549639046378, 42.34327954116151, 42.34299962554208, 42.34362090082919, 42.34511319689578, 42.344181628261964, 42.34549157039425, 42.33659485343961, 42.341763226574905, 42.345949989203206], \"legendgroup\": \"Neighborhood=South End\", \"lon\": [-71.07551295903802, -71.0751420222178, -71.0771109253581, -71.0681538431211, -71.07632731501351, -71.07499793976649, -71.07532969141522, -71.07942070179357, -71.0778781826634, -71.07969075832185, -71.07229518334229, -71.07803853970401, -71.0709052372564, -71.0731259265208, -71.07394702802685, -71.07212170900222, -71.07508978371679, -71.07574541079221, -71.07415654665085, -71.07363869991637, -71.07611332285876, -71.0765863728929, -71.06903945639355, -71.06485660685141, -71.06213504834885, -71.06242223492261, -71.06325925824873, -71.06318918678608, -71.07417158346134, -71.06337695000259, -71.06438062261992, -71.07267288697845, -71.06330675289584, -71.06362034342176, -71.06921832742043, -71.0750795841857, -71.06312885220463, -71.06251624726225, -71.06210730087227, -71.0636227290942, -71.0688922481789, -71.06385899400674, -71.07411174414845, -71.07951597072665, -71.07488059741611, -71.07536874784437, -71.07762314805531, -71.08026312638313, -71.0719031165681, -71.07029310873192, -71.06943202335499, -71.07663628342726, -71.07704210917748, -71.06641320666542, -71.07663303521966, -71.07698748474715, -71.06301626598292, -71.07280867691911, -71.07314861196369, -71.0757153441531, -71.07818450213287, -71.0748854317807, -71.07821869860777, -71.0696988629383, -71.07523415062045, -71.07089195770527, -71.07174927428004, -71.07886725564434, -71.07136230916439, -71.0742316809028, -71.06547543523294, -71.07672504507882, -71.07363010738126, -71.0760400813346, -71.07748715400449, -71.08080630405638, -71.07502990080344, -71.07513462335173, -71.0705170592166, -71.07182663613271, -71.07788276526625, -71.07922266232886, -71.07545754027247, -71.06939492583994, -71.07285898792072, -71.0750210198741, -71.07982968478547, -71.0800111913047, -71.071673467821, -71.07314898454436, -71.07030039926936, -71.07688355946277, -71.0749509404685, -71.0704830352942, -71.07185952728959, -71.07090818312652, -71.07640773355523, -71.06899694278945, -71.0807041719754, -71.07571054051229, -71.06929087357383, -71.06321265493553, -71.07387035555206, -71.07650344409146, -71.08004973669456, -71.07306169541253, -71.07152833868011, -71.06495498840539, -71.07469313198952, -71.0745193431245, -71.07444244408434, -71.0746321058278, -71.07532811185658, -71.07890447746666, -71.07900523916493, -71.06462945503596, -71.07585049962194, -71.07698271329764, -71.07680165158365, -71.07562188480422, -71.06948267335083, -71.07509361451442, -71.0729121344843, -71.07641049307901, -71.07532867247558, -71.06957670158452, -71.07425652058345, -71.07770093493704, -71.07509284636788, -71.07576543977316, -71.0754272361867, -71.08036333667405, -71.0765050295693, -71.07422168503966, -71.07925307675536, -71.07419704066525, -71.07656328462951, -71.06602187825182, -71.07400280761591, -71.07361071300343, -71.07719172451444, -71.0641953929085, -71.07704194672662, -71.07665638181408, -71.07537505592731, -71.0771651608005, -71.07106172025055, -71.07629653396533, -71.07640609858423, -71.07785150050033, -71.07342145580922, -71.07223141756667, -71.07708426973839, -71.07648754166487, -71.07979757211612, -71.08113734051851, -71.07735542129099, -71.06994870141153, -71.0754573598207, -71.07476967504456, -71.07697592547242, -71.07838891299248, -71.07436551262174, -71.07096861790879, -71.07713064126249, -71.080511439692, -71.0756014945988, -71.07406084459463, -71.07761895850723, -71.0725641864423, -71.0751778404017, -71.07747015790487, -71.07023501053978, -71.07340513211166, -71.06646126671465, -71.07653797940841, -71.06988900199926, -71.0695136811169, -71.07210303740261, -71.07495053295358, -71.07253947669034, -71.0756964118257, -71.07966122077806, -71.07687463262259, -71.07814908549496, -71.07566909983646, -71.0742996276532, -71.06343694207712, -71.07549847242363, -71.06304997042761, -71.07873717795975, -71.07480099017606, -71.06348825798175, -71.07425896492398, -71.06976148628466, -71.07442764918473, -71.07408004988413, -71.06881167812554, -71.08183367653695, -71.07545931453197, -71.07510804361488, -71.07900429883713, -71.07058959947231, -71.07222801800599, -71.07819514226415, -71.07339304532253, -71.07571070452711, -71.07485746185634, -71.08087505967704, -71.06949729685238, -71.0793802565534, -71.08073924259249, -71.07909612860908, -71.06303905951947, -71.07275113869639, -71.07978997672878, -71.07729754504166, -71.07566431880906, -71.07416682165585, -71.07776036316244, -71.07510738195886, -71.07888540346383, -71.07810031710835, -71.0697730547217, -71.07480755845373, -71.07276955097228, -71.07998675927278, -71.07337174856316, -71.07254314770427, -71.07955074559071, -71.08005787284273, -71.06957015026913, -71.07724667518733, -71.07684758696394, -71.07576188649263, -71.06652566121373, -71.07499568755941, -71.06408580697922, -71.06571608927693, -71.06457653067581, -71.07272570198928, -71.07685953536495, -71.07311989062913, -71.07690856396708, -71.07766733289968, -71.07496560667472, -71.08022287878723, -71.06745954101547, -71.0751658937791, -71.07214127361344, -71.07276299016534, -71.07512874452547, -71.06929003595755, -71.07533351392034, -71.08019689079354, -71.0774881773436, -71.06691067139785, -71.07599093732362, -71.0709154570732, -71.07740009533862, -71.07282284007427, -71.07091582400858, -71.07942867270434, -71.07737512203144, -71.07521683508621, -71.06896984690701, -71.0764613920838, -71.07398974952609, -71.07389618778237, -71.0788917256318, -71.08127587091947, -71.07437567422855, -71.07355081681294, -71.08035799061796, -71.07608517014641, -71.07226296920034, -71.08015135949631, -71.07972834630348, -71.07246978523966, -71.07430618997331, -71.07668643519287, -71.07656683740849, -71.07705983965717, -71.08114078745443, -71.07025685651888, -71.06949574592579, -71.07666326608363, -71.07493705450555, -71.07129740210965, -71.07007468831209, -71.07388633098988, -71.07689917005895, -71.08173066438553, -71.07345338392714, -71.07387660058951, -71.07794455451216, -71.08025759344305, -71.07153788949805, -71.07431077125244, -71.07496368669906, -71.0615748419913, -71.07419475613311, -71.08041359860917, -71.07398023416009, -71.07572452164456, -71.0756268168095, -71.07700348905995, -71.07502392758799, -71.07639142583984, -71.07970168974757, -71.07636722141864, -71.07912481988458, -71.0794000809645, -71.06475387663066, -71.07690397186802, -71.0746241517216, -71.06207974341547, -71.07987037936746, -71.06594437369185, -71.067992576338, -71.07225420882385, -71.07143716063726, -71.074562288104, -71.07603148953406, -71.07539721966455, -71.07248994635422], \"marker\": {\"color\": \"palevioletred\", \"opacity\": 0.4, \"size\": [195, 295, 120, 200, 250, 176, 150, 229, 279, 279, 290, 275, 185, 399, 255, 75, 250, 100, 215, 125, 110, 125, 80, 373, 525, 299, 269, 189, 215, 279, 289, 229, 154, 236, 175, 60, 229, 234, 329, 209, 195, 169, 145, 219, 150, 215, 155, 138, 170, 170, 195, 125, 250, 100, 137, 137, 199, 239, 185, 175, 200, 175, 125, 150, 150, 75, 200, 275, 120, 600, 125, 265, 160, 155, 137, 99, 98, 150, 125, 235, 149, 100, 164, 185, 250, 100, 275, 225, 250, 50, 115, 150, 170, 125, 250, 229, 90, 200, 100, 306, 229, 199, 67, 120, 239, 130, 197, 85, 225, 1300, 266, 160, 150, 280, 60, 225, 170, 168, 183, 137, 300, 166, 350, 149, 190, 180, 99, 110, 210, 155, 178, 600, 550, 170, 129, 160, 250, 149, 175, 150, 250, 100, 200, 120, 150, 152, 200, 170, 157, 229, 299, 165, 210, 110, 400, 575, 147, 200, 115, 110, 500, 250, 149, 200, 417, 600, 175, 69, 150, 180, 150, 137, 800, 199, 133, 299, 135, 275, 99, 350, 170, 450, 186, 300, 200, 189, 150, 179, 250, 229, 250, 89, 80, 119, 140, 84, 700, 250, 200, 99, 150, 119, 300, 170, 269, 170, 100, 135, 159, 250, 225, 75, 144, 170, 120, 139, 147, 217, 95, 225, 200, 189, 150, 279, 135, 200, 240, 77, 160, 195, 175, 150, 228, 145, 89, 238, 161, 149, 300, 177, 185, 240, 225, 125, 175, 150, 122, 125, 325, 170, 160, 199, 160, 200, 200, 150, 350, 139, 80, 215, 130, 183, 188, 215, 75, 45, 125, 290, 215, 255, 300, 169, 140, 250, 155, 200, 119, 189, 250, 254, 225, 137, 146, 199, 190, 249, 150, 106, 200, 99, 139, 175, 200, 450, 165, 250, 350, 295, 199, 299, 130, 160, 250, 220, 150, 280, 150, 250, 185, 140, 150, 165, 275, 150, 225, 235, 189, 215, 90, 250, 195, 650, 189, 225, 500, 149], \"sizemode\": \"area\", \"sizeref\": 10.0}, \"mode\": \"markers\", \"name\": \"Neighborhood=South End\", \"showlegend\": true, \"subplot\": \"mapbox\", \"type\": \"scattermapbox\"}, {\"customdata\": [[379, \"Entire home/apt\", 93.0], [136, \"Entire home/apt\", null], [359, \"Entire home/apt\", 87.0], [299, \"Entire home/apt\", 91.0], [110, \"Entire home/apt\", 93.0], [170, \"Entire home/apt\", 100.0], [130, \"Entire home/apt\", 95.0], [259, \"Entire home/apt\", 89.0], [100, \"Private room\", null], [99, \"Private room\", null], [175, \"Entire home/apt\", 100.0], [289, \"Entire home/apt\", 96.0], [209, \"Entire home/apt\", 78.0], [80, \"Private room\", 80.0], [449, \"Entire home/apt\", null], [251, \"Entire home/apt\", 85.0], [185, \"Entire home/apt\", 97.0], [251, \"Entire home/apt\", 81.0], [349, \"Entire home/apt\", 93.0], [389, \"Entire home/apt\", 88.0], [349, \"Entire home/apt\", null], [342, \"Entire home/apt\", 87.0], [232, \"Entire home/apt\", 80.0], [1250, \"Entire home/apt\", 100.0], [249, \"Entire home/apt\", 98.0], [135, \"Entire home/apt\", 96.0], [280, \"Entire home/apt\", 94.0], [155, \"Entire home/apt\", 82.0], [200, \"Entire home/apt\", 100.0], [150, \"Entire home/apt\", 96.0], [239, \"Entire home/apt\", 82.0], [160, \"Entire home/apt\", null], [174, \"Entire home/apt\", 98.0], [199, \"Entire home/apt\", 93.0], [425, \"Entire home/apt\", 99.0], [220, \"Entire home/apt\", null], [160, \"Entire home/apt\", 83.0], [199, \"Entire home/apt\", 86.0], [150, \"Entire home/apt\", 80.0], [150, \"Entire home/apt\", 93.0], [150, \"Entire home/apt\", 100.0], [695, \"Entire home/apt\", 96.0], [189, \"Entire home/apt\", null], [148, \"Entire home/apt\", 100.0], [400, \"Entire home/apt\", null], [160, \"Entire home/apt\", 60.0], [300, \"Entire home/apt\", 100.0], [200, \"Entire home/apt\", null], [275, \"Entire home/apt\", null], [166, \"Entire home/apt\", null], [160, \"Entire home/apt\", 95.0], [160, \"Entire home/apt\", null], [130, \"Private room\", null], [100, \"Private room\", 80.0], [225, \"Entire home/apt\", 91.0], [363, \"Entire home/apt\", 92.0], [105, \"Private room\", 88.0], [185, \"Entire home/apt\", 96.0], [175, \"Entire home/apt\", 90.0], [175, \"Entire home/apt\", 93.0], [80, \"Private room\", 100.0], [219, \"Entire home/apt\", null], [219, \"Entire home/apt\", 80.0], [110, \"Entire home/apt\", null], [289, \"Entire home/apt\", null], [350, \"Entire home/apt\", 100.0], [199, \"Entire home/apt\", null], [232, \"Entire home/apt\", 92.0], [180, \"Entire home/apt\", 97.0], [189, \"Entire home/apt\", 86.0], [165, \"Entire home/apt\", 97.0], [165, \"Entire home/apt\", null], [375, \"Entire home/apt\", 90.0], [298, \"Entire home/apt\", 94.0], [319, \"Entire home/apt\", null], [245, \"Entire home/apt\", 100.0], [363, \"Entire home/apt\", 92.0], [259, \"Entire home/apt\", 60.0], [276, \"Entire home/apt\", 92.0], [359, \"Entire home/apt\", 71.0], [259, \"Private room\", null], [165, \"Entire home/apt\", 87.0], [199, \"Entire home/apt\", 85.0], [479, \"Private room\", null], [135, \"Private room\", 100.0], [319, \"Entire home/apt\", null], [107, \"Private room\", 100.0], [150, \"Entire home/apt\", 98.0], [300, \"Entire home/apt\", null], [285, \"Entire home/apt\", 93.0], [195, \"Entire home/apt\", 100.0], [385, \"Entire home/apt\", 87.0], [110, \"Entire home/apt\", 100.0], [105, \"Entire home/apt\", null], [120, \"Private room\", 100.0], [163, \"Entire home/apt\", 78.0], [275, \"Private room\", null], [298, \"Entire home/apt\", 92.0], [225, \"Entire home/apt\", 80.0], [450, \"Entire home/apt\", 100.0], [319, \"Entire home/apt\", 100.0], [175, \"Entire home/apt\", 91.0], [299, \"Entire home/apt\", 88.0], [165, \"Entire home/apt\", 97.0], [250, \"Entire home/apt\", 96.0], [99, \"Entire home/apt\", 90.0], [209, \"Entire home/apt\", 84.0], [250, \"Private room\", 100.0], [330, \"Entire home/apt\", 96.0], [150, \"Private room\", 100.0], [139, \"Private room\", 93.0], [200, \"Entire home/apt\", 95.0], [249, \"Entire home/apt\", 80.0], [300, \"Entire home/apt\", null], [105, \"Entire home/apt\", 93.0], [363, \"Entire home/apt\", 80.0], [464, \"Entire home/apt\", 97.0], [97, \"Entire home/apt\", 75.0], [250, \"Entire home/apt\", 97.0], [150, \"Entire home/apt\", 90.0], [151, \"Private room\", 93.0], [399, \"Entire home/apt\", 86.0], [210, \"Private room\", 80.0], [207, \"Entire home/apt\", 100.0], [315, \"Entire home/apt\", 98.0], [105, \"Entire home/apt\", 96.0], [190, \"Entire home/apt\", 100.0], [209, \"Entire home/apt\", 87.0], [145, \"Entire home/apt\", 87.0], [200, \"Private room\", 100.0], [450, \"Entire home/apt\", null], [170, \"Entire home/apt\", 100.0], [329, \"Entire home/apt\", 100.0], [297, \"Entire home/apt\", 87.0], [349, \"Entire home/apt\", 83.0], [200, \"Entire home/apt\", null], [451, \"Entire home/apt\", 89.0], [179, \"Private room\", 96.0], [150, \"Entire home/apt\", 95.0], [139, \"Entire home/apt\", 90.0], [174, \"Entire home/apt\", 93.0], [196, \"Entire home/apt\", 100.0], [150, \"Entire home/apt\", 86.0], [189, \"Entire home/apt\", 92.0], [120, \"Private room\", 91.0], [250, \"Entire home/apt\", null], [200, \"Entire home/apt\", 100.0], [229, \"Entire home/apt\", 80.0], [175, \"Entire home/apt\", null], [200, \"Entire home/apt\", 92.0], [249, \"Entire home/apt\", 65.0], [97, \"Private room\", 96.0], [250, \"Entire home/apt\", null], [102, \"Private room\", null], [200, \"Entire home/apt\", 100.0], [200, \"Entire home/apt\", 100.0], [170, \"Entire home/apt\", null], [205, \"Entire home/apt\", 99.0], [220, \"Private room\", 60.0], [225, \"Entire home/apt\", null], [975, \"Entire home/apt\", null], [295, \"Entire home/apt\", 100.0], [245, \"Entire home/apt\", 83.0], [600, \"Entire home/apt\", null], [150, \"Entire home/apt\", 87.0], [232, \"Entire home/apt\", 100.0], [298, \"Entire home/apt\", 80.0], [329, \"Entire home/apt\", null], [40, \"Shared room\", 100.0], [235, \"Entire home/apt\", 98.0], [194, \"Entire home/apt\", 93.0], [299, \"Entire home/apt\", 86.0], [50, \"Private room\", null], [300, \"Entire home/apt\", null], [229, \"Entire home/apt\", 91.0], [175, \"Entire home/apt\", 99.0], [230, \"Entire home/apt\", 100.0], [130, \"Entire home/apt\", null], [319, \"Entire home/apt\", null], [319, \"Entire home/apt\", 80.0], [209, \"Entire home/apt\", 92.0], [160, \"Entire home/apt\", 97.0], [257, \"Entire home/apt\", 87.0], [199, \"Entire home/apt\", 100.0], [159, \"Entire home/apt\", 91.0], [185, \"Entire home/apt\", null], [229, \"Entire home/apt\", 96.0], [169, \"Entire home/apt\", 96.0], [175, \"Entire home/apt\", 87.0], [375, \"Entire home/apt\", 99.0], [350, \"Entire home/apt\", 99.0], [325, \"Entire home/apt\", 80.0], [185, \"Entire home/apt\", null], [179, \"Entire home/apt\", 95.0], [259, \"Entire home/apt\", 93.0], [299, \"Entire home/apt\", 99.0], [139, \"Entire home/apt\", 81.0], [363, \"Entire home/apt\", 73.0], [218, \"Entire home/apt\", 89.0], [239, \"Entire home/apt\", 98.0], [139, \"Entire home/apt\", 92.0], [80, \"Private room\", null], [299, \"Entire home/apt\", 87.0], [225, \"Entire home/apt\", 99.0], [115, \"Entire home/apt\", 79.0], [100, \"Entire home/apt\", 93.0], [200, \"Entire home/apt\", 92.0], [109, \"Private room\", 97.0], [150, \"Entire home/apt\", 91.0], [350, \"Entire home/apt\", 80.0], [319, \"Entire home/apt\", 80.0], [225, \"Entire home/apt\", null], [281, \"Entire home/apt\", 98.0], [249, \"Entire home/apt\", 88.0], [170, \"Entire home/apt\", 86.0], [119, \"Entire home/apt\", null], [185, \"Private room\", 100.0], [450, \"Entire home/apt\", 100.0], [285, \"Entire home/apt\", 84.0], [199, \"Entire home/apt\", 96.0], [120, \"Entire home/apt\", 100.0], [175, \"Entire home/apt\", 92.0], [329, \"Entire home/apt\", 86.0], [550, \"Entire home/apt\", 100.0], [319, \"Entire home/apt\", 76.0], [250, \"Entire home/apt\", null], [119, \"Entire home/apt\", null], [325, \"Entire home/apt\", 85.0], [150, \"Entire home/apt\", 93.0], [425, \"Entire home/apt\", 96.0], [199, \"Entire home/apt\", 93.0], [310, \"Entire home/apt\", 90.0], [389, \"Entire home/apt\", 96.0], [145, \"Entire home/apt\", 97.0], [200, \"Entire home/apt\", 87.0], [568, \"Entire home/apt\", 87.0], [119, \"Entire home/apt\", null], [363, \"Entire home/apt\", 89.0], [400, \"Entire home/apt\", null], [150, \"Entire home/apt\", 97.0], [160, \"Entire home/apt\", null], [160, \"Entire home/apt\", 80.0], [250, \"Entire home/apt\", 96.0], [169, \"Entire home/apt\", 97.0], [89, \"Private room\", null], [319, \"Entire home/apt\", null], [189, \"Entire home/apt\", 100.0], [299, \"Entire home/apt\", null], [183, \"Entire home/apt\", 95.0], [699, \"Entire home/apt\", 86.0], [100, \"Entire home/apt\", 60.0], [275, \"Entire home/apt\", 97.0], [159, \"Entire home/apt\", 100.0], [279, \"Entire home/apt\", null], [200, \"Entire home/apt\", 92.0], [207, \"Entire home/apt\", 86.0], [218, \"Private room\", null], [84, \"Shared room\", 100.0], [259, \"Entire home/apt\", 97.0], [148, \"Entire home/apt\", 87.0], [130, \"Entire home/apt\", 92.0], [300, \"Entire home/apt\", 94.0], [250, \"Entire home/apt\", 80.0], [363, \"Entire home/apt\", 87.0], [267, \"Entire home/apt\", 100.0], [119, \"Entire home/apt\", 83.0], [140, \"Private room\", 99.0], [176, \"Entire home/apt\", 91.0], [200, \"Entire home/apt\", 88.0], [550, \"Entire home/apt\", null], [150, \"Entire home/apt\", 90.0], [379, \"Entire home/apt\", 90.0], [300, \"Private room\", null], [130, \"Private room\", 100.0], [256, \"Entire home/apt\", 96.0], [296, \"Entire home/apt\", 100.0], [363, \"Entire home/apt\", 91.0], [600, \"Entire home/apt\", null], [225, \"Entire home/apt\", null], [450, \"Entire home/apt\", null], [160, \"Entire home/apt\", 97.0], [350, \"Entire home/apt\", 89.0], [298, \"Entire home/apt\", 90.0], [200, \"Entire home/apt\", 91.0], [286, \"Entire home/apt\", 100.0], [74, \"Shared room\", null], [356, \"Entire home/apt\", 91.0], [130, \"Entire home/apt\", 95.0], [250, \"Entire home/apt\", 100.0], [200, \"Entire home/apt\", 99.0], [129, \"Entire home/apt\", 92.0], [349, \"Entire home/apt\", null], [500, \"Entire home/apt\", 100.0], [248, \"Entire home/apt\", 93.0], [97, \"Private room\", 95.0], [210, \"Entire home/apt\", 95.0], [249, \"Entire home/apt\", 85.0], [69, \"Private room\", null], [130, \"Private room\", 95.0], [270, \"Entire home/apt\", 89.0], [450, \"Entire home/apt\", 100.0], [130, \"Entire home/apt\", 100.0]], \"hoverlabel\": {\"namelength\": 0}, \"hovertemplate\": \"<b>%{hovertext}</b><br><br>Neighborhood=Back Bay<br>Price Per Night=%{customdata[0]}<br>Room Type=%{customdata[1]}<br>Rating (out of 100)=%{customdata[2]}<br>Latitude=%{lat}<br>Longitude=%{lon}\", \"hovertext\": [\"[1716-2] Brand New 2BR -Back Bay\", \"IDEAL LOCATION - NEWBURY ST 1BR/1BA\", \"[1279/1] 2 BR 1.5BA, Bi-Level Suite\", \"[1250-2/1] 2BR Lux Back Bay Rental.\", \"Classic & Stylish w/ Balcony\", \"Elegant Studio\", \"Drop Dead Gorgeous Spacious Studio\", \"[1716-1/2]Brand New 1BR in Back Bay\", \"Single Room in the Back Bay\", \"Moody Studio East \\u2013 Bedroom 3 (see plan)\", \"Condo in Back Bay\", \"[1250-1P] 1BR Furnished in Back Bay\", \"[1273] Fab Studio- close to Newbury\", \"BU/Harvard/MIT- 3 mins to T\", \"[1356-2] 2BR Exec Penthouse Suite\", \"[1277] 1BR on Beacon St - Back Bay\", \"Cozy + Central Back Bay Apartment\", \"[1277/1] 1BR on Beacon St- Back Bay\", \"[1250-2NE] 2BR-1 Bath - Back Bay\", \"[1426] NEW 3 BR, Bi-Level-Back Bay\", \"Heart of Newbury Back Bay 2BR\", \"[1280] Luxury 2BR Suite-Back Bay\", \"Saint Botolph Street, Lux South End/Back Bay 1bd\", \"Mansion Flat in Heart of Back Bay\", \"Carlyle 5th Floor: by Spare Suite\", \"Small studio in GREAT location\", \"Charlesview Suites Back Bay \", \"Very spacious Back Bay, 1 block T\", \"Stylish Studio in Historic Back Bay\", \"Cozy Back Bay Penthouse!\", \"Boston Newbury Two Bedroom Grand\", \"Back Bay Apartment with Parking\", \"Stylish Studio in heart of Back Bay\", \"Posh Studio on Bustling Newbury St\", \"Sparkling New 2BR / 2BA in Back Bay\", \"Newbury Street perfection!!\", \"Newbury Street By Maverick, Twelve\", \"Stylish Studio in Elegant Back Bay\", \"Newbury Street By Maverick, Eleven\", \"Newbury Street By Maverick, Six\", \"Newbury Street By Maverick, Three\", \"3BR / 2BA + Prvt Deck in Back Bay\", \"NEW - Lively 1BR in the South End\", \"Newbury Street By Maverick, Five\", \"Luxury 1Br in Boston Back Bay!\", \"Great Apartment in the Back Bay\", \"Charles River gem-Back Bay, Boston\", \"Back Bay Apt on Commonwealth Avenue\", \"Back Bay, Beacon St Beauty. Peaceful and Charming!\", \"Cozy studio in back bay\", \"Quaint Brownstone Studio\", \"Peaceful Back Bay Studio near Prudential w/parking\", \"Private Back Bay Room\", \"Modern Room with Private Bathroom!\", \"Adorable 1Bd Apt in Busy Back Bay\", \"Lux 2BR in Post-War building \", \"IDEAL LOCATION - 1BR/1BA NEWBURY ST\", \"Charming south end\", \"Upscale Back Bay Studio, River Views\", \"Ahh the Views! 1 Bed with Balcony\", \"Wonderful room in back bay\", \"Lux 1BR Back Bay Apt\", \"Lux 1BR Back Bay Apt\", \"Cozy 1 bedroom in great location\", \"TheDartmouthExecutiveSuite.com\", \"Private deck, Newbury Street PH!\", \"Verona's 2-Room Suite M314#7 SEPT. DEAL $175\", \"Incredible Downtown Boston! GS2\", \"Quaint Renovated Rowhouse\", \"Back Bay 345\", \"Large 1 Bedroom on St. Botolph\", \"Charming Back Bay flat on Newbury!\", \"Large, Bright 2 Bedroom in Back Bay\", \"Amazing Boston Back Bay! GS2\", \"Lux 2BR Back Bay Apt.-Logan Airport\", \"Beautiful Back Bay One Bed Apt.\", \"Lux 2BR in Post-War building  \", \"[1274]1BR Half Block from Newbury\", \"Beautiful Back Bay Condo! GS2\", \"[1279] 2 BR/1.5 BA, Bi-Level Suite\", \"[1356-S] Half-Block to Pru Center\", \"Back Bay Studio on Marlborough St-\", \"Classy Studio in Historic Back Bay\", \"[1356-1] Half Block to Pru Center\", \"Best location in Boston (Back Bay) opposite MIT\", \"Lux 2BR BackBay Apt. by \\\"The Shops\\\"\", \"Cute and cozy apt right on Newbury!\", \"Centrally located brownstone on historic Beacon St\", \"Historic Apartment on Commonwealth\", \"Back Bay Vacation Rental M234  $225 NOW\", \"Cozy Back Bay Studio Apartment\", \"2 Br Duplex PH - South End/Back Bay\", \"Large, open studio in the Back Bay\", \"Stylish large studio in Back Bay\", \"Room in charming apt\", \"Back Bay, Newbury St. 1BR\", \"Private Room Back Bay\", \"Lux 1BR in Post-War Back Bay bldg\", \"Back Bay Vacation Rental Too  M234-2 $185 NOW\", \"Modern 2BR Penthouse w/Deck\", \"2BR Lux BackBay Apt. by Fenway Park\", \"Cozy, One bedroom Condo, Back Bay\", \"[1250]Beautiful 2BRs in Back Bay\", \"Back Bay Gem 2\", \"Stylish studio in prime Back Bay!\", \"Modern Comfort with Amazing Views\", \"Swanky Studio in Historic Back Bay\", \"Beautiful Condo/Large Private Deck\", \"Elegant 3BR 2Bath Back Bay Apts.\", \"Room in Exclusive Flat w/Deck\", \"Great Room In Heart of Back Bay\", \"Comfortable and Casual Copely Home\", \"Beautiful 1BR-Top BackBay location\", \"Cozy, exposed brick 1bd in the heart of Back Bay\", \"BACK BAY, MIT, BU, Green Line, BEST\", \"Lux 2BR in Post-War building  \", \"2 bed/2 bath in the heart of Boston\", \"Studio in Back bay\", \"Superb 1BR Back Bay Condo\", \"Entire Back Bay Studio\", \"Spacious and clean room in Back bay\", \"[1300] 3 Bedroom-Back Bay-Penthouse\", \"Private Room in Modern Back Bay Apt\", \"Back Bay 1 Bedroom near the Pru\", \"2 BR: Back Bay/S End - In the Middle of It All!\", \"Stylish Back Bay Studio\", \"Charming Back Bay Brownstone\", \"[1273-1]Fab Studio Close to Newbury\", \"Back Bay Studio - PrudentialCenter/Copley/Symphony\", \"Cozy Room, Back Bay near Newbury St\", \"1BR in the heart of Back Bay\", \"Back Bay Pied a Terre. Fabulous location!\", \"Live Local- Elegant Boston Brownstone.\", \"Back Bay 2 Bedroom near the Pru\", \"[1250-2C] Beautiful 2BRs in Back Bay Near The Pru\", \"Beautiful One Bedroom on Coveted Beacon Street!\", \"[1426-2]NEW 3 BR-Bi-Level  Back Bay\", \"Boston Back Bay Penthouse\", \"Beautiful Brownstone near Copley Sq\", \"Entire home w/patio -best location\", \"New Back Bay Brownstone 2 Bedroom\", \"Charming south end brownstone\", \"Back Bay Studio\", \"Designer Flat in Best Location\", \"Back Bay-Ctr BOSTON-Lge Rm Pvt Bath\", \"Beautiful Back Bay 1BR\", \"Private Boston-Back Bay Top Floor w/ Private Deck\", \"Back Bay Beacon One Bedroom suite\", \"Charming One Bedroom near Symphony\", \"Back Bay Near Fenway, Hynes, the T\", \"Boston Newbury One Bedroom Suite\", \"Clean, Hospitable, Back Bay,\", \"1 BR in the center of Newbury Street\", \"Brownstone Private Room in Backbay w/ roofdeck\", \"Beautiful Back Bay apartment 4 you!\", \"Spacious Back Back Studio Steps from Public Garden\", \"Charming Back Bay Studio Loft\", \"Back Bay/Copley Sq Brownstone 1 Bed\", \"Three blocks from marathon finish\", \"Gem in the Heart of the Back Bay\", \"2BR+2BA Back Bay, MIT, Harvard, BU\", \"south end/back bay brownstone\", \"Back Bay Quiet Renovated Studio Apt\", \"Stunning 2-bed w/ private entrance!\", \"Newbury Street By Maverick, Ten\", \"Saint Botolph Street, Lux South End/Back Bay 1bd*\", \"Lux 1BR in Post-War Back Bay bldg\", \"A studio in the heart of Back Bay\", \"Back Bay Shared Room with Young Entrepreneur\", \"Back Bay 1-Bedroom next to Newbury\", \"Back Bay - Newbury St 1 bedroom\", \"Copley Garrison Two Bedroom Suite\", \"Living Room sofa bed for female\", \"Cozy apartment in the heart of Back Bay\", \"Back Bay Beacon Two Bedroom\", \"Cozy apartment in heart of Back Bay\", \"1 BR on Newbury St\", \"Beautiful 1 Bedroom on Beacon\", \"Lux 2BR Back Bay Apt Near South End\", \"Lux 2BR Back Bay Apt Near South End\", \"[1273-S]Fab Studio close to Newbury\", \"Charming Back Bay Loft\", \"Back Bay 2 Bedroom near Pru\", \"Back Bay 1 Bd Furnished Suite\", \"MODERN+QUIET BackBay/Copley/T/Common/CharlesRiver\", \"Spacious 1BR/1BA Back Bay Brownstown\", \"Carlyle Penthouse: by Spare Suite\", \"Sunny apartment in Back Bay\", \"Live Boston Well From Your Doorstep\", \"Large 2 BR|2 BA + Patio in Back Bay\", \"Classic Brownstone in Historic Area\", \"Unique cozy apartment in Back Bay - Boston\", \"1 Bedroom Apt in Heart of Back Bay\", \"Back Bay Brownstone One Bedroom Apt\", \"Amazing Newbury St 1 bedroom\", \"Back Bay Newbury St. Designer Apt.\", \"VERY SMALL STUDIO FOR ONE\", \"Lux 2BR in Post-War building \", \"Gorgeous Boston Back Bay! GS3\", \"Back Bay 1BR Apt / Heart of Boston!\", \"Charming Studio\\u2013Heart of Back Bay!\", \"Prudential luxury duplex apartment (Boston)\", \"[1250-2C]Elegant 2BRs in Back Bay\", \"Boston's Best Newbury Street Flat!!\", \"Back Bay Apartment\", \"Beacon Street Loft - Amazing Location\", \"Stunning Newbury Street Apartment\", \"Lovely Back Bay Pearl 1BR\", \"Brownstone in heart of Back Bay\", \"Marlborough St, steps to Newbury St\", \"Lux 2BR Back Bay Apartment\", \"1 Bedroom in Back Bay\\u2014best place to stay!\", \"Penthouse in Back Bay\", \"[1716-1] Brand New 1BR - Back Bay\", \"Back Bay PH, private roof deck\", \"2-Bedroom Boston Condo W/Washer & Dryer GS2\", \"Copley Garrison One Bedroom Suite\", \"Luxury in Back Bay / South End\", \"[1275]2BR-Off Newbury St.- Back Bay\", \"Stylish studio in Back Bay\", \"BOSTON COMMON\", \"Back Bay! Best Location in Boston!\", \"[1250-2NE] 2BR Lux Back Bay Rental\", \"3 BD single family.  Steps to everything w/ Patio!\", \"Lux 2BR Apt By Prudential Center\", \"Modern, bright space in Back Bay\", \"Gorgeous Boston Condo Near Fenway Park GS2\", \"Boston Back Bay/Copley Square\", \"Back Bay Penthouse 2 Bed with Private Terrace!\", \"Back Bay Gem on Commonwealth Avenue\", \"The Best Location In Boston\", \"Great 1BR apartment on Newbury St !\", \"[1280-2]Lux 2BR In Back Bay\", \"Back Bay Gem 1\", \"Back Bay Apt - Close and Convenient to Everywhere\", \"Classic Back Bay 3 Bed/1 Ba Flat\", \"Beautiful Condo in Boston's Back Bay GS2\", \"Lux 2BR in Post-War building  \", \"Home Sweet Home\", \"Newbury Street By Maverick, Two\", \"Newbury By Maverick, Lg Studio\", \"Lovely studio in Back Bay Boston\", \"Lofty 2BD w/ Lg Private Roof Deck\", \"Elegant studio, heart of Boston\", \"Moody Studio East \\u2013 Bedroom 2 (see plan)\", \"Lux 2BR BackBay Apt By Prud Skywalk\", \"Stunning Back Bay Studio Apartment\", \"Sweetheart of Newbury 1BR Apt.\", \"In the Back Bay of Boston! GS2\", \"BACK BAY FLAT - BEST LOCATION!\", \"Chic home in the heart of Backbay\", \"Spacious  1 bedroom BackBay\", \"Back Bay apartment\", \"Beautiful Back Bay\", \"Back Bay 1  Bedroom - Charles River\", \"Everybody's favorite! BACK BAY FENW\", \"Commonwealth Court Guest House\", \"Airbed in Cozy Shared Studio Downtown\", \"Perfect Back Bay 1BR; Walk the City\", \"Newbury Street By Maverick, Nine\", \"Cute Apt Steps to T & Prudential Shops/Newbury St\", \"Adorable 2BR in heart of Boston\", \"Private Roof Deck One Bed Beacon St\", \"Lux 2BR in Post-War building  \", \"Lux 1BR in Back Bay Landmark w/gym \", \"Back Bay Boston Studio\", \"Private Room in Back Bay Brownstone\", \"A Home In The Heart Of It All\", \"Small Studio in Back Bay - 1st Flr\", \"Back Bay 1 Bedroom\", \"Beautiful 1 bedroom condo in Boston\", \"Back Bay Beacon 3 Bedroom Bi Level\", \"1 BR Back Bay Public Gardens Apt\", \"Large Private Room in Heart of Back Bay 1\", \"14 Gloucester Street by Lyon Apartments\", \"14 Gloucester Street by Lyon Apartments\", \"Lux 2BR in Post-War building  \", \"1 Bedroom Apartment Copley\", \"Classic Back Bay Boston Brownstone\", \"3 BR Back Bay Public Gardens Apt\", \"Newbury Street By Maverick, Four\", \"2BR: Prettiest Street in Back Bay\", \"Lux 1BR in Post-War Back Bay bldg\", \"Stay on Newbury St, Steps to ALL!\", \"2 bedroom in the heart of Back Bay\", \"Living Room Space in Back Bay\", \"[1689] Brand New 2BR off Newbury St\", \"Gorgeous Brand New Spacious Studio\", \"1 Bedroom in heart of Back Bay\", \"Brand New One Bedroom in Back Bay\", \"Heart of Newbury Studio Apartment\", \"Copley Back Bay Brownstone 2BR\", \"Backbay Apt\", \"*Fabulous Marlborough St. 1 Bed* :D\", \"Spacious and clean room in Back bay - #2\", \"Incredible Location Back Bay Studio\", \"Copley Back Bay Brownstone 1BR\", \"Bedroom unit next to Copley Square\", \"Large Private Room in Heart of Back Bay 2\", \"Luxury Living in Kendall Square\", \"BEAUTIFUL BOSTON BROWNSTONE\", \"Totally Amazing XL Studio w Skyline\"], \"lat\": [42.34526224988893, 42.34864783624143, 42.35454321454043, 42.34508846863622, 42.35380770989612, 42.35173960955297, 42.35362814191778, 42.345067262870714, 42.35261226840441, 42.34944852973999, 42.347892709028734, 42.34648977513371, 42.34949627476548, 42.350461234336215, 42.344471434571375, 42.35411529429635, 42.35031385894017, 42.35397478093875, 42.3460967185965, 42.355263199285815, 42.34810958200395, 42.35428957525215, 42.346898056561045, 42.3499706088789, 42.3481822030086, 42.35252078993396, 42.34506856744563, 42.3504942000561, 42.35361675796535, 42.34880842272183, 42.34964226006277, 42.34323698976152, 42.34961978643654, 42.34892383089698, 42.349237357940176, 42.34922978131493, 42.350471813576384, 42.3493665814709, 42.34950979261725, 42.35082185936093, 42.35030730652297, 42.347616590105844, 42.34520109955025, 42.34935164400061, 42.3528694442241, 42.34529924902717, 42.35289905728729, 42.35005067464196, 42.350427312594405, 42.35255996024848, 42.343786791768615, 42.343140924444654, 42.350777600007966, 42.34356913792809, 42.34974875035604, 42.346762218590776, 42.34877176092485, 42.34402836742756, 42.35262416707966, 42.3536143910126, 42.34512279321617, 42.345936047248294, 42.34640823784515, 42.342163452906, 42.34954061466672, 42.34830823181047, 42.34731098021755, 42.34519100844435, 42.34230868140715, 42.35031513825874, 42.343185344581606, 42.34853200852008, 42.3456365362353, 42.34612044073809, 42.34671047234268, 42.35041869035099, 42.345966438470924, 42.348176457907854, 42.34659832547842, 42.35376288379316, 42.34594763852984, 42.34972969320107, 42.349349848256544, 42.345991317260754, 42.352350470215335, 42.34643929992848, 42.34880658974369, 42.35329571000252, 42.34862911850599, 42.35074444829579, 42.35391159412126, 42.34327133266448, 42.352246700045946, 42.351752050189525, 42.350294187619625, 42.348415529287024, 42.352923935629924, 42.34453454563946, 42.351503651029184, 42.353558917388895, 42.346686549726975, 42.350818288630684, 42.34654267232068, 42.35392228988581, 42.35121526707249, 42.35323745036622, 42.348891620501945, 42.34865395770835, 42.355034477149296, 42.35366906848241, 42.34796211026549, 42.34514083390414, 42.35159198224077, 42.349328366695005, 42.34935037188186, 42.34500463800613, 42.34272614685374, 42.353356664601606, 42.353292465630695, 42.35382532939101, 42.352023942176935, 42.35459064861711, 42.349084734455346, 42.34613197084408, 42.345494521833295, 42.35176712672133, 42.34845343360475, 42.348630870704135, 42.343880190626564, 42.34782624281228, 42.352178738231366, 42.35385964677783, 42.35162629930753, 42.34676465164885, 42.34631971517924, 42.352579737702044, 42.354327797179906, 42.34926181893452, 42.352652170996365, 42.34945745298075, 42.35481432026883, 42.34769090404016, 42.35046437147425, 42.351429666115706, 42.34501591990805, 42.349552172531034, 42.350665618860226, 42.35510226700914, 42.343270949461406, 42.35143299578862, 42.34834451890253, 42.3459210972832, 42.35106607747779, 42.34959776971692, 42.35084356628767, 42.35225241644322, 42.35212986698087, 42.35130574498772, 42.35227774054727, 42.35219596740883, 42.35125745334597, 42.34506923068747, 42.35257828561665, 42.35457366444874, 42.34940674848636, 42.346503459004886, 42.34655444904728, 42.353074296820566, 42.35080955889185, 42.348896111887925, 42.34973369884361, 42.347350510542476, 42.34397625597894, 42.34963192836867, 42.35482453139531, 42.34747332897543, 42.350028455706436, 42.35357949532429, 42.346836535893566, 42.34685199498404, 42.34831672344581, 42.35483811492339, 42.345221677861154, 42.34613830566531, 42.35090788586625, 42.344751442668034, 42.348630855291646, 42.3478436907324, 42.34705573387048, 42.35015130461911, 42.34886985619918, 42.35448687741874, 42.35428465578638, 42.35476045244558, 42.348000439971756, 42.34994795093453, 42.352273173397826, 42.345003316395605, 42.34604445496711, 42.35472247394193, 42.349203098042544, 42.347198309516905, 42.34652131433815, 42.35132218195608, 42.34964029915511, 42.35371866549875, 42.350648554034535, 42.343826359124435, 42.355527797905374, 42.35168134093168, 42.34665681392895, 42.35296929099229, 42.35391656654736, 42.34686689996466, 42.350860498156585, 42.346540340328716, 42.34547013412014, 42.34520351943119, 42.34995448181277, 42.35299010674897, 42.350079796620435, 42.3538695963596, 42.34642477551046, 42.35037049424832, 42.34507409996456, 42.349407317123976, 42.34491407344669, 42.350005827227385, 42.35147091712026, 42.350476730299135, 42.350557088473074, 42.34949953466093, 42.354496674330846, 42.35491206652637, 42.35502415844883, 42.350617868749744, 42.34614523778011, 42.34602594062227, 42.34776635801481, 42.35097324243918, 42.35068464125804, 42.35128637261622, 42.34951621234428, 42.353280344973065, 42.34932720297116, 42.346517629629034, 42.35355223711976, 42.34970659815711, 42.34588119114087, 42.34505121921718, 42.34413959667544, 42.34931436189503, 42.35192164447685, 42.3492699829589, 42.35153135746013, 42.349033972110966, 42.35010585906457, 42.352446027020854, 42.35468545650279, 42.35069865782065, 42.343367776888314, 42.3500909185985, 42.35084480245318, 42.34649330922525, 42.350308249703005, 42.352726837675625, 42.34940348733903, 42.34448567335711, 42.35281512566159, 42.35139993302384, 42.34610828954821, 42.3539555723324, 42.35410871698754, 42.34717511247381, 42.34996452066192, 42.35047733098711, 42.34648274328634, 42.34807208652265, 42.352136210728546, 42.35264094794804, 42.34929912373992, 42.352642435597616, 42.346196860971546, 42.349881251044174, 42.348921685569465, 42.350514800236674, 42.34794627306118, 42.35291931229008, 42.34398792552873, 42.3501248300534, 42.35000048452634, 42.3466856189642, 42.34465973157918, 42.349757160919, 42.351626891634034, 42.353169030580865, 42.344835112457964, 42.35055495632187, 42.34924409216707, 42.353527943577404, 42.34274931253549, 42.35441478795728], \"legendgroup\": \"Neighborhood=Back Bay\", \"lon\": [-71.08078929797506, -71.08433664130031, -71.07345475876545, -71.08016534170244, -71.07881418712098, -71.08173351968077, -71.07802598722238, -71.07925507254643, -71.07602728413896, -71.090417863281, -71.08735026908802, -71.07975896686729, -71.08595384961086, -71.08838128459587, -71.08178606219539, -71.07441444576361, -71.07565657623756, -71.07261173686383, -71.0789864696759, -71.07279310137646, -71.08628317669933, -71.0727722486024, -71.08034964474446, -71.08103176654691, -71.09076067873428, -71.08055812208198, -71.08600744143051, -71.08851658067448, -71.0773942234172, -71.08897714796561, -71.0843452927662, -71.08243592270834, -71.0777197745603, -71.08127251577542, -71.08452694664723, -71.0860152462021, -71.0819709061086, -71.08199538348683, -71.08205049512304, -71.08203890985298, -71.08285057824554, -71.08494956680563, -71.07882827612877, -71.08201364187337, -71.08313771032157, -71.08564212118453, -71.08224032764255, -71.08124416584337, -71.08662782304664, -71.0843337755702, -71.08138591193283, -71.08156872463519, -71.08352721050605, -71.08194891737973, -71.07856759744331, -71.07995065578531, -71.08423396297167, -71.08292014163338, -71.08051383620193, -71.07957868007081, -71.08267392798517, -71.0797046489665, -71.079837710634, -71.08295567461526, -71.07848716335708, -71.08225850831094, -71.07505285083262, -71.07939373931755, -71.08279042616411, -71.08681015728966, -71.08269224904575, -71.08413591334903, -71.08067154382003, -71.07858822109148, -71.07770712540359, -71.08200914434188, -71.07829728029174, -71.08654983497297, -71.0801231873253, -71.07423910713261, -71.08194281965525, -71.0879236417328, -71.08248800796298, -71.0798590124427, -71.08108186243321, -71.07919862090827, -71.08428372090597, -71.07778636887703, -71.08561477148602, -71.08783569225069, -71.0744372975915, -71.08126679922505, -71.08110195704289, -71.08704748654992, -71.0860715347519, -71.08534241726764, -71.08080354812249, -71.07980384633956, -71.0871041513763, -71.0740979929516, -71.07918967241032, -71.08802691716497, -71.07853071772206, -71.07645347392805, -71.08314799948815, -71.0793958465477, -71.08240563137821, -71.08675315600337, -71.0737364410998, -71.07410717557798, -71.08409779497092, -71.08102884069211, -71.08239647185567, -71.08485519356563, -71.08968697530085, -71.07955320100181, -71.08235023010137, -71.08157617020447, -71.07697309193651, -71.07671360394994, -71.08469114601566, -71.07238092387315, -71.08232079255343, -71.07942553607322, -71.0790962119812, -71.08765359376078, -71.08747775500325, -71.08525711720037, -71.08399516188275, -71.08707702664313, -71.08103039350623, -71.07529441161311, -71.07774054333473, -71.0783528239843, -71.07807349661931, -71.07879094316347, -71.073521139528, -71.08440122492242, -71.07565295793515, -71.08880544557995, -71.0746523547689, -71.07338203652182, -71.08893992239963, -71.07438802397489, -71.08030237982021, -71.09002973714743, -71.07915281568916, -71.07316777262784, -71.08371100915447, -71.08808721926776, -71.08620417825242, -71.08156523877926, -71.08031618631631, -71.08934622692324, -71.08636651812894, -71.07175693122319, -71.0781293837889, -71.08268033862973, -71.08285933563151, -71.07885459897311, -71.08435198932179, -71.07883957651161, -71.08259945045045, -71.07242763352764, -71.08345968465333, -71.07834995027376, -71.0782034265307, -71.0822420192819, -71.08222456973219, -71.0841468448245, -71.08465376110208, -71.07924229599945, -71.08288061414346, -71.08311894250734, -71.07334797058765, -71.07334293945296, -71.08390690295413, -71.07779788406096, -71.07842855228066, -71.07799518214941, -71.08474346052387, -71.07631445495049, -71.0795988393007, -71.0797152763806, -71.07486202999672, -71.08586355825072, -71.09007694380695, -71.08560863024267, -71.08023462174924, -71.09115128880198, -71.08460420772631, -71.07537396287039, -71.07737376922702, -71.0736797996714, -71.08552158738037, -71.08225904871169, -71.08256662119476, -71.0794907415972, -71.08017522974744, -71.07524632107211, -71.08036997373881, -71.08003031151644, -71.07838416340084, -71.0825907921931, -71.08834175881046, -71.07838108749516, -71.08375482059041, -71.08260980130042, -71.07834143471044, -71.08706448356695, -71.07911571013813, -71.07923603840048, -71.07567158140867, -71.07899933936599, -71.080994162919, -71.07927440328857, -71.07881220331836, -71.079508113058, -71.08660245393479, -71.07811942605787, -71.08920626226526, -71.07972258052565, -71.07827018647994, -71.07034497025259, -71.08048462854534, -71.08443316587649, -71.07988699742863, -71.07757406865338, -71.08320443523486, -71.08577905720527, -71.08336259706302, -71.08592548056416, -71.07241061491042, -71.07642598084301, -71.0752342569542, -71.08279118048424, -71.08002037914466, -71.07991736263028, -71.08608329842791, -71.08144480688703, -71.08228083705681, -71.08865659078783, -71.07101194500629, -71.07168886990594, -71.0905884894385, -71.07772599195843, -71.0799048233613, -71.08462439884744, -71.07862399449101, -71.07988910638004, -71.08409557166532, -71.08769559204535, -71.07941320706328, -71.09050312470507, -71.08323670442063, -71.09096559226589, -71.08383846810091, -71.08223438870493, -71.08154426285475, -71.08233054560111, -71.08295283859245, -71.08179656255358, -71.08558353723168, -71.07962505197085, -71.07056449725202, -71.0819361907127, -71.08680791113028, -71.08076259510034, -71.08121725139918, -71.07650820248895, -71.0780950326433, -71.07444555927097, -71.07290449120174, -71.07825316216427, -71.0843887624094, -71.08384618931507, -71.07967502184705, -71.07663898691975, -71.07610265561482, -71.07329225376554, -71.08347012375727, -71.07614545599691, -71.07856621775574, -71.08221800171846, -71.09035524816704, -71.08518782443072, -71.08488222123127, -71.07898548030663, -71.08232026318744, -71.08999740067043, -71.08278843852919, -71.07957332158732, -71.07999360108029, -71.08775450314117, -71.08249268655617, -71.07888777434367, -71.08075172857512, -71.07939899138711, -71.07792578438381, -71.0814632675352, -71.08316523242388, -71.07794303369663], \"marker\": {\"color\": \"goldenrod\", \"opacity\": 0.4, \"size\": [379, 136, 359, 299, 110, 170, 130, 259, 100, 99, 175, 289, 209, 80, 449, 251, 185, 251, 349, 389, 349, 342, 232, 1250, 249, 135, 280, 155, 200, 150, 239, 160, 174, 199, 425, 220, 160, 199, 150, 150, 150, 695, 189, 148, 400, 160, 300, 200, 275, 166, 160, 160, 130, 100, 225, 363, 105, 185, 175, 175, 80, 219, 219, 110, 289, 350, 199, 232, 180, 189, 165, 165, 375, 298, 319, 245, 363, 259, 276, 359, 259, 165, 199, 479, 135, 319, 107, 150, 300, 285, 195, 385, 110, 105, 120, 163, 275, 298, 225, 450, 319, 175, 299, 165, 250, 99, 209, 250, 330, 150, 139, 200, 249, 300, 105, 363, 464, 97, 250, 150, 151, 399, 210, 207, 315, 105, 190, 209, 145, 200, 450, 170, 329, 297, 349, 200, 451, 179, 150, 139, 174, 196, 150, 189, 120, 250, 200, 229, 175, 200, 249, 97, 250, 102, 200, 200, 170, 205, 220, 225, 975, 295, 245, 600, 150, 232, 298, 329, 40, 235, 194, 299, 50, 300, 229, 175, 230, 130, 319, 319, 209, 160, 257, 199, 159, 185, 229, 169, 175, 375, 350, 325, 185, 179, 259, 299, 139, 363, 218, 239, 139, 80, 299, 225, 115, 100, 200, 109, 150, 350, 319, 225, 281, 249, 170, 119, 185, 450, 285, 199, 120, 175, 329, 550, 319, 250, 119, 325, 150, 425, 199, 310, 389, 145, 200, 568, 119, 363, 400, 150, 160, 160, 250, 169, 89, 319, 189, 299, 183, 699, 100, 275, 159, 279, 200, 207, 218, 84, 259, 148, 130, 300, 250, 363, 267, 119, 140, 176, 200, 550, 150, 379, 300, 130, 256, 296, 363, 600, 225, 450, 160, 350, 298, 200, 286, 74, 356, 130, 250, 200, 129, 349, 500, 248, 97, 210, 249, 69, 130, 270, 450, 130], \"sizemode\": \"area\", \"sizeref\": 10.0}, \"mode\": \"markers\", \"name\": \"Neighborhood=Back Bay\", \"showlegend\": true, \"subplot\": \"mapbox\", \"type\": \"scattermapbox\"}, {\"customdata\": [[45, \"Private room\", null], [249, \"Private room\", 100.0], [349, \"Entire home/apt\", 93.0], [349, \"Entire home/apt\", 80.0], [309, \"Entire home/apt\", 100.0], [350, \"Entire home/apt\", null], [349, \"Entire home/apt\", 88.0], [158, \"Entire home/apt\", 100.0], [80, \"Private room\", null], [1372, \"Private room\", null], [275, \"Entire home/apt\", null], [319, \"Entire home/apt\", null], [140, \"Private room\", null], [200, \"Entire home/apt\", null], [85, \"Private room\", 80.0], [375, \"Entire home/apt\", null], [225, \"Entire home/apt\", null], [100, \"Entire home/apt\", null], [67, \"Private room\", 89.0], [175, \"Private room\", 96.0], [99, \"Private room\", 97.0], [99, \"Entire home/apt\", 76.0], [127, \"Entire home/apt\", 84.0], [225, \"Entire home/apt\", null], [300, \"Entire home/apt\", 80.0], [199, \"Entire home/apt\", 98.0], [300, \"Entire home/apt\", 100.0], [300, \"Entire home/apt\", 100.0], [200, \"Entire home/apt\", 91.0], [150, \"Entire home/apt\", 100.0], [75, \"Private room\", 100.0], [228, \"Entire home/apt\", 46.0], [99, \"Private room\", 100.0], [99, \"Entire home/apt\", null], [99, \"Entire home/apt\", 78.0], [298, \"Private room\", 100.0], [200, \"Entire home/apt\", null], [299, \"Entire home/apt\", 98.0], [90, \"Entire home/apt\", 80.0], [155, \"Entire home/apt\", null], [285, \"Entire home/apt\", 80.0], [279, \"Entire home/apt\", 90.0], [140, \"Entire home/apt\", 95.0], [60, \"Private room\", 89.0], [130, \"Entire home/apt\", 97.0], [189, \"Entire home/apt\", null], [88, \"Private room\", 77.0], [60, \"Private room\", 100.0], [279, \"Entire home/apt\", 84.0], [219, \"Entire home/apt\", 92.0], [140, \"Entire home/apt\", 94.0], [140, \"Entire home/apt\", 95.0], [160, \"Entire home/apt\", 100.0], [75, \"Private room\", 89.0], [239, \"Entire home/apt\", 100.0], [74, \"Private room\", 93.0], [125, \"Private room\", null], [135, \"Entire home/apt\", null], [125, \"Private room\", null], [120, \"Private room\", null], [100, \"Entire home/apt\", 97.0], [219, \"Entire home/apt\", null], [100, \"Entire home/apt\", 87.0], [77, \"Private room\", 83.0], [55, \"Private room\", null], [300, \"Entire home/apt\", 100.0], [85, \"Private room\", 80.0], [175, \"Private room\", null], [232, \"Entire home/apt\", null], [77, \"Private room\", null], [140, \"Entire home/apt\", 100.0], [60, \"Private room\", null], [349, \"Entire home/apt\", 94.0], [213, \"Private room\", null], [570, \"Entire home/apt\", null], [319, \"Entire home/apt\", 100.0], [89, \"Private room\", 79.0], [97, \"Private room\", null], [175, \"Entire home/apt\", 98.0], [100, \"Entire home/apt\", 100.0], [219, \"Entire home/apt\", 80.0], [429, \"Entire home/apt\", null], [30, \"Private room\", null], [80, \"Shared room\", 90.0], [120, \"Entire home/apt\", 80.0], [279, \"Entire home/apt\", 86.0], [192, \"Entire home/apt\", null], [219, \"Entire home/apt\", 80.0], [220, \"Entire home/apt\", null], [69, \"Private room\", 93.0], [4000, \"Entire home/apt\", null], [295, \"Entire home/apt\", 90.0], [85, \"Shared room\", 85.0], [60, \"Shared room\", 96.0], [279, \"Entire home/apt\", null], [239, \"Entire home/apt\", 100.0], [199, \"Entire home/apt\", 100.0], [83, \"Private room\", 90.0], [189, \"Entire home/apt\", 93.0], [229, \"Entire home/apt\", 93.0], [85, \"Private room\", 100.0], [289, \"Entire home/apt\", 93.0], [110, \"Entire home/apt\", 90.0], [175, \"Entire home/apt\", 100.0], [149, \"Private room\", 90.0], [200, \"Entire home/apt\", null], [319, \"Entire home/apt\", 93.0], [319, \"Entire home/apt\", null], [260, \"Entire home/apt\", null], [50, \"Private room\", 100.0], [349, \"Entire home/apt\", null], [319, \"Entire home/apt\", null], [279, \"Entire home/apt\", 93.0], [80, \"Private room\", null], [199, \"Entire home/apt\", 97.0], [77, \"Private room\", 60.0], [259, \"Entire home/apt\", 90.0], [326, \"Entire home/apt\", null], [199, \"Entire home/apt\", null], [169, \"Entire home/apt\", null], [70, \"Private room\", 100.0], [98, \"Private room\", 70.0], [349, \"Entire home/apt\", 60.0], [90, \"Private room\", 90.0], [319, \"Entire home/apt\", 100.0], [70, \"Private room\", 79.0], [379, \"Entire home/apt\", null], [315, \"Entire home/apt\", null], [200, \"Entire home/apt\", 100.0], [145, \"Entire home/apt\", 87.0], [319, \"Entire home/apt\", null], [199, \"Entire home/apt\", null], [52, \"Private room\", 80.0], [169, \"Entire home/apt\", 80.0], [75, \"Private room\", null], [193, \"Entire home/apt\", 95.0], [155, \"Entire home/apt\", 95.0], [150, \"Entire home/apt\", 100.0], [299, \"Entire home/apt\", 90.0], [199, \"Entire home/apt\", null], [169, \"Entire home/apt\", 100.0], [103, \"Entire home/apt\", 93.0], [319, \"Entire home/apt\", 100.0], [120, \"Entire home/apt\", 100.0], [169, \"Entire home/apt\", null], [72, \"Entire home/apt\", null], [160, \"Entire home/apt\", 95.0], [199, \"Entire home/apt\", null], [52, \"Private room\", null], [100, \"Shared room\", null], [160, \"Entire home/apt\", null], [200, \"Entire home/apt\", 92.0], [315, \"Entire home/apt\", null], [250, \"Entire home/apt\", null], [319, \"Entire home/apt\", null], [180, \"Entire home/apt\", 97.0], [220, \"Private room\", 100.0], [199, \"Entire home/apt\", 88.0], [310, \"Entire home/apt\", 60.0], [238, \"Entire home/apt\", 92.0], [199, \"Entire home/apt\", 40.0], [279, \"Entire home/apt\", 91.0], [135, \"Entire home/apt\", null], [169, \"Entire home/apt\", null], [142, \"Entire home/apt\", 95.0], [199, \"Entire home/apt\", 100.0], [169, \"Entire home/apt\", 70.0], [225, \"Entire home/apt\", 98.0], [150, \"Entire home/apt\", 100.0], [199, \"Entire home/apt\", 40.0], [155, \"Entire home/apt\", 83.0], [110, \"Private room\", 100.0], [275, \"Entire home/apt\", 100.0], [229, \"Entire home/apt\", 80.0], [285, \"Entire home/apt\", 93.0], [400, \"Entire home/apt\", null], [190, \"Entire home/apt\", 88.0], [79, \"Shared room\", 93.0], [500, \"Entire home/apt\", 95.0], [169, \"Entire home/apt\", null], [241, \"Entire home/apt\", null], [100, \"Private room\", 100.0], [99, \"Entire home/apt\", 79.0], [90, \"Private room\", 85.0], [199, \"Entire home/apt\", null], [100, \"Private room\", 100.0], [200, \"Entire home/apt\", null], [395, \"Entire home/apt\", 98.0], [90, \"Private room\", null], [319, \"Entire home/apt\", null], [349, \"Entire home/apt\", null], [65, \"Private room\", 90.0], [159, \"Entire home/apt\", 95.0], [289, \"Entire home/apt\", 95.0], [80, \"Private room\", 100.0], [319, \"Entire home/apt\", null], [189, \"Entire home/apt\", null], [150, \"Entire home/apt\", 80.0], [150, \"Entire home/apt\", null], [750, \"Shared room\", null], [99, \"Entire home/apt\", 80.0], [169, \"Entire home/apt\", 80.0], [319, \"Entire home/apt\", null], [349, \"Entire home/apt\", null], [232, \"Entire home/apt\", 100.0], [190, \"Entire home/apt\", 90.0], [229, \"Entire home/apt\", 97.0], [169, \"Entire home/apt\", null], [169, \"Entire home/apt\", 80.0], [159, \"Private room\", 80.0], [603, \"Entire home/apt\", 93.0], [80, \"Private room\", null], [349, \"Entire home/apt\", null], [120, \"Entire home/apt\", null], [275, \"Entire home/apt\", null], [155, \"Entire home/apt\", 97.0], [170, \"Entire home/apt\", null], [232, \"Entire home/apt\", null], [50, \"Private room\", null], [319, \"Entire home/apt\", 60.0], [67, \"Private room\", null], [219, \"Entire home/apt\", 97.0], [60, \"Shared room\", 80.0], [169, \"Entire home/apt\", 100.0], [279, \"Private room\", null], [210, \"Entire home/apt\", 90.0], [319, \"Entire home/apt\", 100.0], [123, \"Private room\", 87.0], [200, \"Entire home/apt\", 93.0], [180, \"Entire home/apt\", 87.0], [300, \"Entire home/apt\", 100.0], [249, \"Entire home/apt\", 78.0], [349, \"Entire home/apt\", 100.0], [279, \"Entire home/apt\", 93.0], [115, \"Entire home/apt\", 88.0], [87, \"Private room\", 100.0], [199, \"Entire home/apt\", 80.0], [603, \"Entire home/apt\", null], [57, \"Private room\", 100.0], [219, \"Entire home/apt\", 70.0], [319, \"Entire home/apt\", null], [169, \"Entire home/apt\", null], [195, \"Entire home/apt\", 80.0], [160, \"Entire home/apt\", 75.0], [200, \"Entire home/apt\", 98.0], [115, \"Private room\", 88.0], [229, \"Entire home/apt\", null], [319, \"Entire home/apt\", null], [56, \"Private room\", 100.0], [200, \"Entire home/apt\", 95.0], [89, \"Private room\", 89.0], [295, \"Entire home/apt\", 94.0], [299, \"Entire home/apt\", null], [1275, \"Private room\", null], [319, \"Entire home/apt\", 40.0], [89, \"Private room\", null], [249, \"Entire home/apt\", 76.0], [249, \"Entire home/apt\", null], [175, \"Private room\", null], [95, \"Entire home/apt\", 94.0], [100, \"Private room\", null], [245, \"Entire home/apt\", null], [200, \"Entire home/apt\", null], [63, \"Private room\", 100.0], [279, \"Entire home/apt\", 87.0], [209, \"Entire home/apt\", 98.0], [199, \"Entire home/apt\", 60.0], [96, \"Entire home/apt\", 89.0], [139, \"Entire home/apt\", 76.0], [50, \"Shared room\", null], [190, \"Entire home/apt\", 100.0], [70, \"Private room\", 83.0], [319, \"Entire home/apt\", 70.0], [175, \"Private room\", 93.0], [89, \"Private room\", 100.0], [319, \"Entire home/apt\", null], [150, \"Entire home/apt\", 92.0], [359, \"Entire home/apt\", 73.0], [309, \"Entire home/apt\", null], [260, \"Entire home/apt\", 80.0], [319, \"Entire home/apt\", null], [310, \"Entire home/apt\", 97.0], [155, \"Entire home/apt\", 100.0], [150, \"Private room\", 88.0], [115, \"Entire home/apt\", 85.0], [289, \"Entire home/apt\", 98.0], [279, \"Entire home/apt\", 94.0], [60, \"Private room\", null], [79, \"Shared room\", 98.0], [699, \"Entire home/apt\", 91.0]], \"hoverlabel\": {\"namelength\": 0}, \"hovertemplate\": \"<b>%{hovertext}</b><br><br>Neighborhood=Fenway<br>Price Per Night=%{customdata[0]}<br>Room Type=%{customdata[1]}<br>Rating (out of 100)=%{customdata[2]}<br>Latitude=%{lat}<br>Longitude=%{lon}\", \"hovertext\": [\"Sunny, large private room in an AMAZING location\", \"[1330-1C] Lux High Rise in Fenway\", \"[1125]Furnished 1BR\", \"[1246-2C]Lux 2BR - Fenway Area\", \"[1246-1C]Beautiful 1BRs - Fenway Area\", \"Back Bay Condo\", \"[1246]Beautiful 2BRs - Fenway Area\", \"Spacious, great location,\", \"A very clean place nearby subway\", \"Super big private room\", \"Best Apt near Longwood Medical\", \"Luxury 2BR Apt. in Boston Fenway\", \"Walking to Prudential and Newbury Street ;-)\", \"Centrally Located Luxury Apartment\", \"Nice and clean room in 2 bd apt\", \"Large Luxury Apt in Boston's Fenway\", \"Bright Back Bay Brownstone\", \"1 BR in Fenway\", \"Comfortable, Cozy and Value!\", \"Large loft across from Fenway Park!\", \"Private Room/Perfect Location!\", \"Take me to Fenway! Boston studio\", \"Unique Fenway/Back Bay/Copley 1 Bed\", \"Be in the Heart of Boston\", \"Ultimate Convenience!\", \"Renovated One Bedroom in Back Bay\", \"Boston @ Its Finest\", \"Experience ARTlab Back Bay\", \"Two Bedroom Kenmore Square\", \"Cozy luxury Apt near prudential Center\", \"Amazing Fenway Park Getaway\", \"Lux 1BR near Fenway w/WiFi\", \"Large Space in Living Room - Commonwealth Avenue\", \"Apartment in Fenway\", \"Fenway park in view! Boston Studio\", \"Sunny Riverview Right In Fenway!\", \"Entire 2nd Floor of Brownstone Near Fenway\", \"Penthouse in the heart of Fenway!\", \"Spacious Alcove Studio in Fenway\", \"Symphony Studio in Vintage Hotel\", \"Lux 1 BR in the Heart of Fenway\", \"Lux 2BR by Fenway w/WiFi\", \"Fascinating Cozy Apt  with parking\", \"Summer at The Heart of Boston\", \"Beautiful Studio in Fenway\", \"1BR Furnished apt in Boston Fenway\", \"BOSTON, FENWAY, BACKBAY, CAMBRIDGE\", \"Beautiful private room in center\", \"Lux 2BR by Fenway w/WiFi\", \"Lux 1BR by Fenway w/WiFi\", \"BACKBAY BOSTON\", \"Studio apartment in Fenway\", \"High End Designer In Great Location\", \"Cosy, Private Bedroom in Boston!\", \"Luxury 1BR in Boston/ Fenway Area\", \"Master BR, Street facing in the Heart of Boston!\", \"Abigayle's Bed and Breakfast (Single)\", \"Unique Fenway Loft \", \"Luxury Apartment in Fenway with Park View\", \"Moody Studio East \\u2013 Master Bedroom (BR 1 in plan)\", \"Beautiful flat steps from BackBay\", \"Lux 1BR by Fenway w/wifi\", \"Cozy 1-Bedroom in Fenway/Brookline\", \"Private room at the heart of Boston\", \"Downtown housing, warm and\", \"In the Heart of Back Bay, Boston\", \"Cozy private room near Fenway Park\", \"Abigayle's Bed and Breakfast 4A (2 twins or king)\", \"Boylston Street, Lux 1bd Fenway Cultural District\", \"Beautiful Private Room in Kenmore\", \"Beautiful  1 br/1 bth apartment in Fenway/Back bay\", \"Large bedroom in a two bedroom apt.\", \"[1330-2] Lux 2BR in The Fenway\", \"Private Basement King Suite w/ Bath\", \"Spacious Modern two bedroom two bath in prime location\", \"Lux Furnished 2BR in Boston/ Fenway\", \"Cozy room at the heart of Boston\", \"Private Room in Back Bay Boston! SEPT 1 - JAN!\", \"Modern Apartment in Back Bay Boston\", \"Private Room Near Newbury Street\", \"Lux 1BR by Fenway w/WiFi\", \"Lux 2BR in Fenway w/rooftop lounge\", \"Boston University Graduate Students Apartment\", \"Comfy sofa bed right in the Fenway\", \"Clean Studio, Great Location\", \"Lux 2BR by Fenway w/WiFi\", \"Big, Bright, Boston Brownstone\", \"Lux 1BR by Fenway w/WiFi\", \"Lovely 1 Br In Fenway, close to Back Bay\", \"Big Beautiful Room Near Fenway Park\", \"Fenway Park/Kenmore Square Flat\", \"LOCATION! SAFE,CENTRAL CITY! CHARM!\", \"Studio, 2 min walk Symphony T/Hynes\", \"Awesome neighborhood close to everything\", \"Lux 2BR by Fenway w/Wifi\", \"1 br Walking Distance to Fenway\", \"Luxury 2BR in Boston & Fenway\", \"Airbed +/- couch in Fenway near Longwood and Hynes\", \"Cozy Fenway Studio, Be Our Guest!\", \"Perfect Location! Cheap price - NO FURNITURE\", \"Centrally located single room in Fenway/Backbay\", \"1085 Boylston St. ARTlab, 1 Bed Apt, Boston\", \"Centrally located, cozy studio\", \"Great location, cozy, comfortable\", \"Charming Private Suite w/Patio\", \"Perfect! Fenway Park Drive Apartment, Superb View!\", \"Boston Fenway furnished 2br apt.\", \"Luxury 2BR Boston Apt.\", \"Getaway on Boston Marathon route\", \"Cozy Private Room in Fenway/Kenmore\", \"[1330-2/1] Lux 2BR in The Fenway\", \"Lux Furnished 2BR Boston Apt.\", \"Lux 2BR by Fenway w/WiFi\", \"Private Room & Bath In Kenmore Sq\", \"Beautiful 1 Bedroom Next to Fenway!\", \"Single room available for month of July\", \"[1330-1D] Lux 1BR  w/ Den - Fenway\", \"Boylston Street, Lux 2bd Fenway Cultural District*\", \"2BR Lux Apt. in Boston Fenway\", \"Lux Fully Furnished 1BR Boston Apt.\", \"AMAZING Apt in the center of city!\", \"The place to be. Believe me and bnb\", \"New Lux 1BR at Fenway\", \"Private room in the heart of Boston BREAKFAST&COFF\", \"Luxury 2BR in Boston/ Fenway Area.\", \"Private room in 2BR apt\", \"Lux 1BR in Fenway w/rooftop lounge\", \"Massachusetts Ave, Lux 2 Bd Back Bay area\", \"Back Bay, Walking to Convention or Newbury or T!\", \"Cozy apartment in Fenway\", \"2BR Boston Fully Furnished Apt.\", \"New Luxury 2BR Apt at Fenway\", \"47 Symphony Road, Apt 501\", \"Lux Furnished 1BR Boston Apt.\", \"Private room in a 1 BR\", \"Sunny & beautiful! Walk everywhere!\", \"Homey Studio in Back Bay\", \"Cozy, convenient Fenway 1 BR\", \"FENWAY PARK, EMMANUEL, Green line T, Easy!!\", \"New Luxury 2BR Apt at Fenway\", \"Lux Furnished 1BR Boston Apt.+Pool!\", \"Cozy Home in the Back Bay of Boston\", \"Boston Fenway 2BR Furnished Apt.\", \"Sunny Studio at Fenway\", \"Luxury 1BR at Boston Fenway Area\", \"Studio in Fenway. Near BU & Longwood Medical Area.\", \"Cozy apartment, awesome location\", \"New Luxury 2BR Apt. at Fenway\", \"Great location bedroom 1.10 - 1.15\", \"Fenway Park Luxury Stay\", \"Nice and clean apt in Boston\", \"Sunny Brownstone - Sleeps 5\", \"Boylston Street, Lux 2bd Fenway Cultural District\", \"Gorgeous, spacious apartment close to everything\", \"Lux 2br in Boston Fenway\", \"Cozy Luxury Apt in Boston/Backbay/Fenway/Symphony\", \"Luxury brownstone close to Fenway with river views\", \"1 bd Walking distance to Fenway\", \"Riverview! WALK EVERYWHERE. Best Central Location.\", \"1 Bd Walking Distance to Fenway\", \"New Luxury 2BR-Apartment at Fenway\", \"Lux 2BR by Fenway w/WiFi\", \"BU & Fenway Backbay\", \"NEW - Bold 1BR in Back Bay\", \"Modern & spacious studio for two\", \"New Luxury 2BR Apartment at Fenway\", \"Lux Fully Furnished 1BR Boston Apt\", \"Nice 1 BR on the park\", \"Fens Parkside Studio\", \"Lux Furnished Boston 2BR Apt+ Pool!\", \"Clean, Sunny, Quiet, 1-Bedroom Apt.\", \"Room in Fenway w/ Private Bathroom\", \"Private apartment on Newbury Street\", \"Luxury 1BR Boston Apt.\", \"Lux 1 BR in the Heart of Fenway\", \"Boston Brownstone\", \"Light-filled, central apartment\", \"Location! Spacious with patio\", \"2BR Penthouse Blocks from Fenway\", \"Lux Furnished 1BR in Boston Fenway\", \"Lux 2 BR 2BTH near Fenway w/WiFi \", \"Spacious room in Back Bay\", \"Boston around the block,fenway park\", \"A room in the heart of Boston\", \"New Luxury 2BR Apt. at Fenway\", \"Sunny room in great Boston location\", \"In the heart of Boston!!! Fenway\", \"Brownstone Penthouse near Fenway\", \"Charming Bedroom in Kenmore\", \"Lux Furnished Boston Fenway 2br Apt\", \"New Luxury 1BR Apartment at Fenway\", \"AMAZING LOCATION - Back Bay/ Symphony\", \"Comfortable Studio in Fenway Area\", \"1085 Boylston St. ARTlab, 1 Bed Apt, Boston\", \"Room in Apartment, Full Size Bed and Clawfoot Tub\", \"Lux 2br Boston Fenway Apt.\", \"1BR Furnished Apt in Boston Fenway\", \"Centrally located studio apartment\", \"Kenmore Square , Studio apartment\", \"shared room in the heart of Boston\", \"Back bay close to Charles river\", \"Luxury 1BR Apt in Fenway Area\", \"Furnished 2br apt. in Boston Fenway\", \"New Luxury 1BR Apartment In Fenway\", \"Massachusetts Ave, Lux 1 Bd Back Bay area\", \"Beautiful 1 BR - Perfect Location\", \"Private Fenway Apartment\", \"Boston Fennway lux 1br apt.\", \"Lux 1BR Furnished Boston Apt.\", \"Convenient Studio in Fenway Area\", \"Lux 2 BR in the Heart of Fenway\", \"Beautiful Back Bay Apartment\", \"Lux Furnished 1BR Apt. in Boston\", \"Private Apartment Fenway\", \"Fantastic Renovated Fenway Studio\", \"A Cozy Corner of Boston\", \"Lovely studio in Boston\", \"Massachusetts Ave, Lux 1 Bd Back Bay area**\", \"Near NEU private room subletting.\", \"2br Lux Apt. in Boston Fenway\", \"Large bedroom near Symphony Hall\", \"Lux 1BR by Fenway w/WiFi\", \"Spacious Apartment at Boylston st.\", \"Luxury 1BR Boston Apt in Fenway\", \"Modern Chic private bedroom in lovely residence!\", \"Parkside and sunny with a view\", \"Luxurious 2Br apt. in Boston Fenway\", \"Large Bedroom, heart of Back Bay\", \"Cozy, Convenient Back Bay Home\", \"Beautiful 1 Bed in Back Bay/Fenway\", \"Back Bay with Style\", \"[1125-1]Furnished 1BR - Landmark Square\", \"[1246-2C]Elegant 2BRs - Fenway Area\", \"Lux 2BR by Fenway w/WiFi\", \"Back Bay, Fenway, Newbury, MIT, BU\", \"Bedroom in Heart of Fenway\", \"Luxury 2BR/2BA Apt. + Outdoor Pool!\", \"Lux 2 BR in the Heart of Fenway\", \"Beautiful room in the Fenway area\", \"Lux 1BR by Fenway w/WiFi\", \"Lux 2br Boston Fenway  Apt.\", \"Luxury 1BR in Boston Fenway\", \"Boston - Fenway Large Studio\", \"Cozy Apt in Symphony/Fenway\", \"Fenway 1BD in 1920s building.\", \"Private Room in the Heart of Boston\", \"Luxury 1BR in Boston Fenway\", \"Furnished 2br Boston Fenway Apt.\", \"Room in the heart of downtown Boston\", \"South End / Fenway / Back Bay Unit #4\", \"Cozy room at Fenway\", \"Brand New Apt in Great Location!\", \"New and luxurious 1 Bedroom in Fenway\", \"Sublet on Hemenway Street - June!\", \"2br Lux Apt. in Boston Fenway\", \"Sunny room in 2 bd apt\", \"2 br Walking Distance to Fenway\", \"New Luxury 1BR Apt Near Fenway Park\", \"Abigayle's Bed and Breakfast (Queen) $155 deal\", \"New, furnished 1 bedroom apt w gym\", \"Kenmore Fenway Apartment\", \"Bay State in the Back Bay\", \"Awesome apt in Fenway!\", \"Summer at The Heart of Boston - Back Bay Fenway\", \"Lux 2BR by Fenway w/WiFi\", \"1 br Walking Distance to Fenway\", \"Luxury 2BR in Boston/ Fenway Area\", \"Gorgeous Studio in Fenway\", \"Spacious Kenmore Square Studio\", \"Shared room\", \"Nice apt near Fenway Park\", \"Spacious room next to Fenway Park!\", \"Luxury 2BR in Boston & Fenway Area\", \"Loft Apartment Steps from Fenway\", \"Sunny Bedroom Overlooking Fenway Park - Convenient\", \"Luxury 2BR Apt. in Boston Fenway\", \"Studio Apartment in Fenway\", \"[1246-1NE]Luxury 1BR - Fenway Area\", \"[1246-1C] Lux 1BR in The Fenway\", \"Cozy Two bedroom apartment\", \"Lux Furnished 2BR Boston Fenway Apt\", \"Right at Fenway Park\", \"Comfy 1 Bedroom, Centrally Located\", \"One Bedroom available\", \"Fenway Park Top Floor Quiet Gem\", \"1085 Boylston St. ARTlab, 1 Bed Apt, Boston\", \"Lux 2BR by Fenway w/WiFi\", \"Private Room on Hemenway, NEU\", \"Comfy couch, Centrally located\", \"There's No Place Like {Our} Home\"], \"lat\": [42.34648892987342, 42.34500940952589, 42.34392158932087, 42.343452988176544, 42.34347120103421, 42.34537074680644, 42.3448650479359, 42.34513001358319, 42.34324137136411, 42.345200652691716, 42.34365442169048, 42.34585932124852, 42.34485729820837, 42.345692770394365, 42.34684955375407, 42.343124777885976, 42.351174079188254, 42.34058426395056, 42.3420629672256, 42.34674633742564, 42.34238757407687, 42.346214572781896, 42.34715285129972, 42.34671824075804, 42.34639848830777, 42.350703329871294, 42.34737368918427, 42.345993782692354, 42.34861778717707, 42.34207736574011, 42.34585845836077, 42.3441748042941, 42.35009465594818, 42.34727284133626, 42.34772633759232, 42.34980103768957, 42.350929229242354, 42.349869561971744, 42.340920812780936, 42.34310503954213, 42.34432418748784, 42.3448346779175, 42.34590449189773, 42.345705578513936, 42.34184082037552, 42.34511496657015, 42.33985736472141, 42.34128360140666, 42.34326521956145, 42.34355204301636, 42.35033913578852, 42.350600927736245, 42.3449627659556, 42.341719032555055, 42.34433172722542, 42.345817498878546, 42.349138905986074, 42.34496492832496, 42.341748825358785, 42.35108170954357, 42.34483908010575, 42.343221756973186, 42.346908960636355, 42.343236914891946, 42.34273793782018, 42.34753480529132, 42.34642037798823, 42.350122043850334, 42.34510900193237, 42.350690326175155, 42.34335155773515, 42.34108602617306, 42.34362397838654, 42.34474440827884, 42.344280206371685, 42.345061835994436, 42.34427749855779, 42.344239141790574, 42.344207023435715, 42.34157934373431, 42.34460149136394, 42.344850179708594, 42.347683222959695, 42.34462657762814, 42.34712940716668, 42.3433955561153, 42.35047342713808, 42.34467657034124, 42.347062381218976, 42.344009807626975, 42.34793449772825, 42.35062446583269, 42.34275720922771, 42.34066596606258, 42.34504432485178, 42.34689009807004, 42.343752897067844, 42.34106024812434, 42.34405744614325, 42.346549850616825, 42.34722290241486, 42.34771223310568, 42.34753064431261, 42.34387380101389, 42.3420103245964, 42.34315877577973, 42.34337636107528, 42.34488256371823, 42.346455204678826, 42.346264426362055, 42.34401101498641, 42.34386365090381, 42.344723596176884, 42.34978248340333, 42.346340618880035, 42.34914402100308, 42.34337078514997, 42.34399794480785, 42.34394512362957, 42.34297065784965, 42.342139532575686, 42.34116407203106, 42.34505188467318, 42.342409775993616, 42.34457204336622, 42.345259217849744, 42.344003650308316, 42.343256594248366, 42.350877524528244, 42.34525254120465, 42.344959775013045, 42.34455666558026, 42.343388540551736, 42.34362171747609, 42.34823296137953, 42.34773309500346, 42.34417120641239, 42.344612051493186, 42.34259188863477, 42.344422942721216, 42.34468694358433, 42.346858065284366, 42.345484415063545, 42.346456282737456, 42.345222614522406, 42.34612850259963, 42.3509751137914, 42.343728808658845, 42.34692068773777, 42.34480027172285, 42.34709221414067, 42.343160232924035, 42.34370039951436, 42.34912068235384, 42.34444183694495, 42.34244651085425, 42.34920943200752, 42.345926828493255, 42.34947355506917, 42.347703669133296, 42.343405099372866, 42.34517102063217, 42.349590382053925, 42.349385995278276, 42.34086101708686, 42.34373315783049, 42.34492195078808, 42.342812174111636, 42.34142533621303, 42.34470967313529, 42.34399140840272, 42.34464188501917, 42.34600160221447, 42.34474158295014, 42.34431251506554, 42.34618873365362, 42.34598257268191, 42.3459800183596, 42.34387262842771, 42.34317272439679, 42.343896219455594, 42.34326408050333, 42.34569073544391, 42.34356435934461, 42.345165258442336, 42.34808230881935, 42.34256487175279, 42.34566831507417, 42.35076325444177, 42.34301558306146, 42.34492728061189, 42.34532140556758, 42.34349185767582, 42.34621843364542, 42.34403683136278, 42.344542940595176, 42.344796782290146, 42.34297584607278, 42.34867013464364, 42.34715628319671, 42.350479375457795, 42.343517105459256, 42.34340237726134, 42.34374891538087, 42.34522598419493, 42.34390103688957, 42.343450464706656, 42.34469619798434, 42.34565345606737, 42.343118444607406, 42.34354262597277, 42.34453695841538, 42.34377187732301, 42.3421438681176, 42.34125006144164, 42.346334759764105, 42.341807827040576, 42.343707748339966, 42.34371180401596, 42.34475584567394, 42.342631849591115, 42.34324822859435, 42.347358796996716, 42.34386614247122, 42.34806214578079, 42.34298008229919, 42.345257343838895, 42.34766793373452, 42.34414641149264, 42.35045050612738, 42.346784698665424, 42.34394424882334, 42.34296742058889, 42.34345804087656, 42.35110882082372, 42.34211255209776, 42.344894929169975, 42.34432354861778, 42.34412911452888, 42.345377547846496, 42.34471795950652, 42.34548324231236, 42.341911181688815, 42.34427442751305, 42.342692314760214, 42.3420573748055, 42.34349333602471, 42.34455755054201, 42.34213596859539, 42.34140073858634, 42.34299689044306, 42.34408527141049, 42.34472737509119, 42.34185766197388, 42.34535220761722, 42.34629722801002, 42.345540519508255, 42.343495695672885, 42.350870020777435, 42.3462681379072, 42.345853561678574, 42.350282991983455, 42.343659746902354, 42.34517107002555, 42.34406564770265, 42.34743398890462, 42.344500447366784, 42.342340469850285, 42.350234161439964, 42.34615600803886, 42.3432146879702, 42.3437215720711, 42.34330543250397, 42.34626084236082, 42.341918191079095, 42.3454216464319, 42.345823454552594, 42.34466002570738, 42.3430336391265, 42.34918532856111, 42.34523403119788, 42.34668620128948, 42.34559710815953, 42.34796237695333, 42.342703065311255, 42.345854314522036, 42.343299155277364, 42.34148305308143, 42.34452373216799, 42.34122489190963], \"legendgroup\": \"Neighborhood=Fenway\", \"lon\": [-71.09214601176934, -71.09872441400223, -71.09720065389364, -71.10166759098243, -71.10038331384595, -71.0889434641747, -71.10259974303018, -71.0907417961298, -71.08678332976034, -71.08891765491879, -71.10056297431775, -71.10011757002653, -71.08806211467696, -71.0877582347425, -71.1033725898693, -71.10143718886964, -71.08998038575538, -71.09941364223958, -71.09752654588951, -71.09977194774844, -71.09725113569735, -71.09372008506031, -71.09299046608885, -71.08785507554508, -71.08833422206777, -71.09069811786318, -71.08906278810224, -71.08864693343483, -71.0922023606865, -71.08456532224928, -71.08958270661267, -71.09847907805019, -71.10681797693022, -71.09473095278784, -71.09394751834036, -71.09535022756495, -71.09919306244385, -71.09886145358124, -71.09715098175862, -71.08839911027161, -71.09916558282711, -71.1000629656702, -71.10469067280206, -71.08952424209427, -71.1013802676703, -71.10037999942826, -71.0938278689629, -71.08567288767645, -71.10061666678733, -71.10237300108076, -71.10117365617155, -71.0947506114408, -71.1045331067329, -71.08889491975026, -71.10097607447086, -71.08757334848904, -71.10368824958387, -71.09922517382306, -71.09203402386727, -71.09030968511986, -71.08935480178855, -71.10007916211529, -71.10492804923544, -71.09650008034173, -71.08843142726289, -71.08893981026479, -71.09368977215709, -71.10239512043519, -71.09667172524709, -71.09782767375795, -71.08897082850042, -71.08825201698589, -71.09792813561556, -71.10416334482102, -71.0977103581332, -71.10172523244051, -71.09506495653572, -71.08935568628476, -71.08881428490555, -71.0874060516473, -71.10171897944389, -71.09752630598851, -71.1066369849853, -71.09490790158945, -71.09444160267505, -71.10105888205605, -71.09723150233542, -71.10105938923522, -71.09469223198828, -71.08808873027532, -71.09757989112373, -71.09486023227228, -71.09012122502668, -71.10010512662683, -71.10009298346712, -71.1038083917513, -71.10035282684015, -71.09831038367071, -71.09806546039562, -71.09290997662639, -71.09578631740341, -71.0900557427862, -71.10353120295443, -71.08789068803972, -71.08726558589241, -71.09434510009854, -71.10127793822726, -71.1013972866695, -71.10340581785736, -71.10295984636005, -71.09881498886284, -71.0998413496242, -71.10009714488663, -71.09596831896908, -71.09005111125059, -71.09830532558644, -71.09870840549256, -71.09661564844754, -71.1002404895735, -71.09981162063914, -71.0884137184413, -71.09026447274216, -71.0982486266633, -71.08670020248447, -71.09980814904063, -71.08827635019786, -71.09772749589216, -71.08613203521625, -71.09015261482372, -71.10416801082168, -71.10183348705235, -71.09865503327505, -71.08832040505789, -71.09797075902681, -71.09454743882235, -71.10347595359238, -71.08938917836798, -71.0879275502053, -71.10111717978636, -71.09890810231927, -71.09836458279456, -71.0950933183018, -71.10207410221126, -71.10415928483286, -71.10056885149133, -71.10656394116631, -71.09750848108966, -71.09900791813267, -71.09449196369121, -71.1010930661855, -71.1049978335482, -71.08574162281444, -71.09752132395924, -71.09188770795085, -71.10191008403855, -71.08705936962791, -71.09281102192287, -71.10416646741119, -71.09264659076742, -71.10262046145792, -71.09846945432243, -71.10049715916622, -71.09855936724783, -71.09432079825983, -71.08828863604951, -71.09932286904042, -71.10009487037276, -71.0977477894277, -71.09861340686845, -71.0977716673706, -71.0879383570553, -71.0989853611843, -71.08907522652224, -71.09970459637874, -71.09818505666581, -71.08887220972629, -71.08971660461708, -71.08883881053703, -71.09796310187531, -71.10119771091831, -71.09878066169898, -71.0909115119398, -71.09326627246774, -71.086233441572, -71.1002281921089, -71.10160119450103, -71.09661423663702, -71.10465152038742, -71.09525948182029, -71.0998557698006, -71.09931152792825, -71.08748549948186, -71.10053674708269, -71.0884587364036, -71.09470793139046, -71.09930837828419, -71.10174879415875, -71.08793266053452, -71.09442102048162, -71.08932037429881, -71.09375666632826, -71.10204141203265, -71.09945478281419, -71.09882810819722, -71.08771842663002, -71.08754058969058, -71.09152371357774, -71.10114763507123, -71.10000603751296, -71.09383553031367, -71.09848601615046, -71.0872044500859, -71.10078307596594, -71.098756806957, -71.0983956814528, -71.08832312205183, -71.08998728516382, -71.08615963886952, -71.08925539044678, -71.10062117823438, -71.08757801587305, -71.10065557437302, -71.09440392313391, -71.10226740968201, -71.08831382973688, -71.09438435450514, -71.1017419992736, -71.08939147035109, -71.08795154871889, -71.09289954066196, -71.08951117990317, -71.0983093544992, -71.10251384943079, -71.10063537045478, -71.08965358765816, -71.09540606751995, -71.10003130040046, -71.09756328902589, -71.09050916713635, -71.10001766211451, -71.0993000485672, -71.10137047880296, -71.10230378993293, -71.08855605742205, -71.09987493916023, -71.08633370764008, -71.10056169574877, -71.10136772740505, -71.09009915775971, -71.08422337234195, -71.09949188062751, -71.0964367666906, -71.09981247312481, -71.08904436916148, -71.10203036617204, -71.10404420203005, -71.10235883853902, -71.09744934494148, -71.10197771354284, -71.10431989090918, -71.10363227282186, -71.09423941766819, -71.09965337626295, -71.0879522842409, -71.10174320278966, -71.10256420815412, -71.10204139520458, -71.09100957047681, -71.09295487209405, -71.09251527861801, -71.101006733526, -71.08912359024066, -71.10148920547795, -71.09957111666637, -71.09001377006122, -71.09988207830347, -71.08936151129126, -71.10043857054194, -71.10060763073669, -71.09566835002046, -71.10037894040879, -71.09852777006469, -71.08781270864434, -71.09706443543142, -71.09623777329331, -71.08827174705465, -71.10016290573292, -71.08952025969612, -71.08683719659065, -71.0943622960716], \"marker\": {\"color\": \"olivedrab\", \"opacity\": 0.4, \"size\": [45, 249, 349, 349, 309, 350, 349, 158, 80, 1372, 275, 319, 140, 200, 85, 375, 225, 100, 67, 175, 99, 99, 127, 225, 300, 199, 300, 300, 200, 150, 75, 228, 99, 99, 99, 298, 200, 299, 90, 155, 285, 279, 140, 60, 130, 189, 88, 60, 279, 219, 140, 140, 160, 75, 239, 74, 125, 135, 125, 120, 100, 219, 100, 77, 55, 300, 85, 175, 232, 77, 140, 60, 349, 213, 570, 319, 89, 97, 175, 100, 219, 429, 30, 80, 120, 279, 192, 219, 220, 69, 4000, 295, 85, 60, 279, 239, 199, 83, 189, 229, 85, 289, 110, 175, 149, 200, 319, 319, 260, 50, 349, 319, 279, 80, 199, 77, 259, 326, 199, 169, 70, 98, 349, 90, 319, 70, 379, 315, 200, 145, 319, 199, 52, 169, 75, 193, 155, 150, 299, 199, 169, 103, 319, 120, 169, 72, 160, 199, 52, 100, 160, 200, 315, 250, 319, 180, 220, 199, 310, 238, 199, 279, 135, 169, 142, 199, 169, 225, 150, 199, 155, 110, 275, 229, 285, 400, 190, 79, 500, 169, 241, 100, 99, 90, 199, 100, 200, 395, 90, 319, 349, 65, 159, 289, 80, 319, 189, 150, 150, 750, 99, 169, 319, 349, 232, 190, 229, 169, 169, 159, 603, 80, 349, 120, 275, 155, 170, 232, 50, 319, 67, 219, 60, 169, 279, 210, 319, 123, 200, 180, 300, 249, 349, 279, 115, 87, 199, 603, 57, 219, 319, 169, 195, 160, 200, 115, 229, 319, 56, 200, 89, 295, 299, 1275, 319, 89, 249, 249, 175, 95, 100, 245, 200, 63, 279, 209, 199, 96, 139, 50, 190, 70, 319, 175, 89, 319, 150, 359, 309, 260, 319, 310, 155, 150, 115, 289, 279, 60, 79, 699], \"sizemode\": \"area\", \"sizeref\": 10.0}, \"mode\": \"markers\", \"name\": \"Neighborhood=Fenway\", \"showlegend\": true, \"subplot\": \"mapbox\", \"type\": \"scattermapbox\"}, {\"customdata\": [[100, \"Entire home/apt\", null], [99, \"Entire home/apt\", 94.0], [55, \"Private room\", 80.0], [198, \"Entire home/apt\", 100.0], [55, \"Private room\", 80.0], [69, \"Private room\", 94.0], [45, \"Private room\", 90.0], [45, \"Entire home/apt\", 93.0], [55, \"Private room\", 100.0], [60, \"Private room\", 97.0], [75, \"Private room\", null], [31, \"Private room\", null], [125, \"Private room\", 96.0], [120, \"Entire home/apt\", 100.0], [59, \"Private room\", 97.0], [73, \"Private room\", 100.0], [40, \"Private room\", null], [120, \"Entire home/apt\", null], [50, \"Private room\", 87.0], [65, \"Private room\", 93.0], [65, \"Private room\", 80.0], [88, \"Private room\", 87.0], [55, \"Private room\", null], [60, \"Shared room\", 100.0], [225, \"Entire home/apt\", 93.0], [250, \"Entire home/apt\", 100.0], [65, \"Private room\", 88.0], [65, \"Private room\", 71.0], [70, \"Private room\", 87.0], [80, \"Private room\", 97.0], [35, \"Private room\", 92.0], [81, \"Private room\", 90.0], [25, \"Shared room\", null], [40, \"Private room\", null], [100, \"Private room\", null], [79, \"Private room\", null], [325, \"Private room\", 87.0], [84, \"Entire home/apt\", 93.0], [39, \"Private room\", null], [70, \"Private room\", 95.0], [74, \"Private room\", 94.0], [70, \"Private room\", 100.0], [65, \"Private room\", 87.0], [100, \"Private room\", null], [70, \"Private room\", 87.0], [60, \"Private room\", 90.0], [29, \"Private room\", 80.0], [90, \"Private room\", 60.0], [31, \"Private room\", 100.0], [50, \"Private room\", 94.0], [45, \"Private room\", 95.0], [59, \"Private room\", null], [57, \"Private room\", 87.0], [70, \"Private room\", 93.0], [55, \"Private room\", 88.0], [31, \"Private room\", 90.0], [65, \"Private room\", 94.0], [59, \"Private room\", 75.0], [70, \"Private room\", 90.0], [49, \"Entire home/apt\", null], [51, \"Private room\", 94.0], [83, \"Private room\", 96.0], [75, \"Private room\", 96.0], [73, \"Private room\", 87.0], [120, \"Entire home/apt\", 100.0], [85, \"Private room\", 100.0], [60, \"Shared room\", 100.0], [105, \"Private room\", 80.0], [60, \"Private room\", 95.0], [115, \"Private room\", 98.0], [60, \"Private room\", null], [115, \"Entire home/apt\", null], [165, \"Private room\", 100.0], [264, \"Entire home/apt\", 100.0], [59, \"Private room\", 100.0], [110, \"Entire home/apt\", 92.0], [90, \"Private room\", 97.0], [140, \"Private room\", 92.0], [120, \"Entire home/apt\", 100.0], [65, \"Private room\", 50.0], [70, \"Private room\", 93.0], [100, \"Private room\", 97.0], [34, \"Private room\", 95.0], [65, \"Private room\", 74.0], [60, \"Private room\", 83.0], [55, \"Private room\", null], [179, \"Entire home/apt\", null], [200, \"Entire home/apt\", null], [85, \"Entire home/apt\", 100.0], [75, \"Private room\", 81.0], [119, \"Private room\", null], [75, \"Private room\", 97.0], [109, \"Entire home/apt\", 87.0], [100, \"Private room\", 98.0], [45, \"Private room\", 83.0], [76, \"Private room\", 96.0], [45, \"Private room\", 80.0], [49, \"Private room\", 64.0], [60, \"Private room\", 93.0], [49, \"Private room\", 64.0], [69, \"Private room\", 82.0], [96, \"Entire home/apt\", 60.0], [45, \"Shared room\", 93.0], [89, \"Private room\", 100.0], [100, \"Private room\", 90.0], [55, \"Private room\", null], [85, \"Private room\", 100.0], [150, \"Private room\", null], [95, \"Private room\", 83.0], [200, \"Entire home/apt\", 100.0], [35, \"Private room\", 100.0], [68, \"Private room\", 69.0], [31, \"Private room\", null], [80, \"Private room\", 100.0], [65, \"Private room\", 55.0], [135, \"Private room\", null], [69, \"Private room\", 85.0], [50, \"Private room\", 93.0], [76, \"Private room\", 97.0], [79, \"Private room\", 97.0], [100, \"Private room\", 100.0], [82, \"Private room\", 91.0], [80, \"Private room\", 91.0], [160, \"Entire home/apt\", 90.0], [60, \"Private room\", 99.0], [95, \"Entire home/apt\", 87.0], [144, \"Entire home/apt\", 80.0], [45, \"Private room\", 97.0], [100, \"Private room\", null], [135, \"Private room\", null], [150, \"Entire home/apt\", 100.0], [44, \"Private room\", null], [65, \"Private room\", 89.0], [64, \"Private room\", 91.0], [75, \"Private room\", 91.0], [189, \"Entire home/apt\", null], [75, \"Private room\", 89.0], [55, \"Private room\", 96.0], [65, \"Private room\", 89.0], [75, \"Private room\", 82.0], [65, \"Private room\", 93.0], [49, \"Private room\", null], [80, \"Private room\", 100.0], [45, \"Private room\", 98.0], [62, \"Private room\", 100.0], [60, \"Private room\", null], [55, \"Private room\", null], [65, \"Private room\", 93.0], [70, \"Private room\", 99.0], [40, \"Private room\", 94.0], [80, \"Shared room\", 95.0], [175, \"Entire home/apt\", 95.0], [200, \"Entire home/apt\", 90.0], [153, \"Entire home/apt\", null], [59, \"Private room\", 89.0], [45, \"Private room\", 92.0], [160, \"Entire home/apt\", null], [125, \"Entire home/apt\", 93.0], [63, \"Private room\", 78.0], [49, \"Private room\", 88.0], [72, \"Private room\", 66.0], [130, \"Entire home/apt\", 88.0], [80, \"Private room\", null], [31, \"Private room\", 100.0], [67, \"Private room\", 92.0], [129, \"Entire home/apt\", 60.0], [56, \"Private room\", 86.0], [70, \"Private room\", 80.0], [175, \"Entire home/apt\", 93.0], [300, \"Entire home/apt\", 99.0], [125, \"Entire home/apt\", 93.0], [80, \"Private room\", 80.0], [100, \"Private room\", null], [65, \"Private room\", null], [65, \"Private room\", 70.0], [72, \"Private room\", 93.0], [68, \"Private room\", 40.0], [70, \"Private room\", 90.0], [125, \"Entire home/apt\", 93.0], [150, \"Entire home/apt\", 97.0], [65, \"Private room\", 89.0], [89, \"Entire home/apt\", 83.0], [70, \"Private room\", 77.0], [52, \"Private room\", 92.0], [38, \"Private room\", 100.0], [165, \"Entire home/apt\", 96.0], [80, \"Private room\", 97.0], [135, \"Private room\", null], [60, \"Private room\", 73.0], [35, \"Private room\", 94.0], [44, \"Shared room\", null], [31, \"Private room\", 73.0], [46, \"Private room\", 71.0], [95, \"Entire home/apt\", 40.0], [100, \"Private room\", 93.0], [47, \"Private room\", 98.0], [99, \"Private room\", 100.0], [96, \"Private room\", 93.0], [144, \"Entire home/apt\", 95.0], [126, \"Entire home/apt\", 88.0], [77, \"Private room\", 97.0], [165, \"Entire home/apt\", 87.0], [142, \"Entire home/apt\", 87.0], [175, \"Entire home/apt\", 87.0], [195, \"Entire home/apt\", 97.0], [59, \"Private room\", 70.0], [135, \"Entire home/apt\", 96.0], [39, \"Private room\", 100.0], [250, \"Entire home/apt\", null], [88, \"Private room\", 91.0], [60, \"Private room\", 90.0], [68, \"Private room\", 100.0], [56, \"Private room\", 89.0], [79, \"Private room\", 93.0], [63, \"Private room\", 97.0], [55, \"Private room\", 47.0], [100, \"Private room\", 98.0], [150, \"Entire home/apt\", 93.0], [300, \"Entire home/apt\", 87.0], [168, \"Entire home/apt\", 93.0], [150, \"Private room\", 95.0], [79, \"Private room\", 100.0], [70, \"Private room\", 100.0], [35, \"Private room\", 80.0], [73, \"Private room\", 100.0], [65, \"Private room\", 90.0], [275, \"Entire home/apt\", 100.0], [78, \"Private room\", 96.0], [52, \"Private room\", 73.0], [39, \"Private room\", null], [100, \"Private room\", 100.0], [60, \"Private room\", 83.0], [65, \"Private room\", 91.0], [60, \"Private room\", 77.0], [100, \"Entire home/apt\", 100.0], [60, \"Private room\", null], [40, \"Private room\", 96.0], [175, \"Entire home/apt\", 100.0], [108, \"Private room\", 96.0], [65, \"Private room\", 73.0], [144, \"Entire home/apt\", 97.0], [79, \"Private room\", 93.0], [60, \"Private room\", 93.0], [65, \"Private room\", 80.0], [185, \"Entire home/apt\", null], [150, \"Private room\", 98.0], [80, \"Private room\", 80.0], [395, \"Entire home/apt\", 85.0], [55, \"Private room\", 20.0], [164, \"Entire home/apt\", 92.0], [70, \"Private room\", 92.0], [300, \"Entire home/apt\", 93.0], [85, \"Private room\", 100.0], [58, \"Private room\", 100.0], [150, \"Entire home/apt\", 100.0], [76, \"Private room\", 80.0], [37, \"Private room\", 90.0], [130, \"Entire home/apt\", 87.0], [180, \"Entire home/apt\", 90.0], [35, \"Private room\", 100.0], [51, \"Shared room\", 100.0], [225, \"Entire home/apt\", 75.0], [29, \"Shared room\", null], [36, \"Private room\", null], [199, \"Entire home/apt\", 88.0], [75, \"Private room\", 91.0], [69, \"Private room\", 82.0], [31, \"Private room\", 90.0], [84, \"Entire home/apt\", 81.0]], \"hoverlabel\": {\"namelength\": 0}, \"hovertemplate\": \"<b>%{hovertext}</b><br><br>Neighborhood=Dorchester<br>Price Per Night=%{customdata[0]}<br>Room Type=%{customdata[1]}<br>Rating (out of 100)=%{customdata[2]}<br>Latitude=%{lat}<br>Longitude=%{lon}\", \"hovertext\": [\"Convenient 1 Bedroom Apartment\", \"Excellent 1 Bedroom Apartment\", \"Lovely cozy room close to Subway\", \"Luxury Duplex Apartment\", \"Cozy room, 2 min walk to redline T\", \"Comfort in Historic Melville Park 1\", \"Harmonious and friendly place\", \"Nice Cozy Room #2\", \"Cozy room in host's apt near train\", \"Room with Single Bed\", \"Close to the zoo, shops and T\", \"Convenient Private Room with Airbed\", \"2 Bedrms, 2 Priv Bath&Priv Entrance\", \"Gorgeous 2 BR In Boston\", \"Cozy, room located near bus (to train station)\", \"Great Brownstone-Private Room\", \"A small cozy room outside of Boston\", \"Gorgeous Boston 2 BR Apartment!\", \"Nice Cozy / room E\", \"Room in renovated apartment (Queen size bed)\", \"Lorna's Oasis\", \"Star light room\", \"Mansion in Dorchester\", \"Living Room in Dorchester \", \"MODERN | 5BR 2BA | 5 min to BOS\", \"Sunny 2BR Savin Hill Apartment\", \"Beautiful Victorian House /room B\", \"Splendid 1 Bdrm near publ trans.\", \"Room in Beautiful Townhouse /F\", \"Private room in Boston\", \"Nice Private Room with Airbed\", \"Warm and Cozy II \", \"Cheapest place in city\", \"Very Affordable PR with Airbed!\", \"Comfortable and convenient room in Boston.\", \"Comfortable Brownstone Home\", \"3 bedrms, 2 Priv bath\", \"Comfy, spacious, Downtown 15 min.\", \"Sunny 1BR near JFK Red Line\", \"Historical Gaslight Street - R1\", \"Private Room near to Red Line\", \"Queen Bed, Parking, 15 min to BOS\", \"Big room with two bed/Room A\", \"Modern and cozy, private bed & bath\", \"Room in Beautiful Townhouse /G\", \"Victorian charm in the city\", \"Perfect Private Room With Airbed.\", \"Private room near the red line\", \"Affordable Private Room with Airbed\", \"Cozy Boston bedroom with parking\", \"Historical Gaslight Street - R2\", \"Private bedroom at the top of The Hill\", \"Spacious rooms minutes from Ashmont\", \"1BR 2-5 minutes walk to Red Line!\", \"Beautiful Victorian House /C\", \"Private Bdr1 with Airbed\", \"Dot Spot\", \"Premium Boston Apartment\", \"Cozy room close to Downtown!\", \"Live by the bay\", \"1Beautiful Philadelphia Style Home!\", \"Andrea's Private Bath T Downtown\", \"John and Robert's Harbor View \", \"warm and Cozy\", \"Peaceful 2-Bedroom Artist's Home\", \"1BD in Shared Apartment\", \"Need a place to crash ?\", \"Andrew Sq Room Close to T&Shops\", \"Huge sunny room, Classy Apt, Shared bath, Redline\", \"Clean spacious room, pvt bathroom, parking & deck\", \"Private Room #1 near JFK Red Line\", \"4BDR with Airbed!\", \"Private room & bath\", \"Stunning New Unit w/ 2 Parking Spots!\", \"Updated large bedroom, with couch and central air\", \"Beautiful 3 bedroom Dorchester MA\", \"Private Rm+Bath in Beautiful Condo!\", \"Minter & Richter Mini Mansion Front\", \"Family-friendly Dorchester Apt.\", \"Umass,MGH,City,BCEC,Longwood 2A\", \"Home Comfort on the Red Line\", \"Minter & Richter Mini-Mansion Back\", \"Private Room with Airbed\", \"Bright 1 Bedroom n Public Trans.\", \"JFK ,UMASS \\u5730\\u94c1\\u7ad9\\u65c1\\u5355\\u623f\\u51fa\\u79df\", \"Williams House\", \"Spacious 3 Bedroom in Boston\", \"Convenient 3bd Near Downtown\", \"Victorian house One bedroom apt furnished\", \"Walk To The Beach or City 2\", \"2 Private BDRs w/ 3 Beds in Boston\", \"Bedroom in Sunny Savin Hill Apartment\", \"COZY 2 BEDROOM IN GREATER BOSTON\", \"Inviting Queen Anne Victorian B + B\", \"lovely family\", \"Barney's Master Bedroom T Downtown\", \"Bright Room #4 Close JFK Red Line T Station\", \"Umass,MGH,City,BCEC, Longwood(E)\", \"Local BedNBreafast Nxt 2 Dwntown\", \"Umass, MGH, City, BCEC, Longwood3E\", \"sunny and warm bedroom, 1min to T.\", \"cosy-sunny 2-BR apt. close to subway,beach,highway\", \"Dorchester Inn\", \"Bright, cozy bedroom in Victorian \", \"Walk To The Beach or City\", \"Clean Spacious 1 BR Near T Station\", \"My Boston room by the subway :)\", \"Beautiful Condo in Boston, Easy Redline Access!\", \"Cozy, Private Room\", \"Beautiful Modern Boston Home\", \"Cozy Room with AirBed\", \"Umass, City, MGH,BECE,Longwood 3A\", \"Private Bdr2 with Airbed\", \"Nice Bedroom in Boston\", \"Umass,city, longwood, MGH, BCEC 16B\", \"A Very Large Room - Lt Green Room\", \"\\u6e29\\u99a8\\u53cc\\u4eba\\u623f\\uff0c\\u4e00\\u5206\\u949f\\u5230\\u5730\\u94c1\\u3002\", \"Spacious room, Shared bath, Red line\", \"Charming Bedroom at Family Home\", \"Pvt Bed/Bath, Parking, Close to T\", \"Andrew Sq - Quiet Yellow Room\", \"Victorian Tranquility Next to the T\", \"Sunny Private Bedroom with Parking\", \"Luxurious Modern 2 bedroom 2 bathroom\", \"Shared Apartment Near Red Line (JFK/UMASS)\", \"3 room country cottage in Boston\", \"Beautiful newly renovated apartment\", \"Comfy bed, Shared bath, Red line\", \"Great space in a great location\", \"A Very Large Room - Beige Room\", \"Eclectic 2 bd near Red Line - plenty of space!\", \"Close to the Redline in Dorchester!\", \"Warm and Cozy, Room B\", \"Spacious Bedroom in Cozy Home!\", \"Cozy room w/ pvt ba near Red Line!\", \"Lovely Boston Condo Handy to Subway\", \"Double Room in Beautiful Home!\", \"1BR/ 1BA in 2BR/2BA w/ ocean view\", \"Beautiful Victorian House/Room D\", \"1BR - 5 min walk from Red MBTA!\", \"Cozy Condo w/ Separate Bath\", \"Umass, MGH, MIT, Harvard, Longwood 16C\", \"Minshu's Boston room by subway\", \"Beautiful Apt/Queen Bed/Near Subway\", \"Sunny, private with bath near train\", \"Nice Private Room#3 near to JFK/UMass Red Line\", \"Lovely huge room right by subway T\", \"Room in renovated apartment (Full size bed)\", \"Great Room near Red Line, free parking\", \"Visit Boston 30 min from Downtown#2\", \"Immaculate Home away from home\", \"BOSTON HOME 5 min walk to Train Sta\", \"Spacious apartment near Red Line!\", \"The Jerome: bright, spacious, & all yours\", \"Cozy Room in Large Home!\", \"Visit Boston 30 min from Downtown\", \"Spacious 3BR Boston apt, walk to train, rest&bars\", \"The Penthouse | 2BR 1BA | 4th Floor\", \"Umass, MGH, City,BCEC,Longwood 2B\", \"Umass, MGH, City,BCEC,Longwood 3B\", \"Private Room in Spacious Apartment3\", \"Sunny Two Bedroom Condo\", \"A private, quiet space\", \"Transit Accessible Private Room With Airbed!\", \"Spacious Room on Top Floor!\", \"Spacious and cozy\", \"Private Room in Spacious Apartment1\", \"Cozy room #1 at nice apt. in Boston\", \"The Grand View | 4 BR 2BA | Home\", \"Beautiful 3BR Townhouse w/ Garage\", \"The Shawmut | 2BR 1BA | 1st Floor\", \"Bohemian bedroom 5 min walk to redline Ashmont T\", \"Andrew Sq Room Close to T&Shops 2\", \"Near T Private Room\", \"Umass,City,MGH,Longwood(BI,BWH)(D)\", \"Single Room for Rent Close to JFK/UMass Train Stop\", \"Umass,MGH,Harvard,MIT,Longwood A3\", \"Sea view nr metro& Boston center  \", \"The Mayhew | 2BR 1BA | 3rd Floor\", \"2 Bed/ 2 Bath Condo, Boston MA\", \"A cozy room close to Downtown Bosto\", \"2 bedroom close to public transit\", \"Cozy room #3 at nice apt. in Boston\", \"2Beautiful Philadelphia Style Home!\", \"Room with AirBed Near T!\", \"Cozy 3 Bedroom, 1 Bath, 1st Floor\", \"Super quiet, minutes from Downtown!\", \"A Very Large Room\", \"Clean Spacious 1 BR Near T Station\", \"Urban 1850s farmhouse\", \"Best futon in town!\", \"Private Bdr4 with Airbed\", \"Umass,City, BECE, MGH, Longwood 16s\", \"Pied-a'-terre - near everything\", \"Harbor Point onthe Bay-UMass Boston\", \"Cozy Sunporch, Quick Downtown\", \"10 Minutes to Dowtown! Modern New Bedroom\", \"Spacious Bedroom at Family Home\", \"2 Bedroom Condo near the Red Line \", \"The Dorset | 3BR 1BA | 1st Floor\", \"Mary's Ocean View Metro Downtown\", \"Charming, Cozy 2 br Townhouse\", \"The Sky View | 2BR 1BA | 3rd Floor\", \"Sun-Drenched Loft\", \"Spacious 2 bed w parking available\", \"Umass, city,MGH,BCEC,Longwood 16E\", \"Welcome to Shangri la\", \"Renovated House near Subway/Rail Everything New\", \"Minutes to ocean or city\", \"Private Room #2, Free Parking!\", \"Looking for sublet in January only\", \"Special Circumstances Extra Room(s)\", \"Private Room in Spacious Apartment2\", \"Comfort in Historic Melville Park 3\", \"Grace's Harborview Fast T Downtown\", \"Umass, City, MGH, BCEC, Longwood 2E\", \"Queen Size Four Poster Bed\", \"Newly Renovated Studio\", \"Beautiful Single-Family Boston Home\", \"The Sawyer | 2BR 2.5BA | 1st Floor\", \"3 men & a dog 1 room for rent\", \"Bright & Spacious Private Room\", \"Lorna's garden\", \"Very Close 2 Red Line with AirBed!\", \"Comfortable Brownstone Home\", \"Cookyee's Paradise\", \"Sunny & Spacious 3 BR, Close to T\", \"3rd floor room in Victorian House\", \"Umass, Harvard, MGH,Longwood, 16D\", \"Happy hippy home \", \"Comfy Room \\\"A\\\" On a Scenic Hill\", \"Private 1 bed/ 1 bath near Red line (JFK/Umass)\", \"Sea view near metro & city center!\", \"5 minutes walk To T Private Room!\", \"The Urban Treehouse\", \"\\u2605 Private Room 5 Min From MBTA! Close to BCEC \\u2605\", \"Simple, Quiet & Comfy. South Boston\", \"Modern 2 family close to Red line\", \"Stylish Bedroom Suite with Bathroom - Near Subway\", \"Beautiful 1 Bdrm near Publ Trans.\", \"Modern Boston Home\", \"Comfort in Historic Melville Park 2\", \"Bright home with lots of character!\", \"\\u7ea2\\u7ebf\\u5730\\u94c1JFK/UMASS \\u7ad9\\u8fb9\\u4e0a\\u7684\\u4e00\\u4e2a\\u623f\\u95f4\", \"Lovely Victorian Home\", \"Welcome to my beautiful home.\", \"Funky retreat minutes from Red Line\", \"Beautiful Victorian House\", \"Comfortable room near redline MBTA subway stop!\", \"The Roseclair | 3BR 1BA | 2nd Floor\", \"Cozy room #2 at nice apt. in Boston\", \"Melville Park Queen Anne Victorian Home\", \"Sunish & Giulia's Boston room on T\", \"Room for rent in shared apartment\", \"beautifully renovated 1st floor apt\", \"1 room with queen bed in Boston...\", \"Lovely Private Room with Air Bed\", \"Garden apartment near subway, beach\", \"Spacious Apartment Near the Subway\", \"Small Room Renovated House Walk/Bus to Redline\", \"Shared room in vibrant South Dorchester\", \"Bird Street Gated Residence\", \"great view\", \"Convenient Location With Airbed\", \"Charming 3BR, 1BA- 5 min to Boston\", \"Sea view, near metro & city center!\", \"Umass, City, MGH, Longwood, BWH (A)\", \"Private Bdr3 with Airbed\", \"Spacious, comfy, Downtown 15 min.\"], \"lat\": [42.317997420160815, 42.322216089246105, 42.28358415047871, 42.31878288037554, 42.283185415860075, 42.29342799337781, 42.306290232435174, 42.310620609419324, 42.28366550730405, 42.31018703632418, 42.292651684168895, 42.28269619834051, 42.288467833614156, 42.293983876054774, 42.28458582286679, 42.287137705946286, 42.28632626853483, 42.29532738673, 42.2980111038138, 42.28284156904521, 42.28355381288542, 42.30301007223536, 42.30047563848688, 42.31904631507957, 42.296212896602356, 42.30961782126247, 42.29770901, 42.29100070459441, 42.29915433110693, 42.290406778276896, 42.30420406917347, 42.30169262475224, 42.279867496789066, 42.304228795975966, 42.303000972469675, 42.287710147644454, 42.28871253185422, 42.31138523158288, 42.31969874544047, 42.295244253486544, 42.31825074117534, 42.29816667845315, 42.299773412938755, 42.32081010801009, 42.29780454877129, 42.30126170002632, 42.282906549838046, 42.30292036080019, 42.283657697145685, 42.29316244494344, 42.29456752543741, 42.314397730197896, 42.290890895608186, 42.28818647114265, 42.297719717380254, 42.284456971497356, 42.29620501045, 42.29640545029581, 42.319118276125344, 42.31594803897677, 42.281245029708735, 42.3081053390174, 42.309773538560414, 42.30453932411603, 42.27197536345592, 42.32553011520414, 42.29663316675836, 42.324265447858856, 42.32239262873024, 42.311728786949615, 42.318941484499256, 42.28391055574667, 42.313435747754134, 42.31792286216727, 42.2855770478626, 42.31338580811588, 42.29595204741114, 42.2934727383476, 42.290867508989116, 42.31998169134671, 42.31544375485308, 42.292631326170365, 42.30439194666047, 42.292951292124464, 42.31728206212976, 42.29767879153994, 42.301461777901686, 42.320431419818746, 42.28622920482872, 42.31846537116893, 42.30049134803525, 42.308382241525614, 42.310863883215255, 42.308438735450736, 42.307605043672524, 42.30838011648686, 42.31879040378467, 42.32001844049547, 42.30235315035094, 42.31972478615688, 42.31118059708353, 42.314695977380424, 42.31221015712049, 42.28553882410587, 42.318508397581155, 42.319390599675884, 42.29393457616161, 42.290682960292465, 42.29629917970889, 42.289796646332576, 42.30327328770219, 42.318468573247564, 42.28445367185226, 42.3191115810243, 42.31339234536343, 42.32465991855066, 42.31196149792243, 42.32293006282135, 42.299853423601974, 42.30829282796033, 42.3258608188432, 42.312676456270864, 42.31357973181839, 42.31663192925843, 42.31757133723939, 42.310042043120994, 42.297712083484114, 42.32396245649497, 42.31765907300954, 42.32485325148462, 42.28515232867908, 42.300755134493855, 42.29887614811749, 42.28923801453259, 42.31917912076322, 42.27963071423372, 42.28904796254147, 42.31716801070755, 42.298490908055584, 42.29703217495325, 42.311896610846375, 42.31284015840455, 42.29197221158543, 42.31751337374316, 42.29881959590289, 42.31948574251487, 42.28527106162183, 42.28439247742836, 42.309534001905, 42.28603662995216, 42.284938158331826, 42.288858154375205, 42.31910921159898, 42.31587738550808, 42.288806943925245, 42.286640491248676, 42.30232767960903, 42.32188940933104, 42.320428801388296, 42.3180341924828, 42.29996395631385, 42.29745364719143, 42.297288605920436, 42.28299239722918, 42.28971393207284, 42.31042800408947, 42.30088320910919, 42.31725532498189, 42.31418505456127, 42.31057856737861, 42.28981312038293, 42.28429056544545, 42.324570129401, 42.29072925324577, 42.31797688657727, 42.31799209234161, 42.319491731476475, 42.3148951937513, 42.32280313962161, 42.322452560912375, 42.31873348916368, 42.28090262228508, 42.31868652211072, 42.282535052886175, 42.28851073559047, 42.29866324866309, 42.32594687498614, 42.32577477526832, 42.321242933979505, 42.314864810404906, 42.308437415898574, 42.28272513213521, 42.31226913622693, 42.2815595713565, 42.31676005359577, 42.309219082933396, 42.32810031546463, 42.29855670607365, 42.291607952586695, 42.323285711989264, 42.30944862067153, 42.2992898444257, 42.3132399388275, 42.31648144786054, 42.3113705235365, 42.31317861727431, 42.32598026010625, 42.304372794658335, 42.31945990560139, 42.320759146753694, 42.317921753619984, 42.308041989286, 42.29822350470986, 42.294804773108794, 42.31050175929706, 42.31812609440498, 42.309576646743885, 42.29536596549187, 42.313955247481694, 42.311671216278356, 42.319120838826564, 42.315073262101826, 42.28174863211172, 42.28825021017635, 42.289483063261095, 42.28373701341802, 42.2953834517333, 42.31261081770296, 42.311442085628684, 42.317858591702546, 42.315888273572405, 42.3205904956033, 42.31417775073274, 42.28958572762746, 42.31502071001499, 42.31826027790799, 42.325214584513375, 42.29521626275393, 42.3177560295494, 42.29249110277151, 42.29095370122077, 42.293625679968635, 42.29456314359375, 42.31673406386787, 42.29365743934302, 42.316276936788476, 42.285509238081225, 42.29838951876525, 42.28393321127926, 42.32328478333982, 42.317215644422774, 42.296405967112435, 42.293237360904996, 42.30805304392168, 42.29490127700488, 42.31160697799131, 42.30461743472364, 42.314908788625026, 42.29473076368444, 42.30613474700478, 42.284524650586526, 42.313331655411204, 42.32009314883445, 42.30399226116812, 42.2947307585787, 42.31254826432297, 42.31981840583648, 42.28482106088894, 42.31498684907553], \"legendgroup\": \"Neighborhood=Dorchester\", \"lon\": [-71.04020587726274, -71.05485480017639, -71.06695110900299, -71.05250958626822, -71.0676301992643, -71.06773095505629, -71.082711498545, -71.05492979818213, -71.06832233983724, -71.04828822804042, -71.0724075163793, -71.07304304960735, -71.05477404713753, -71.05256831157975, -71.082778885208, -71.06280658166426, -71.09002338623566, -71.05325871931055, -71.05844705458098, -71.07115571255615, -71.08444105050089, -71.06354926488297, -71.07697029401191, -71.05797532800219, -71.0545477155797, -71.0510692682264, -71.05979096181578, -71.07480271744762, -71.05878564109081, -71.05853479240663, -71.0711836469589, -71.06263682838475, -71.04994322271102, -71.0725579404784, -71.06710707612453, -71.06085870989217, -71.05645543901394, -71.06891633339367, -71.05938209308522, -71.06544784292608, -71.05788942532814, -71.07456709666796, -71.06047580828391, -71.04723687836325, -71.05892760838887, -71.06280792351114, -71.07384667978826, -71.06850688370724, -71.0727627343723, -71.07272852785195, -71.06681276312973, -71.06461455558241, -71.06018762554037, -71.06920794529942, -71.0592404613887, -71.0741950217292, -71.04894321761127, -71.05540714518051, -71.05745410273154, -71.0412979717379, -71.08604188300467, -71.04619636107569, -71.04715292340433, -71.06103578449331, -71.06378548023146, -71.06363726252296, -71.05787553100677, -71.05963204365459, -71.05943009262447, -71.0610301964095, -71.0583989329392, -71.07209634158006, -71.06187970637777, -71.0549660595441, -71.08317315502501, -71.0652554355803, -71.06133744208005, -71.05580400147454, -71.06089322820584, -71.05439068826655, -71.05460367006475, -71.05575036336552, -71.07062129656079, -71.07317264184137, -71.05197120578319, -71.08078194423855, -71.08099789756763, -71.06597556249976, -71.05682397063839, -71.05769179775014, -71.08063858524858, -71.0509494087118, -71.06815043883488, -71.04639582203184, -71.07976943518204, -71.04694266593916, -71.06014865304094, -71.05495674469714, -71.06560535525652, -71.05446841271824, -71.05202548560978, -71.05816897117434, -71.07737488470943, -71.06670333053314, -71.05688666176559, -71.0422843882028, -71.06461762034647, -71.06191633527014, -71.08729248729651, -71.06758203624595, -71.07203686724688, -71.05096300963389, -71.07520765770677, -71.05885188767408, -71.05665201343926, -71.05781973014437, -71.05442778016271, -71.05777994866747, -71.06773596473707, -71.0766416675654, -71.05796513914946, -71.05371616245105, -71.04696815124996, -71.04185882269691, -71.0587959888387, -71.04941830401073, -71.07623787494877, -71.05851324812433, -71.05346245162895, -71.05936431325543, -71.06995755877081, -71.0640886271004, -71.06489096445533, -71.06151720164844, -71.05992752636479, -71.0695712776291, -71.06320955174009, -71.04048283843204, -71.05880244016217, -71.06703984201735, -71.07336742551375, -71.05800665667262, -71.06408823227704, -71.05386353873249, -71.05400236117437, -71.058498386918, -71.06859175017793, -71.0691162756608, -71.04918648698538, -71.08942825628974, -71.0765105375469, -71.06566793045677, -71.06168323155403, -71.06323102602212, -71.0614075640848, -71.08803894674584, -71.06769752761036, -71.06182926672871, -71.05225173029531, -71.05451144897796, -71.08060444242611, -71.05850362673148, -71.05654508270584, -71.07393180925204, -71.0614035036455, -71.07530388438023, -71.08189710640713, -71.0538550102279, -71.06000714910215, -71.05507122762137, -71.059004563947, -71.06829088298191, -71.05838331223003, -71.06456359983261, -71.05501437734787, -71.05715974386972, -71.0542338804317, -71.06119371442747, -71.06184460563564, -71.05807981393903, -71.0536316962313, -71.08174416670713, -71.05484340601839, -71.08625683097071, -71.06963438614187, -71.06087745921602, -71.05921760667076, -71.0580660029243, -71.04362264778388, -71.06565961173087, -71.06104740136117, -71.07511891577971, -71.0580059129187, -71.0628876657312, -71.04105590572186, -71.0456411637393, -71.06174180737597, -71.06806817217944, -71.06134783914553, -71.06210286717581, -71.04554951604072, -71.05996995396157, -71.0624164733466, -71.06502548202768, -71.05185431619402, -71.05637455090607, -71.06134195630334, -71.0719322604987, -71.0563987954141, -71.06861133782047, -71.05345527831022, -71.04788234535555, -71.07621396071184, -71.0681388398284, -71.04811586364792, -71.05451533252092, -71.04792339859172, -71.05958006384482, -71.06142190679236, -71.06168214898854, -71.0515832464688, -71.06342635378083, -71.08586808250138, -71.06667507203903, -71.05939283130931, -71.08581155946561, -71.0602789914378, -71.06709804398156, -71.0576365688098, -71.06289234803697, -71.07199504196936, -71.04375557556561, -71.06036699730883, -71.06829404905848, -71.06252738089924, -71.05793280422326, -71.05860790437293, -71.05732568610479, -71.06167666341562, -71.07464279242959, -71.06754859973475, -71.06652076227766, -71.05566391796037, -71.05337817477877, -71.06819767478622, -71.06008262465603, -71.06863201084887, -71.05931164774684, -71.06883548728614, -71.05985844715369, -71.05524406685984, -71.06156265178616, -71.06401141159243, -71.04966350518264, -71.05770269661876, -71.04612721949835, -71.07082864037285, -71.0621883389839, -71.06111949307655, -71.07287448194877, -71.05654046330514, -71.06585709564061, -71.04357167447675, -71.07041841768483, -71.05525941750982, -71.06227257063642, -71.05454610802093, -71.07315060395814, -71.06664344625693], \"marker\": {\"color\": \"dodgerblue\", \"opacity\": 0.4, \"size\": [100, 99, 55, 198, 55, 69, 45, 45, 55, 60, 75, 31, 125, 120, 59, 73, 40, 120, 50, 65, 65, 88, 55, 60, 225, 250, 65, 65, 70, 80, 35, 81, 25, 40, 100, 79, 325, 84, 39, 70, 74, 70, 65, 100, 70, 60, 29, 90, 31, 50, 45, 59, 57, 70, 55, 31, 65, 59, 70, 49, 51, 83, 75, 73, 120, 85, 60, 105, 60, 115, 60, 115, 165, 264, 59, 110, 90, 140, 120, 65, 70, 100, 34, 65, 60, 55, 179, 200, 85, 75, 119, 75, 109, 100, 45, 76, 45, 49, 60, 49, 69, 96, 45, 89, 100, 55, 85, 150, 95, 200, 35, 68, 31, 80, 65, 135, 69, 50, 76, 79, 100, 82, 80, 160, 60, 95, 144, 45, 100, 135, 150, 44, 65, 64, 75, 189, 75, 55, 65, 75, 65, 49, 80, 45, 62, 60, 55, 65, 70, 40, 80, 175, 200, 153, 59, 45, 160, 125, 63, 49, 72, 130, 80, 31, 67, 129, 56, 70, 175, 300, 125, 80, 100, 65, 65, 72, 68, 70, 125, 150, 65, 89, 70, 52, 38, 165, 80, 135, 60, 35, 44, 31, 46, 95, 100, 47, 99, 96, 144, 126, 77, 165, 142, 175, 195, 59, 135, 39, 250, 88, 60, 68, 56, 79, 63, 55, 100, 150, 300, 168, 150, 79, 70, 35, 73, 65, 275, 78, 52, 39, 100, 60, 65, 60, 100, 60, 40, 175, 108, 65, 144, 79, 60, 65, 185, 150, 80, 395, 55, 164, 70, 300, 85, 58, 150, 76, 37, 130, 180, 35, 51, 225, 29, 36, 199, 75, 69, 31, 84], \"sizemode\": \"area\", \"sizeref\": 10.0}, \"mode\": \"markers\", \"name\": \"Neighborhood=Dorchester\", \"showlegend\": true, \"subplot\": \"mapbox\", \"type\": \"scattermapbox\"}, {\"customdata\": [[100, \"Private room\", 100.0], [33, \"Private room\", null], [103, \"Private room\", 84.0], [110, \"Entire home/apt\", null], [175, \"Entire home/apt\", null], [60, \"Private room\", 100.0], [175, \"Entire home/apt\", 98.0], [99, \"Private room\", null], [120, \"Private room\", 100.0], [50, \"Private room\", null], [100, \"Entire home/apt\", 96.0], [260, \"Entire home/apt\", 93.0], [85, \"Private room\", 96.0], [93, \"Private room\", 95.0], [40, \"Private room\", 90.0], [39, \"Private room\", 100.0], [85, \"Private room\", 95.0], [75, \"Private room\", 95.0], [76, \"Private room\", 90.0], [40, \"Private room\", 92.0], [50, \"Private room\", 88.0], [69, \"Private room\", 94.0], [108, \"Private room\", 60.0], [119, \"Private room\", null], [32, \"Private room\", 95.0], [88, \"Private room\", 100.0], [60, \"Private room\", 93.0], [130, \"Private room\", null], [168, \"Entire home/apt\", 80.0], [60, \"Private room\", null], [40, \"Private room\", null], [179, \"Entire home/apt\", 100.0], [350, \"Entire home/apt\", 95.0], [50, \"Private room\", 60.0], [70, \"Private room\", 94.0], [77, \"Private room\", 90.0], [189, \"Entire home/apt\", null], [195, \"Entire home/apt\", 100.0], [72, \"Private room\", 100.0], [189, \"Entire home/apt\", 98.0], [524, \"Entire home/apt\", null], [78, \"Entire home/apt\", 93.0], [40, \"Private room\", null], [210, \"Entire home/apt\", 99.0], [95, \"Entire home/apt\", 97.0], [79, \"Private room\", null], [60, \"Private room\", 90.0], [145, \"Entire home/apt\", 94.0], [80, \"Private room\", 94.0], [70, \"Private room\", null], [65, \"Private room\", 96.0], [74, \"Private room\", 95.0], [119, \"Private room\", null], [85, \"Private room\", 100.0], [45, \"Private room\", 100.0], [90, \"Private room\", 96.0], [100, \"Entire home/apt\", 91.0], [40, \"Private room\", null], [550, \"Entire home/apt\", 85.0], [39, \"Private room\", 87.0], [60, \"Private room\", 100.0], [27, \"Private room\", null], [75, \"Private room\", 90.0], [60, \"Private room\", null], [45, \"Private room\", 100.0], [100, \"Shared room\", 100.0], [130, \"Entire home/apt\", null], [79, \"Private room\", 100.0], [90, \"Private room\", null], [79, \"Private room\", null], [75, \"Entire home/apt\", null], [58, \"Private room\", null], [75, \"Private room\", 96.0], [110, \"Entire home/apt\", 96.0], [180, \"Entire home/apt\", 100.0], [65, \"Private room\", 87.0], [67, \"Private room\", 92.0], [99, \"Private room\", 80.0], [80, \"Private room\", 100.0], [135, \"Entire home/apt\", 90.0], [50, \"Private room\", 100.0], [130, \"Entire home/apt\", 96.0], [130, \"Private room\", null], [35, \"Private room\", 50.0], [75, \"Entire home/apt\", null], [60, \"Private room\", 40.0], [58, \"Private room\", 84.0], [208, \"Entire home/apt\", null], [75, \"Entire home/apt\", 80.0], [70, \"Private room\", 94.0], [295, \"Entire home/apt\", 96.0], [150, \"Entire home/apt\", 86.0], [65, \"Entire home/apt\", 77.0], [175, \"Entire home/apt\", 98.0], [175, \"Entire home/apt\", 87.0], [100, \"Private room\", 70.0], [250, \"Entire home/apt\", null], [187, \"Entire home/apt\", 92.0], [80, \"Private room\", 60.0], [70, \"Private room\", 93.0], [115, \"Private room\", 60.0], [185, \"Entire home/apt\", null], [260, \"Entire home/apt\", 94.0], [175, \"Entire home/apt\", 70.0], [140, \"Entire home/apt\", 96.0], [80, \"Private room\", 91.0], [259, \"Entire home/apt\", 93.0], [120, \"Private room\", 80.0], [108, \"Private room\", null], [90, \"Private room\", 100.0], [125, \"Entire home/apt\", null], [62, \"Private room\", null], [47, \"Shared room\", 95.0], [99, \"Private room\", 80.0], [60, \"Private room\", null], [50, \"Private room\", 100.0], [45, \"Private room\", 96.0], [70, \"Private room\", 90.0], [60, \"Private room\", 90.0], [59, \"Private room\", 100.0], [50, \"Private room\", null], [95, \"Entire home/apt\", null], [59, \"Private room\", 100.0], [80, \"Private room\", 91.0], [169, \"Entire home/apt\", 93.0], [120, \"Entire home/apt\", 91.0], [40, \"Private room\", 95.0], [105, \"Entire home/apt\", 88.0], [79, \"Entire home/apt\", null], [90, \"Private room\", 100.0], [72, \"Private room\", 93.0], [32, \"Private room\", null], [199, \"Entire home/apt\", null], [45, \"Private room\", 100.0], [65, \"Entire home/apt\", 80.0], [179, \"Entire home/apt\", 80.0], [60, \"Private room\", null], [80, \"Private room\", 88.0], [120, \"Private room\", 100.0], [75, \"Entire home/apt\", 100.0], [100, \"Private room\", 90.0], [45, \"Private room\", 100.0], [125, \"Private room\", 100.0], [50, \"Private room\", null], [98, \"Private room\", 40.0], [109, \"Entire home/apt\", null], [85, \"Private room\", 100.0], [50, \"Private room\", 95.0], [125, \"Entire home/apt\", null], [110, \"Private room\", null], [79, \"Entire home/apt\", null], [100, \"Entire home/apt\", 96.0], [58, \"Shared room\", 95.0], [80, \"Private room\", 91.0], [259, \"Entire home/apt\", null], [62, \"Private room\", 91.0], [95, \"Private room\", 98.0], [20, \"Private room\", 80.0], [70, \"Private room\", 93.0], [125, \"Entire home/apt\", 70.0], [150, \"Entire home/apt\", 100.0], [150, \"Entire home/apt\", 75.0], [70, \"Private room\", 90.0], [95, \"Entire home/apt\", 93.0], [239, \"Entire home/apt\", 95.0], [199, \"Entire home/apt\", null], [33, \"Private room\", 95.0], [40, \"Private room\", null], [89, \"Private room\", 97.0], [100, \"Entire home/apt\", 92.0], [80, \"Entire home/apt\", 84.0], [58, \"Private room\", null], [85, \"Private room\", null], [45, \"Private room\", 40.0], [127, \"Entire home/apt\", 93.0], [11, \"Entire home/apt\", 96.0], [209, \"Entire home/apt\", 90.0], [259, \"Entire home/apt\", null], [120, \"Entire home/apt\", 100.0], [45, \"Private room\", null], [298, \"Entire home/apt\", null], [55, \"Entire home/apt\", 100.0], [58, \"Private room\", 65.0], [80, \"Private room\", 94.0], [149, \"Entire home/apt\", 100.0], [159, \"Entire home/apt\", null], [60, \"Private room\", null], [279, \"Entire home/apt\", 98.0], [83, \"Entire home/apt\", 100.0], [90, \"Entire home/apt\", 94.0], [75, \"Private room\", 100.0], [138, \"Entire home/apt\", 40.0], [66, \"Entire home/apt\", 90.0], [199, \"Entire home/apt\", null], [400, \"Entire home/apt\", 83.0], [65, \"Private room\", null], [50, \"Shared room\", 20.0], [89, \"Private room\", 95.0], [52, \"Private room\", 93.0], [70, \"Private room\", 92.0], [139, \"Entire home/apt\", null], [269, \"Entire home/apt\", 80.0], [91, \"Private room\", 96.0], [70, \"Private room\", 95.0], [68, \"Private room\", 91.0], [200, \"Entire home/apt\", 80.0], [130, \"Private room\", 80.0], [70, \"Entire home/apt\", 100.0], [66, \"Private room\", 90.0], [50, \"Private room\", 100.0], [45, \"Private room\", 100.0], [48, \"Private room\", null], [125, \"Entire home/apt\", null], [58, \"Private room\", 67.0], [59, \"Private room\", 88.0], [139, \"Entire home/apt\", 90.0], [239, \"Entire home/apt\", null], [200, \"Entire home/apt\", 100.0], [72, \"Private room\", 96.0], [128, \"Private room\", 100.0], [269, \"Entire home/apt\", 95.0], [230, \"Private room\", 73.0], [120, \"Private room\", 97.0], [70, \"Private room\", 100.0], [50, \"Private room\", 100.0], [85, \"Private room\", 84.0], [150, \"Entire home/apt\", null], [80, \"Private room\", 97.0], [67, \"Private room\", null], [45, \"Private room\", 100.0], [40, \"Private room\", 87.0], [69, \"Private room\", 91.0], [55, \"Private room\", null], [180, \"Entire home/apt\", 92.0], [279, \"Entire home/apt\", null], [50, \"Private room\", 100.0], [25, \"Private room\", 60.0], [60, \"Shared room\", null], [75, \"Private room\", 97.0], [28, \"Private room\", 96.0], [75, \"Private room\", 100.0], [129, \"Entire home/apt\", 100.0], [50, \"Private room\", null], [85, \"Private room\", null], [329, \"Entire home/apt\", 89.0], [140, \"Private room\", null], [295, \"Entire home/apt\", null], [240, \"Entire home/apt\", null], [113, \"Private room\", null], [195, \"Entire home/apt\", null], [179, \"Shared room\", null], [146, \"Entire home/apt\", 100.0], [259, \"Entire home/apt\", null], [89, \"Private room\", 100.0], [459, \"Entire home/apt\", null], [124, \"Private room\", null], [150, \"Private room\", null], [85, \"Private room\", 100.0], [100, \"Private room\", null], [150, \"Private room\", null]], \"hoverlabel\": {\"namelength\": 0}, \"hovertemplate\": \"<b>%{hovertext}</b><br><br>Neighborhood=Allston<br>Price Per Night=%{customdata[0]}<br>Room Type=%{customdata[1]}<br>Rating (out of 100)=%{customdata[2]}<br>Latitude=%{lat}<br>Longitude=%{lon}\", \"hovertext\": [\"l GREAT ROOM BOSOTN\", \"Sublet Allston House $1000 month\", \"Room (bedroom)\", \"Sunny apt. available - 2 rooms\", \"Allston 1bedroom\", \"Cool Place in Allston, Boston.\", \"Royal Street Studio: by Spare Suite\", \"Top floor corner unit sick spot\", \"k Best Room Boston\", \"1 Fully-Furnished Room in a 2-Bedroom Apartment\", \"Hot Pad for your trip to Beantown\", \"West Boston BU, 2 BR 3 Bed Apt.\", \"Spacious and modern room by the T\", \"Sunny private room with comfy bed\", \"Private & Small for Solo Travelers\", \"Living room in a 4BR/2BA house\", \"Room in stylish 2-bedroom flat.\", \"b **SPACIOUS & SUNNY ROOM BOSTON**\", \"Beautiful Sunny Bedroom in Boston\", \"a Cozy Sunroom in Allston\", \"Private room, steps to green line\", \"a*SUNNY BRIGHT & COZY ROOM BOSTON*\", \"Safe Quiet Neighborhood by Harvard\", \"Yun's Place, B&B near HBS\", \"Boston University Harvard MIT 2RR\", \"Modern luxury Master bedroom\", \"Private Bedroom with Balcony\", \"PRIVATE room in a LUXURIOUS house in BOSTON\", \"Smart Studio w/Morphing Bed\", \"Private room with Spectacular view\", \"Comfy Room in Allston\", \"Fourth Floor 1BR Near Harvard\", \"**New** Boston Victorian 3BR Condo\", \"Sunny Room  Allston\", \"Cozy room at a great location\", \"Specious room in Allston\", \"ali alfageeh, Jordan Trade\", \"Charming apartment in an artsy area\", \"Serenity Room near Harvard Square\", \"Allston Red House: By Spare Suite\", \"Marathoners welcome - Harvard Sq\", \"Loaded studio steps to Comm/Harv Av\", \"Small Cozy Attic Bedroom\", \"Cozy Apartment in a Great Location\", \"BU/BC Loaded Studio @ Comm/Harv Ave\", \"The Sanctuary near Harvard Square with 2 BEDS\", \"Cozy Room in Brookline Apartment\", \"Cozy 2 bdr close to Harvard.\", \"Allston, Close to Harvard Business School + BU I\", \"Large room located in Allston\", \"g Private entrance room Allston \", \"i Massive Sunny Room Allston/BostoN\", \"Yun's Place, B&B near HBS\", \"Smiling Buddha Bedroom near Harvard\", \"Private cozy room\", \"Bedroom next to Boston University\", \"sunny furnished studio close to T\", \"Clean & comfortable room in Boston\", \"Holman Rental Unit #2 Near Harvard\", \"Cozy room close to BU/Harvard\", \"Perfectly Located 2BR apt, 1 private room\", \"Room in large Allston House\", \"Allston, Close to Harvard Business School + BU F\", \"1 big room in a cute 2 bedroom apt\", \"August sublet in Allston (from 08/03)\", \"VERY convenient COUCH in a LUXURIOUS house near BU\", \"Spacious modern studio\", \"King Zen Room near Harvard Business School\", \"Private Bedroom Available (July-Aug)- Comm Ave.\", \"The Relaxation Room near Harvard Square\", \"Sunny apt at convenient location\", \"Great location apartment near Harva\", \"j Allston green rm w/ private exit \", \"Big and clean in Amazing location!!\", \"Beautiful 1 Room Apt at Allston\", \"d Quiet, Close to T Allston/Bright\", \"h Spacious room Allston/Brighton \", \"king size bed,clear and neat,wifi, 2min to train\", \"Cozy modern room by the T\", \"Apt by packards corner! 1 be/1aero\", \"Close to everything in Boston/Cambridge\", \"Charles Regatta - Walk to the River\", \"PRIVATE & LUXURIOUS room in the center of BOSTON\", \"Clean bedroom in Allston\", \"Appartment 2BR 1BT\", \"Large Bedroom at Allston\", \"Excellent access Harvard Boston Univercity\", \"Great Location By Harvard Business\", \"Studio Apartment\", \"Allston Close to Harvard Business School + BU C\", \"Artful + central Allston apartment\", \"Packards Corner Studio\", \"Near train, Boston Uni & College!\", \"Beautiful Apt in a Great Location!\", \"Beautiful, Spacious Apt in Allston!\", \"Private Room with 2 Beds share Bath\", \"Two Bedroom Apartment\", \"NEW: Allston 2BR, Clean and Cozy\", \"Budget Double - share bath \", \"Charming room in Boston, MA\", \"Budget Single - share bath\", \"Luxury high end apt in Boston\\\\ BU!\", \"Boston Huge 2BR Packards Corner St.\", \"Spacious modern 2BR apt by the T\", \"Modern Boston 2+ Bdrm Harvard/BU\", \"Cozy and Modern Bedroom #3: Subway/BU/BC/Harvard\", \"Sleek 2BR Next to Harvard\", \"Room in a Luxury Apt - Harvard Sqr\", \"Large Bedroom by the Harvard\", \"Clean and comfort bedroom\", \"Pristine Apt @ Prime location. Steps to Trains!\", \"Central Private Room in Allston by subway\", \"Very Central, Safe and Quiet\", \"Cozy modern BD w/ great city access\", \"Central location for Boston University Harvard MIT\", \"One bedroom with TV and balcony\", \"Allston Close to Harvard Business E\", \"Spacious and Sunny Boston Bedroom\", \"b Pleasant & Peaceful near T & Bus\", \"Private Bathroom Sunny Room with Own Deck\", \"Large room with lots of sunlight\", \"Rustic Boston hideaway\", \"Allston: The Blue Room\", \"Cozy and Modern Bedroom #1: Subway/BU/BC/Harvard\", \"Stylish 3BR in Trendy Allston\", \"Private Studio Apartment in a Central Location\", \"Sunny bedroom in Allston\", \"Studio Allston\", \"Large, bright studio on Comm Ave, on Green Line!\", \"Lower Allston Room Master Bedroom\", \"Private & Sunny Bedroom - 2 min. from T station\", \"Near BU, Near T, plenty restaurants nearby!\", \"Handsome 3BR in Central Allston\", \"Cozy Attic Bedroom in Allston\", \"Extended studio, two futons\", \"Modern 2BR Next to Harvard\", \"Spacious Bedroom & Bathroom Allston\", \"Allston, Close to Harvard Business School + BU H\", \"Lower Allston is the new Harvard Sq\", \"Brand New Renovations, Private Apartment on T!\", \"Private Bedroom/Bathroom! Allston\", \"Room Boston University Harvard\", \"Private Allston Bedroom w/ Parking\", \"Private room BU Harvard MIT 2L\", \"Cosy Bedroom by Harvard\", \"Cozy & sunny apartment BU/Allston\", \"Charming 1BD near BU in front of T.\", \"Clean and comfort room near Boston University\", \"Conveniently located apartment\", \"Beautiful Allston room!\", \"Charming Allston 1bedroom apartment\", \"Boston Updated Pad for Your Trip!\", \"Pull out sofa next to T stop and 10 mins to BU\", \"Allston, Close to Harvard Business School + BU G\", \"Chic 2BR Next to Harvard\", \"By Harvard/Cambrdge: Allston/Boston\", \"Sunny, Safe, Spacious Room Near T!\", \"One year from Sept, Harvard MIT Boston university\", \"Allston, Close to Harvard Business School + BU A\", \"1bd in Boston, close to Fenway!\", \"Very good location\", \"Bright Studio at Commonwealth ave\", \"Cozy Private AC Bedroom in Boston\", \"Cafe-Style Studio Allston Brookline\", \"Charming 3BR in Allston\", \"Modern 2BR Near Harvard\", \"Charming attic room in Boston\", \"Cozy Room Close to Everything!\", \"Close to Harvard - Zen Room\", \"Spacious 1 bed apt in Boston. Mins frm Harvard/BU\", \"Large one bedroom apartment in great location!\", \"Cosy room for one non-smoker\", \"Sweet room just off Comm Ave/Boston\", \"Cute bedroom in the Allston area\", \"Cozy Apt @ Prime location. Steps to Bus & Trains!\", \"Easy-Sunny, Apt BU/Coolidge Corner\", \"Chic 3BR in Trendy Allston\", \"Hip 3BR in Trendy Allston\", \"1 BR apartment located near Harvard University\", \"Large bedroom in Allston next to BU\", \"Sunny Modern 2BR apt in Boston\", \"Smallest House in the World\", \"Private room priced Sept 1-one year or end of May\", \"f STUNNING ROOM w/PRIVATE 1/2 BATH\", \"Luxury Studio Apartment in Brand New Building\", \"Cozy 1BR in Trendy Allston\", \"Cozy, clean private room at a great location\", \"Comfy, spacious Boston home 3BR/2BA\", \"Cozy Studio In Allston/Brookline\", \"I bdrm in Boston/Allston/Brookline\", \"Cozy modern room by the T\", \"Whole Apt.2 beds,wifi,close train\", \"Private Sunny Studio Apartment on Commonwealth ave\", \"Bright 2BR in Cambridge\", \"Holman Rental Unit #1 Near Harvard\", \"Allston, Walk BU, G Line Brookline\", \"best place to live\", \"The Meditation Room near Harvard Square\", \"Packards Corner, private 1BR ,Amazing location\", \"e Sunny & Spacious AllstonBrighton\", \"Trendy 2BR in Allston\", \"Sunny Studio\", \"Sunset Room near Harvard Square (BR 2)\", \"Private room near HBS & Harvard Sq!\", \"d ** BEST PRIVATE ROOM IN BOSTON **\", \"Spacious modern 2BR apt by the T\", \"LUXURIOUS & PRIVATE room in the CENTER of Boston\", \"Awesome 1BR in Boston (at Harvard Business School)\", \"e **BRIGHT 'N CHEERY QUIET ROOM**\", \"Large, sunny room in shared apt\", \"Private room in spacious house\", \"Nice bedroom in Allston area\", \"Luxury Brighton Studio w/ Brand New Kitchen\", \"Located easy to Harvard, BU\", \"Comfortable Queen Size Bed Room\", \"Spacious Studio w/ Gym in Brighton\", \"Sweet 2BR in Cambridge\", \"Minutes From Fenway\", \"Sunny Room in Boston -1min to T\", \"Private Room Queen Anne Victorian\", \"Pristine Modern 2BR next to Harvard\", \"10 Min Walk to HBS and Harvard Sq\", \"Private rm+brm+parking,$100/120\", \"1 Bedroom in Furnished Harvard Apt\", \"Christmas Room\", \"Modern loft, walk to subway\", \"1 mins to train,clean and neat,wifi,Queensize beds\", \"Cozy and Modern Bedroom #2: Subway/BU/BC/Harvard\", \"Affordable private space at convenient location\", \"Cozy artistic Room on Comm Ave\", \"Spacious and Quiet Room\", \"Cozy Room in Basement Near Subway\", \"Near Boston Iniversity Harvard, private room\", \"Charming sunny 2BD near BU/BC\", \"Cool 3 BR in Allston\", \"near Harvard business School\", \"Near BU BC B-line Harvard st\", \"1. Central location cozy room\", \"Allston, close to Harvard Business School + BU D\", \"Warm Huge Room (*Girl Only)\", \"American Vintage room, 2+ peeps ok\", \"Beautiful, Modern, Furnished Apt!\", \"Bright, Clean & Great Location\", \"Victorian Garden Level Room - Alpha\", \"3B2B parking,MIT/Havard,BU,Fenway, near 2T station\", \"Suite _Charles River/MIT/BU/Fanway Park\", \"2 Bedrooms Apartment,  Harvard Square Cambridge\", \"Central Square, Charles River / Harvard Bus School\", \"Beautiful Room near MIT and Harvard\", \"New flat with a terrace in the heart of Cambridge\", \"Modern hot spot studio\", \"On Charles River near Harvard Square\", \"Cool 5BR in Cambridge\", \"Private Room Boston/Brookline Great location\", \"NEW - Sunny 5BR in Cambridge\", \"Beautiful loft style bedroom with large bathroom\", \"Comfortable Space in the Heart of Brookline\", \"Victorian Garden Level Room - Omega\", \"Spacious Queen Bed Room Close to Boston University\", \"BU Apartment DexterPark Bright room\"], \"lat\": [42.35208077328276, 42.35265881702021, 42.34802552722878, 42.351545709155154, 42.346373581534365, 42.352445452254116, 42.359372076847656, 42.35079870108516, 42.350260289899616, 42.34820037204312, 42.349342483290464, 42.35266232919279, 42.353344419809424, 42.3513614540841, 42.35501678416424, 42.34763753472381, 42.35572890643184, 42.354253656825954, 42.350264718566656, 42.35019416811648, 42.35065647108612, 42.35231133439073, 42.36017549345633, 42.36053024971302, 42.35502536449858, 42.34856091860273, 42.352199888223524, 42.35191983848069, 42.364442577765715, 42.35385193794485, 42.36164085512783, 42.36424315185366, 42.352867697304674, 42.36022454911613, 42.35153184332368, 42.35315201772222, 42.36259858221989, 42.35877288843092, 42.36172482895364, 42.35935511179833, 42.36254624854516, 42.351052318617995, 42.36030977059385, 42.3494460874786, 42.35049293318264, 42.36120619817218, 42.34798839891038, 42.35849966334547, 42.35882253442461, 42.35156937370638, 42.34998842878122, 42.350543446413454, 42.36117817683608, 42.360775010133366, 42.35452544933531, 42.352945787708016, 42.34645247323235, 42.35303314210909, 42.357694533580954, 42.35514819423764, 42.3521916193394, 42.352114106880926, 42.357206429056525, 42.35280564501706, 42.354976192352574, 42.34999922872795, 42.34839562033394, 42.36093263073878, 42.35172557572753, 42.36141251934717, 42.350145399071714, 42.36040825267022, 42.349964271017754, 42.35046189516947, 42.34805623113406, 42.35339780167063, 42.34989152821842, 42.35422819016895, 42.352566586828324, 42.35174296501306, 42.35490971516949, 42.35811824635457, 42.35018807157599, 42.35507101824252, 42.35272546427615, 42.35405674490555, 42.35452204280227, 42.359314878600436, 42.34772206964164, 42.35857131198407, 42.35283178161134, 42.351959240944154, 42.34877625118745, 42.34942211837766, 42.34908408466665, 42.354787993602365, 42.353359183082155, 42.34848106128299, 42.35412285944836, 42.351734543189394, 42.35344916645469, 42.346309426871635, 42.354375697125505, 42.35468892656869, 42.356740941803814, 42.35438526508017, 42.36422300156797, 42.348770519416135, 42.35944915046908, 42.347722118609, 42.35070452315665, 42.35160285670509, 42.35046781948143, 42.36020735657085, 42.3550790298907, 42.352683672246144, 42.357588072896775, 42.36208644130208, 42.35021722460032, 42.35368862936061, 42.35325032658771, 42.354659262987525, 42.34827123276796, 42.35346124444336, 42.34972172705107, 42.34967163043419, 42.36083828553094, 42.34854040085067, 42.35103627005153, 42.36060819075061, 42.34869537133585, 42.354509484390704, 42.34930500953229, 42.359773966355796, 42.348325931195504, 42.364266540897425, 42.35358003604817, 42.35913732960637, 42.36230907844898, 42.35075578295176, 42.35086692335783, 42.35518988080188, 42.363207934706246, 42.3567553096765, 42.3589929009505, 42.35317017517414, 42.34737835201244, 42.35107294545191, 42.358505658891936, 42.34893114082529, 42.34909986741747, 42.34923036032304, 42.35189564844315, 42.35860655750685, 42.36440045797446, 42.356860873789344, 42.352842135959506, 42.35614366171549, 42.359025502967896, 42.34954020442542, 42.34951254083382, 42.35122488041426, 42.35073175722308, 42.3498136615265, 42.34989452075197, 42.362750082466015, 42.36127633993539, 42.35003054156228, 42.35942051649261, 42.351687613094605, 42.354818856280296, 42.35659961401221, 42.35145625199263, 42.34901654982248, 42.35155057502137, 42.34801750102376, 42.34927683256522, 42.34955268268768, 42.36453585044336, 42.35276204015237, 42.348074651980546, 42.34780681521888, 42.35536688969624, 42.35192949192535, 42.36298422701517, 42.34988640574164, 42.353078816359975, 42.35585153546842, 42.3500945508879, 42.351589313682965, 42.3526726640971, 42.352194902478224, 42.35053057087894, 42.36358002054283, 42.357683179974586, 42.352237427911035, 42.352935288175466, 42.36114983035629, 42.35216083792811, 42.34998547277939, 42.34919131537339, 42.347846494168095, 42.36126465242879, 42.36317744091894, 42.355279802486244, 42.35417082432304, 42.35136743395033, 42.36565214411161, 42.35524224515002, 42.34871296059264, 42.35991552862768, 42.35338920079029, 42.36274373479513, 42.354886812034906, 42.35179203125133, 42.34851106515926, 42.364314992851476, 42.34774608970789, 42.34936146297198, 42.35995246779314, 42.36287772308311, 42.361928853841, 42.35930189850257, 42.36212688929008, 42.348115389246566, 42.353217613146256, 42.35005815941149, 42.35417693143646, 42.35316229713632, 42.350922040549946, 42.35459579790608, 42.35143023584929, 42.35645119358561, 42.34735545038724, 42.34966996402407, 42.3587909671608, 42.34805570962588, 42.35534198237456, 42.358197871808535, 42.35287968493279, 42.35201383361056, 42.347205670289455, 42.34706793241136, 42.36913699771693, 42.35934172208254, 42.355575057917854, 42.36916541510093, 42.365351115642575, 42.359452846935326, 42.36347248162664, 42.35130457400371, 42.37572967259593, 42.37372431771168, 42.34910682295989, 42.373755762249615, 42.365112317266274, 42.347187056561424, 42.37074134539269, 42.349379893443604, 42.34750341362465], \"legendgroup\": \"Neighborhood=Allston\", \"lon\": [-71.13599057398088, -71.13497235644198, -71.13730591137174, -71.12558205269595, -71.13472997487018, -71.13715110749888, -71.13155989406006, -71.13327159485743, -71.14361308028191, -71.13914025779506, -71.12908093453365, -71.1262483473859, -71.12693351553787, -71.12615238537656, -71.12759005765862, -71.13235921935194, -71.13072244801792, -71.1371532900762, -71.12703309536381, -71.1421516491063, -71.13997201251834, -71.13655217244086, -71.12910390319256, -71.12395222441882, -71.13740266410173, -71.1321268843629, -71.1344273715225, -71.13301243492488, -71.13058404714846, -71.12209681221768, -71.12389447283763, -71.13135873481029, -71.13933816967321, -71.13355803541425, -71.1250087633012, -71.12966786325394, -71.13065251054749, -71.13183188489567, -71.12716152273386, -71.12935440566808, -71.13394720472692, -71.13383600343128, -71.13411347506904, -71.13080633700315, -71.13328056855369, -71.126492808419, -71.13939137582845, -71.12822624955673, -71.13018410513656, -71.13164991891409, -71.1442020771582, -71.14384401507516, -71.12378115920009, -71.12743714328603, -71.13657899368661, -71.12187297544675, -71.13489574341412, -71.13159940798838, -71.12869546818817, -71.13799960795815, -71.12261440974365, -71.12959064900406, -71.12871660744072, -71.12398135726829, -71.12949326233621, -71.13325251178459, -71.13319099326112, -71.1254883714559, -71.12104523832988, -71.12586980051937, -71.12884718974465, -71.12438589653615, -71.14370958503075, -71.12950477968002, -71.1333831316948, -71.14235466242799, -71.14256570935595, -71.12701636199365, -71.12539767611463, -71.12733593760598, -71.13806502190866, -71.1309137213052, -71.13249909636312, -71.13262778120003, -71.12065085169205, -71.12737268438966, -71.13872848232197, -71.1287699823276, -71.13355036077327, -71.12983366784165, -71.13295586895973, -71.1206430514588, -71.13132203201167, -71.12938809271583, -71.13689600712105, -71.13208846148751, -71.13034354292151, -71.13623582342883, -71.1304857316918, -71.1376247094442, -71.13179683452269, -71.13481395798995, -71.12548068679705, -71.12760271501001, -71.13651560421026, -71.1311801896186, -71.13069165481411, -71.13343778707025, -71.12769431806964, -71.13526354817758, -71.1260601956128, -71.12651350020549, -71.13581038642003, -71.11814967391592, -71.13695878807253, -71.12124797327608, -71.12854637079752, -71.12470254798028, -71.14352208628422, -71.14154539533905, -71.12957884634393, -71.12928642343341, -71.13494337010759, -71.13266223160508, -71.13111851100706, -71.13114440922539, -71.13559987780964, -71.13754548589758, -71.12801698606269, -71.13187970457463, -71.13325088022417, -71.12934350563087, -71.12990336612322, -71.13534874873876, -71.13613371218099, -71.13078915086456, -71.12786863577439, -71.13005211169698, -71.13494210335833, -71.12870645433884, -71.12917517845777, -71.13798365643366, -71.13441719334784, -71.13745742822259, -71.12883794427577, -71.12556309982855, -71.13722682457094, -71.12679921746106, -71.12944468687637, -71.13788529734377, -71.13098673014788, -71.12990007244908, -71.12958035736928, -71.13057531631209, -71.13076271051933, -71.13057789827434, -71.12815277256124, -71.13712072817228, -71.13065800463157, -71.1311172738734, -71.13427352193531, -71.13161808935436, -71.12771611318988, -71.13208534640165, -71.1299221016894, -71.1297622550589, -71.12395963235808, -71.12729131304908, -71.12733180344244, -71.13383981344633, -71.12599193778208, -71.13718050963799, -71.12634005954234, -71.13615119608934, -71.12770693194058, -71.13607079039966, -71.13074080882659, -71.12960869393241, -71.11837974523743, -71.12726941836672, -71.13538817149717, -71.13846167627196, -71.13735574278705, -71.14205607147838, -71.1290166712283, -71.13085675537378, -71.12640357261597, -71.12821635393415, -71.13258852888467, -71.13346641408326, -71.12718862016966, -71.12595064236262, -71.12820936635137, -71.1315050543147, -71.12936901023541, -71.12492056158025, -71.12771394006761, -71.12551284151213, -71.12938189286888, -71.14202092083926, -71.1294456634807, -71.13559859547793, -71.12532001360371, -71.13364063781297, -71.13449907260886, -71.12753883536548, -71.13299116108895, -71.11989190274438, -71.13547457156938, -71.13803295228391, -71.1248311214117, -71.126556022032, -71.1290713870758, -71.13865334297633, -71.12690081699625, -71.13282396247139, -71.12985757765765, -71.13870237274399, -71.13515064787317, -71.12801212854845, -71.12940938019045, -71.13064063713792, -71.13408640117864, -71.11760371148875, -71.1392286536277, -71.13227193305177, -71.13925009140948, -71.1326162028498, -71.12650086102738, -71.12768196478088, -71.12811640300245, -71.12604073475765, -71.13661022366645, -71.13738685849842, -71.1304892729014, -71.12856524264339, -71.13905558822462, -71.13826509293719, -71.12901562046952, -71.1251194257534, -71.14047181121047, -71.13433882349693, -71.13520913828836, -71.11435455369649, -71.11404688704576, -71.11156918509697, -71.11555022243783, -71.11436298605044, -71.11368818159649, -71.11570069093055, -71.12314048525313, -71.13338821437463, -71.12188782813831, -71.12858566302741, -71.12211638116534, -71.11480075951329, -71.13185996505644, -71.11491439961554, -71.1228684685468, -71.11833553894441], \"marker\": {\"color\": \"mediumslateblue\", \"opacity\": 0.4, \"size\": [100, 33, 103, 110, 175, 60, 175, 99, 120, 50, 100, 260, 85, 93, 40, 39, 85, 75, 76, 40, 50, 69, 108, 119, 32, 88, 60, 130, 168, 60, 40, 179, 350, 50, 70, 77, 189, 195, 72, 189, 524, 78, 40, 210, 95, 79, 60, 145, 80, 70, 65, 74, 119, 85, 45, 90, 100, 40, 550, 39, 60, 27, 75, 60, 45, 100, 130, 79, 90, 79, 75, 58, 75, 110, 180, 65, 67, 99, 80, 135, 50, 130, 130, 35, 75, 60, 58, 208, 75, 70, 295, 150, 65, 175, 175, 100, 250, 187, 80, 70, 115, 185, 260, 175, 140, 80, 259, 120, 108, 90, 125, 62, 47, 99, 60, 50, 45, 70, 60, 59, 50, 95, 59, 80, 169, 120, 40, 105, 79, 90, 72, 32, 199, 45, 65, 179, 60, 80, 120, 75, 100, 45, 125, 50, 98, 109, 85, 50, 125, 110, 79, 100, 58, 80, 259, 62, 95, 20, 70, 125, 150, 150, 70, 95, 239, 199, 33, 40, 89, 100, 80, 58, 85, 45, 127, 11, 209, 259, 120, 45, 298, 55, 58, 80, 149, 159, 60, 279, 83, 90, 75, 138, 66, 199, 400, 65, 50, 89, 52, 70, 139, 269, 91, 70, 68, 200, 130, 70, 66, 50, 45, 48, 125, 58, 59, 139, 239, 200, 72, 128, 269, 230, 120, 70, 50, 85, 150, 80, 67, 45, 40, 69, 55, 180, 279, 50, 25, 60, 75, 28, 75, 129, 50, 85, 329, 140, 295, 240, 113, 195, 179, 146, 259, 89, 459, 124, 150, 85, 100, 150], \"sizemode\": \"area\", \"sizeref\": 10.0}, \"mode\": \"markers\", \"name\": \"Neighborhood=Allston\", \"showlegend\": true, \"subplot\": \"mapbox\", \"type\": \"scattermapbox\"}],\n",
              "                        {\"legend\": {\"itemsizing\": \"constant\", \"tracegroupgap\": 0}, \"mapbox\": {\"center\": {\"lat\": 42.33417634214969, \"lon\": -71.09214597822145}, \"domain\": {\"x\": [0.0, 1.0], \"y\": [0.0, 1.0]}, \"style\": \"carto-positron\", \"zoom\": 13}, \"margin\": {\"b\": 0, \"l\": 0, \"r\": 0, \"t\": 0}, \"template\": {\"data\": {\"bar\": [{\"error_x\": {\"color\": \"#2a3f5f\"}, \"error_y\": {\"color\": \"#2a3f5f\"}, \"marker\": {\"line\": {\"color\": \"#E5ECF6\", \"width\": 0.5}}, \"type\": \"bar\"}], \"barpolar\": [{\"marker\": {\"line\": {\"color\": \"#E5ECF6\", \"width\": 0.5}}, \"type\": \"barpolar\"}], \"carpet\": [{\"aaxis\": {\"endlinecolor\": \"#2a3f5f\", \"gridcolor\": \"white\", \"linecolor\": \"white\", \"minorgridcolor\": \"white\", \"startlinecolor\": \"#2a3f5f\"}, \"baxis\": {\"endlinecolor\": \"#2a3f5f\", \"gridcolor\": \"white\", \"linecolor\": \"white\", \"minorgridcolor\": \"white\", \"startlinecolor\": \"#2a3f5f\"}, \"type\": \"carpet\"}], \"choropleth\": [{\"colorbar\": {\"outlinewidth\": 0, \"ticks\": \"\"}, \"type\": \"choropleth\"}], \"contour\": [{\"colorbar\": {\"outlinewidth\": 0, \"ticks\": \"\"}, \"colorscale\": [[0.0, \"#0d0887\"], [0.1111111111111111, \"#46039f\"], [0.2222222222222222, \"#7201a8\"], [0.3333333333333333, \"#9c179e\"], [0.4444444444444444, \"#bd3786\"], [0.5555555555555556, \"#d8576b\"], [0.6666666666666666, \"#ed7953\"], [0.7777777777777778, \"#fb9f3a\"], [0.8888888888888888, \"#fdca26\"], [1.0, \"#f0f921\"]], \"type\": \"contour\"}], \"contourcarpet\": [{\"colorbar\": {\"outlinewidth\": 0, \"ticks\": \"\"}, \"type\": \"contourcarpet\"}], \"heatmap\": [{\"colorbar\": {\"outlinewidth\": 0, \"ticks\": \"\"}, \"colorscale\": [[0.0, \"#0d0887\"], [0.1111111111111111, \"#46039f\"], [0.2222222222222222, \"#7201a8\"], [0.3333333333333333, \"#9c179e\"], [0.4444444444444444, \"#bd3786\"], [0.5555555555555556, \"#d8576b\"], [0.6666666666666666, \"#ed7953\"], [0.7777777777777778, \"#fb9f3a\"], [0.8888888888888888, \"#fdca26\"], [1.0, \"#f0f921\"]], \"type\": \"heatmap\"}], \"heatmapgl\": [{\"colorbar\": {\"outlinewidth\": 0, \"ticks\": \"\"}, \"colorscale\": [[0.0, \"#0d0887\"], [0.1111111111111111, \"#46039f\"], [0.2222222222222222, \"#7201a8\"], [0.3333333333333333, \"#9c179e\"], [0.4444444444444444, \"#bd3786\"], [0.5555555555555556, \"#d8576b\"], [0.6666666666666666, \"#ed7953\"], [0.7777777777777778, \"#fb9f3a\"], [0.8888888888888888, \"#fdca26\"], [1.0, \"#f0f921\"]], \"type\": \"heatmapgl\"}], \"histogram\": [{\"marker\": {\"colorbar\": {\"outlinewidth\": 0, \"ticks\": \"\"}}, \"type\": \"histogram\"}], \"histogram2d\": [{\"colorbar\": {\"outlinewidth\": 0, \"ticks\": \"\"}, \"colorscale\": [[0.0, \"#0d0887\"], [0.1111111111111111, \"#46039f\"], [0.2222222222222222, \"#7201a8\"], [0.3333333333333333, \"#9c179e\"], [0.4444444444444444, \"#bd3786\"], [0.5555555555555556, \"#d8576b\"], [0.6666666666666666, \"#ed7953\"], [0.7777777777777778, \"#fb9f3a\"], [0.8888888888888888, \"#fdca26\"], [1.0, \"#f0f921\"]], \"type\": \"histogram2d\"}], \"histogram2dcontour\": [{\"colorbar\": {\"outlinewidth\": 0, \"ticks\": \"\"}, \"colorscale\": [[0.0, \"#0d0887\"], [0.1111111111111111, \"#46039f\"], [0.2222222222222222, \"#7201a8\"], [0.3333333333333333, \"#9c179e\"], [0.4444444444444444, \"#bd3786\"], [0.5555555555555556, \"#d8576b\"], [0.6666666666666666, \"#ed7953\"], [0.7777777777777778, \"#fb9f3a\"], [0.8888888888888888, \"#fdca26\"], [1.0, \"#f0f921\"]], \"type\": \"histogram2dcontour\"}], \"mesh3d\": [{\"colorbar\": {\"outlinewidth\": 0, \"ticks\": \"\"}, \"type\": \"mesh3d\"}], \"parcoords\": [{\"line\": {\"colorbar\": {\"outlinewidth\": 0, \"ticks\": \"\"}}, \"type\": \"parcoords\"}], \"pie\": [{\"automargin\": true, \"type\": \"pie\"}], \"scatter\": [{\"marker\": {\"colorbar\": {\"outlinewidth\": 0, \"ticks\": \"\"}}, \"type\": \"scatter\"}], \"scatter3d\": [{\"line\": {\"colorbar\": {\"outlinewidth\": 0, \"ticks\": \"\"}}, \"marker\": {\"colorbar\": {\"outlinewidth\": 0, \"ticks\": \"\"}}, \"type\": \"scatter3d\"}], \"scattercarpet\": [{\"marker\": {\"colorbar\": {\"outlinewidth\": 0, \"ticks\": \"\"}}, \"type\": \"scattercarpet\"}], \"scattergeo\": [{\"marker\": {\"colorbar\": {\"outlinewidth\": 0, \"ticks\": \"\"}}, \"type\": \"scattergeo\"}], \"scattergl\": [{\"marker\": {\"colorbar\": {\"outlinewidth\": 0, \"ticks\": \"\"}}, \"type\": \"scattergl\"}], \"scattermapbox\": [{\"marker\": {\"colorbar\": {\"outlinewidth\": 0, \"ticks\": \"\"}}, \"type\": \"scattermapbox\"}], \"scatterpolar\": [{\"marker\": {\"colorbar\": {\"outlinewidth\": 0, \"ticks\": \"\"}}, \"type\": \"scatterpolar\"}], \"scatterpolargl\": [{\"marker\": {\"colorbar\": {\"outlinewidth\": 0, \"ticks\": \"\"}}, \"type\": \"scatterpolargl\"}], \"scatterternary\": [{\"marker\": {\"colorbar\": {\"outlinewidth\": 0, \"ticks\": \"\"}}, \"type\": \"scatterternary\"}], \"surface\": [{\"colorbar\": {\"outlinewidth\": 0, \"ticks\": \"\"}, \"colorscale\": [[0.0, \"#0d0887\"], [0.1111111111111111, \"#46039f\"], [0.2222222222222222, \"#7201a8\"], [0.3333333333333333, \"#9c179e\"], [0.4444444444444444, \"#bd3786\"], [0.5555555555555556, \"#d8576b\"], [0.6666666666666666, \"#ed7953\"], [0.7777777777777778, \"#fb9f3a\"], [0.8888888888888888, \"#fdca26\"], [1.0, \"#f0f921\"]], \"type\": \"surface\"}], \"table\": [{\"cells\": {\"fill\": {\"color\": \"#EBF0F8\"}, \"line\": {\"color\": \"white\"}}, \"header\": {\"fill\": {\"color\": \"#C8D4E3\"}, \"line\": {\"color\": \"white\"}}, \"type\": \"table\"}]}, \"layout\": {\"annotationdefaults\": {\"arrowcolor\": \"#2a3f5f\", \"arrowhead\": 0, \"arrowwidth\": 1}, \"coloraxis\": {\"colorbar\": {\"outlinewidth\": 0, \"ticks\": \"\"}}, \"colorscale\": {\"diverging\": [[0, \"#8e0152\"], [0.1, \"#c51b7d\"], [0.2, \"#de77ae\"], [0.3, \"#f1b6da\"], [0.4, \"#fde0ef\"], [0.5, \"#f7f7f7\"], [0.6, \"#e6f5d0\"], [0.7, \"#b8e186\"], [0.8, \"#7fbc41\"], [0.9, \"#4d9221\"], [1, \"#276419\"]], \"sequential\": [[0.0, \"#0d0887\"], [0.1111111111111111, \"#46039f\"], [0.2222222222222222, \"#7201a8\"], [0.3333333333333333, \"#9c179e\"], [0.4444444444444444, \"#bd3786\"], [0.5555555555555556, \"#d8576b\"], [0.6666666666666666, \"#ed7953\"], [0.7777777777777778, \"#fb9f3a\"], [0.8888888888888888, \"#fdca26\"], [1.0, \"#f0f921\"]], \"sequentialminus\": [[0.0, \"#0d0887\"], [0.1111111111111111, \"#46039f\"], [0.2222222222222222, \"#7201a8\"], [0.3333333333333333, \"#9c179e\"], [0.4444444444444444, \"#bd3786\"], [0.5555555555555556, \"#d8576b\"], [0.6666666666666666, \"#ed7953\"], [0.7777777777777778, \"#fb9f3a\"], [0.8888888888888888, \"#fdca26\"], [1.0, \"#f0f921\"]]}, \"colorway\": [\"#636efa\", \"#EF553B\", \"#00cc96\", \"#ab63fa\", \"#FFA15A\", \"#19d3f3\", \"#FF6692\", \"#B6E880\", \"#FF97FF\", \"#FECB52\"], \"font\": {\"color\": \"#2a3f5f\"}, \"geo\": {\"bgcolor\": \"white\", \"lakecolor\": \"white\", \"landcolor\": \"#E5ECF6\", \"showlakes\": true, \"showland\": true, \"subunitcolor\": \"white\"}, \"hoverlabel\": {\"align\": \"left\"}, \"hovermode\": \"closest\", \"mapbox\": {\"style\": \"light\"}, \"paper_bgcolor\": \"white\", \"plot_bgcolor\": \"#E5ECF6\", \"polar\": {\"angularaxis\": {\"gridcolor\": \"white\", \"linecolor\": \"white\", \"ticks\": \"\"}, \"bgcolor\": \"#E5ECF6\", \"radialaxis\": {\"gridcolor\": \"white\", \"linecolor\": \"white\", \"ticks\": \"\"}}, \"scene\": {\"xaxis\": {\"backgroundcolor\": \"#E5ECF6\", \"gridcolor\": \"white\", \"gridwidth\": 2, \"linecolor\": \"white\", \"showbackground\": true, \"ticks\": \"\", \"zerolinecolor\": \"white\"}, \"yaxis\": {\"backgroundcolor\": \"#E5ECF6\", \"gridcolor\": \"white\", \"gridwidth\": 2, \"linecolor\": \"white\", \"showbackground\": true, \"ticks\": \"\", \"zerolinecolor\": \"white\"}, \"zaxis\": {\"backgroundcolor\": \"#E5ECF6\", \"gridcolor\": \"white\", \"gridwidth\": 2, \"linecolor\": \"white\", \"showbackground\": true, \"ticks\": \"\", \"zerolinecolor\": \"white\"}}, \"shapedefaults\": {\"line\": {\"color\": \"#2a3f5f\"}}, \"ternary\": {\"aaxis\": {\"gridcolor\": \"white\", \"linecolor\": \"white\", \"ticks\": \"\"}, \"baxis\": {\"gridcolor\": \"white\", \"linecolor\": \"white\", \"ticks\": \"\"}, \"bgcolor\": \"#E5ECF6\", \"caxis\": {\"gridcolor\": \"white\", \"linecolor\": \"white\", \"ticks\": \"\"}}, \"title\": {\"x\": 0.05}, \"xaxis\": {\"automargin\": true, \"gridcolor\": \"white\", \"linecolor\": \"white\", \"ticks\": \"\", \"title\": {\"standoff\": 15}, \"zerolinecolor\": \"white\", \"zerolinewidth\": 2}, \"yaxis\": {\"automargin\": true, \"gridcolor\": \"white\", \"linecolor\": \"white\", \"ticks\": \"\", \"title\": {\"standoff\": 15}, \"zerolinecolor\": \"white\", \"zerolinewidth\": 2}}}, \"title\": {\"text\": \"Boston AirBnB Map\"}},\n",
              "                        {\"responsive\": true}\n",
              "                    ).then(function(){\n",
              "                            \n",
              "var gd = document.getElementById('f47c738a-d2a7-42ce-ae16-8f9c050145cf');\n",
              "var x = new MutationObserver(function (mutations, observer) {{\n",
              "        var display = window.getComputedStyle(gd).display;\n",
              "        if (!display || display === 'none') {{\n",
              "            console.log([gd, 'removed!']);\n",
              "            Plotly.purge(gd);\n",
              "            observer.disconnect();\n",
              "        }}\n",
              "}});\n",
              "\n",
              "// Listen for the removal of the full notebook cells\n",
              "var notebookContainer = gd.closest('#notebook-container');\n",
              "if (notebookContainer) {{\n",
              "    x.observe(notebookContainer, {childList: true});\n",
              "}}\n",
              "\n",
              "// Listen for the clearing of the current output cell\n",
              "var outputEl = gd.closest('.output');\n",
              "if (outputEl) {{\n",
              "    x.observe(outputEl, {childList: true});\n",
              "}}\n",
              "\n",
              "                        })\n",
              "                };\n",
              "                \n",
              "            </script>\n",
              "        </div>\n",
              "</body>\n",
              "</html>"
            ]
          },
          "metadata": {}
        }
      ]
    },
    {
      "cell_type": "markdown",
      "metadata": {
        "id": "ywQV3GDJQU_e"
      },
      "source": [
        "### Figure 4"
      ]
    },
    {
      "cell_type": "markdown",
      "metadata": {
        "id": "_mPiG6OBCQp7"
      },
      "source": [
        "Using get_distance() for visualization"
      ]
    },
    {
      "cell_type": "code",
      "metadata": {
        "id": "kd-19xg5PoAX"
      },
      "source": [
        "boston_coord = boston[['latitude', 'longitude']].to_numpy()\n",
        "dist_list = get_distance(boston_coord, 42.3467, -71.0972)           #using function to find distances\n",
        "dist_array = np.array(dist_list)                                    # converting to array\n",
        "\n",
        "boston['dist_to_stadium'] = dist_array.tolist()                     #appending array to boston\n",
        "\n",
        "neighborhood_med_dist = boston.groupby(['neighborhood']).median()   # new dataframe from grouping by neighborhood\n",
        "\n",
        "# it was important here to make sure the neighborhoods were in the same order as \n",
        "# listed in neighborhood_med_dist\n",
        "boston_hood_list = ['Allston', 'Back Bay', 'Bay Village', 'Beacon Hill', 'Brighton', 'Charlestown',\n",
        "                    'Chinatown', 'Dorchester', 'Downtown', 'East Boston', 'Fenway', 'Hyde Park', \n",
        "                    'Jamaica Plain', 'Leather District', 'Longwood Medical Area', 'Mattapan', \n",
        "                    'Mission Hill', 'North End', 'Roslindale', 'Roxbury', 'South Boston', \n",
        "                    'South Boston Waterfront', 'South End', 'West End', 'West Roxbury']\n",
        "\n",
        "neighborhood_med_dist['neighborhood'] = boston_hood_list"
      ],
      "execution_count": null,
      "outputs": []
    },
    {
      "cell_type": "code",
      "metadata": {
        "colab": {
          "base_uri": "https://localhost:8080/",
          "height": 542
        },
        "id": "dAk1Seb3PnTi",
        "outputId": "27c81008-5cc6-4561-e407-206f2ffa1192"
      },
      "source": [
        "fig4 = px.scatter(data_frame=neighborhood_med_dist, x='price', y='dist_to_stadium', color='neighborhood', hover_name='neighborhood',\n",
        "                  labels={'dist_to_stadium':'Distance to Red Sox Stadium', 'price':'Price per Night'},\n",
        "                  title='Boston Median Airbnb Prices by Neighborhood, Compared with Median Distance to Red Sox Stadium')\n",
        "fig4"
      ],
      "execution_count": null,
      "outputs": [
        {
          "output_type": "display_data",
          "data": {
            "text/html": [
              "<html>\n",
              "<head><meta charset=\"utf-8\" /></head>\n",
              "<body>\n",
              "    <div>\n",
              "            <script src=\"https://cdnjs.cloudflare.com/ajax/libs/mathjax/2.7.5/MathJax.js?config=TeX-AMS-MML_SVG\"></script><script type=\"text/javascript\">if (window.MathJax) {MathJax.Hub.Config({SVG: {font: \"STIX-Web\"}});}</script>\n",
              "                <script type=\"text/javascript\">window.PlotlyConfig = {MathJaxConfig: 'local'};</script>\n",
              "        <script src=\"https://cdn.plot.ly/plotly-latest.min.js\"></script>    \n",
              "            <div id=\"17be36df-9675-4168-bba0-95bf30f66260\" class=\"plotly-graph-div\" style=\"height:525px; width:100%;\"></div>\n",
              "            <script type=\"text/javascript\">\n",
              "                \n",
              "                    window.PLOTLYENV=window.PLOTLYENV || {};\n",
              "                    \n",
              "                if (document.getElementById(\"17be36df-9675-4168-bba0-95bf30f66260\")) {\n",
              "                    Plotly.newPlot(\n",
              "                        '17be36df-9675-4168-bba0-95bf30f66260',\n",
              "                        [{\"hoverlabel\": {\"namelength\": 0}, \"hovertemplate\": \"<b>%{hovertext}</b><br><br>neighborhood=Allston<br>Price per Night=%{x}<br>Distance to Red Sox Stadium=%{y}\", \"hovertext\": [\"Allston\"], \"legendgroup\": \"neighborhood=Allston\", \"marker\": {\"color\": \"#636efa\", \"symbol\": \"circle\"}, \"mode\": \"markers\", \"name\": \"neighborhood=Allston\", \"showlegend\": true, \"type\": \"scatter\", \"x\": [85.0], \"xaxis\": \"x\", \"y\": [0.03481539341639224], \"yaxis\": \"y\"}, {\"hoverlabel\": {\"namelength\": 0}, \"hovertemplate\": \"<b>%{hovertext}</b><br><br>neighborhood=Back Bay<br>Price per Night=%{x}<br>Distance to Red Sox Stadium=%{y}\", \"hovertext\": [\"Back Bay\"], \"legendgroup\": \"neighborhood=Back Bay\", \"marker\": {\"color\": \"#EF553B\", \"symbol\": \"circle\"}, \"mode\": \"markers\", \"name\": \"neighborhood=Back Bay\", \"showlegend\": true, \"type\": \"scatter\", \"x\": [209.0], \"xaxis\": \"x\", \"y\": [0.016524684800204942], \"yaxis\": \"y\"}, {\"hoverlabel\": {\"namelength\": 0}, \"hovertemplate\": \"<b>%{hovertext}</b><br><br>neighborhood=Bay Village<br>Price per Night=%{x}<br>Distance to Red Sox Stadium=%{y}\", \"hovertext\": [\"Bay Village\"], \"legendgroup\": \"neighborhood=Bay Village\", \"marker\": {\"color\": \"#00cc96\", \"symbol\": \"circle\"}, \"mode\": \"markers\", \"name\": \"neighborhood=Bay Village\", \"showlegend\": true, \"type\": \"scatter\", \"x\": [206.5], \"xaxis\": \"x\", \"y\": [0.028870552079873338], \"yaxis\": \"y\"}, {\"hoverlabel\": {\"namelength\": 0}, \"hovertemplate\": \"<b>%{hovertext}</b><br><br>neighborhood=Beacon Hill<br>Price per Night=%{x}<br>Distance to Red Sox Stadium=%{y}\", \"hovertext\": [\"Beacon Hill\"], \"legendgroup\": \"neighborhood=Beacon Hill\", \"marker\": {\"color\": \"#ab63fa\", \"symbol\": \"circle\"}, \"mode\": \"markers\", \"name\": \"neighborhood=Beacon Hill\", \"showlegend\": true, \"type\": \"scatter\", \"x\": [195.0], \"xaxis\": \"x\", \"y\": [0.03192323040836573], \"yaxis\": \"y\"}, {\"hoverlabel\": {\"namelength\": 0}, \"hovertemplate\": \"<b>%{hovertext}</b><br><br>neighborhood=Brighton<br>Price per Night=%{x}<br>Distance to Red Sox Stadium=%{y}\", \"hovertext\": [\"Brighton\"], \"legendgroup\": \"neighborhood=Brighton\", \"marker\": {\"color\": \"#FFA15A\", \"symbol\": \"circle\"}, \"mode\": \"markers\", \"name\": \"neighborhood=Brighton\", \"showlegend\": true, \"type\": \"scatter\", \"x\": [90.0], \"xaxis\": \"x\", \"y\": [0.05223403678714641], \"yaxis\": \"y\"}, {\"hoverlabel\": {\"namelength\": 0}, \"hovertemplate\": \"<b>%{hovertext}</b><br><br>neighborhood=Charlestown<br>Price per Night=%{x}<br>Distance to Red Sox Stadium=%{y}\", \"hovertext\": [\"Charlestown\"], \"legendgroup\": \"neighborhood=Charlestown\", \"marker\": {\"color\": \"#19d3f3\", \"symbol\": \"circle\"}, \"mode\": \"markers\", \"name\": \"neighborhood=Charlestown\", \"showlegend\": true, \"type\": \"scatter\", \"x\": [180.0], \"xaxis\": \"x\", \"y\": [0.04522541227106969], \"yaxis\": \"y\"}, {\"hoverlabel\": {\"namelength\": 0}, \"hovertemplate\": \"<b>%{hovertext}</b><br><br>neighborhood=Chinatown<br>Price per Night=%{x}<br>Distance to Red Sox Stadium=%{y}\", \"hovertext\": [\"Chinatown\"], \"legendgroup\": \"neighborhood=Chinatown\", \"marker\": {\"color\": \"#FF6692\", \"symbol\": \"circle\"}, \"mode\": \"markers\", \"name\": \"neighborhood=Chinatown\", \"showlegend\": true, \"type\": \"scatter\", \"x\": [219.0], \"xaxis\": \"x\", \"y\": [0.0360373487026137], \"yaxis\": \"y\"}, {\"hoverlabel\": {\"namelength\": 0}, \"hovertemplate\": \"<b>%{hovertext}</b><br><br>neighborhood=Dorchester<br>Price per Night=%{x}<br>Distance to Red Sox Stadium=%{y}\", \"hovertext\": [\"Dorchester\"], \"legendgroup\": \"neighborhood=Dorchester\", \"marker\": {\"color\": \"#B6E880\", \"symbol\": \"circle\"}, \"mode\": \"markers\", \"name\": \"neighborhood=Dorchester\", \"showlegend\": true, \"type\": \"scatter\", \"x\": [72.0], \"xaxis\": \"x\", \"y\": [0.05746620514646243], \"yaxis\": \"y\"}, {\"hoverlabel\": {\"namelength\": 0}, \"hovertemplate\": \"<b>%{hovertext}</b><br><br>neighborhood=Downtown<br>Price per Night=%{x}<br>Distance to Red Sox Stadium=%{y}\", \"hovertext\": [\"Downtown\"], \"legendgroup\": \"neighborhood=Downtown\", \"marker\": {\"color\": \"#FF97FF\", \"symbol\": \"circle\"}, \"mode\": \"markers\", \"name\": \"neighborhood=Downtown\", \"showlegend\": true, \"type\": \"scatter\", \"x\": [225.0], \"xaxis\": \"x\", \"y\": [0.03710494483110453], \"yaxis\": \"y\"}, {\"hoverlabel\": {\"namelength\": 0}, \"hovertemplate\": \"<b>%{hovertext}</b><br><br>neighborhood=East Boston<br>Price per Night=%{x}<br>Distance to Red Sox Stadium=%{y}\", \"hovertext\": [\"East Boston\"], \"legendgroup\": \"neighborhood=East Boston\", \"marker\": {\"color\": \"#FECB52\", \"symbol\": \"circle\"}, \"mode\": \"markers\", \"name\": \"neighborhood=East Boston\", \"showlegend\": true, \"type\": \"scatter\", \"x\": [99.0], \"xaxis\": \"x\", \"y\": [0.06868956773359897], \"yaxis\": \"y\"}, {\"hoverlabel\": {\"namelength\": 0}, \"hovertemplate\": \"<b>%{hovertext}</b><br><br>neighborhood=Fenway<br>Price per Night=%{x}<br>Distance to Red Sox Stadium=%{y}\", \"hovertext\": [\"Fenway\"], \"legendgroup\": \"neighborhood=Fenway\", \"marker\": {\"color\": \"#636efa\", \"symbol\": \"circle\"}, \"mode\": \"markers\", \"name\": \"neighborhood=Fenway\", \"showlegend\": true, \"type\": \"scatter\", \"x\": [191.0], \"xaxis\": \"x\", \"y\": [0.005137006379644714], \"yaxis\": \"y\"}, {\"hoverlabel\": {\"namelength\": 0}, \"hovertemplate\": \"<b>%{hovertext}</b><br><br>neighborhood=Hyde Park<br>Price per Night=%{x}<br>Distance to Red Sox Stadium=%{y}\", \"hovertext\": [\"Hyde Park\"], \"legendgroup\": \"neighborhood=Hyde Park\", \"marker\": {\"color\": \"#EF553B\", \"symbol\": \"circle\"}, \"mode\": \"markers\", \"name\": \"neighborhood=Hyde Park\", \"showlegend\": true, \"type\": \"scatter\", \"x\": [58.0], \"xaxis\": \"x\", \"y\": [0.08977541939598428], \"yaxis\": \"y\"}, {\"hoverlabel\": {\"namelength\": 0}, \"hovertemplate\": \"<b>%{hovertext}</b><br><br>neighborhood=Jamaica Plain<br>Price per Night=%{x}<br>Distance to Red Sox Stadium=%{y}\", \"hovertext\": [\"Jamaica Plain\"], \"legendgroup\": \"neighborhood=Jamaica Plain\", \"marker\": {\"color\": \"#00cc96\", \"symbol\": \"circle\"}, \"mode\": \"markers\", \"name\": \"neighborhood=Jamaica Plain\", \"showlegend\": true, \"type\": \"scatter\", \"x\": [100.0], \"xaxis\": \"x\", \"y\": [0.036315149062410484], \"yaxis\": \"y\"}, {\"hoverlabel\": {\"namelength\": 0}, \"hovertemplate\": \"<b>%{hovertext}</b><br><br>neighborhood=Leather District<br>Price per Night=%{x}<br>Distance to Red Sox Stadium=%{y}\", \"hovertext\": [\"Leather District\"], \"legendgroup\": \"neighborhood=Leather District\", \"marker\": {\"color\": \"#ab63fa\", \"symbol\": \"circle\"}, \"mode\": \"markers\", \"name\": \"neighborhood=Leather District\", \"showlegend\": true, \"type\": \"scatter\", \"x\": [245.0], \"xaxis\": \"x\", \"y\": [0.039480841691876815], \"yaxis\": \"y\"}, {\"hoverlabel\": {\"namelength\": 0}, \"hovertemplate\": \"<b>%{hovertext}</b><br><br>neighborhood=Longwood Medical Area<br>Price per Night=%{x}<br>Distance to Red Sox Stadium=%{y}\", \"hovertext\": [\"Longwood Medical Area\"], \"legendgroup\": \"neighborhood=Longwood Medical Area\", \"marker\": {\"color\": \"#FFA15A\", \"symbol\": \"circle\"}, \"mode\": \"markers\", \"name\": \"neighborhood=Longwood Medical Area\", \"showlegend\": true, \"type\": \"scatter\", \"x\": [84.0], \"xaxis\": \"x\", \"y\": [0.012622739274706725], \"yaxis\": \"y\"}, {\"hoverlabel\": {\"namelength\": 0}, \"hovertemplate\": \"<b>%{hovertext}</b><br><br>neighborhood=Mattapan<br>Price per Night=%{x}<br>Distance to Red Sox Stadium=%{y}\", \"hovertext\": [\"Mattapan\"], \"legendgroup\": \"neighborhood=Mattapan\", \"marker\": {\"color\": \"#19d3f3\", \"symbol\": \"circle\"}, \"mode\": \"markers\", \"name\": \"neighborhood=Mattapan\", \"showlegend\": true, \"type\": \"scatter\", \"x\": [67.0], \"xaxis\": \"x\", \"y\": [0.07515917458194238], \"yaxis\": \"y\"}, {\"hoverlabel\": {\"namelength\": 0}, \"hovertemplate\": \"<b>%{hovertext}</b><br><br>neighborhood=Mission Hill<br>Price per Night=%{x}<br>Distance to Red Sox Stadium=%{y}\", \"hovertext\": [\"Mission Hill\"], \"legendgroup\": \"neighborhood=Mission Hill\", \"marker\": {\"color\": \"#FF6692\", \"symbol\": \"circle\"}, \"mode\": \"markers\", \"name\": \"neighborhood=Mission Hill\", \"showlegend\": true, \"type\": \"scatter\", \"x\": [89.5], \"xaxis\": \"x\", \"y\": [0.016170694696251542], \"yaxis\": \"y\"}, {\"hoverlabel\": {\"namelength\": 0}, \"hovertemplate\": \"<b>%{hovertext}</b><br><br>neighborhood=North End<br>Price per Night=%{x}<br>Distance to Red Sox Stadium=%{y}\", \"hovertext\": [\"North End\"], \"legendgroup\": \"neighborhood=North End\", \"marker\": {\"color\": \"#B6E880\", \"symbol\": \"circle\"}, \"mode\": \"markers\", \"name\": \"neighborhood=North End\", \"showlegend\": true, \"type\": \"scatter\", \"x\": [179.0], \"xaxis\": \"x\", \"y\": [0.04641413566441617], \"yaxis\": \"y\"}, {\"hoverlabel\": {\"namelength\": 0}, \"hovertemplate\": \"<b>%{hovertext}</b><br><br>neighborhood=Roslindale<br>Price per Night=%{x}<br>Distance to Red Sox Stadium=%{y}\", \"hovertext\": [\"Roslindale\"], \"legendgroup\": \"neighborhood=Roslindale\", \"marker\": {\"color\": \"#FF97FF\", \"symbol\": \"circle\"}, \"mode\": \"markers\", \"name\": \"neighborhood=Roslindale\", \"showlegend\": true, \"type\": \"scatter\", \"x\": [76.5], \"xaxis\": \"x\", \"y\": [0.07124695769525358], \"yaxis\": \"y\"}, {\"hoverlabel\": {\"namelength\": 0}, \"hovertemplate\": \"<b>%{hovertext}</b><br><br>neighborhood=Roxbury<br>Price per Night=%{x}<br>Distance to Red Sox Stadium=%{y}\", \"hovertext\": [\"Roxbury\"], \"legendgroup\": \"neighborhood=Roxbury\", \"marker\": {\"color\": \"#FECB52\", \"symbol\": \"circle\"}, \"mode\": \"markers\", \"name\": \"neighborhood=Roxbury\", \"showlegend\": true, \"type\": \"scatter\", \"x\": [99.0], \"xaxis\": \"x\", \"y\": [0.021283365044621524], \"yaxis\": \"y\"}, {\"hoverlabel\": {\"namelength\": 0}, \"hovertemplate\": \"<b>%{hovertext}</b><br><br>neighborhood=South Boston<br>Price per Night=%{x}<br>Distance to Red Sox Stadium=%{y}\", \"hovertext\": [\"South Boston\"], \"legendgroup\": \"neighborhood=South Boston\", \"marker\": {\"color\": \"#636efa\", \"symbol\": \"circle\"}, \"mode\": \"markers\", \"name\": \"neighborhood=South Boston\", \"showlegend\": true, \"type\": \"scatter\", \"x\": [150.0], \"xaxis\": \"x\", \"y\": [0.049913331185132845], \"yaxis\": \"y\"}, {\"hoverlabel\": {\"namelength\": 0}, \"hovertemplate\": \"<b>%{hovertext}</b><br><br>neighborhood=South Boston Waterfront<br>Price per Night=%{x}<br>Distance to Red Sox Stadium=%{y}\", \"hovertext\": [\"South Boston Waterfront\"], \"legendgroup\": \"neighborhood=South Boston Waterfront\", \"marker\": {\"color\": \"#EF553B\", \"symbol\": \"circle\"}, \"mode\": \"markers\", \"name\": \"neighborhood=South Boston Waterfront\", \"showlegend\": true, \"type\": \"scatter\", \"x\": [245.0], \"xaxis\": \"x\", \"y\": [0.051025479217225875], \"yaxis\": \"y\"}, {\"hoverlabel\": {\"namelength\": 0}, \"hovertemplate\": \"<b>%{hovertext}</b><br><br>neighborhood=South End<br>Price per Night=%{x}<br>Distance to Red Sox Stadium=%{y}\", \"hovertext\": [\"South End\"], \"legendgroup\": \"neighborhood=South End\", \"marker\": {\"color\": \"#00cc96\", \"symbol\": \"circle\"}, \"mode\": \"markers\", \"name\": \"neighborhood=South End\", \"showlegend\": true, \"type\": \"scatter\", \"x\": [180.0], \"xaxis\": \"x\", \"y\": [0.023221462422927764], \"yaxis\": \"y\"}, {\"hoverlabel\": {\"namelength\": 0}, \"hovertemplate\": \"<b>%{hovertext}</b><br><br>neighborhood=West End<br>Price per Night=%{x}<br>Distance to Red Sox Stadium=%{y}\", \"hovertext\": [\"West End\"], \"legendgroup\": \"neighborhood=West End\", \"marker\": {\"color\": \"#ab63fa\", \"symbol\": \"circle\"}, \"mode\": \"markers\", \"name\": \"neighborhood=West End\", \"showlegend\": true, \"type\": \"scatter\", \"x\": [199.0], \"xaxis\": \"x\", \"y\": [0.033767482827465604], \"yaxis\": \"y\"}, {\"hoverlabel\": {\"namelength\": 0}, \"hovertemplate\": \"<b>%{hovertext}</b><br><br>neighborhood=West Roxbury<br>Price per Night=%{x}<br>Distance to Red Sox Stadium=%{y}\", \"hovertext\": [\"West Roxbury\"], \"legendgroup\": \"neighborhood=West Roxbury\", \"marker\": {\"color\": \"#FFA15A\", \"symbol\": \"circle\"}, \"mode\": \"markers\", \"name\": \"neighborhood=West Roxbury\", \"showlegend\": true, \"type\": \"scatter\", \"x\": [85.0], \"xaxis\": \"x\", \"y\": [0.0875755231576356], \"yaxis\": \"y\"}],\n",
              "                        {\"legend\": {\"tracegroupgap\": 0}, \"template\": {\"data\": {\"bar\": [{\"error_x\": {\"color\": \"#2a3f5f\"}, \"error_y\": {\"color\": \"#2a3f5f\"}, \"marker\": {\"line\": {\"color\": \"#E5ECF6\", \"width\": 0.5}}, \"type\": \"bar\"}], \"barpolar\": [{\"marker\": {\"line\": {\"color\": \"#E5ECF6\", \"width\": 0.5}}, \"type\": \"barpolar\"}], \"carpet\": [{\"aaxis\": {\"endlinecolor\": \"#2a3f5f\", \"gridcolor\": \"white\", \"linecolor\": \"white\", \"minorgridcolor\": \"white\", \"startlinecolor\": \"#2a3f5f\"}, \"baxis\": {\"endlinecolor\": \"#2a3f5f\", \"gridcolor\": \"white\", \"linecolor\": \"white\", \"minorgridcolor\": \"white\", \"startlinecolor\": \"#2a3f5f\"}, \"type\": \"carpet\"}], \"choropleth\": [{\"colorbar\": {\"outlinewidth\": 0, \"ticks\": \"\"}, \"type\": \"choropleth\"}], \"contour\": [{\"colorbar\": {\"outlinewidth\": 0, \"ticks\": \"\"}, \"colorscale\": [[0.0, \"#0d0887\"], [0.1111111111111111, \"#46039f\"], [0.2222222222222222, \"#7201a8\"], [0.3333333333333333, \"#9c179e\"], [0.4444444444444444, \"#bd3786\"], [0.5555555555555556, \"#d8576b\"], [0.6666666666666666, \"#ed7953\"], [0.7777777777777778, \"#fb9f3a\"], [0.8888888888888888, \"#fdca26\"], [1.0, \"#f0f921\"]], \"type\": \"contour\"}], \"contourcarpet\": [{\"colorbar\": {\"outlinewidth\": 0, \"ticks\": \"\"}, \"type\": \"contourcarpet\"}], \"heatmap\": [{\"colorbar\": {\"outlinewidth\": 0, \"ticks\": \"\"}, \"colorscale\": [[0.0, \"#0d0887\"], [0.1111111111111111, \"#46039f\"], [0.2222222222222222, \"#7201a8\"], [0.3333333333333333, \"#9c179e\"], [0.4444444444444444, \"#bd3786\"], [0.5555555555555556, \"#d8576b\"], [0.6666666666666666, \"#ed7953\"], [0.7777777777777778, \"#fb9f3a\"], [0.8888888888888888, \"#fdca26\"], [1.0, \"#f0f921\"]], \"type\": \"heatmap\"}], \"heatmapgl\": [{\"colorbar\": {\"outlinewidth\": 0, \"ticks\": \"\"}, \"colorscale\": [[0.0, \"#0d0887\"], [0.1111111111111111, \"#46039f\"], [0.2222222222222222, \"#7201a8\"], [0.3333333333333333, \"#9c179e\"], [0.4444444444444444, \"#bd3786\"], [0.5555555555555556, \"#d8576b\"], [0.6666666666666666, \"#ed7953\"], [0.7777777777777778, \"#fb9f3a\"], [0.8888888888888888, \"#fdca26\"], [1.0, \"#f0f921\"]], \"type\": \"heatmapgl\"}], \"histogram\": [{\"marker\": {\"colorbar\": {\"outlinewidth\": 0, \"ticks\": \"\"}}, \"type\": \"histogram\"}], \"histogram2d\": [{\"colorbar\": {\"outlinewidth\": 0, \"ticks\": \"\"}, \"colorscale\": [[0.0, \"#0d0887\"], [0.1111111111111111, \"#46039f\"], [0.2222222222222222, \"#7201a8\"], [0.3333333333333333, \"#9c179e\"], [0.4444444444444444, \"#bd3786\"], [0.5555555555555556, \"#d8576b\"], [0.6666666666666666, \"#ed7953\"], [0.7777777777777778, \"#fb9f3a\"], [0.8888888888888888, \"#fdca26\"], [1.0, \"#f0f921\"]], \"type\": \"histogram2d\"}], \"histogram2dcontour\": [{\"colorbar\": {\"outlinewidth\": 0, \"ticks\": \"\"}, \"colorscale\": [[0.0, \"#0d0887\"], [0.1111111111111111, \"#46039f\"], [0.2222222222222222, \"#7201a8\"], [0.3333333333333333, \"#9c179e\"], [0.4444444444444444, \"#bd3786\"], [0.5555555555555556, \"#d8576b\"], [0.6666666666666666, \"#ed7953\"], [0.7777777777777778, \"#fb9f3a\"], [0.8888888888888888, \"#fdca26\"], [1.0, \"#f0f921\"]], \"type\": \"histogram2dcontour\"}], \"mesh3d\": [{\"colorbar\": {\"outlinewidth\": 0, \"ticks\": \"\"}, \"type\": \"mesh3d\"}], \"parcoords\": [{\"line\": {\"colorbar\": {\"outlinewidth\": 0, \"ticks\": \"\"}}, \"type\": \"parcoords\"}], \"pie\": [{\"automargin\": true, \"type\": \"pie\"}], \"scatter\": [{\"marker\": {\"colorbar\": {\"outlinewidth\": 0, \"ticks\": \"\"}}, \"type\": \"scatter\"}], \"scatter3d\": [{\"line\": {\"colorbar\": {\"outlinewidth\": 0, \"ticks\": \"\"}}, \"marker\": {\"colorbar\": {\"outlinewidth\": 0, \"ticks\": \"\"}}, \"type\": \"scatter3d\"}], \"scattercarpet\": [{\"marker\": {\"colorbar\": {\"outlinewidth\": 0, \"ticks\": \"\"}}, \"type\": \"scattercarpet\"}], \"scattergeo\": [{\"marker\": {\"colorbar\": {\"outlinewidth\": 0, \"ticks\": \"\"}}, \"type\": \"scattergeo\"}], \"scattergl\": [{\"marker\": {\"colorbar\": {\"outlinewidth\": 0, \"ticks\": \"\"}}, \"type\": \"scattergl\"}], \"scattermapbox\": [{\"marker\": {\"colorbar\": {\"outlinewidth\": 0, \"ticks\": \"\"}}, \"type\": \"scattermapbox\"}], \"scatterpolar\": [{\"marker\": {\"colorbar\": {\"outlinewidth\": 0, \"ticks\": \"\"}}, \"type\": \"scatterpolar\"}], \"scatterpolargl\": [{\"marker\": {\"colorbar\": {\"outlinewidth\": 0, \"ticks\": \"\"}}, \"type\": \"scatterpolargl\"}], \"scatterternary\": [{\"marker\": {\"colorbar\": {\"outlinewidth\": 0, \"ticks\": \"\"}}, \"type\": \"scatterternary\"}], \"surface\": [{\"colorbar\": {\"outlinewidth\": 0, \"ticks\": \"\"}, \"colorscale\": [[0.0, \"#0d0887\"], [0.1111111111111111, \"#46039f\"], [0.2222222222222222, \"#7201a8\"], [0.3333333333333333, \"#9c179e\"], [0.4444444444444444, \"#bd3786\"], [0.5555555555555556, \"#d8576b\"], [0.6666666666666666, \"#ed7953\"], [0.7777777777777778, \"#fb9f3a\"], [0.8888888888888888, \"#fdca26\"], [1.0, \"#f0f921\"]], \"type\": \"surface\"}], \"table\": [{\"cells\": {\"fill\": {\"color\": \"#EBF0F8\"}, \"line\": {\"color\": \"white\"}}, \"header\": {\"fill\": {\"color\": \"#C8D4E3\"}, \"line\": {\"color\": \"white\"}}, \"type\": \"table\"}]}, \"layout\": {\"annotationdefaults\": {\"arrowcolor\": \"#2a3f5f\", \"arrowhead\": 0, \"arrowwidth\": 1}, \"coloraxis\": {\"colorbar\": {\"outlinewidth\": 0, \"ticks\": \"\"}}, \"colorscale\": {\"diverging\": [[0, \"#8e0152\"], [0.1, \"#c51b7d\"], [0.2, \"#de77ae\"], [0.3, \"#f1b6da\"], [0.4, \"#fde0ef\"], [0.5, \"#f7f7f7\"], [0.6, \"#e6f5d0\"], [0.7, \"#b8e186\"], [0.8, \"#7fbc41\"], [0.9, \"#4d9221\"], [1, \"#276419\"]], \"sequential\": [[0.0, \"#0d0887\"], [0.1111111111111111, \"#46039f\"], [0.2222222222222222, \"#7201a8\"], [0.3333333333333333, \"#9c179e\"], [0.4444444444444444, \"#bd3786\"], [0.5555555555555556, \"#d8576b\"], [0.6666666666666666, \"#ed7953\"], [0.7777777777777778, \"#fb9f3a\"], [0.8888888888888888, \"#fdca26\"], [1.0, \"#f0f921\"]], \"sequentialminus\": [[0.0, \"#0d0887\"], [0.1111111111111111, \"#46039f\"], [0.2222222222222222, \"#7201a8\"], [0.3333333333333333, \"#9c179e\"], [0.4444444444444444, \"#bd3786\"], [0.5555555555555556, \"#d8576b\"], [0.6666666666666666, \"#ed7953\"], [0.7777777777777778, \"#fb9f3a\"], [0.8888888888888888, \"#fdca26\"], [1.0, \"#f0f921\"]]}, \"colorway\": [\"#636efa\", \"#EF553B\", \"#00cc96\", \"#ab63fa\", \"#FFA15A\", \"#19d3f3\", \"#FF6692\", \"#B6E880\", \"#FF97FF\", \"#FECB52\"], \"font\": {\"color\": \"#2a3f5f\"}, \"geo\": {\"bgcolor\": \"white\", \"lakecolor\": \"white\", \"landcolor\": \"#E5ECF6\", \"showlakes\": true, \"showland\": true, \"subunitcolor\": \"white\"}, \"hoverlabel\": {\"align\": \"left\"}, \"hovermode\": \"closest\", \"mapbox\": {\"style\": \"light\"}, \"paper_bgcolor\": \"white\", \"plot_bgcolor\": \"#E5ECF6\", \"polar\": {\"angularaxis\": {\"gridcolor\": \"white\", \"linecolor\": \"white\", \"ticks\": \"\"}, \"bgcolor\": \"#E5ECF6\", \"radialaxis\": {\"gridcolor\": \"white\", \"linecolor\": \"white\", \"ticks\": \"\"}}, \"scene\": {\"xaxis\": {\"backgroundcolor\": \"#E5ECF6\", \"gridcolor\": \"white\", \"gridwidth\": 2, \"linecolor\": \"white\", \"showbackground\": true, \"ticks\": \"\", \"zerolinecolor\": \"white\"}, \"yaxis\": {\"backgroundcolor\": \"#E5ECF6\", \"gridcolor\": \"white\", \"gridwidth\": 2, \"linecolor\": \"white\", \"showbackground\": true, \"ticks\": \"\", \"zerolinecolor\": \"white\"}, \"zaxis\": {\"backgroundcolor\": \"#E5ECF6\", \"gridcolor\": \"white\", \"gridwidth\": 2, \"linecolor\": \"white\", \"showbackground\": true, \"ticks\": \"\", \"zerolinecolor\": \"white\"}}, \"shapedefaults\": {\"line\": {\"color\": \"#2a3f5f\"}}, \"ternary\": {\"aaxis\": {\"gridcolor\": \"white\", \"linecolor\": \"white\", \"ticks\": \"\"}, \"baxis\": {\"gridcolor\": \"white\", \"linecolor\": \"white\", \"ticks\": \"\"}, \"bgcolor\": \"#E5ECF6\", \"caxis\": {\"gridcolor\": \"white\", \"linecolor\": \"white\", \"ticks\": \"\"}}, \"title\": {\"x\": 0.05}, \"xaxis\": {\"automargin\": true, \"gridcolor\": \"white\", \"linecolor\": \"white\", \"ticks\": \"\", \"title\": {\"standoff\": 15}, \"zerolinecolor\": \"white\", \"zerolinewidth\": 2}, \"yaxis\": {\"automargin\": true, \"gridcolor\": \"white\", \"linecolor\": \"white\", \"ticks\": \"\", \"title\": {\"standoff\": 15}, \"zerolinecolor\": \"white\", \"zerolinewidth\": 2}}}, \"title\": {\"text\": \"Boston Median Airbnb Prices by Neighborhood, Compared with Median Distance to Red Sox Stadium\"}, \"xaxis\": {\"anchor\": \"y\", \"domain\": [0.0, 1.0], \"title\": {\"text\": \"Price per Night\"}}, \"yaxis\": {\"anchor\": \"x\", \"domain\": [0.0, 1.0], \"title\": {\"text\": \"Distance to Red Sox Stadium\"}}},\n",
              "                        {\"responsive\": true}\n",
              "                    ).then(function(){\n",
              "                            \n",
              "var gd = document.getElementById('17be36df-9675-4168-bba0-95bf30f66260');\n",
              "var x = new MutationObserver(function (mutations, observer) {{\n",
              "        var display = window.getComputedStyle(gd).display;\n",
              "        if (!display || display === 'none') {{\n",
              "            console.log([gd, 'removed!']);\n",
              "            Plotly.purge(gd);\n",
              "            observer.disconnect();\n",
              "        }}\n",
              "}});\n",
              "\n",
              "// Listen for the removal of the full notebook cells\n",
              "var notebookContainer = gd.closest('#notebook-container');\n",
              "if (notebookContainer) {{\n",
              "    x.observe(notebookContainer, {childList: true});\n",
              "}}\n",
              "\n",
              "// Listen for the clearing of the current output cell\n",
              "var outputEl = gd.closest('.output');\n",
              "if (outputEl) {{\n",
              "    x.observe(outputEl, {childList: true});\n",
              "}}\n",
              "\n",
              "                        })\n",
              "                };\n",
              "                \n",
              "            </script>\n",
              "        </div>\n",
              "</body>\n",
              "</html>"
            ]
          },
          "metadata": {}
        }
      ]
    },
    {
      "cell_type": "markdown",
      "metadata": {
        "id": "Q9MY6-pznQ8j"
      },
      "source": [
        "### Figure 5"
      ]
    },
    {
      "cell_type": "markdown",
      "metadata": {
        "id": "mErKNpveCaog"
      },
      "source": [
        "Using cost_per_person() for visualization"
      ]
    },
    {
      "cell_type": "code",
      "metadata": {
        "id": "8ud9iqp0bmD9"
      },
      "source": [
        "boston_costs = boston[['accommodates', 'price', 'minimum_nights']].to_numpy()\n",
        "cost_list = cost_per_person(boston_costs)\n",
        "cost_array = np.array(cost_list)\n",
        "cost_array\n",
        "\n",
        "boston['min_per_person'] = cost_array.tolist()\n",
        "\n",
        "neighborhood_cost_pp = boston.groupby(['neighborhood']).median()\n",
        "neighborhood_cost_pp['neighborhood'] = boston_hood_list"
      ],
      "execution_count": null,
      "outputs": []
    },
    {
      "cell_type": "code",
      "metadata": {
        "colab": {
          "base_uri": "https://localhost:8080/",
          "height": 542
        },
        "id": "s7E6YcRAc69V",
        "outputId": "d7c79aab-4404-4545-8b16-449d9379ece6"
      },
      "source": [
        "\n",
        "fig5 = px.bar(neighborhood_cost_pp, x='neighborhood', y='min_per_person',\n",
        "              color='neighborhood',\n",
        "              title='Median Airbnb Price per Person in Boston by Neighborhood',\n",
        "              labels = {'min_per_person':'Price per Person per Night','neighborhood':'Neighborhood'},\n",
        "              range_y = [0,300],\n",
        "              color_discrete_sequence = px.colors.qualitative.T10)\n",
        "\n",
        "fig5"
      ],
      "execution_count": null,
      "outputs": [
        {
          "output_type": "display_data",
          "data": {
            "text/html": [
              "<html>\n",
              "<head><meta charset=\"utf-8\" /></head>\n",
              "<body>\n",
              "    <div>\n",
              "            <script src=\"https://cdnjs.cloudflare.com/ajax/libs/mathjax/2.7.5/MathJax.js?config=TeX-AMS-MML_SVG\"></script><script type=\"text/javascript\">if (window.MathJax) {MathJax.Hub.Config({SVG: {font: \"STIX-Web\"}});}</script>\n",
              "                <script type=\"text/javascript\">window.PlotlyConfig = {MathJaxConfig: 'local'};</script>\n",
              "        <script src=\"https://cdn.plot.ly/plotly-latest.min.js\"></script>    \n",
              "            <div id=\"36954b69-250a-4ab8-ae29-b5fdf4021a04\" class=\"plotly-graph-div\" style=\"height:525px; width:100%;\"></div>\n",
              "            <script type=\"text/javascript\">\n",
              "                \n",
              "                    window.PLOTLYENV=window.PLOTLYENV || {};\n",
              "                    \n",
              "                if (document.getElementById(\"36954b69-250a-4ab8-ae29-b5fdf4021a04\")) {\n",
              "                    Plotly.newPlot(\n",
              "                        '36954b69-250a-4ab8-ae29-b5fdf4021a04',\n",
              "                        [{\"alignmentgroup\": \"True\", \"hoverlabel\": {\"namelength\": 0}, \"hovertemplate\": \"Neighborhood=%{x}<br>Price per Person per Night=%{y}\", \"legendgroup\": \"Neighborhood=Allston\", \"marker\": {\"color\": \"#4C78A8\"}, \"name\": \"Neighborhood=Allston\", \"offsetgroup\": \"Neighborhood=Allston\", \"orientation\": \"v\", \"showlegend\": true, \"textposition\": \"auto\", \"type\": \"bar\", \"x\": [\"Allston\"], \"xaxis\": \"x\", \"y\": [68.75], \"yaxis\": \"y\"}, {\"alignmentgroup\": \"True\", \"hoverlabel\": {\"namelength\": 0}, \"hovertemplate\": \"Neighborhood=%{x}<br>Price per Person per Night=%{y}\", \"legendgroup\": \"Neighborhood=Back Bay\", \"marker\": {\"color\": \"#F58518\"}, \"name\": \"Neighborhood=Back Bay\", \"offsetgroup\": \"Neighborhood=Back Bay\", \"orientation\": \"v\", \"showlegend\": true, \"textposition\": \"auto\", \"type\": \"bar\", \"x\": [\"Back Bay\"], \"xaxis\": \"x\", \"y\": [171.0], \"yaxis\": \"y\"}, {\"alignmentgroup\": \"True\", \"hoverlabel\": {\"namelength\": 0}, \"hovertemplate\": \"Neighborhood=%{x}<br>Price per Person per Night=%{y}\", \"legendgroup\": \"Neighborhood=Bay Village\", \"marker\": {\"color\": \"#E45756\"}, \"name\": \"Neighborhood=Bay Village\", \"offsetgroup\": \"Neighborhood=Bay Village\", \"orientation\": \"v\", \"showlegend\": true, \"textposition\": \"auto\", \"type\": \"bar\", \"x\": [\"Bay Village\"], \"xaxis\": \"x\", \"y\": [152.5], \"yaxis\": \"y\"}, {\"alignmentgroup\": \"True\", \"hoverlabel\": {\"namelength\": 0}, \"hovertemplate\": \"Neighborhood=%{x}<br>Price per Person per Night=%{y}\", \"legendgroup\": \"Neighborhood=Beacon Hill\", \"marker\": {\"color\": \"#72B7B2\"}, \"name\": \"Neighborhood=Beacon Hill\", \"offsetgroup\": \"Neighborhood=Beacon Hill\", \"orientation\": \"v\", \"showlegend\": true, \"textposition\": \"auto\", \"type\": \"bar\", \"x\": [\"Beacon Hill\"], \"xaxis\": \"x\", \"y\": [150.0], \"yaxis\": \"y\"}, {\"alignmentgroup\": \"True\", \"hoverlabel\": {\"namelength\": 0}, \"hovertemplate\": \"Neighborhood=%{x}<br>Price per Person per Night=%{y}\", \"legendgroup\": \"Neighborhood=Brighton\", \"marker\": {\"color\": \"#54A24B\"}, \"name\": \"Neighborhood=Brighton\", \"offsetgroup\": \"Neighborhood=Brighton\", \"orientation\": \"v\", \"showlegend\": true, \"textposition\": \"auto\", \"type\": \"bar\", \"x\": [\"Brighton\"], \"xaxis\": \"x\", \"y\": [70.66666666666667], \"yaxis\": \"y\"}, {\"alignmentgroup\": \"True\", \"hoverlabel\": {\"namelength\": 0}, \"hovertemplate\": \"Neighborhood=%{x}<br>Price per Person per Night=%{y}\", \"legendgroup\": \"Neighborhood=Charlestown\", \"marker\": {\"color\": \"#EECA3B\"}, \"name\": \"Neighborhood=Charlestown\", \"offsetgroup\": \"Neighborhood=Charlestown\", \"orientation\": \"v\", \"showlegend\": true, \"textposition\": \"auto\", \"type\": \"bar\", \"x\": [\"Charlestown\"], \"xaxis\": \"x\", \"y\": [100.0], \"yaxis\": \"y\"}, {\"alignmentgroup\": \"True\", \"hoverlabel\": {\"namelength\": 0}, \"hovertemplate\": \"Neighborhood=%{x}<br>Price per Person per Night=%{y}\", \"legendgroup\": \"Neighborhood=Chinatown\", \"marker\": {\"color\": \"#B279A2\"}, \"name\": \"Neighborhood=Chinatown\", \"offsetgroup\": \"Neighborhood=Chinatown\", \"orientation\": \"v\", \"showlegend\": true, \"textposition\": \"auto\", \"type\": \"bar\", \"x\": [\"Chinatown\"], \"xaxis\": \"x\", \"y\": [185.0], \"yaxis\": \"y\"}, {\"alignmentgroup\": \"True\", \"hoverlabel\": {\"namelength\": 0}, \"hovertemplate\": \"Neighborhood=%{x}<br>Price per Person per Night=%{y}\", \"legendgroup\": \"Neighborhood=Dorchester\", \"marker\": {\"color\": \"#FF9DA6\"}, \"name\": \"Neighborhood=Dorchester\", \"offsetgroup\": \"Neighborhood=Dorchester\", \"orientation\": \"v\", \"showlegend\": true, \"textposition\": \"auto\", \"type\": \"bar\", \"x\": [\"Dorchester\"], \"xaxis\": \"x\", \"y\": [65.0], \"yaxis\": \"y\"}, {\"alignmentgroup\": \"True\", \"hoverlabel\": {\"namelength\": 0}, \"hovertemplate\": \"Neighborhood=%{x}<br>Price per Person per Night=%{y}\", \"legendgroup\": \"Neighborhood=Downtown\", \"marker\": {\"color\": \"#9D755D\"}, \"name\": \"Neighborhood=Downtown\", \"offsetgroup\": \"Neighborhood=Downtown\", \"orientation\": \"v\", \"showlegend\": true, \"textposition\": \"auto\", \"type\": \"bar\", \"x\": [\"Downtown\"], \"xaxis\": \"x\", \"y\": [125.0], \"yaxis\": \"y\"}, {\"alignmentgroup\": \"True\", \"hoverlabel\": {\"namelength\": 0}, \"hovertemplate\": \"Neighborhood=%{x}<br>Price per Person per Night=%{y}\", \"legendgroup\": \"Neighborhood=East Boston\", \"marker\": {\"color\": \"#BAB0AC\"}, \"name\": \"Neighborhood=East Boston\", \"offsetgroup\": \"Neighborhood=East Boston\", \"orientation\": \"v\", \"showlegend\": true, \"textposition\": \"auto\", \"type\": \"bar\", \"x\": [\"East Boston\"], \"xaxis\": \"x\", \"y\": [52.5], \"yaxis\": \"y\"}, {\"alignmentgroup\": \"True\", \"hoverlabel\": {\"namelength\": 0}, \"hovertemplate\": \"Neighborhood=%{x}<br>Price per Person per Night=%{y}\", \"legendgroup\": \"Neighborhood=Fenway\", \"marker\": {\"color\": \"#4C78A8\"}, \"name\": \"Neighborhood=Fenway\", \"offsetgroup\": \"Neighborhood=Fenway\", \"orientation\": \"v\", \"showlegend\": true, \"textposition\": \"auto\", \"type\": \"bar\", \"x\": [\"Fenway\"], \"xaxis\": \"x\", \"y\": [158.83333333333331], \"yaxis\": \"y\"}, {\"alignmentgroup\": \"True\", \"hoverlabel\": {\"namelength\": 0}, \"hovertemplate\": \"Neighborhood=%{x}<br>Price per Person per Night=%{y}\", \"legendgroup\": \"Neighborhood=Hyde Park\", \"marker\": {\"color\": \"#F58518\"}, \"name\": \"Neighborhood=Hyde Park\", \"offsetgroup\": \"Neighborhood=Hyde Park\", \"orientation\": \"v\", \"showlegend\": true, \"textposition\": \"auto\", \"type\": \"bar\", \"x\": [\"Hyde Park\"], \"xaxis\": \"x\", \"y\": [50.0], \"yaxis\": \"y\"}, {\"alignmentgroup\": \"True\", \"hoverlabel\": {\"namelength\": 0}, \"hovertemplate\": \"Neighborhood=%{x}<br>Price per Person per Night=%{y}\", \"legendgroup\": \"Neighborhood=Jamaica Plain\", \"marker\": {\"color\": \"#E45756\"}, \"name\": \"Neighborhood=Jamaica Plain\", \"offsetgroup\": \"Neighborhood=Jamaica Plain\", \"orientation\": \"v\", \"showlegend\": true, \"textposition\": \"auto\", \"type\": \"bar\", \"x\": [\"Jamaica Plain\"], \"xaxis\": \"x\", \"y\": [75.0], \"yaxis\": \"y\"}, {\"alignmentgroup\": \"True\", \"hoverlabel\": {\"namelength\": 0}, \"hovertemplate\": \"Neighborhood=%{x}<br>Price per Person per Night=%{y}\", \"legendgroup\": \"Neighborhood=Leather District\", \"marker\": {\"color\": \"#72B7B2\"}, \"name\": \"Neighborhood=Leather District\", \"offsetgroup\": \"Neighborhood=Leather District\", \"orientation\": \"v\", \"showlegend\": true, \"textposition\": \"auto\", \"type\": \"bar\", \"x\": [\"Leather District\"], \"xaxis\": \"x\", \"y\": [97.5], \"yaxis\": \"y\"}, {\"alignmentgroup\": \"True\", \"hoverlabel\": {\"namelength\": 0}, \"hovertemplate\": \"Neighborhood=%{x}<br>Price per Person per Night=%{y}\", \"legendgroup\": \"Neighborhood=Longwood Medical Area\", \"marker\": {\"color\": \"#54A24B\"}, \"name\": \"Neighborhood=Longwood Medical Area\", \"offsetgroup\": \"Neighborhood=Longwood Medical Area\", \"orientation\": \"v\", \"showlegend\": true, \"textposition\": \"auto\", \"type\": \"bar\", \"x\": [\"Longwood Medical Area\"], \"xaxis\": \"x\", \"y\": [84.0], \"yaxis\": \"y\"}, {\"alignmentgroup\": \"True\", \"hoverlabel\": {\"namelength\": 0}, \"hovertemplate\": \"Neighborhood=%{x}<br>Price per Person per Night=%{y}\", \"legendgroup\": \"Neighborhood=Mattapan\", \"marker\": {\"color\": \"#EECA3B\"}, \"name\": \"Neighborhood=Mattapan\", \"offsetgroup\": \"Neighborhood=Mattapan\", \"orientation\": \"v\", \"showlegend\": true, \"textposition\": \"auto\", \"type\": \"bar\", \"x\": [\"Mattapan\"], \"xaxis\": \"x\", \"y\": [38.75], \"yaxis\": \"y\"}, {\"alignmentgroup\": \"True\", \"hoverlabel\": {\"namelength\": 0}, \"hovertemplate\": \"Neighborhood=%{x}<br>Price per Person per Night=%{y}\", \"legendgroup\": \"Neighborhood=Mission Hill\", \"marker\": {\"color\": \"#B279A2\"}, \"name\": \"Neighborhood=Mission Hill\", \"offsetgroup\": \"Neighborhood=Mission Hill\", \"orientation\": \"v\", \"showlegend\": true, \"textposition\": \"auto\", \"type\": \"bar\", \"x\": [\"Mission Hill\"], \"xaxis\": \"x\", \"y\": [97.75], \"yaxis\": \"y\"}, {\"alignmentgroup\": \"True\", \"hoverlabel\": {\"namelength\": 0}, \"hovertemplate\": \"Neighborhood=%{x}<br>Price per Person per Night=%{y}\", \"legendgroup\": \"Neighborhood=North End\", \"marker\": {\"color\": \"#FF9DA6\"}, \"name\": \"Neighborhood=North End\", \"offsetgroup\": \"Neighborhood=North End\", \"orientation\": \"v\", \"showlegend\": true, \"textposition\": \"auto\", \"type\": \"bar\", \"x\": [\"North End\"], \"xaxis\": \"x\", \"y\": [100.0], \"yaxis\": \"y\"}, {\"alignmentgroup\": \"True\", \"hoverlabel\": {\"namelength\": 0}, \"hovertemplate\": \"Neighborhood=%{x}<br>Price per Person per Night=%{y}\", \"legendgroup\": \"Neighborhood=Roslindale\", \"marker\": {\"color\": \"#9D755D\"}, \"name\": \"Neighborhood=Roslindale\", \"offsetgroup\": \"Neighborhood=Roslindale\", \"orientation\": \"v\", \"showlegend\": true, \"textposition\": \"auto\", \"type\": \"bar\", \"x\": [\"Roslindale\"], \"xaxis\": \"x\", \"y\": [60.0], \"yaxis\": \"y\"}, {\"alignmentgroup\": \"True\", \"hoverlabel\": {\"namelength\": 0}, \"hovertemplate\": \"Neighborhood=%{x}<br>Price per Person per Night=%{y}\", \"legendgroup\": \"Neighborhood=Roxbury\", \"marker\": {\"color\": \"#BAB0AC\"}, \"name\": \"Neighborhood=Roxbury\", \"offsetgroup\": \"Neighborhood=Roxbury\", \"orientation\": \"v\", \"showlegend\": true, \"textposition\": \"auto\", \"type\": \"bar\", \"x\": [\"Roxbury\"], \"xaxis\": \"x\", \"y\": [90.0], \"yaxis\": \"y\"}, {\"alignmentgroup\": \"True\", \"hoverlabel\": {\"namelength\": 0}, \"hovertemplate\": \"Neighborhood=%{x}<br>Price per Person per Night=%{y}\", \"legendgroup\": \"Neighborhood=South Boston\", \"marker\": {\"color\": \"#4C78A8\"}, \"name\": \"Neighborhood=South Boston\", \"offsetgroup\": \"Neighborhood=South Boston\", \"orientation\": \"v\", \"showlegend\": true, \"textposition\": \"auto\", \"type\": \"bar\", \"x\": [\"South Boston\"], \"xaxis\": \"x\", \"y\": [72.33333333333334], \"yaxis\": \"y\"}, {\"alignmentgroup\": \"True\", \"hoverlabel\": {\"namelength\": 0}, \"hovertemplate\": \"Neighborhood=%{x}<br>Price per Person per Night=%{y}\", \"legendgroup\": \"Neighborhood=South Boston Waterfront\", \"marker\": {\"color\": \"#F58518\"}, \"name\": \"Neighborhood=South Boston Waterfront\", \"offsetgroup\": \"Neighborhood=South Boston Waterfront\", \"orientation\": \"v\", \"showlegend\": true, \"textposition\": \"auto\", \"type\": \"bar\", \"x\": [\"South Boston Waterfront\"], \"xaxis\": \"x\", \"y\": [119.4], \"yaxis\": \"y\"}, {\"alignmentgroup\": \"True\", \"hoverlabel\": {\"namelength\": 0}, \"hovertemplate\": \"Neighborhood=%{x}<br>Price per Person per Night=%{y}\", \"legendgroup\": \"Neighborhood=South End\", \"marker\": {\"color\": \"#E45756\"}, \"name\": \"Neighborhood=South End\", \"offsetgroup\": \"Neighborhood=South End\", \"orientation\": \"v\", \"showlegend\": true, \"textposition\": \"auto\", \"type\": \"bar\", \"x\": [\"South End\"], \"xaxis\": \"x\", \"y\": [145.0], \"yaxis\": \"y\"}, {\"alignmentgroup\": \"True\", \"hoverlabel\": {\"namelength\": 0}, \"hovertemplate\": \"Neighborhood=%{x}<br>Price per Person per Night=%{y}\", \"legendgroup\": \"Neighborhood=West End\", \"marker\": {\"color\": \"#72B7B2\"}, \"name\": \"Neighborhood=West End\", \"offsetgroup\": \"Neighborhood=West End\", \"orientation\": \"v\", \"showlegend\": true, \"textposition\": \"auto\", \"type\": \"bar\", \"x\": [\"West End\"], \"xaxis\": \"x\", \"y\": [398.0], \"yaxis\": \"y\"}, {\"alignmentgroup\": \"True\", \"hoverlabel\": {\"namelength\": 0}, \"hovertemplate\": \"Neighborhood=%{x}<br>Price per Person per Night=%{y}\", \"legendgroup\": \"Neighborhood=West Roxbury\", \"marker\": {\"color\": \"#54A24B\"}, \"name\": \"Neighborhood=West Roxbury\", \"offsetgroup\": \"Neighborhood=West Roxbury\", \"orientation\": \"v\", \"showlegend\": true, \"textposition\": \"auto\", \"type\": \"bar\", \"x\": [\"West Roxbury\"], \"xaxis\": \"x\", \"y\": [50.0], \"yaxis\": \"y\"}],\n",
              "                        {\"barmode\": \"relative\", \"legend\": {\"tracegroupgap\": 0}, \"template\": {\"data\": {\"bar\": [{\"error_x\": {\"color\": \"#2a3f5f\"}, \"error_y\": {\"color\": \"#2a3f5f\"}, \"marker\": {\"line\": {\"color\": \"#E5ECF6\", \"width\": 0.5}}, \"type\": \"bar\"}], \"barpolar\": [{\"marker\": {\"line\": {\"color\": \"#E5ECF6\", \"width\": 0.5}}, \"type\": \"barpolar\"}], \"carpet\": [{\"aaxis\": {\"endlinecolor\": \"#2a3f5f\", \"gridcolor\": \"white\", \"linecolor\": \"white\", \"minorgridcolor\": \"white\", \"startlinecolor\": \"#2a3f5f\"}, \"baxis\": {\"endlinecolor\": \"#2a3f5f\", \"gridcolor\": \"white\", \"linecolor\": \"white\", \"minorgridcolor\": \"white\", \"startlinecolor\": \"#2a3f5f\"}, \"type\": \"carpet\"}], \"choropleth\": [{\"colorbar\": {\"outlinewidth\": 0, \"ticks\": \"\"}, \"type\": \"choropleth\"}], \"contour\": [{\"colorbar\": {\"outlinewidth\": 0, \"ticks\": \"\"}, \"colorscale\": [[0.0, \"#0d0887\"], [0.1111111111111111, \"#46039f\"], [0.2222222222222222, \"#7201a8\"], [0.3333333333333333, \"#9c179e\"], [0.4444444444444444, \"#bd3786\"], [0.5555555555555556, \"#d8576b\"], [0.6666666666666666, \"#ed7953\"], [0.7777777777777778, \"#fb9f3a\"], [0.8888888888888888, \"#fdca26\"], [1.0, \"#f0f921\"]], \"type\": \"contour\"}], \"contourcarpet\": [{\"colorbar\": {\"outlinewidth\": 0, \"ticks\": \"\"}, \"type\": \"contourcarpet\"}], \"heatmap\": [{\"colorbar\": {\"outlinewidth\": 0, \"ticks\": \"\"}, \"colorscale\": [[0.0, \"#0d0887\"], [0.1111111111111111, \"#46039f\"], [0.2222222222222222, \"#7201a8\"], [0.3333333333333333, \"#9c179e\"], [0.4444444444444444, \"#bd3786\"], [0.5555555555555556, \"#d8576b\"], [0.6666666666666666, \"#ed7953\"], [0.7777777777777778, \"#fb9f3a\"], [0.8888888888888888, \"#fdca26\"], [1.0, \"#f0f921\"]], \"type\": \"heatmap\"}], \"heatmapgl\": [{\"colorbar\": {\"outlinewidth\": 0, \"ticks\": \"\"}, \"colorscale\": [[0.0, \"#0d0887\"], [0.1111111111111111, \"#46039f\"], [0.2222222222222222, \"#7201a8\"], [0.3333333333333333, \"#9c179e\"], [0.4444444444444444, \"#bd3786\"], [0.5555555555555556, \"#d8576b\"], [0.6666666666666666, \"#ed7953\"], [0.7777777777777778, \"#fb9f3a\"], [0.8888888888888888, \"#fdca26\"], [1.0, \"#f0f921\"]], \"type\": \"heatmapgl\"}], \"histogram\": [{\"marker\": {\"colorbar\": {\"outlinewidth\": 0, \"ticks\": \"\"}}, \"type\": \"histogram\"}], \"histogram2d\": [{\"colorbar\": {\"outlinewidth\": 0, \"ticks\": \"\"}, \"colorscale\": [[0.0, \"#0d0887\"], [0.1111111111111111, \"#46039f\"], [0.2222222222222222, \"#7201a8\"], [0.3333333333333333, \"#9c179e\"], [0.4444444444444444, \"#bd3786\"], [0.5555555555555556, \"#d8576b\"], [0.6666666666666666, \"#ed7953\"], [0.7777777777777778, \"#fb9f3a\"], [0.8888888888888888, \"#fdca26\"], [1.0, \"#f0f921\"]], \"type\": \"histogram2d\"}], \"histogram2dcontour\": [{\"colorbar\": {\"outlinewidth\": 0, \"ticks\": \"\"}, \"colorscale\": [[0.0, \"#0d0887\"], [0.1111111111111111, \"#46039f\"], [0.2222222222222222, \"#7201a8\"], [0.3333333333333333, \"#9c179e\"], [0.4444444444444444, \"#bd3786\"], [0.5555555555555556, \"#d8576b\"], [0.6666666666666666, \"#ed7953\"], [0.7777777777777778, \"#fb9f3a\"], [0.8888888888888888, \"#fdca26\"], [1.0, \"#f0f921\"]], \"type\": \"histogram2dcontour\"}], \"mesh3d\": [{\"colorbar\": {\"outlinewidth\": 0, \"ticks\": \"\"}, \"type\": \"mesh3d\"}], \"parcoords\": [{\"line\": {\"colorbar\": {\"outlinewidth\": 0, \"ticks\": \"\"}}, \"type\": \"parcoords\"}], \"pie\": [{\"automargin\": true, \"type\": \"pie\"}], \"scatter\": [{\"marker\": {\"colorbar\": {\"outlinewidth\": 0, \"ticks\": \"\"}}, \"type\": \"scatter\"}], \"scatter3d\": [{\"line\": {\"colorbar\": {\"outlinewidth\": 0, \"ticks\": \"\"}}, \"marker\": {\"colorbar\": {\"outlinewidth\": 0, \"ticks\": \"\"}}, \"type\": \"scatter3d\"}], \"scattercarpet\": [{\"marker\": {\"colorbar\": {\"outlinewidth\": 0, \"ticks\": \"\"}}, \"type\": \"scattercarpet\"}], \"scattergeo\": [{\"marker\": {\"colorbar\": {\"outlinewidth\": 0, \"ticks\": \"\"}}, \"type\": \"scattergeo\"}], \"scattergl\": [{\"marker\": {\"colorbar\": {\"outlinewidth\": 0, \"ticks\": \"\"}}, \"type\": \"scattergl\"}], \"scattermapbox\": [{\"marker\": {\"colorbar\": {\"outlinewidth\": 0, \"ticks\": \"\"}}, \"type\": \"scattermapbox\"}], \"scatterpolar\": [{\"marker\": {\"colorbar\": {\"outlinewidth\": 0, \"ticks\": \"\"}}, \"type\": \"scatterpolar\"}], \"scatterpolargl\": [{\"marker\": {\"colorbar\": {\"outlinewidth\": 0, \"ticks\": \"\"}}, \"type\": \"scatterpolargl\"}], \"scatterternary\": [{\"marker\": {\"colorbar\": {\"outlinewidth\": 0, \"ticks\": \"\"}}, \"type\": \"scatterternary\"}], \"surface\": [{\"colorbar\": {\"outlinewidth\": 0, \"ticks\": \"\"}, \"colorscale\": [[0.0, \"#0d0887\"], [0.1111111111111111, \"#46039f\"], [0.2222222222222222, \"#7201a8\"], [0.3333333333333333, \"#9c179e\"], [0.4444444444444444, \"#bd3786\"], [0.5555555555555556, \"#d8576b\"], [0.6666666666666666, \"#ed7953\"], [0.7777777777777778, \"#fb9f3a\"], [0.8888888888888888, \"#fdca26\"], [1.0, \"#f0f921\"]], \"type\": \"surface\"}], \"table\": [{\"cells\": {\"fill\": {\"color\": \"#EBF0F8\"}, \"line\": {\"color\": \"white\"}}, \"header\": {\"fill\": {\"color\": \"#C8D4E3\"}, \"line\": {\"color\": \"white\"}}, \"type\": \"table\"}]}, \"layout\": {\"annotationdefaults\": {\"arrowcolor\": \"#2a3f5f\", \"arrowhead\": 0, \"arrowwidth\": 1}, \"coloraxis\": {\"colorbar\": {\"outlinewidth\": 0, \"ticks\": \"\"}}, \"colorscale\": {\"diverging\": [[0, \"#8e0152\"], [0.1, \"#c51b7d\"], [0.2, \"#de77ae\"], [0.3, \"#f1b6da\"], [0.4, \"#fde0ef\"], [0.5, \"#f7f7f7\"], [0.6, \"#e6f5d0\"], [0.7, \"#b8e186\"], [0.8, \"#7fbc41\"], [0.9, \"#4d9221\"], [1, \"#276419\"]], \"sequential\": [[0.0, \"#0d0887\"], [0.1111111111111111, \"#46039f\"], [0.2222222222222222, \"#7201a8\"], [0.3333333333333333, \"#9c179e\"], [0.4444444444444444, \"#bd3786\"], [0.5555555555555556, \"#d8576b\"], [0.6666666666666666, \"#ed7953\"], [0.7777777777777778, \"#fb9f3a\"], [0.8888888888888888, \"#fdca26\"], [1.0, \"#f0f921\"]], \"sequentialminus\": [[0.0, \"#0d0887\"], [0.1111111111111111, \"#46039f\"], [0.2222222222222222, \"#7201a8\"], [0.3333333333333333, \"#9c179e\"], [0.4444444444444444, \"#bd3786\"], [0.5555555555555556, \"#d8576b\"], [0.6666666666666666, \"#ed7953\"], [0.7777777777777778, \"#fb9f3a\"], [0.8888888888888888, \"#fdca26\"], [1.0, \"#f0f921\"]]}, \"colorway\": [\"#636efa\", \"#EF553B\", \"#00cc96\", \"#ab63fa\", \"#FFA15A\", \"#19d3f3\", \"#FF6692\", \"#B6E880\", \"#FF97FF\", \"#FECB52\"], \"font\": {\"color\": \"#2a3f5f\"}, \"geo\": {\"bgcolor\": \"white\", \"lakecolor\": \"white\", \"landcolor\": \"#E5ECF6\", \"showlakes\": true, \"showland\": true, \"subunitcolor\": \"white\"}, \"hoverlabel\": {\"align\": \"left\"}, \"hovermode\": \"closest\", \"mapbox\": {\"style\": \"light\"}, \"paper_bgcolor\": \"white\", \"plot_bgcolor\": \"#E5ECF6\", \"polar\": {\"angularaxis\": {\"gridcolor\": \"white\", \"linecolor\": \"white\", \"ticks\": \"\"}, \"bgcolor\": \"#E5ECF6\", \"radialaxis\": {\"gridcolor\": \"white\", \"linecolor\": \"white\", \"ticks\": \"\"}}, \"scene\": {\"xaxis\": {\"backgroundcolor\": \"#E5ECF6\", \"gridcolor\": \"white\", \"gridwidth\": 2, \"linecolor\": \"white\", \"showbackground\": true, \"ticks\": \"\", \"zerolinecolor\": \"white\"}, \"yaxis\": {\"backgroundcolor\": \"#E5ECF6\", \"gridcolor\": \"white\", \"gridwidth\": 2, \"linecolor\": \"white\", \"showbackground\": true, \"ticks\": \"\", \"zerolinecolor\": \"white\"}, \"zaxis\": {\"backgroundcolor\": \"#E5ECF6\", \"gridcolor\": \"white\", \"gridwidth\": 2, \"linecolor\": \"white\", \"showbackground\": true, \"ticks\": \"\", \"zerolinecolor\": \"white\"}}, \"shapedefaults\": {\"line\": {\"color\": \"#2a3f5f\"}}, \"ternary\": {\"aaxis\": {\"gridcolor\": \"white\", \"linecolor\": \"white\", \"ticks\": \"\"}, \"baxis\": {\"gridcolor\": \"white\", \"linecolor\": \"white\", \"ticks\": \"\"}, \"bgcolor\": \"#E5ECF6\", \"caxis\": {\"gridcolor\": \"white\", \"linecolor\": \"white\", \"ticks\": \"\"}}, \"title\": {\"x\": 0.05}, \"xaxis\": {\"automargin\": true, \"gridcolor\": \"white\", \"linecolor\": \"white\", \"ticks\": \"\", \"title\": {\"standoff\": 15}, \"zerolinecolor\": \"white\", \"zerolinewidth\": 2}, \"yaxis\": {\"automargin\": true, \"gridcolor\": \"white\", \"linecolor\": \"white\", \"ticks\": \"\", \"title\": {\"standoff\": 15}, \"zerolinecolor\": \"white\", \"zerolinewidth\": 2}}}, \"title\": {\"text\": \"Median Airbnb Price per Person in Boston by Neighborhood\"}, \"xaxis\": {\"anchor\": \"y\", \"categoryarray\": [\"Allston\", \"Back Bay\", \"Bay Village\", \"Beacon Hill\", \"Brighton\", \"Charlestown\", \"Chinatown\", \"Dorchester\", \"Downtown\", \"East Boston\", \"Fenway\", \"Hyde Park\", \"Jamaica Plain\", \"Leather District\", \"Longwood Medical Area\", \"Mattapan\", \"Mission Hill\", \"North End\", \"Roslindale\", \"Roxbury\", \"South Boston\", \"South Boston Waterfront\", \"South End\", \"West End\", \"West Roxbury\"], \"categoryorder\": \"array\", \"domain\": [0.0, 1.0], \"title\": {\"text\": \"Neighborhood\"}}, \"yaxis\": {\"anchor\": \"x\", \"domain\": [0.0, 1.0], \"range\": [0, 300], \"title\": {\"text\": \"Price per Person per Night\"}}},\n",
              "                        {\"responsive\": true}\n",
              "                    ).then(function(){\n",
              "                            \n",
              "var gd = document.getElementById('36954b69-250a-4ab8-ae29-b5fdf4021a04');\n",
              "var x = new MutationObserver(function (mutations, observer) {{\n",
              "        var display = window.getComputedStyle(gd).display;\n",
              "        if (!display || display === 'none') {{\n",
              "            console.log([gd, 'removed!']);\n",
              "            Plotly.purge(gd);\n",
              "            observer.disconnect();\n",
              "        }}\n",
              "}});\n",
              "\n",
              "// Listen for the removal of the full notebook cells\n",
              "var notebookContainer = gd.closest('#notebook-container');\n",
              "if (notebookContainer) {{\n",
              "    x.observe(notebookContainer, {childList: true});\n",
              "}}\n",
              "\n",
              "// Listen for the clearing of the current output cell\n",
              "var outputEl = gd.closest('.output');\n",
              "if (outputEl) {{\n",
              "    x.observe(outputEl, {childList: true});\n",
              "}}\n",
              "\n",
              "                        })\n",
              "                };\n",
              "                \n",
              "            </script>\n",
              "        </div>\n",
              "</body>\n",
              "</html>"
            ]
          },
          "metadata": {}
        }
      ]
    }
  ]
}